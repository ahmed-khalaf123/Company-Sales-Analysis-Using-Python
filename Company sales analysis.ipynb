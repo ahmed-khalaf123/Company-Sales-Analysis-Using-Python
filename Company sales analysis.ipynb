{
 "cells": [
  {
   "cell_type": "markdown",
   "metadata": {},
   "source": [
    "#  Data Cleaning"
   ]
  },
  {
   "cell_type": "code",
   "execution_count": 1,
   "metadata": {},
   "outputs": [],
   "source": [
    "import pandas as pd\n",
    "import numpy as np\n",
    "import plotly.express as px\n",
    "import matplotlib.pyplot as plt\n",
    "import seaborn as sns\n",
    "\n",
    "pd.options.display.float_format = '{:,.2f}'.format\n",
    "pd.options.display.max_rows = None\n",
    "pd.options.display.max_columns = None\n"
   ]
  },
  {
   "cell_type": "markdown",
   "metadata": {},
   "source": [
    "# *Wrangle Function Used in Data Cleaning*"
   ]
  },
  {
   "cell_type": "code",
   "execution_count": 2,
   "metadata": {},
   "outputs": [],
   "source": [
    "def wrangle(filename, encoding = None, dropna_columnnames =None, change_column_name=None,date_column = None, remove_duplicated_rows_columnsname = None):\n",
    "\n",
    "    # Loading Data from csv file\n",
    "    df = pd.read_csv(filename,encoding=encoding)\n",
    "    \n",
    "    # Delete Orders NaN Rows\n",
    "    df.dropna(subset=dropna_columnnames, inplace=True)\n",
    "   \n",
    "    # Rename Columns \n",
    "    df.rename(columns=change_column_name, inplace=True)\n",
    "    \n",
    "    # Change OrderDate and ID Columns type to Date , Integer\n",
    "    df[date_column] = pd.to_datetime(df[date_column])\n",
    "\n",
    "    #Drop dupliacted rows\n",
    "    df = df.drop_duplicates(subset= remove_duplicated_rows_columnsname)\n",
    "\n",
    "    #Strip and lowercase columns names\n",
    "    df.columns = df.columns.str.strip().str.lower()\n",
    "\n",
    "    \n",
    "    return df"
   ]
  },
  {
   "cell_type": "markdown",
   "metadata": {},
   "source": [
    "### Issues:\n",
    "* Delete orders with NaN values\n",
    "* Rename `City.1, Country.1, Phon.1` Columns\n",
    "* Change `OrderDate` Type into Date\n",
    "* Change ID Columns, and OrderNumber column to integer"
   ]
  },
  {
   "cell_type": "code",
   "execution_count": 3,
   "metadata": {},
   "outputs": [],
   "source": [
    "# Loading\n",
    "df = wrangle(filename='all_data.csv',encoding='ISO-8859-1',dropna_columnnames=['OrderID'],change_column_name={'City.1': 'SuppCity', 'Country.1': 'SuppCountry','Phone.1':'SuppPhone'},date_column='OrderDate' ,remove_duplicated_rows_columnsname=['OrderID'])\n",
    "\n"
   ]
  },
  {
   "cell_type": "code",
   "execution_count": 4,
   "metadata": {},
   "outputs": [
    {
     "data": {
      "text/html": [
       "<div>\n",
       "<style scoped>\n",
       "    .dataframe tbody tr th:only-of-type {\n",
       "        vertical-align: middle;\n",
       "    }\n",
       "\n",
       "    .dataframe tbody tr th {\n",
       "        vertical-align: top;\n",
       "    }\n",
       "\n",
       "    .dataframe thead th {\n",
       "        text-align: right;\n",
       "    }\n",
       "</style>\n",
       "<table border=\"1\" class=\"dataframe\">\n",
       "  <thead>\n",
       "    <tr style=\"text-align: right;\">\n",
       "      <th></th>\n",
       "      <th>customerid</th>\n",
       "      <th>firstname</th>\n",
       "      <th>lastname</th>\n",
       "      <th>city</th>\n",
       "      <th>country</th>\n",
       "      <th>phone</th>\n",
       "      <th>orderid</th>\n",
       "      <th>orderdate</th>\n",
       "      <th>ordernumber</th>\n",
       "      <th>totalamount</th>\n",
       "      <th>productid</th>\n",
       "      <th>productname</th>\n",
       "      <th>unitprice</th>\n",
       "      <th>package</th>\n",
       "      <th>isdiscontinued</th>\n",
       "      <th>supplierid</th>\n",
       "      <th>companyname</th>\n",
       "      <th>contactname</th>\n",
       "      <th>suppcity</th>\n",
       "      <th>suppcountry</th>\n",
       "      <th>suppphone</th>\n",
       "      <th>fax</th>\n",
       "    </tr>\n",
       "  </thead>\n",
       "  <tbody>\n",
       "    <tr>\n",
       "      <th>0</th>\n",
       "      <td>85.00</td>\n",
       "      <td>Paul</td>\n",
       "      <td>Henriot</td>\n",
       "      <td>Reims</td>\n",
       "      <td>France</td>\n",
       "      <td>26.47.15.10</td>\n",
       "      <td>1.00</td>\n",
       "      <td>2012-07-04</td>\n",
       "      <td>542,378.00</td>\n",
       "      <td>440.00</td>\n",
       "      <td>11.00</td>\n",
       "      <td>Queso Cabrales</td>\n",
       "      <td>21.00</td>\n",
       "      <td>1 kg pkg.</td>\n",
       "      <td>False</td>\n",
       "      <td>5.00</td>\n",
       "      <td>Cooperativa de Quesos 'Las Cabras'</td>\n",
       "      <td>Antonio del Valle Saavedra</td>\n",
       "      <td>Oviedo</td>\n",
       "      <td>Spain</td>\n",
       "      <td>(98) 598 76 54</td>\n",
       "      <td>NaN</td>\n",
       "    </tr>\n",
       "    <tr>\n",
       "      <th>3</th>\n",
       "      <td>79.00</td>\n",
       "      <td>Karin</td>\n",
       "      <td>Josephs</td>\n",
       "      <td>Münster</td>\n",
       "      <td>Germany</td>\n",
       "      <td>0251-031259</td>\n",
       "      <td>2.00</td>\n",
       "      <td>2012-07-05</td>\n",
       "      <td>542,379.00</td>\n",
       "      <td>1,863.40</td>\n",
       "      <td>14.00</td>\n",
       "      <td>Tofu</td>\n",
       "      <td>23.25</td>\n",
       "      <td>40 - 100 g pkgs.</td>\n",
       "      <td>False</td>\n",
       "      <td>6.00</td>\n",
       "      <td>Mayumi's</td>\n",
       "      <td>Mayumi Ohno</td>\n",
       "      <td>Osaka</td>\n",
       "      <td>Japan</td>\n",
       "      <td>(06) 431-7877</td>\n",
       "      <td>NaN</td>\n",
       "    </tr>\n",
       "    <tr>\n",
       "      <th>5</th>\n",
       "      <td>34.00</td>\n",
       "      <td>Mario</td>\n",
       "      <td>Pontes</td>\n",
       "      <td>Rio de Janeiro</td>\n",
       "      <td>Brazil</td>\n",
       "      <td>(21) 555-0091</td>\n",
       "      <td>3.00</td>\n",
       "      <td>2012-07-08</td>\n",
       "      <td>542,380.00</td>\n",
       "      <td>1,813.00</td>\n",
       "      <td>41.00</td>\n",
       "      <td>Jack's New England Clam Chowder</td>\n",
       "      <td>9.65</td>\n",
       "      <td>12 - 12 oz cans</td>\n",
       "      <td>False</td>\n",
       "      <td>19.00</td>\n",
       "      <td>New England Seafood Cannery</td>\n",
       "      <td>Robb Merchant</td>\n",
       "      <td>Boston</td>\n",
       "      <td>USA</td>\n",
       "      <td>(617) 555-3267</td>\n",
       "      <td>(617) 555-3389</td>\n",
       "    </tr>\n",
       "    <tr>\n",
       "      <th>8</th>\n",
       "      <td>84.00</td>\n",
       "      <td>Mary</td>\n",
       "      <td>Saveley</td>\n",
       "      <td>Lyon</td>\n",
       "      <td>France</td>\n",
       "      <td>78.32.54.86</td>\n",
       "      <td>4.00</td>\n",
       "      <td>2012-07-08</td>\n",
       "      <td>542,381.00</td>\n",
       "      <td>670.80</td>\n",
       "      <td>22.00</td>\n",
       "      <td>Gustaf's Kn?ckebr?d</td>\n",
       "      <td>21.00</td>\n",
       "      <td>24 - 500 g pkgs.</td>\n",
       "      <td>False</td>\n",
       "      <td>9.00</td>\n",
       "      <td>PB Kn?ckebr?d AB</td>\n",
       "      <td>Lars Peterson</td>\n",
       "      <td>G?teborg</td>\n",
       "      <td>Sweden</td>\n",
       "      <td>031-987 65 43</td>\n",
       "      <td>031-987 65 91</td>\n",
       "    </tr>\n",
       "    <tr>\n",
       "      <th>11</th>\n",
       "      <td>76.00</td>\n",
       "      <td>Pascale</td>\n",
       "      <td>Cartrain</td>\n",
       "      <td>Charleroi</td>\n",
       "      <td>Belgium</td>\n",
       "      <td>(071) 23 67 22 20</td>\n",
       "      <td>5.00</td>\n",
       "      <td>2012-07-09</td>\n",
       "      <td>542,382.00</td>\n",
       "      <td>3,730.00</td>\n",
       "      <td>20.00</td>\n",
       "      <td>Sir Rodney's Marmalade</td>\n",
       "      <td>81.00</td>\n",
       "      <td>30 gift boxes</td>\n",
       "      <td>False</td>\n",
       "      <td>8.00</td>\n",
       "      <td>Specialty Biscuits, Ltd.</td>\n",
       "      <td>Peter Wilson</td>\n",
       "      <td>Manchester</td>\n",
       "      <td>UK</td>\n",
       "      <td>(161) 555-4448</td>\n",
       "      <td>NaN</td>\n",
       "    </tr>\n",
       "  </tbody>\n",
       "</table>\n",
       "</div>"
      ],
      "text/plain": [
       "    customerid firstname  lastname            city  country  \\\n",
       "0        85.00      Paul   Henriot           Reims   France   \n",
       "3        79.00     Karin   Josephs         Münster  Germany   \n",
       "5        34.00     Mario    Pontes  Rio de Janeiro   Brazil   \n",
       "8        84.00      Mary   Saveley            Lyon   France   \n",
       "11       76.00   Pascale  Cartrain       Charleroi  Belgium   \n",
       "\n",
       "                phone  orderid  orderdate  ordernumber  totalamount  \\\n",
       "0         26.47.15.10     1.00 2012-07-04   542,378.00       440.00   \n",
       "3         0251-031259     2.00 2012-07-05   542,379.00     1,863.40   \n",
       "5       (21) 555-0091     3.00 2012-07-08   542,380.00     1,813.00   \n",
       "8         78.32.54.86     4.00 2012-07-08   542,381.00       670.80   \n",
       "11  (071) 23 67 22 20     5.00 2012-07-09   542,382.00     3,730.00   \n",
       "\n",
       "    productid                      productname  unitprice           package  \\\n",
       "0       11.00                   Queso Cabrales      21.00         1 kg pkg.   \n",
       "3       14.00                             Tofu      23.25  40 - 100 g pkgs.   \n",
       "5       41.00  Jack's New England Clam Chowder       9.65   12 - 12 oz cans   \n",
       "8       22.00              Gustaf's Kn?ckebr?d      21.00  24 - 500 g pkgs.   \n",
       "11      20.00           Sir Rodney's Marmalade      81.00     30 gift boxes   \n",
       "\n",
       "   isdiscontinued  supplierid                         companyname  \\\n",
       "0           False        5.00  Cooperativa de Quesos 'Las Cabras'   \n",
       "3           False        6.00                            Mayumi's   \n",
       "5           False       19.00         New England Seafood Cannery   \n",
       "8           False        9.00                    PB Kn?ckebr?d AB   \n",
       "11          False        8.00            Specialty Biscuits, Ltd.   \n",
       "\n",
       "                   contactname    suppcity suppcountry       suppphone  \\\n",
       "0   Antonio del Valle Saavedra      Oviedo       Spain  (98) 598 76 54   \n",
       "3                  Mayumi Ohno       Osaka       Japan   (06) 431-7877   \n",
       "5                Robb Merchant      Boston         USA  (617) 555-3267   \n",
       "8                Lars Peterson    G?teborg      Sweden   031-987 65 43   \n",
       "11                Peter Wilson  Manchester          UK  (161) 555-4448   \n",
       "\n",
       "               fax  \n",
       "0              NaN  \n",
       "3              NaN  \n",
       "5   (617) 555-3389  \n",
       "8    031-987 65 91  \n",
       "11             NaN  "
      ]
     },
     "execution_count": 4,
     "metadata": {},
     "output_type": "execute_result"
    }
   ],
   "source": [
    "df.head()"
   ]
  },
  {
   "cell_type": "code",
   "execution_count": 5,
   "metadata": {},
   "outputs": [
    {
     "name": "stdout",
     "output_type": "stream",
     "text": [
      "<class 'pandas.core.frame.DataFrame'>\n",
      "Index: 830 entries, 0 to 2130\n",
      "Data columns (total 22 columns):\n",
      " #   Column          Non-Null Count  Dtype         \n",
      "---  ------          --------------  -----         \n",
      " 0   customerid      830 non-null    float64       \n",
      " 1   firstname       830 non-null    object        \n",
      " 2   lastname        830 non-null    object        \n",
      " 3   city            830 non-null    object        \n",
      " 4   country         830 non-null    object        \n",
      " 5   phone           830 non-null    object        \n",
      " 6   orderid         830 non-null    float64       \n",
      " 7   orderdate       830 non-null    datetime64[ns]\n",
      " 8   ordernumber     830 non-null    float64       \n",
      " 9   totalamount     830 non-null    float64       \n",
      " 10  productid       830 non-null    float64       \n",
      " 11  productname     830 non-null    object        \n",
      " 12  unitprice       830 non-null    float64       \n",
      " 13  package         830 non-null    object        \n",
      " 14  isdiscontinued  830 non-null    object        \n",
      " 15  supplierid      830 non-null    float64       \n",
      " 16  companyname     830 non-null    object        \n",
      " 17  contactname     830 non-null    object        \n",
      " 18  suppcity        830 non-null    object        \n",
      " 19  suppcountry     830 non-null    object        \n",
      " 20  suppphone       830 non-null    object        \n",
      " 21  fax             318 non-null    object        \n",
      "dtypes: datetime64[ns](1), float64(7), object(14)\n",
      "memory usage: 149.1+ KB\n"
     ]
    }
   ],
   "source": [
    "df.info()"
   ]
  },
  {
   "cell_type": "code",
   "execution_count": 6,
   "metadata": {},
   "outputs": [
    {
     "name": "stdout",
     "output_type": "stream",
     "text": [
      "<class 'pandas.core.frame.DataFrame'>\n",
      "Index: 830 entries, 0 to 2130\n",
      "Data columns (total 9 columns):\n",
      " #   Column       Non-Null Count  Dtype         \n",
      "---  ------       --------------  -----         \n",
      " 0   customerid   830 non-null    int32         \n",
      " 1   firstname    830 non-null    object        \n",
      " 2   lastname     830 non-null    object        \n",
      " 3   city         830 non-null    object        \n",
      " 4   country      830 non-null    object        \n",
      " 5   orderid      830 non-null    int32         \n",
      " 6   ordernumber  830 non-null    int32         \n",
      " 7   orderdate    830 non-null    datetime64[ns]\n",
      " 8   totalamount  830 non-null    float64       \n",
      "dtypes: datetime64[ns](1), float64(1), int32(3), object(4)\n",
      "memory usage: 55.1+ KB\n"
     ]
    }
   ],
   "source": [
    "for cols in df.columns:\n",
    "    if 'id' in cols or 'ordernumber' in cols:\n",
    "        df[cols]= df[cols].astype(int)\n",
    "\n",
    "orders = df[['customerid','firstname','lastname','city','country', 'orderid', 'ordernumber', 'orderdate', 'totalamount' ]]\n",
    "orders.info()"
   ]
  },
  {
   "cell_type": "markdown",
   "metadata": {},
   "source": [
    "# EDA\n",
    "### Univariate Analysis\n"
   ]
  },
  {
   "cell_type": "code",
   "execution_count": 7,
   "metadata": {},
   "outputs": [
    {
     "data": {
      "text/html": [
       "<div>\n",
       "<style scoped>\n",
       "    .dataframe tbody tr th:only-of-type {\n",
       "        vertical-align: middle;\n",
       "    }\n",
       "\n",
       "    .dataframe tbody tr th {\n",
       "        vertical-align: top;\n",
       "    }\n",
       "\n",
       "    .dataframe thead th {\n",
       "        text-align: right;\n",
       "    }\n",
       "</style>\n",
       "<table border=\"1\" class=\"dataframe\">\n",
       "  <thead>\n",
       "    <tr style=\"text-align: right;\">\n",
       "      <th></th>\n",
       "      <th>count</th>\n",
       "      <th>mean</th>\n",
       "      <th>std</th>\n",
       "      <th>min</th>\n",
       "      <th>25%</th>\n",
       "      <th>50%</th>\n",
       "      <th>75%</th>\n",
       "      <th>max</th>\n",
       "    </tr>\n",
       "  </thead>\n",
       "  <tbody>\n",
       "    <tr>\n",
       "      <th>totalamount</th>\n",
       "      <td>830.00</td>\n",
       "      <td>1,631.88</td>\n",
       "      <td>1,990.61</td>\n",
       "      <td>12.50</td>\n",
       "      <td>480.00</td>\n",
       "      <td>1,015.90</td>\n",
       "      <td>2,028.65</td>\n",
       "      <td>17,250.00</td>\n",
       "    </tr>\n",
       "  </tbody>\n",
       "</table>\n",
       "</div>"
      ],
      "text/plain": [
       "             count     mean      std   min    25%      50%      75%       max\n",
       "totalamount 830.00 1,631.88 1,990.61 12.50 480.00 1,015.90 2,028.65 17,250.00"
      ]
     },
     "execution_count": 7,
     "metadata": {},
     "output_type": "execute_result"
    }
   ],
   "source": [
    "#  Quantitaive Data\n",
    "#  Describe TotalAmount Column\n",
    "orders[['totalamount']].describe().T"
   ]
  },
  {
   "cell_type": "code",
   "execution_count": 8,
   "metadata": {},
   "outputs": [
    {
     "data": {
      "text/plain": [
       "firstname    84\n",
       "lastname     88\n",
       "city         69\n",
       "country      21\n",
       "dtype: int64"
      ]
     },
     "execution_count": 8,
     "metadata": {},
     "output_type": "execute_result"
    }
   ],
   "source": [
    "orders.select_dtypes('object').nunique()"
   ]
  },
  {
   "cell_type": "code",
   "execution_count": 9,
   "metadata": {},
   "outputs": [
    {
     "data": {
      "text/plain": [
       "Text(0.5, 0, 'Total Amount')"
      ]
     },
     "execution_count": 9,
     "metadata": {},
     "output_type": "execute_result"
    },
    {
     "data": {
      "image/png": "[encoded data removed]",
      "text/plain": [
       "<Figure size 640x480 with 1 Axes>"
      ]
     },
     "metadata": {},
     "output_type": "display_data"
    }
   ],
   "source": [
    "sns.histplot(data=orders, x='totalamount',kde=True)\n",
    "plt.axvline(orders.totalamount.mean(),color='red')\n",
    "plt.axvline(orders.totalamount.median(),color='black')\n",
    "plt.title('Distribution of Total amount of  invoices')\n",
    "plt.xlabel('Total Amount')\n"
   ]
  },
  {
   "cell_type": "code",
   "execution_count": 10,
   "metadata": {},
   "outputs": [
    {
     "name": "stdout",
     "output_type": "stream",
     "text": [
      "MIN =  12.5 \n",
      "MAX =  17250.0\n",
      "IQR =  1548.65\n",
      "LOWER BOUNDRY :  -1842.9750000000004\n",
      "UPPER BOUNDRY:  4351.625\n",
      "min = 12.5 , q1 = 480.0 , q2 = 1015.9 , q3 = 2028.65 , IQR = 1548.65 , LB = -1842.9750000000004 , UB , 4351.625\n"
     ]
    }
   ],
   "source": [
    "min = orders.totalamount.min()\n",
    "q1 = orders.totalamount.quantile(0.25)\n",
    "q2 = orders.totalamount.quantile(0.5)\n",
    "q3 = orders.totalamount.quantile(0.75)\n",
    "max = orders.totalamount.max()\n",
    "print ('MIN = ',min,\"\\nMAX = \",max)\n",
    "\n",
    "IQR = q3 - q1\n",
    "lb = q1 - (1.5*IQR)\n",
    "ub = q3 + (1.5*IQR)\n",
    "print(\"IQR = \",IQR)\n",
    "print(\"LOWER BOUNDRY : \",lb)\n",
    "print('UPPER BOUNDRY: ', ub)\n",
    "print(f'min = {min} , q1 = {q1} , q2 = {q2} , q3 = {q3} , IQR = {IQR} , LB = {lb} , UB , {ub}')"
   ]
  },
  {
   "cell_type": "code",
   "execution_count": 11,
   "metadata": {},
   "outputs": [
    {
     "data": {
      "image/png": "[encoded data removed]",
      "text/plain": [
       "<Figure size 500x300 with 1 Axes>"
      ]
     },
     "metadata": {},
     "output_type": "display_data"
    }
   ],
   "source": [
    "# We need to know why mean > median, using histogram to know the shape of data\n",
    "fig,ax = plt.subplots(1,1,figsize=(5,3),sharey=True)\n",
    "#---------------------------------\n",
    "sns.histplot(data=df, x='totalamount',ax=ax,kde=True)\n",
    "ax.axvline(df.totalamount.mean(), color='r')\n",
    "ax.axvline(df.totalamount.median(), color='black')\n",
    "ax.set_title('Distribution of Total Amount of Invoices')\n",
    "ax.set_xlabel('Total Amount')\n",
    "\n",
    "#-------------------------------\n",
    "plt.grid(alpha=0.25)\n",
    "plt.tight_layout()"
   ]
  },
  {
   "cell_type": "code",
   "execution_count": 12,
   "metadata": {},
   "outputs": [
    {
     "data": {
      "text/plain": [
       "<Axes: xlabel='totalamount'>"
      ]
     },
     "execution_count": 12,
     "metadata": {},
     "output_type": "execute_result"
    },
    {
     "data": {
      "image/png": "[encoded data removed]",
      "text/plain": [
       "<Figure size 640x480 with 1 Axes>"
      ]
     },
     "metadata": {},
     "output_type": "display_data"
    }
   ],
   "source": [
    "sns.boxplot(data=orders,x='totalamount')"
   ]
  },
  {
   "cell_type": "code",
   "execution_count": 13,
   "metadata": {},
   "outputs": [
    {
     "data": {
      "application/vnd.plotly.v1+json": {
       "config": {
        "plotlyServerURL": "https://plot.ly"
       },
       "data": [
        {
         "alignmentgroup": "True",
         "hovertemplate": "totalamount=%{x}<extra></extra>",
         "legendgroup": "",
         "marker": {
          "color": "#636efa"
         },
         "name": "",
         "notched": false,
         "offsetgroup": "",
         "orientation": "h",
         "showlegend": false,
         "type": "box",
         "x": [
          440,
          1863.4,
          1813,
          670.8,
          3730,
          1444.8,
          625.2,
          2490.5,
          517.8,
          1119.9,
          2018.6,
          100.8,
          1746.2,
          448,
          624.8,
          2464.8,
          724.5,
          1176,
          364.8,
          4031,
          1101.2,
          676,
          1376,
          48,
          1456,
          2142.4,
          538.6,
          307.2,
          420,
          1200.8,
          1488.8,
          468,
          613.2,
          86.5,
          155.4,
          1414.8,
          1452,
          2179.2,
          3016,
          924,
          89,
          479.4,
          2169,
          552.8,
          1296,
          848.7,
          1887.6,
          121.6,
          1050.6,
          1420,
          3127,
          349.5,
          608,
          755,
          2708.8,
          1242,
          954.4,
          4157,
          498.5,
          424,
          88.8,
          1762,
          336,
          268.8,
          1614.8,
          182.4,
          2327,
          516.8,
          2835,
          288,
          240.4,
          1191.2,
          516,
          144,
          112,
          164.4,
          6155.9,
          1497,
          982,
          2262.5,
          1168,
          4819.4,
          1940,
          88.5,
          2233.6,
          954,
          144.8,
          2545.2,
          316.8,
          2467,
          934.5,
          3463.2,
          2564.4,
          412,
          2300.8,
          1586,
          2856,
          2924.8,
          1731.2,
          928,
          396,
          141.6,
          713.4,
          5677.6,
          154,
          10741.6,
          568.8,
          480,
          1106.4,
          1360,
          452,
          3654.4,
          7390.2,
          2273.6,
          1549.6,
          447.2,
          950,
          403.2,
          136,
          834.2,
          1834.2,
          2527.2,
          1174,
          91.2,
          12281.2,
          1708,
          459,
          338,
          420,
          1016,
          103.2,
          959.2,
          1419.8,
          112,
          2900,
          899,
          2222.4,
          864,
          166,
          1058.4,
          1274,
          1832.8,
          2275.2,
          86.4,
          1440,
          3302.6,
          442,
          2333.2,
          1903.8,
          843.2,
          2736,
          1765.6,
          3063,
          3868.6,
          2713.5,
          1005.9,
          1675,
          400,
          2018.2,
          1194,
          1622.4,
          319.2,
          802,
          1208.5,
          372,
          2123.2,
          231.4,
          102.4,
          720,
          11283.2,
          1814.8,
          2208,
          1897.6,
          1273.2,
          49.8,
          1020,
          11493.2,
          480,
          338.2,
          651,
          192,
          1748.5,
          5796,
          2523,
          485,
          851.2,
          360,
          631.6,
          2210.8,
          393,
          567.5,
          1078,
          5793.1,
          1755,
          1792,
          537.6,
          1031.7,
          174.9,
          273.6,
          914.4,
          443.4,
          1838.2,
          531.4,
          4277.4,
          2096,
          453,
          414,
          2684,
          656,
          1584,
          3891,
          1688,
          234.8,
          2051.6,
          156,
          713.3,
          1848,
          2719,
          216,
          235.2,
          717.6,
          1125.5,
          1820.8,
          1328,
          1051.2,
          230.4,
          1249.1,
          1770.8,
          182.4,
          672,
          496,
          10495.6,
          756,
          1472,
          147,
          704,
          386.2,
          1760,
          1272,
          925.1,
          1560,
          502.2,
          3163.2,
          305.3,
          896,
          676,
          912,
          278,
          200,
          1380.6,
          575,
          1412,
          550.8,
          149,
          816.3,
          2048.5,
          1388.5,
          147.9,
          462,
          881.25,
          240,
          136.8,
          4735.44,
          3000,
          618,
          2427.5,
          8623.45,
          10588.5,
          2614.5,
          352,
          4150.05,
          2356,
          200,
          225.5,
          2657.8,
          2715.9,
          3192.65,
          846,
          1344,
          1670,
          396.2,
          946,
          4180,
          110,
          796.35,
          2295.2,
          517.4,
          2156.5,
          2085,
          1823.8,
          139.8,
          355.5,
          10191.7,
          2162.8,
          493.8,
          1770,
          417.2,
          210,
          2812,
          1908,
          275.1,
          4181.5,
          749,
          1836,
          880.5,
          1546.3,
          1819.5,
          3680.5,
          835.2,
          1152.5,
          2142.9,
          547.8,
          1257.3,
          2844.5,
          543,
          965,
          1299,
          711,
          2040,
          3109,
          155,
          977.5,
          2595,
          647.75,
          1565.65,
          2082,
          764.3,
          2147.4,
          838.45,
          569,
          477,
          317.75,
          1067.1,
          387.5,
          330,
          2413.9,
          625,
          142.5,
          28,
          807.38,
          3900,
          72,
          1140,
          812.5,
          543.65,
          2493,
          565.5,
          6300,
          1476.1,
          800.1,
          2388.5,
          493,
          479.8,
          2285,
          65,
          1508,
          256.5,
          4326,
          1413,
          6475.4,
          1064,
          424,
          399,
          808,
          6375,
          358,
          464,
          120,
          5032,
          1650,
          2697.5,
          1260,
          57.5,
          758.5,
          605,
          1429.75,
          1393.24,
          479.75,
          1503.6,
          1264.5,
          450,
          2775.05,
          918,
          62,
          620,
          6483.05,
          4985.5,
          1380.25,
          629.5,
          2896.25,
          2720.05,
          500,
          945,
          2054,
          870,
          1086,
          1422,
          1535,
          1928,
          636,
          382.5,
          1434,
          1820.2,
          530.4,
          331.78,
          1203.5,
          668.7,
          193,
          671.35,
          4371.6,
          4668,
          1291.6,
          1701,
          703.25,
          125,
          2032,
          1515.75,
          1295,
          4666.94,
          1921,
          694.75,
          570,
          2301.75,
          920.1,
          4210.5,
          412.35,
          45,
          1423,
          534.85,
          956.9,
          5256.5,
          660,
          1682.5,
          1327,
          375.5,
          63,
          1768,
          801.1,
          1638.45,
          6201.9,
          3490,
          630,
          1150,
          10164.8,
          878,
          2334,
          4825,
          642,
          996,
          1073.9,
          3600.73,
          114,
          2048,
          3370,
          330,
          2545,
          595.5,
          378,
          1893,
          1704,
          180.4,
          3424,
          93.5,
          4451.7,
          1238.4,
          2827.9,
          2941,
          1296,
          706,
          1331.75,
          3463,
          1125.67,
          550,
          972.5,
          1570,
          468.45,
          638.5,
          287.8,
          655,
          1710,
          1296.75,
          1850,
          509.75,
          1990,
          360,
          1459,
          1498.35,
          596,
          997,
          139.8,
          52.35,
          240,
          1770,
          285,
          3118,
          336,
          920,
          4529.8,
          2311.7,
          1912.85,
          2196,
          1080,
          1871.25,
          1701.46,
          252,
          88,
          55.2,
          2598,
          2487.5,
          3082,
          1644.6,
          320,
          3304,
          629.5,
          4337,
          616,
          2540,
          1684,
          2310,
          28,
          1477,
          1704,
          315,
          344,
          3603.22,
          2216.25,
          875,
          228,
          6984.5,
          280,
          96.5,
          1335,
          720,
          1132.35,
          12.5,
          1442.5,
          1650,
          387.5,
          1913.85,
          2760.8,
          770,
          3687,
          850,
          1926.06,
          399.85,
          191.1,
          393.45,
          2499.25,
          2878.08,
          420,
          446.6,
          1585,
          1632.15,
          4035.8,
          3923.75,
          1255.8,
          2290.4,
          2775,
          572.1,
          18.4,
          1660,
          140,
          187,
          852,
          1852,
          648,
          2070,
          40,
          8891,
          11490.7,
          833,
          477,
          1140,
          678,
          237.9,
          3107.5,
          250.8,
          1030.76,
          730,
          843,
          932,
          1764,
          1974,
          2684.4,
          568.95,
          1007.7,
          1508.12,
          851,
          4705.5,
          1254,
          2584.5,
          919.5,
          264,
          4581,
          975,
          212,
          735,
          4059,
          1112,
          6164.9,
          931.5,
          1052.14,
          740,
          2740,
          2984,
          625,
          3490,
          2275.25,
          660,
          2630.95,
          649,
          1438.25,
          519,
          3523.4,
          581,
          519,
          282,
          17250,
          1461.6,
          98.4,
          2004.6,
          1630,
          160,
          2083.4,
          2166.8,
          336.8,
          310,
          729.5,
          917,
          2086,
          1620,
          611.3,
          1875,
          150,
          988.4,
          36,
          1450.6,
          1209,
          3127.5,
          70,
          605,
          11380,
          860.1,
          388.35,
          2200,
          5502.11,
          2898,
          6379.4,
          750.5,
          10835.24,
          30,
          144,
          45,
          934.5,
          1015.8,
          932.05,
          1924.25,
          360,
          427.5,
          108.5,
          698,
          670,
          452.9,
          858,
          8267.4,
          958.75,
          537.5,
          539.5,
          686.7,
          365.89,
          1930,
          1122.8,
          390,
          1936,
          742.5,
          936,
          2034.5,
          559,
          514.4,
          800,
          137.5,
          1174.75,
          2455,
          837,
          1925.5,
          920.6,
          500,
          700,
          570,
          644.8,
          3642.5,
          750,
          360,
          4769,
          560,
          711,
          1139.1,
          245,
          1407.5,
          220,
          2362.25,
          4422,
          110,
          482.9,
          491.2,
          4675,
          1902.1,
          93,
          677,
          1762.7,
          781,
          155,
          276.6,
          1122,
          3584,
          68,
          2052.5,
          848,
          1255.6,
          910.4,
          1408,
          108,
          280,
          1733.06,
          251.5,
          291.55,
          439,
          717.5,
          912,
          2233,
          1500.7,
          4813.5,
          310,
          15810,
          1014,
          796.5,
          1809.75,
          2248.2,
          2220,
          2772,
          3772,
          1353.6,
          4931,
          2870,
          69.6,
          6527.25,
          990,
          1196,
          560,
          1980,
          686,
          1261,
          1075,
          2769,
          1902,
          326,
          295.38,
          586,
          391.58,
          2633.9,
          4903.5,
          702,
          645,
          960,
          2974,
          361,
          270.2,
          622.35,
          491.5,
          6750,
          1575,
          76,
          744,
          6941.49,
          1402,
          1500,
          1966.81,
          300,
          1030,
          1170.3,
          2160,
          1286.8,
          16321.9,
          2393.5,
          8902.5,
          3592,
          554.4,
          1754.5,
          1692,
          60,
          751,
          3090,
          200,
          1887,
          405.75,
          210,
          591.6,
          1309.5,
          1564,
          1090.5,
          525,
          342,
          900,
          45,
          1665,
          3658.75,
          305,
          1727.5,
          3740,
          45,
          858,
          1838,
          266,
          510,
          508,
          1445.5,
          4722.3,
          252.56,
          928.75,
          86.85,
          2384.8,
          360,
          1873.5,
          510,
          5218,
          300,
          244.3,
          586,
          1057,
          1374.6
         ],
         "x0": " ",
         "xaxis": "x",
         "y0": " ",
         "yaxis": "y"
        }
       ],
       "layout": {
        "boxmode": "group",
        "legend": {
         "tracegroupgap": 0
        },
        "margin": {
         "t": 60
        },
        "template": {
         "data": {
          "bar": [
           {
            "error_x": {
             "color": "#2a3f5f"
            },
            "error_y": {
             "color": "#2a3f5f"
            },
            "marker": {
             "line": {
              "color": "#E5ECF6",
              "width": 0.5
             },
             "pattern": {
              "fillmode": "overlay",
              "size": 10,
              "solidity": 0.2
             }
            },
            "type": "bar"
           }
          ],
          "barpolar": [
           {
            "marker": {
             "line": {
              "color": "#E5ECF6",
              "width": 0.5
             },
             "pattern": {
              "fillmode": "overlay",
              "size": 10,
              "solidity": 0.2
             }
            },
            "type": "barpolar"
           }
          ],
          "carpet": [
           {
            "aaxis": {
             "endlinecolor": "#2a3f5f",
             "gridcolor": "white",
             "linecolor": "white",
             "minorgridcolor": "white",
             "startlinecolor": "#2a3f5f"
            },
            "baxis": {
             "endlinecolor": "#2a3f5f",
             "gridcolor": "white",
             "linecolor": "white",
             "minorgridcolor": "white",
             "startlinecolor": "#2a3f5f"
            },
            "type": "carpet"
           }
          ],
          "choropleth": [
           {
            "colorbar": {
             "outlinewidth": 0,
             "ticks": ""
            },
            "type": "choropleth"
           }
          ],
          "contour": [
           {
            "colorbar": {
             "outlinewidth": 0,
             "ticks": ""
            },
            "colorscale": [
             [
              0,
              "#0d0887"
             ],
             [
              0.1111111111111111,
              "#46039f"
             ],
             [
              0.2222222222222222,
              "#7201a8"
             ],
             [
              0.3333333333333333,
              "#9c179e"
             ],
             [
              0.4444444444444444,
              "#bd3786"
             ],
             [
              0.5555555555555556,
              "#d8576b"
             ],
             [
              0.6666666666666666,
              "#ed7953"
             ],
             [
              0.7777777777777778,
              "#fb9f3a"
             ],
             [
              0.8888888888888888,
              "#fdca26"
             ],
             [
              1,
              "#f0f921"
             ]
            ],
            "type": "contour"
           }
          ],
          "contourcarpet": [
           {
            "colorbar": {
             "outlinewidth": 0,
             "ticks": ""
            },
            "type": "contourcarpet"
           }
          ],
          "heatmap": [
           {
            "colorbar": {
             "outlinewidth": 0,
             "ticks": ""
            },
            "colorscale": [
             [
              0,
              "#0d0887"
             ],
             [
              0.1111111111111111,
              "#46039f"
             ],
             [
              0.2222222222222222,
              "#7201a8"
             ],
             [
              0.3333333333333333,
              "#9c179e"
             ],
             [
              0.4444444444444444,
              "#bd3786"
             ],
             [
              0.5555555555555556,
              "#d8576b"
             ],
             [
              0.6666666666666666,
              "#ed7953"
             ],
             [
              0.7777777777777778,
              "#fb9f3a"
             ],
             [
              0.8888888888888888,
              "#fdca26"
             ],
             [
              1,
              "#f0f921"
             ]
            ],
            "type": "heatmap"
           }
          ],
          "heatmapgl": [
           {
            "colorbar": {
             "outlinewidth": 0,
             "ticks": ""
            },
            "colorscale": [
             [
              0,
              "#0d0887"
             ],
             [
              0.1111111111111111,
              "#46039f"
             ],
             [
              0.2222222222222222,
              "#7201a8"
             ],
             [
              0.3333333333333333,
              "#9c179e"
             ],
             [
              0.4444444444444444,
              "#bd3786"
             ],
             [
              0.5555555555555556,
              "#d8576b"
             ],
             [
              0.6666666666666666,
              "#ed7953"
             ],
             [
              0.7777777777777778,
              "#fb9f3a"
             ],
             [
              0.8888888888888888,
              "#fdca26"
             ],
             [
              1,
              "#f0f921"
             ]
            ],
            "type": "heatmapgl"
           }
          ],
          "histogram": [
           {
            "marker": {
             "pattern": {
              "fillmode": "overlay",
              "size": 10,
              "solidity": 0.2
             }
            },
            "type": "histogram"
           }
          ],
          "histogram2d": [
           {
            "colorbar": {
             "outlinewidth": 0,
             "ticks": ""
            },
            "colorscale": [
             [
              0,
              "#0d0887"
             ],
             [
              0.1111111111111111,
              "#46039f"
             ],
             [
              0.2222222222222222,
              "#7201a8"
             ],
             [
              0.3333333333333333,
              "#9c179e"
             ],
             [
              0.4444444444444444,
              "#bd3786"
             ],
             [
              0.5555555555555556,
              "#d8576b"
             ],
             [
              0.6666666666666666,
              "#ed7953"
             ],
             [
              0.7777777777777778,
              "#fb9f3a"
             ],
             [
              0.8888888888888888,
              "#fdca26"
             ],
             [
              1,
              "#f0f921"
             ]
            ],
            "type": "histogram2d"
           }
          ],
          "histogram2dcontour": [
           {
            "colorbar": {
             "outlinewidth": 0,
             "ticks": ""
            },
            "colorscale": [
             [
              0,
              "#0d0887"
             ],
             [
              0.1111111111111111,
              "#46039f"
             ],
             [
              0.2222222222222222,
              "#7201a8"
             ],
             [
              0.3333333333333333,
              "#9c179e"
             ],
             [
              0.4444444444444444,
              "#bd3786"
             ],
             [
              0.5555555555555556,
              "#d8576b"
             ],
             [
              0.6666666666666666,
              "#ed7953"
             ],
             [
              0.7777777777777778,
              "#fb9f3a"
             ],
             [
              0.8888888888888888,
              "#fdca26"
             ],
             [
              1,
              "#f0f921"
             ]
            ],
            "type": "histogram2dcontour"
           }
          ],
          "mesh3d": [
           {
            "colorbar": {
             "outlinewidth": 0,
             "ticks": ""
            },
            "type": "mesh3d"
           }
          ],
          "parcoords": [
           {
            "line": {
             "colorbar": {
              "outlinewidth": 0,
              "ticks": ""
             }
            },
            "type": "parcoords"
           }
          ],
          "pie": [
           {
            "automargin": true,
            "type": "pie"
           }
          ],
          "scatter": [
           {
            "fillpattern": {
             "fillmode": "overlay",
             "size": 10,
             "solidity": 0.2
            },
            "type": "scatter"
           }
          ],
          "scatter3d": [
           {
            "line": {
             "colorbar": {
              "outlinewidth": 0,
              "ticks": ""
             }
            },
            "marker": {
             "colorbar": {
              "outlinewidth": 0,
              "ticks": ""
             }
            },
            "type": "scatter3d"
           }
          ],
          "scattercarpet": [
           {
            "marker": {
             "colorbar": {
              "outlinewidth": 0,
              "ticks": ""
             }
            },
            "type": "scattercarpet"
           }
          ],
          "scattergeo": [
           {
            "marker": {
             "colorbar": {
              "outlinewidth": 0,
              "ticks": ""
             }
            },
            "type": "scattergeo"
           }
          ],
          "scattergl": [
           {
            "marker": {
             "colorbar": {
              "outlinewidth": 0,
              "ticks": ""
             }
            },
            "type": "scattergl"
           }
          ],
          "scattermapbox": [
           {
            "marker": {
             "colorbar": {
              "outlinewidth": 0,
              "ticks": ""
             }
            },
            "type": "scattermapbox"
           }
          ],
          "scatterpolar": [
           {
            "marker": {
             "colorbar": {
              "outlinewidth": 0,
              "ticks": ""
             }
            },
            "type": "scatterpolar"
           }
          ],
          "scatterpolargl": [
           {
            "marker": {
             "colorbar": {
              "outlinewidth": 0,
              "ticks": ""
             }
            },
            "type": "scatterpolargl"
           }
          ],
          "scatterternary": [
           {
            "marker": {
             "colorbar": {
              "outlinewidth": 0,
              "ticks": ""
             }
            },
            "type": "scatterternary"
           }
          ],
          "surface": [
           {
            "colorbar": {
             "outlinewidth": 0,
             "ticks": ""
            },
            "colorscale": [
             [
              0,
              "#0d0887"
             ],
             [
              0.1111111111111111,
              "#46039f"
             ],
             [
              0.2222222222222222,
              "#7201a8"
             ],
             [
              0.3333333333333333,
              "#9c179e"
             ],
             [
              0.4444444444444444,
              "#bd3786"
             ],
             [
              0.5555555555555556,
              "#d8576b"
             ],
             [
              0.6666666666666666,
              "#ed7953"
             ],
             [
              0.7777777777777778,
              "#fb9f3a"
             ],
             [
              0.8888888888888888,
              "#fdca26"
             ],
             [
              1,
              "#f0f921"
             ]
            ],
            "type": "surface"
           }
          ],
          "table": [
           {
            "cells": {
             "fill": {
              "color": "#EBF0F8"
             },
             "line": {
              "color": "white"
             }
            },
            "header": {
             "fill": {
              "color": "#C8D4E3"
             },
             "line": {
              "color": "white"
             }
            },
            "type": "table"
           }
          ]
         },
         "layout": {
          "annotationdefaults": {
           "arrowcolor": "#2a3f5f",
           "arrowhead": 0,
           "arrowwidth": 1
          },
          "autotypenumbers": "strict",
          "coloraxis": {
           "colorbar": {
            "outlinewidth": 0,
            "ticks": ""
           }
          },
          "colorscale": {
           "diverging": [
            [
             0,
             "#8e0152"
            ],
            [
             0.1,
             "#c51b7d"
            ],
            [
             0.2,
             "#de77ae"
            ],
            [
             0.3,
             "#f1b6da"
            ],
            [
             0.4,
             "#fde0ef"
            ],
            [
             0.5,
             "#f7f7f7"
            ],
            [
             0.6,
             "#e6f5d0"
            ],
            [
             0.7,
             "#b8e186"
            ],
            [
             0.8,
             "#7fbc41"
            ],
            [
             0.9,
             "#4d9221"
            ],
            [
             1,
             "#276419"
            ]
           ],
           "sequential": [
            [
             0,
             "#0d0887"
            ],
            [
             0.1111111111111111,
             "#46039f"
            ],
            [
             0.2222222222222222,
             "#7201a8"
            ],
            [
             0.3333333333333333,
             "#9c179e"
            ],
            [
             0.4444444444444444,
             "#bd3786"
            ],
            [
             0.5555555555555556,
             "#d8576b"
            ],
            [
             0.6666666666666666,
             "#ed7953"
            ],
            [
             0.7777777777777778,
             "#fb9f3a"
            ],
            [
             0.8888888888888888,
             "#fdca26"
            ],
            [
             1,
             "#f0f921"
            ]
           ],
           "sequentialminus": [
            [
             0,
             "#0d0887"
            ],
            [
             0.1111111111111111,
             "#46039f"
            ],
            [
             0.2222222222222222,
             "#7201a8"
            ],
            [
             0.3333333333333333,
             "#9c179e"
            ],
            [
             0.4444444444444444,
             "#bd3786"
            ],
            [
             0.5555555555555556,
             "#d8576b"
            ],
            [
             0.6666666666666666,
             "#ed7953"
            ],
            [
             0.7777777777777778,
             "#fb9f3a"
            ],
            [
             0.8888888888888888,
             "#fdca26"
            ],
            [
             1,
             "#f0f921"
            ]
           ]
          },
          "colorway": [
           "#636efa",
           "#EF553B",
           "#00cc96",
           "#ab63fa",
           "#FFA15A",
           "#19d3f3",
           "#FF6692",
           "#B6E880",
           "#FF97FF",
           "#FECB52"
          ],
          "font": {
           "color": "#2a3f5f"
          },
          "geo": {
           "bgcolor": "white",
           "lakecolor": "white",
           "landcolor": "#E5ECF6",
           "showlakes": true,
           "showland": true,
           "subunitcolor": "white"
          },
          "hoverlabel": {
           "align": "left"
          },
          "hovermode": "closest",
          "mapbox": {
           "style": "light"
          },
          "paper_bgcolor": "white",
          "plot_bgcolor": "#E5ECF6",
          "polar": {
           "angularaxis": {
            "gridcolor": "white",
            "linecolor": "white",
            "ticks": ""
           },
           "bgcolor": "#E5ECF6",
           "radialaxis": {
            "gridcolor": "white",
            "linecolor": "white",
            "ticks": ""
           }
          },
          "scene": {
           "xaxis": {
            "backgroundcolor": "#E5ECF6",
            "gridcolor": "white",
            "gridwidth": 2,
            "linecolor": "white",
            "showbackground": true,
            "ticks": "",
            "zerolinecolor": "white"
           },
           "yaxis": {
            "backgroundcolor": "#E5ECF6",
            "gridcolor": "white",
            "gridwidth": 2,
            "linecolor": "white",
            "showbackground": true,
            "ticks": "",
            "zerolinecolor": "white"
           },
           "zaxis": {
            "backgroundcolor": "#E5ECF6",
            "gridcolor": "white",
            "gridwidth": 2,
            "linecolor": "white",
            "showbackground": true,
            "ticks": "",
            "zerolinecolor": "white"
           }
          },
          "shapedefaults": {
           "line": {
            "color": "#2a3f5f"
           }
          },
          "ternary": {
           "aaxis": {
            "gridcolor": "white",
            "linecolor": "white",
            "ticks": ""
           },
           "baxis": {
            "gridcolor": "white",
            "linecolor": "white",
            "ticks": ""
           },
           "bgcolor": "#E5ECF6",
           "caxis": {
            "gridcolor": "white",
            "linecolor": "white",
            "ticks": ""
           }
          },
          "title": {
           "x": 0.05
          },
          "xaxis": {
           "automargin": true,
           "gridcolor": "white",
           "linecolor": "white",
           "ticks": "",
           "title": {
            "standoff": 15
           },
           "zerolinecolor": "white",
           "zerolinewidth": 2
          },
          "yaxis": {
           "automargin": true,
           "gridcolor": "white",
           "linecolor": "white",
           "ticks": "",
           "title": {
            "standoff": 15
           },
           "zerolinecolor": "white",
           "zerolinewidth": 2
          }
         }
        },
        "xaxis": {
         "anchor": "y",
         "domain": [
          0,
          1
         ],
         "title": {
          "text": "totalamount"
         }
        },
        "yaxis": {
         "anchor": "x",
         "domain": [
          0,
          1
         ]
        }
       }
      }
     },
     "metadata": {},
     "output_type": "display_data"
    }
   ],
   "source": [
    "# Boxplot to know the 5 number summary\n",
    "px.box(data_frame=df,x='totalamount')"
   ]
  },
  {
   "cell_type": "markdown",
   "metadata": {},
   "source": [
    "## Outlier Data"
   ]
  },
  {
   "cell_type": "code",
   "execution_count": 14,
   "metadata": {},
   "outputs": [
    {
     "data": {
      "text/html": [
       "<div>\n",
       "<style scoped>\n",
       "    .dataframe tbody tr th:only-of-type {\n",
       "        vertical-align: middle;\n",
       "    }\n",
       "\n",
       "    .dataframe tbody tr th {\n",
       "        vertical-align: top;\n",
       "    }\n",
       "\n",
       "    .dataframe thead th {\n",
       "        text-align: right;\n",
       "    }\n",
       "</style>\n",
       "<table border=\"1\" class=\"dataframe\">\n",
       "  <thead>\n",
       "    <tr style=\"text-align: right;\">\n",
       "      <th></th>\n",
       "      <th>customerid</th>\n",
       "      <th>firstname</th>\n",
       "      <th>lastname</th>\n",
       "      <th>city</th>\n",
       "      <th>country</th>\n",
       "      <th>orderid</th>\n",
       "      <th>ordernumber</th>\n",
       "      <th>orderdate</th>\n",
       "      <th>totalamount</th>\n",
       "    </tr>\n",
       "  </thead>\n",
       "  <tbody>\n",
       "    <tr>\n",
       "      <th>1013</th>\n",
       "      <td>20</td>\n",
       "      <td>Roland</td>\n",
       "      <td>Mendel</td>\n",
       "      <td>Graz</td>\n",
       "      <td>Austria</td>\n",
       "      <td>386</td>\n",
       "      <td>542763</td>\n",
       "      <td>2013-08-15</td>\n",
       "      <td>6,483.05</td>\n",
       "    </tr>\n",
       "    <tr>\n",
       "      <th>1099</th>\n",
       "      <td>68</td>\n",
       "      <td>Michael</td>\n",
       "      <td>Holz</td>\n",
       "      <td>Genève</td>\n",
       "      <td>Switzerland</td>\n",
       "      <td>419</td>\n",
       "      <td>542796</td>\n",
       "      <td>2013-09-12</td>\n",
       "      <td>4,666.94</td>\n",
       "    </tr>\n",
       "    <tr>\n",
       "      <th>298</th>\n",
       "      <td>7</td>\n",
       "      <td>Frédérique</td>\n",
       "      <td>Citeaux</td>\n",
       "      <td>Strasbourg</td>\n",
       "      <td>France</td>\n",
       "      <td>113</td>\n",
       "      <td>542490</td>\n",
       "      <td>2012-11-22</td>\n",
       "      <td>7,390.20</td>\n",
       "    </tr>\n",
       "    <tr>\n",
       "      <th>1817</th>\n",
       "      <td>10</td>\n",
       "      <td>Elizabeth</td>\n",
       "      <td>Lincoln</td>\n",
       "      <td>Tsawassen</td>\n",
       "      <td>Canada</td>\n",
       "      <td>702</td>\n",
       "      <td>543079</td>\n",
       "      <td>2014-03-13</td>\n",
       "      <td>4,422.00</td>\n",
       "    </tr>\n",
       "    <tr>\n",
       "      <th>1171</th>\n",
       "      <td>63</td>\n",
       "      <td>Horst</td>\n",
       "      <td>Kloss</td>\n",
       "      <td>Cunewalde</td>\n",
       "      <td>Germany</td>\n",
       "      <td>447</td>\n",
       "      <td>542824</td>\n",
       "      <td>2013-10-06</td>\n",
       "      <td>4,825.00</td>\n",
       "    </tr>\n",
       "  </tbody>\n",
       "</table>\n",
       "</div>"
      ],
      "text/plain": [
       "      customerid   firstname lastname        city      country  orderid  \\\n",
       "1013          20      Roland   Mendel        Graz      Austria      386   \n",
       "1099          68     Michael     Holz      Genève  Switzerland      419   \n",
       "298            7  Frédérique  Citeaux  Strasbourg       France      113   \n",
       "1817          10   Elizabeth  Lincoln   Tsawassen       Canada      702   \n",
       "1171          63       Horst    Kloss   Cunewalde      Germany      447   \n",
       "\n",
       "      ordernumber  orderdate  totalamount  \n",
       "1013       542763 2013-08-15     6,483.05  \n",
       "1099       542796 2013-09-12     4,666.94  \n",
       "298        542490 2012-11-22     7,390.20  \n",
       "1817       543079 2014-03-13     4,422.00  \n",
       "1171       542824 2013-10-06     4,825.00  "
      ]
     },
     "execution_count": 14,
     "metadata": {},
     "output_type": "execute_result"
    }
   ],
   "source": [
    "orders[orders.totalamount > ub].sample(5)"
   ]
  },
  {
   "cell_type": "markdown",
   "metadata": {},
   "source": [
    "###  In this case we will take any order less than 15000K other is outlires"
   ]
  },
  {
   "cell_type": "code",
   "execution_count": 15,
   "metadata": {},
   "outputs": [
    {
     "name": "stdout",
     "output_type": "stream",
     "text": [
      "Number Of Outliers Data Sample is \n"
     ]
    },
    {
     "data": {
      "text/plain": [
       "customerid     56\n",
       "firstname      56\n",
       "lastname       56\n",
       "city           56\n",
       "country        56\n",
       "orderid        56\n",
       "ordernumber    56\n",
       "orderdate      56\n",
       "totalamount    56\n",
       "dtype: int64"
      ]
     },
     "execution_count": 15,
     "metadata": {},
     "output_type": "execute_result"
    }
   ],
   "source": [
    "print (\"Number Of Outliers Data Sample is \")\n",
    "orders[orders.totalamount > ub].count()"
   ]
  },
  {
   "cell_type": "code",
   "execution_count": 16,
   "metadata": {},
   "outputs": [
    {
     "data": {
      "text/plain": [
       "customerid     3\n",
       "firstname      3\n",
       "lastname       3\n",
       "city           3\n",
       "country        3\n",
       "orderid        3\n",
       "ordernumber    3\n",
       "orderdate      3\n",
       "totalamount    3\n",
       "dtype: int64"
      ]
     },
     "execution_count": 16,
     "metadata": {},
     "output_type": "execute_result"
    }
   ],
   "source": [
    "# Outliers orders totalamount more than 15000k  \n",
    "orders[orders.totalamount > 15000].count()"
   ]
  },
  {
   "cell_type": "markdown",
   "metadata": {},
   "source": [
    "### Delete outlier more than 15000k "
   ]
  },
  {
   "cell_type": "code",
   "execution_count": 17,
   "metadata": {},
   "outputs": [],
   "source": [
    "# store all data less than 15000k in orders\n",
    "orders= orders[orders.totalamount < 15000]"
   ]
  },
  {
   "cell_type": "code",
   "execution_count": 18,
   "metadata": {},
   "outputs": [
    {
     "name": "stdout",
     "output_type": "stream",
     "text": [
      "<class 'pandas.core.frame.DataFrame'>\n",
      "Index: 827 entries, 0 to 2130\n",
      "Data columns (total 9 columns):\n",
      " #   Column       Non-Null Count  Dtype         \n",
      "---  ------       --------------  -----         \n",
      " 0   customerid   827 non-null    int32         \n",
      " 1   firstname    827 non-null    object        \n",
      " 2   lastname     827 non-null    object        \n",
      " 3   city         827 non-null    object        \n",
      " 4   country      827 non-null    object        \n",
      " 5   orderid      827 non-null    int32         \n",
      " 6   ordernumber  827 non-null    int32         \n",
      " 7   orderdate    827 non-null    datetime64[ns]\n",
      " 8   totalamount  827 non-null    float64       \n",
      "dtypes: datetime64[ns](1), float64(1), int32(3), object(4)\n",
      "memory usage: 54.9+ KB\n"
     ]
    }
   ],
   "source": [
    "orders.info()"
   ]
  },
  {
   "cell_type": "markdown",
   "metadata": {},
   "source": [
    "### Boxplot After remove outlier more than 15000 k"
   ]
  },
  {
   "cell_type": "code",
   "execution_count": 19,
   "metadata": {},
   "outputs": [
    {
     "data": {
      "application/vnd.plotly.v1+json": {
       "config": {
        "plotlyServerURL": "https://plot.ly"
       },
       "data": [
        {
         "alignmentgroup": "True",
         "hovertemplate": "totalamount=%{x}<extra></extra>",
         "legendgroup": "",
         "marker": {
          "color": "#636efa"
         },
         "name": "",
         "notched": false,
         "offsetgroup": "",
         "orientation": "h",
         "showlegend": false,
         "type": "box",
         "x": [
          440,
          1863.4,
          1813,
          670.8,
          3730,
          1444.8,
          625.2,
          2490.5,
          517.8,
          1119.9,
          2018.6,
          100.8,
          1746.2,
          448,
          624.8,
          2464.8,
          724.5,
          1176,
          364.8,
          4031,
          1101.2,
          676,
          1376,
          48,
          1456,
          2142.4,
          538.6,
          307.2,
          420,
          1200.8,
          1488.8,
          468,
          613.2,
          86.5,
          155.4,
          1414.8,
          1452,
          2179.2,
          3016,
          924,
          89,
          479.4,
          2169,
          552.8,
          1296,
          848.7,
          1887.6,
          121.6,
          1050.6,
          1420,
          3127,
          349.5,
          608,
          755,
          2708.8,
          1242,
          954.4,
          4157,
          498.5,
          424,
          88.8,
          1762,
          336,
          268.8,
          1614.8,
          182.4,
          2327,
          516.8,
          2835,
          288,
          240.4,
          1191.2,
          516,
          144,
          112,
          164.4,
          6155.9,
          1497,
          982,
          2262.5,
          1168,
          4819.4,
          1940,
          88.5,
          2233.6,
          954,
          144.8,
          2545.2,
          316.8,
          2467,
          934.5,
          3463.2,
          2564.4,
          412,
          2300.8,
          1586,
          2856,
          2924.8,
          1731.2,
          928,
          396,
          141.6,
          713.4,
          5677.6,
          154,
          10741.6,
          568.8,
          480,
          1106.4,
          1360,
          452,
          3654.4,
          7390.2,
          2273.6,
          1549.6,
          447.2,
          950,
          403.2,
          136,
          834.2,
          1834.2,
          2527.2,
          1174,
          91.2,
          12281.2,
          1708,
          459,
          338,
          420,
          1016,
          103.2,
          959.2,
          1419.8,
          112,
          2900,
          899,
          2222.4,
          864,
          166,
          1058.4,
          1274,
          1832.8,
          2275.2,
          86.4,
          1440,
          3302.6,
          442,
          2333.2,
          1903.8,
          843.2,
          2736,
          1765.6,
          3063,
          3868.6,
          2713.5,
          1005.9,
          1675,
          400,
          2018.2,
          1194,
          1622.4,
          319.2,
          802,
          1208.5,
          372,
          2123.2,
          231.4,
          102.4,
          720,
          11283.2,
          1814.8,
          2208,
          1897.6,
          1273.2,
          49.8,
          1020,
          11493.2,
          480,
          338.2,
          651,
          192,
          1748.5,
          5796,
          2523,
          485,
          851.2,
          360,
          631.6,
          2210.8,
          393,
          567.5,
          1078,
          5793.1,
          1755,
          1792,
          537.6,
          1031.7,
          174.9,
          273.6,
          914.4,
          443.4,
          1838.2,
          531.4,
          4277.4,
          2096,
          453,
          414,
          2684,
          656,
          1584,
          3891,
          1688,
          234.8,
          2051.6,
          156,
          713.3,
          1848,
          2719,
          216,
          235.2,
          717.6,
          1125.5,
          1820.8,
          1328,
          1051.2,
          230.4,
          1249.1,
          1770.8,
          182.4,
          672,
          496,
          10495.6,
          756,
          1472,
          147,
          704,
          386.2,
          1760,
          1272,
          925.1,
          1560,
          502.2,
          3163.2,
          305.3,
          896,
          676,
          912,
          278,
          200,
          1380.6,
          575,
          1412,
          550.8,
          149,
          816.3,
          2048.5,
          1388.5,
          147.9,
          462,
          881.25,
          240,
          136.8,
          4735.44,
          3000,
          618,
          2427.5,
          8623.45,
          10588.5,
          2614.5,
          352,
          4150.05,
          2356,
          200,
          225.5,
          2657.8,
          2715.9,
          3192.65,
          846,
          1344,
          1670,
          396.2,
          946,
          4180,
          110,
          796.35,
          2295.2,
          517.4,
          2156.5,
          2085,
          1823.8,
          139.8,
          355.5,
          10191.7,
          2162.8,
          493.8,
          1770,
          417.2,
          210,
          2812,
          1908,
          275.1,
          4181.5,
          749,
          1836,
          880.5,
          1546.3,
          1819.5,
          3680.5,
          835.2,
          1152.5,
          2142.9,
          547.8,
          1257.3,
          2844.5,
          543,
          965,
          1299,
          711,
          2040,
          3109,
          155,
          977.5,
          2595,
          647.75,
          1565.65,
          2082,
          764.3,
          2147.4,
          838.45,
          569,
          477,
          317.75,
          1067.1,
          387.5,
          330,
          2413.9,
          625,
          142.5,
          28,
          807.38,
          3900,
          72,
          1140,
          812.5,
          543.65,
          2493,
          565.5,
          6300,
          1476.1,
          800.1,
          2388.5,
          493,
          479.8,
          2285,
          65,
          1508,
          256.5,
          4326,
          1413,
          6475.4,
          1064,
          424,
          399,
          808,
          6375,
          358,
          464,
          120,
          5032,
          1650,
          2697.5,
          1260,
          57.5,
          758.5,
          605,
          1429.75,
          1393.24,
          479.75,
          1503.6,
          1264.5,
          450,
          2775.05,
          918,
          62,
          620,
          6483.05,
          4985.5,
          1380.25,
          629.5,
          2896.25,
          2720.05,
          500,
          945,
          2054,
          870,
          1086,
          1422,
          1535,
          1928,
          636,
          382.5,
          1434,
          1820.2,
          530.4,
          331.78,
          1203.5,
          668.7,
          193,
          671.35,
          4371.6,
          4668,
          1291.6,
          1701,
          703.25,
          125,
          2032,
          1515.75,
          1295,
          4666.94,
          1921,
          694.75,
          570,
          2301.75,
          920.1,
          4210.5,
          412.35,
          45,
          1423,
          534.85,
          956.9,
          5256.5,
          660,
          1682.5,
          1327,
          375.5,
          63,
          1768,
          801.1,
          1638.45,
          6201.9,
          3490,
          630,
          1150,
          10164.8,
          878,
          2334,
          4825,
          642,
          996,
          1073.9,
          3600.73,
          114,
          2048,
          3370,
          330,
          2545,
          595.5,
          378,
          1893,
          1704,
          180.4,
          3424,
          93.5,
          4451.7,
          1238.4,
          2827.9,
          2941,
          1296,
          706,
          1331.75,
          3463,
          1125.67,
          550,
          972.5,
          1570,
          468.45,
          638.5,
          287.8,
          655,
          1710,
          1296.75,
          1850,
          509.75,
          1990,
          360,
          1459,
          1498.35,
          596,
          997,
          139.8,
          52.35,
          240,
          1770,
          285,
          3118,
          336,
          920,
          4529.8,
          2311.7,
          1912.85,
          2196,
          1080,
          1871.25,
          1701.46,
          252,
          88,
          55.2,
          2598,
          2487.5,
          3082,
          1644.6,
          320,
          3304,
          629.5,
          4337,
          616,
          2540,
          1684,
          2310,
          28,
          1477,
          1704,
          315,
          344,
          3603.22,
          2216.25,
          875,
          228,
          6984.5,
          280,
          96.5,
          1335,
          720,
          1132.35,
          12.5,
          1442.5,
          1650,
          387.5,
          1913.85,
          2760.8,
          770,
          3687,
          850,
          1926.06,
          399.85,
          191.1,
          393.45,
          2499.25,
          2878.08,
          420,
          446.6,
          1585,
          1632.15,
          4035.8,
          3923.75,
          1255.8,
          2290.4,
          2775,
          572.1,
          18.4,
          1660,
          140,
          187,
          852,
          1852,
          648,
          2070,
          40,
          8891,
          11490.7,
          833,
          477,
          1140,
          678,
          237.9,
          3107.5,
          250.8,
          1030.76,
          730,
          843,
          932,
          1764,
          1974,
          2684.4,
          568.95,
          1007.7,
          1508.12,
          851,
          4705.5,
          1254,
          2584.5,
          919.5,
          264,
          4581,
          975,
          212,
          735,
          4059,
          1112,
          6164.9,
          931.5,
          1052.14,
          740,
          2740,
          2984,
          625,
          3490,
          2275.25,
          660,
          2630.95,
          649,
          1438.25,
          519,
          3523.4,
          581,
          519,
          282,
          1461.6,
          98.4,
          2004.6,
          1630,
          160,
          2083.4,
          2166.8,
          336.8,
          310,
          729.5,
          917,
          2086,
          1620,
          611.3,
          1875,
          150,
          988.4,
          36,
          1450.6,
          1209,
          3127.5,
          70,
          605,
          11380,
          860.1,
          388.35,
          2200,
          5502.11,
          2898,
          6379.4,
          750.5,
          10835.24,
          30,
          144,
          45,
          934.5,
          1015.8,
          932.05,
          1924.25,
          360,
          427.5,
          108.5,
          698,
          670,
          452.9,
          858,
          8267.4,
          958.75,
          537.5,
          539.5,
          686.7,
          365.89,
          1930,
          1122.8,
          390,
          1936,
          742.5,
          936,
          2034.5,
          559,
          514.4,
          800,
          137.5,
          1174.75,
          2455,
          837,
          1925.5,
          920.6,
          500,
          700,
          570,
          644.8,
          3642.5,
          750,
          360,
          4769,
          560,
          711,
          1139.1,
          245,
          1407.5,
          220,
          2362.25,
          4422,
          110,
          482.9,
          491.2,
          4675,
          1902.1,
          93,
          677,
          1762.7,
          781,
          155,
          276.6,
          1122,
          3584,
          68,
          2052.5,
          848,
          1255.6,
          910.4,
          1408,
          108,
          280,
          1733.06,
          251.5,
          291.55,
          439,
          717.5,
          912,
          2233,
          1500.7,
          4813.5,
          310,
          1014,
          796.5,
          1809.75,
          2248.2,
          2220,
          2772,
          3772,
          1353.6,
          4931,
          2870,
          69.6,
          6527.25,
          990,
          1196,
          560,
          1980,
          686,
          1261,
          1075,
          2769,
          1902,
          326,
          295.38,
          586,
          391.58,
          2633.9,
          4903.5,
          702,
          645,
          960,
          2974,
          361,
          270.2,
          622.35,
          491.5,
          6750,
          1575,
          76,
          744,
          6941.49,
          1402,
          1500,
          1966.81,
          300,
          1030,
          1170.3,
          2160,
          1286.8,
          2393.5,
          8902.5,
          3592,
          554.4,
          1754.5,
          1692,
          60,
          751,
          3090,
          200,
          1887,
          405.75,
          210,
          591.6,
          1309.5,
          1564,
          1090.5,
          525,
          342,
          900,
          45,
          1665,
          3658.75,
          305,
          1727.5,
          3740,
          45,
          858,
          1838,
          266,
          510,
          508,
          1445.5,
          4722.3,
          252.56,
          928.75,
          86.85,
          2384.8,
          360,
          1873.5,
          510,
          5218,
          300,
          244.3,
          586,
          1057,
          1374.6
         ],
         "x0": " ",
         "xaxis": "x",
         "y0": " ",
         "yaxis": "y"
        }
       ],
       "layout": {
        "boxmode": "group",
        "legend": {
         "tracegroupgap": 0
        },
        "margin": {
         "t": 60
        },
        "template": {
         "data": {
          "bar": [
           {
            "error_x": {
             "color": "#2a3f5f"
            },
            "error_y": {
             "color": "#2a3f5f"
            },
            "marker": {
             "line": {
              "color": "#E5ECF6",
              "width": 0.5
             },
             "pattern": {
              "fillmode": "overlay",
              "size": 10,
              "solidity": 0.2
             }
            },
            "type": "bar"
           }
          ],
          "barpolar": [
           {
            "marker": {
             "line": {
              "color": "#E5ECF6",
              "width": 0.5
             },
             "pattern": {
              "fillmode": "overlay",
              "size": 10,
              "solidity": 0.2
             }
            },
            "type": "barpolar"
           }
          ],
          "carpet": [
           {
            "aaxis": {
             "endlinecolor": "#2a3f5f",
             "gridcolor": "white",
             "linecolor": "white",
             "minorgridcolor": "white",
             "startlinecolor": "#2a3f5f"
            },
            "baxis": {
             "endlinecolor": "#2a3f5f",
             "gridcolor": "white",
             "linecolor": "white",
             "minorgridcolor": "white",
             "startlinecolor": "#2a3f5f"
            },
            "type": "carpet"
           }
          ],
          "choropleth": [
           {
            "colorbar": {
             "outlinewidth": 0,
             "ticks": ""
            },
            "type": "choropleth"
           }
          ],
          "contour": [
           {
            "colorbar": {
             "outlinewidth": 0,
             "ticks": ""
            },
            "colorscale": [
             [
              0,
              "#0d0887"
             ],
             [
              0.1111111111111111,
              "#46039f"
             ],
             [
              0.2222222222222222,
              "#7201a8"
             ],
             [
              0.3333333333333333,
              "#9c179e"
             ],
             [
              0.4444444444444444,
              "#bd3786"
             ],
             [
              0.5555555555555556,
              "#d8576b"
             ],
             [
              0.6666666666666666,
              "#ed7953"
             ],
             [
              0.7777777777777778,
              "#fb9f3a"
             ],
             [
              0.8888888888888888,
              "#fdca26"
             ],
             [
              1,
              "#f0f921"
             ]
            ],
            "type": "contour"
           }
          ],
          "contourcarpet": [
           {
            "colorbar": {
             "outlinewidth": 0,
             "ticks": ""
            },
            "type": "contourcarpet"
           }
          ],
          "heatmap": [
           {
            "colorbar": {
             "outlinewidth": 0,
             "ticks": ""
            },
            "colorscale": [
             [
              0,
              "#0d0887"
             ],
             [
              0.1111111111111111,
              "#46039f"
             ],
             [
              0.2222222222222222,
              "#7201a8"
             ],
             [
              0.3333333333333333,
              "#9c179e"
             ],
             [
              0.4444444444444444,
              "#bd3786"
             ],
             [
              0.5555555555555556,
              "#d8576b"
             ],
             [
              0.6666666666666666,
              "#ed7953"
             ],
             [
              0.7777777777777778,
              "#fb9f3a"
             ],
             [
              0.8888888888888888,
              "#fdca26"
             ],
             [
              1,
              "#f0f921"
             ]
            ],
            "type": "heatmap"
           }
          ],
          "heatmapgl": [
           {
            "colorbar": {
             "outlinewidth": 0,
             "ticks": ""
            },
            "colorscale": [
             [
              0,
              "#0d0887"
             ],
             [
              0.1111111111111111,
              "#46039f"
             ],
             [
              0.2222222222222222,
              "#7201a8"
             ],
             [
              0.3333333333333333,
              "#9c179e"
             ],
             [
              0.4444444444444444,
              "#bd3786"
             ],
             [
              0.5555555555555556,
              "#d8576b"
             ],
             [
              0.6666666666666666,
              "#ed7953"
             ],
             [
              0.7777777777777778,
              "#fb9f3a"
             ],
             [
              0.8888888888888888,
              "#fdca26"
             ],
             [
              1,
              "#f0f921"
             ]
            ],
            "type": "heatmapgl"
           }
          ],
          "histogram": [
           {
            "marker": {
             "pattern": {
              "fillmode": "overlay",
              "size": 10,
              "solidity": 0.2
             }
            },
            "type": "histogram"
           }
          ],
          "histogram2d": [
           {
            "colorbar": {
             "outlinewidth": 0,
             "ticks": ""
            },
            "colorscale": [
             [
              0,
              "#0d0887"
             ],
             [
              0.1111111111111111,
              "#46039f"
             ],
             [
              0.2222222222222222,
              "#7201a8"
             ],
             [
              0.3333333333333333,
              "#9c179e"
             ],
             [
              0.4444444444444444,
              "#bd3786"
             ],
             [
              0.5555555555555556,
              "#d8576b"
             ],
             [
              0.6666666666666666,
              "#ed7953"
             ],
             [
              0.7777777777777778,
              "#fb9f3a"
             ],
             [
              0.8888888888888888,
              "#fdca26"
             ],
             [
              1,
              "#f0f921"
             ]
            ],
            "type": "histogram2d"
           }
          ],
          "histogram2dcontour": [
           {
            "colorbar": {
             "outlinewidth": 0,
             "ticks": ""
            },
            "colorscale": [
             [
              0,
              "#0d0887"
             ],
             [
              0.1111111111111111,
              "#46039f"
             ],
             [
              0.2222222222222222,
              "#7201a8"
             ],
             [
              0.3333333333333333,
              "#9c179e"
             ],
             [
              0.4444444444444444,
              "#bd3786"
             ],
             [
              0.5555555555555556,
              "#d8576b"
             ],
             [
              0.6666666666666666,
              "#ed7953"
             ],
             [
              0.7777777777777778,
              "#fb9f3a"
             ],
             [
              0.8888888888888888,
              "#fdca26"
             ],
             [
              1,
              "#f0f921"
             ]
            ],
            "type": "histogram2dcontour"
           }
          ],
          "mesh3d": [
           {
            "colorbar": {
             "outlinewidth": 0,
             "ticks": ""
            },
            "type": "mesh3d"
           }
          ],
          "parcoords": [
           {
            "line": {
             "colorbar": {
              "outlinewidth": 0,
              "ticks": ""
             }
            },
            "type": "parcoords"
           }
          ],
          "pie": [
           {
            "automargin": true,
            "type": "pie"
           }
          ],
          "scatter": [
           {
            "fillpattern": {
             "fillmode": "overlay",
             "size": 10,
             "solidity": 0.2
            },
            "type": "scatter"
           }
          ],
          "scatter3d": [
           {
            "line": {
             "colorbar": {
              "outlinewidth": 0,
              "ticks": ""
             }
            },
            "marker": {
             "colorbar": {
              "outlinewidth": 0,
              "ticks": ""
             }
            },
            "type": "scatter3d"
           }
          ],
          "scattercarpet": [
           {
            "marker": {
             "colorbar": {
              "outlinewidth": 0,
              "ticks": ""
             }
            },
            "type": "scattercarpet"
           }
          ],
          "scattergeo": [
           {
            "marker": {
             "colorbar": {
              "outlinewidth": 0,
              "ticks": ""
             }
            },
            "type": "scattergeo"
           }
          ],
          "scattergl": [
           {
            "marker": {
             "colorbar": {
              "outlinewidth": 0,
              "ticks": ""
             }
            },
            "type": "scattergl"
           }
          ],
          "scattermapbox": [
           {
            "marker": {
             "colorbar": {
              "outlinewidth": 0,
              "ticks": ""
             }
            },
            "type": "scattermapbox"
           }
          ],
          "scatterpolar": [
           {
            "marker": {
             "colorbar": {
              "outlinewidth": 0,
              "ticks": ""
             }
            },
            "type": "scatterpolar"
           }
          ],
          "scatterpolargl": [
           {
            "marker": {
             "colorbar": {
              "outlinewidth": 0,
              "ticks": ""
             }
            },
            "type": "scatterpolargl"
           }
          ],
          "scatterternary": [
           {
            "marker": {
             "colorbar": {
              "outlinewidth": 0,
              "ticks": ""
             }
            },
            "type": "scatterternary"
           }
          ],
          "surface": [
           {
            "colorbar": {
             "outlinewidth": 0,
             "ticks": ""
            },
            "colorscale": [
             [
              0,
              "#0d0887"
             ],
             [
              0.1111111111111111,
              "#46039f"
             ],
             [
              0.2222222222222222,
              "#7201a8"
             ],
             [
              0.3333333333333333,
              "#9c179e"
             ],
             [
              0.4444444444444444,
              "#bd3786"
             ],
             [
              0.5555555555555556,
              "#d8576b"
             ],
             [
              0.6666666666666666,
              "#ed7953"
             ],
             [
              0.7777777777777778,
              "#fb9f3a"
             ],
             [
              0.8888888888888888,
              "#fdca26"
             ],
             [
              1,
              "#f0f921"
             ]
            ],
            "type": "surface"
           }
          ],
          "table": [
           {
            "cells": {
             "fill": {
              "color": "#EBF0F8"
             },
             "line": {
              "color": "white"
             }
            },
            "header": {
             "fill": {
              "color": "#C8D4E3"
             },
             "line": {
              "color": "white"
             }
            },
            "type": "table"
           }
          ]
         },
         "layout": {
          "annotationdefaults": {
           "arrowcolor": "#2a3f5f",
           "arrowhead": 0,
           "arrowwidth": 1
          },
          "autotypenumbers": "strict",
          "coloraxis": {
           "colorbar": {
            "outlinewidth": 0,
            "ticks": ""
           }
          },
          "colorscale": {
           "diverging": [
            [
             0,
             "#8e0152"
            ],
            [
             0.1,
             "#c51b7d"
            ],
            [
             0.2,
             "#de77ae"
            ],
            [
             0.3,
             "#f1b6da"
            ],
            [
             0.4,
             "#fde0ef"
            ],
            [
             0.5,
             "#f7f7f7"
            ],
            [
             0.6,
             "#e6f5d0"
            ],
            [
             0.7,
             "#b8e186"
            ],
            [
             0.8,
             "#7fbc41"
            ],
            [
             0.9,
             "#4d9221"
            ],
            [
             1,
             "#276419"
            ]
           ],
           "sequential": [
            [
             0,
             "#0d0887"
            ],
            [
             0.1111111111111111,
             "#46039f"
            ],
            [
             0.2222222222222222,
             "#7201a8"
            ],
            [
             0.3333333333333333,
             "#9c179e"
            ],
            [
             0.4444444444444444,
             "#bd3786"
            ],
            [
             0.5555555555555556,
             "#d8576b"
            ],
            [
             0.6666666666666666,
             "#ed7953"
            ],
            [
             0.7777777777777778,
             "#fb9f3a"
            ],
            [
             0.8888888888888888,
             "#fdca26"
            ],
            [
             1,
             "#f0f921"
            ]
           ],
           "sequentialminus": [
            [
             0,
             "#0d0887"
            ],
            [
             0.1111111111111111,
             "#46039f"
            ],
            [
             0.2222222222222222,
             "#7201a8"
            ],
            [
             0.3333333333333333,
             "#9c179e"
            ],
            [
             0.4444444444444444,
             "#bd3786"
            ],
            [
             0.5555555555555556,
             "#d8576b"
            ],
            [
             0.6666666666666666,
             "#ed7953"
            ],
            [
             0.7777777777777778,
             "#fb9f3a"
            ],
            [
             0.8888888888888888,
             "#fdca26"
            ],
            [
             1,
             "#f0f921"
            ]
           ]
          },
          "colorway": [
           "#636efa",
           "#EF553B",
           "#00cc96",
           "#ab63fa",
           "#FFA15A",
           "#19d3f3",
           "#FF6692",
           "#B6E880",
           "#FF97FF",
           "#FECB52"
          ],
          "font": {
           "color": "#2a3f5f"
          },
          "geo": {
           "bgcolor": "white",
           "lakecolor": "white",
           "landcolor": "#E5ECF6",
           "showlakes": true,
           "showland": true,
           "subunitcolor": "white"
          },
          "hoverlabel": {
           "align": "left"
          },
          "hovermode": "closest",
          "mapbox": {
           "style": "light"
          },
          "paper_bgcolor": "white",
          "plot_bgcolor": "#E5ECF6",
          "polar": {
           "angularaxis": {
            "gridcolor": "white",
            "linecolor": "white",
            "ticks": ""
           },
           "bgcolor": "#E5ECF6",
           "radialaxis": {
            "gridcolor": "white",
            "linecolor": "white",
            "ticks": ""
           }
          },
          "scene": {
           "xaxis": {
            "backgroundcolor": "#E5ECF6",
            "gridcolor": "white",
            "gridwidth": 2,
            "linecolor": "white",
            "showbackground": true,
            "ticks": "",
            "zerolinecolor": "white"
           },
           "yaxis": {
            "backgroundcolor": "#E5ECF6",
            "gridcolor": "white",
            "gridwidth": 2,
            "linecolor": "white",
            "showbackground": true,
            "ticks": "",
            "zerolinecolor": "white"
           },
           "zaxis": {
            "backgroundcolor": "#E5ECF6",
            "gridcolor": "white",
            "gridwidth": 2,
            "linecolor": "white",
            "showbackground": true,
            "ticks": "",
            "zerolinecolor": "white"
           }
          },
          "shapedefaults": {
           "line": {
            "color": "#2a3f5f"
           }
          },
          "ternary": {
           "aaxis": {
            "gridcolor": "white",
            "linecolor": "white",
            "ticks": ""
           },
           "baxis": {
            "gridcolor": "white",
            "linecolor": "white",
            "ticks": ""
           },
           "bgcolor": "#E5ECF6",
           "caxis": {
            "gridcolor": "white",
            "linecolor": "white",
            "ticks": ""
           }
          },
          "title": {
           "x": 0.05
          },
          "xaxis": {
           "automargin": true,
           "gridcolor": "white",
           "linecolor": "white",
           "ticks": "",
           "title": {
            "standoff": 15
           },
           "zerolinecolor": "white",
           "zerolinewidth": 2
          },
          "yaxis": {
           "automargin": true,
           "gridcolor": "white",
           "linecolor": "white",
           "ticks": "",
           "title": {
            "standoff": 15
           },
           "zerolinecolor": "white",
           "zerolinewidth": 2
          }
         }
        },
        "xaxis": {
         "anchor": "y",
         "domain": [
          0,
          1
         ],
         "title": {
          "text": "totalamount"
         }
        },
        "yaxis": {
         "anchor": "x",
         "domain": [
          0,
          1
         ]
        }
       }
      }
     },
     "metadata": {},
     "output_type": "display_data"
    }
   ],
   "source": [
    "# Boxplot to know the 5 number summary\n",
    "px.box(data_frame=orders,x='totalamount')"
   ]
  },
  {
   "cell_type": "markdown",
   "metadata": {},
   "source": [
    "## Categorical Data\n",
    "* ### City\n",
    "* ### country"
   ]
  },
  {
   "cell_type": "markdown",
   "metadata": {},
   "source": [
    "# Univariate Analysis"
   ]
  },
  {
   "cell_type": "markdown",
   "metadata": {},
   "source": [
    "## Extract the `City` and `Country` with the Best Sales Using Bar Chart"
   ]
  },
  {
   "cell_type": "code",
   "execution_count": 20,
   "metadata": {},
   "outputs": [
    {
     "data": {
      "application/vnd.plotly.v1+json": {
       "config": {
        "plotlyServerURL": "https://plot.ly"
       },
       "data": [
        {
         "alignmentgroup": "True",
         "hovertemplate": "variable=count<br>city=%{x}<br>value=%{y}<extra></extra>",
         "legendgroup": "count",
         "marker": {
          "color": "#636efa",
          "pattern": {
           "shape": ""
          }
         },
         "name": "count",
         "offsetgroup": "count",
         "orientation": "v",
         "showlegend": true,
         "textposition": "auto",
         "type": "bar",
         "x": [
          "London",
          "Rio de Janeiro",
          "Sao Paulo",
          "Graz",
          "Boise",
          "México D.F.",
          "Cunewalde",
          "Cork",
          "Br?cke",
          "San Crist?bal",
          "Albuquerque",
          "Lule?",
          "Marseille",
          "Buenos Aires",
          "Frankfurt a.M.",
          "Oulu",
          "München",
          "Brandenburg",
          "Tsawassen",
          "Toulouse",
          "Seattle",
          "Barquisimeto",
          "Montréal",
          "Lisboa",
          "I. de Margarita",
          "Reggio Emilia",
          "Portland",
          "Charleroi",
          "?rhus",
          "Eugene",
          "Strasbourg",
          "Genève",
          "Lyon",
          "Bergamo",
          "Stuttgart",
          "Sevilla",
          "Anchorage",
          "Salzburg",
          "Cowes",
          "K?ln",
          "Campinas",
          "Resende",
          "Lander",
          "Bern",
          "Madrid",
          "Bruxelles",
          "Kobenhavn",
          "Warszawa",
          "Nantes",
          "Mannheim",
          "Helsinki",
          "Aachen",
          "Berlin",
          "Stavern",
          "Münster",
          "Torino",
          "Reims",
          "Lille",
          "Elgin",
          "Barcelona",
          "Leipzig",
          "San Francisco",
          "Paris",
          "Versailles",
          "Vancouver",
          "Kirkland",
          "Butte",
          "Walla Walla",
          "Caracas"
         ],
         "xaxis": "x",
         "y": [
          46,
          33,
          31,
          30,
          30,
          28,
          27,
          19,
          19,
          18,
          18,
          18,
          17,
          16,
          15,
          15,
          15,
          14,
          14,
          14,
          14,
          14,
          13,
          13,
          12,
          12,
          12,
          12,
          11,
          11,
          11,
          10,
          10,
          10,
          10,
          10,
          10,
          10,
          10,
          10,
          9,
          9,
          9,
          8,
          8,
          7,
          7,
          7,
          7,
          7,
          7,
          6,
          6,
          6,
          6,
          6,
          5,
          5,
          5,
          5,
          5,
          4,
          4,
          4,
          3,
          3,
          3,
          2,
          2
         ],
         "yaxis": "y"
        }
       ],
       "layout": {
        "barmode": "relative",
        "legend": {
         "title": {
          "text": "variable"
         },
         "tracegroupgap": 0
        },
        "template": {
         "data": {
          "bar": [
           {
            "error_x": {
             "color": "#2a3f5f"
            },
            "error_y": {
             "color": "#2a3f5f"
            },
            "marker": {
             "line": {
              "color": "#E5ECF6",
              "width": 0.5
             },
             "pattern": {
              "fillmode": "overlay",
              "size": 10,
              "solidity": 0.2
             }
            },
            "type": "bar"
           }
          ],
          "barpolar": [
           {
            "marker": {
             "line": {
              "color": "#E5ECF6",
              "width": 0.5
             },
             "pattern": {
              "fillmode": "overlay",
              "size": 10,
              "solidity": 0.2
             }
            },
            "type": "barpolar"
           }
          ],
          "carpet": [
           {
            "aaxis": {
             "endlinecolor": "#2a3f5f",
             "gridcolor": "white",
             "linecolor": "white",
             "minorgridcolor": "white",
             "startlinecolor": "#2a3f5f"
            },
            "baxis": {
             "endlinecolor": "#2a3f5f",
             "gridcolor": "white",
             "linecolor": "white",
             "minorgridcolor": "white",
             "startlinecolor": "#2a3f5f"
            },
            "type": "carpet"
           }
          ],
          "choropleth": [
           {
            "colorbar": {
             "outlinewidth": 0,
             "ticks": ""
            },
            "type": "choropleth"
           }
          ],
          "contour": [
           {
            "colorbar": {
             "outlinewidth": 0,
             "ticks": ""
            },
            "colorscale": [
             [
              0,
              "#0d0887"
             ],
             [
              0.1111111111111111,
              "#46039f"
             ],
             [
              0.2222222222222222,
              "#7201a8"
             ],
             [
              0.3333333333333333,
              "#9c179e"
             ],
             [
              0.4444444444444444,
              "#bd3786"
             ],
             [
              0.5555555555555556,
              "#d8576b"
             ],
             [
              0.6666666666666666,
              "#ed7953"
             ],
             [
              0.7777777777777778,
              "#fb9f3a"
             ],
             [
              0.8888888888888888,
              "#fdca26"
             ],
             [
              1,
              "#f0f921"
             ]
            ],
            "type": "contour"
           }
          ],
          "contourcarpet": [
           {
            "colorbar": {
             "outlinewidth": 0,
             "ticks": ""
            },
            "type": "contourcarpet"
           }
          ],
          "heatmap": [
           {
            "colorbar": {
             "outlinewidth": 0,
             "ticks": ""
            },
            "colorscale": [
             [
              0,
              "#0d0887"
             ],
             [
              0.1111111111111111,
              "#46039f"
             ],
             [
              0.2222222222222222,
              "#7201a8"
             ],
             [
              0.3333333333333333,
              "#9c179e"
             ],
             [
              0.4444444444444444,
              "#bd3786"
             ],
             [
              0.5555555555555556,
              "#d8576b"
             ],
             [
              0.6666666666666666,
              "#ed7953"
             ],
             [
              0.7777777777777778,
              "#fb9f3a"
             ],
             [
              0.8888888888888888,
              "#fdca26"
             ],
             [
              1,
              "#f0f921"
             ]
            ],
            "type": "heatmap"
           }
          ],
          "heatmapgl": [
           {
            "colorbar": {
             "outlinewidth": 0,
             "ticks": ""
            },
            "colorscale": [
             [
              0,
              "#0d0887"
             ],
             [
              0.1111111111111111,
              "#46039f"
             ],
             [
              0.2222222222222222,
              "#7201a8"
             ],
             [
              0.3333333333333333,
              "#9c179e"
             ],
             [
              0.4444444444444444,
              "#bd3786"
             ],
             [
              0.5555555555555556,
              "#d8576b"
             ],
             [
              0.6666666666666666,
              "#ed7953"
             ],
             [
              0.7777777777777778,
              "#fb9f3a"
             ],
             [
              0.8888888888888888,
              "#fdca26"
             ],
             [
              1,
              "#f0f921"
             ]
            ],
            "type": "heatmapgl"
           }
          ],
          "histogram": [
           {
            "marker": {
             "pattern": {
              "fillmode": "overlay",
              "size": 10,
              "solidity": 0.2
             }
            },
            "type": "histogram"
           }
          ],
          "histogram2d": [
           {
            "colorbar": {
             "outlinewidth": 0,
             "ticks": ""
            },
            "colorscale": [
             [
              0,
              "#0d0887"
             ],
             [
              0.1111111111111111,
              "#46039f"
             ],
             [
              0.2222222222222222,
              "#7201a8"
             ],
             [
              0.3333333333333333,
              "#9c179e"
             ],
             [
              0.4444444444444444,
              "#bd3786"
             ],
             [
              0.5555555555555556,
              "#d8576b"
             ],
             [
              0.6666666666666666,
              "#ed7953"
             ],
             [
              0.7777777777777778,
              "#fb9f3a"
             ],
             [
              0.8888888888888888,
              "#fdca26"
             ],
             [
              1,
              "#f0f921"
             ]
            ],
            "type": "histogram2d"
           }
          ],
          "histogram2dcontour": [
           {
            "colorbar": {
             "outlinewidth": 0,
             "ticks": ""
            },
            "colorscale": [
             [
              0,
              "#0d0887"
             ],
             [
              0.1111111111111111,
              "#46039f"
             ],
             [
              0.2222222222222222,
              "#7201a8"
             ],
             [
              0.3333333333333333,
              "#9c179e"
             ],
             [
              0.4444444444444444,
              "#bd3786"
             ],
             [
              0.5555555555555556,
              "#d8576b"
             ],
             [
              0.6666666666666666,
              "#ed7953"
             ],
             [
              0.7777777777777778,
              "#fb9f3a"
             ],
             [
              0.8888888888888888,
              "#fdca26"
             ],
             [
              1,
              "#f0f921"
             ]
            ],
            "type": "histogram2dcontour"
           }
          ],
          "mesh3d": [
           {
            "colorbar": {
             "outlinewidth": 0,
             "ticks": ""
            },
            "type": "mesh3d"
           }
          ],
          "parcoords": [
           {
            "line": {
             "colorbar": {
              "outlinewidth": 0,
              "ticks": ""
             }
            },
            "type": "parcoords"
           }
          ],
          "pie": [
           {
            "automargin": true,
            "type": "pie"
           }
          ],
          "scatter": [
           {
            "fillpattern": {
             "fillmode": "overlay",
             "size": 10,
             "solidity": 0.2
            },
            "type": "scatter"
           }
          ],
          "scatter3d": [
           {
            "line": {
             "colorbar": {
              "outlinewidth": 0,
              "ticks": ""
             }
            },
            "marker": {
             "colorbar": {
              "outlinewidth": 0,
              "ticks": ""
             }
            },
            "type": "scatter3d"
           }
          ],
          "scattercarpet": [
           {
            "marker": {
             "colorbar": {
              "outlinewidth": 0,
              "ticks": ""
             }
            },
            "type": "scattercarpet"
           }
          ],
          "scattergeo": [
           {
            "marker": {
             "colorbar": {
              "outlinewidth": 0,
              "ticks": ""
             }
            },
            "type": "scattergeo"
           }
          ],
          "scattergl": [
           {
            "marker": {
             "colorbar": {
              "outlinewidth": 0,
              "ticks": ""
             }
            },
            "type": "scattergl"
           }
          ],
          "scattermapbox": [
           {
            "marker": {
             "colorbar": {
              "outlinewidth": 0,
              "ticks": ""
             }
            },
            "type": "scattermapbox"
           }
          ],
          "scatterpolar": [
           {
            "marker": {
             "colorbar": {
              "outlinewidth": 0,
              "ticks": ""
             }
            },
            "type": "scatterpolar"
           }
          ],
          "scatterpolargl": [
           {
            "marker": {
             "colorbar": {
              "outlinewidth": 0,
              "ticks": ""
             }
            },
            "type": "scatterpolargl"
           }
          ],
          "scatterternary": [
           {
            "marker": {
             "colorbar": {
              "outlinewidth": 0,
              "ticks": ""
             }
            },
            "type": "scatterternary"
           }
          ],
          "surface": [
           {
            "colorbar": {
             "outlinewidth": 0,
             "ticks": ""
            },
            "colorscale": [
             [
              0,
              "#0d0887"
             ],
             [
              0.1111111111111111,
              "#46039f"
             ],
             [
              0.2222222222222222,
              "#7201a8"
             ],
             [
              0.3333333333333333,
              "#9c179e"
             ],
             [
              0.4444444444444444,
              "#bd3786"
             ],
             [
              0.5555555555555556,
              "#d8576b"
             ],
             [
              0.6666666666666666,
              "#ed7953"
             ],
             [
              0.7777777777777778,
              "#fb9f3a"
             ],
             [
              0.8888888888888888,
              "#fdca26"
             ],
             [
              1,
              "#f0f921"
             ]
            ],
            "type": "surface"
           }
          ],
          "table": [
           {
            "cells": {
             "fill": {
              "color": "#EBF0F8"
             },
             "line": {
              "color": "white"
             }
            },
            "header": {
             "fill": {
              "color": "#C8D4E3"
             },
             "line": {
              "color": "white"
             }
            },
            "type": "table"
           }
          ]
         },
         "layout": {
          "annotationdefaults": {
           "arrowcolor": "#2a3f5f",
           "arrowhead": 0,
           "arrowwidth": 1
          },
          "autotypenumbers": "strict",
          "coloraxis": {
           "colorbar": {
            "outlinewidth": 0,
            "ticks": ""
           }
          },
          "colorscale": {
           "diverging": [
            [
             0,
             "#8e0152"
            ],
            [
             0.1,
             "#c51b7d"
            ],
            [
             0.2,
             "#de77ae"
            ],
            [
             0.3,
             "#f1b6da"
            ],
            [
             0.4,
             "#fde0ef"
            ],
            [
             0.5,
             "#f7f7f7"
            ],
            [
             0.6,
             "#e6f5d0"
            ],
            [
             0.7,
             "#b8e186"
            ],
            [
             0.8,
             "#7fbc41"
            ],
            [
             0.9,
             "#4d9221"
            ],
            [
             1,
             "#276419"
            ]
           ],
           "sequential": [
            [
             0,
             "#0d0887"
            ],
            [
             0.1111111111111111,
             "#46039f"
            ],
            [
             0.2222222222222222,
             "#7201a8"
            ],
            [
             0.3333333333333333,
             "#9c179e"
            ],
            [
             0.4444444444444444,
             "#bd3786"
            ],
            [
             0.5555555555555556,
             "#d8576b"
            ],
            [
             0.6666666666666666,
             "#ed7953"
            ],
            [
             0.7777777777777778,
             "#fb9f3a"
            ],
            [
             0.8888888888888888,
             "#fdca26"
            ],
            [
             1,
             "#f0f921"
            ]
           ],
           "sequentialminus": [
            [
             0,
             "#0d0887"
            ],
            [
             0.1111111111111111,
             "#46039f"
            ],
            [
             0.2222222222222222,
             "#7201a8"
            ],
            [
             0.3333333333333333,
             "#9c179e"
            ],
            [
             0.4444444444444444,
             "#bd3786"
            ],
            [
             0.5555555555555556,
             "#d8576b"
            ],
            [
             0.6666666666666666,
             "#ed7953"
            ],
            [
             0.7777777777777778,
             "#fb9f3a"
            ],
            [
             0.8888888888888888,
             "#fdca26"
            ],
            [
             1,
             "#f0f921"
            ]
           ]
          },
          "colorway": [
           "#636efa",
           "#EF553B",
           "#00cc96",
           "#ab63fa",
           "#FFA15A",
           "#19d3f3",
           "#FF6692",
           "#B6E880",
           "#FF97FF",
           "#FECB52"
          ],
          "font": {
           "color": "#2a3f5f"
          },
          "geo": {
           "bgcolor": "white",
           "lakecolor": "white",
           "landcolor": "#E5ECF6",
           "showlakes": true,
           "showland": true,
           "subunitcolor": "white"
          },
          "hoverlabel": {
           "align": "left"
          },
          "hovermode": "closest",
          "mapbox": {
           "style": "light"
          },
          "paper_bgcolor": "white",
          "plot_bgcolor": "#E5ECF6",
          "polar": {
           "angularaxis": {
            "gridcolor": "white",
            "linecolor": "white",
            "ticks": ""
           },
           "bgcolor": "#E5ECF6",
           "radialaxis": {
            "gridcolor": "white",
            "linecolor": "white",
            "ticks": ""
           }
          },
          "scene": {
           "xaxis": {
            "backgroundcolor": "#E5ECF6",
            "gridcolor": "white",
            "gridwidth": 2,
            "linecolor": "white",
            "showbackground": true,
            "ticks": "",
            "zerolinecolor": "white"
           },
           "yaxis": {
            "backgroundcolor": "#E5ECF6",
            "gridcolor": "white",
            "gridwidth": 2,
            "linecolor": "white",
            "showbackground": true,
            "ticks": "",
            "zerolinecolor": "white"
           },
           "zaxis": {
            "backgroundcolor": "#E5ECF6",
            "gridcolor": "white",
            "gridwidth": 2,
            "linecolor": "white",
            "showbackground": true,
            "ticks": "",
            "zerolinecolor": "white"
           }
          },
          "shapedefaults": {
           "line": {
            "color": "#2a3f5f"
           }
          },
          "ternary": {
           "aaxis": {
            "gridcolor": "white",
            "linecolor": "white",
            "ticks": ""
           },
           "baxis": {
            "gridcolor": "white",
            "linecolor": "white",
            "ticks": ""
           },
           "bgcolor": "#E5ECF6",
           "caxis": {
            "gridcolor": "white",
            "linecolor": "white",
            "ticks": ""
           }
          },
          "title": {
           "x": 0.05
          },
          "xaxis": {
           "automargin": true,
           "gridcolor": "white",
           "linecolor": "white",
           "ticks": "",
           "title": {
            "standoff": 15
           },
           "zerolinecolor": "white",
           "zerolinewidth": 2
          },
          "yaxis": {
           "automargin": true,
           "gridcolor": "white",
           "linecolor": "white",
           "ticks": "",
           "title": {
            "standoff": 15
           },
           "zerolinecolor": "white",
           "zerolinewidth": 2
          }
         }
        },
        "title": {
         "text": "Distrbution of Cities"
        },
        "xaxis": {
         "anchor": "y",
         "domain": [
          0,
          1
         ],
         "title": {
          "text": "city"
         }
        },
        "yaxis": {
         "anchor": "x",
         "domain": [
          0,
          1
         ],
         "title": {
          "text": "value"
         }
        }
       }
      }
     },
     "metadata": {},
     "output_type": "display_data"
    }
   ],
   "source": [
    "px.bar(data_frame=orders.city.value_counts(), title='Distrbution of Cities')"
   ]
  },
  {
   "cell_type": "code",
   "execution_count": 21,
   "metadata": {},
   "outputs": [
    {
     "data": {
      "application/vnd.plotly.v1+json": {
       "config": {
        "plotlyServerURL": "https://plot.ly"
       },
       "data": [
        {
         "alignmentgroup": "True",
         "hovertemplate": "variable=count<br>country=%{x}<br>value=%{y}<extra></extra>",
         "legendgroup": "count",
         "marker": {
          "color": "#636efa",
          "pattern": {
           "shape": ""
          }
         },
         "name": "count",
         "offsetgroup": "count",
         "orientation": "v",
         "showlegend": true,
         "textposition": "auto",
         "type": "bar",
         "x": [
          "USA",
          "Germany",
          "Brazil",
          "France",
          "UK",
          "Venezuela",
          "Austria",
          "Sweden",
          "Canada",
          "Mexico",
          "Italy",
          "Spain",
          "Finland",
          "Ireland",
          "Belgium",
          "Switzerland",
          "Denmark",
          "Argentina",
          "Portugal",
          "Poland",
          "Norway"
         ],
         "xaxis": "x",
         "y": [
          121,
          121,
          82,
          77,
          56,
          46,
          40,
          37,
          30,
          28,
          28,
          23,
          22,
          19,
          19,
          18,
          18,
          16,
          13,
          7,
          6
         ],
         "yaxis": "y"
        }
       ],
       "layout": {
        "barmode": "relative",
        "legend": {
         "title": {
          "text": "variable"
         },
         "tracegroupgap": 0
        },
        "template": {
         "data": {
          "bar": [
           {
            "error_x": {
             "color": "#2a3f5f"
            },
            "error_y": {
             "color": "#2a3f5f"
            },
            "marker": {
             "line": {
              "color": "#E5ECF6",
              "width": 0.5
             },
             "pattern": {
              "fillmode": "overlay",
              "size": 10,
              "solidity": 0.2
             }
            },
            "type": "bar"
           }
          ],
          "barpolar": [
           {
            "marker": {
             "line": {
              "color": "#E5ECF6",
              "width": 0.5
             },
             "pattern": {
              "fillmode": "overlay",
              "size": 10,
              "solidity": 0.2
             }
            },
            "type": "barpolar"
           }
          ],
          "carpet": [
           {
            "aaxis": {
             "endlinecolor": "#2a3f5f",
             "gridcolor": "white",
             "linecolor": "white",
             "minorgridcolor": "white",
             "startlinecolor": "#2a3f5f"
            },
            "baxis": {
             "endlinecolor": "#2a3f5f",
             "gridcolor": "white",
             "linecolor": "white",
             "minorgridcolor": "white",
             "startlinecolor": "#2a3f5f"
            },
            "type": "carpet"
           }
          ],
          "choropleth": [
           {
            "colorbar": {
             "outlinewidth": 0,
             "ticks": ""
            },
            "type": "choropleth"
           }
          ],
          "contour": [
           {
            "colorbar": {
             "outlinewidth": 0,
             "ticks": ""
            },
            "colorscale": [
             [
              0,
              "#0d0887"
             ],
             [
              0.1111111111111111,
              "#46039f"
             ],
             [
              0.2222222222222222,
              "#7201a8"
             ],
             [
              0.3333333333333333,
              "#9c179e"
             ],
             [
              0.4444444444444444,
              "#bd3786"
             ],
             [
              0.5555555555555556,
              "#d8576b"
             ],
             [
              0.6666666666666666,
              "#ed7953"
             ],
             [
              0.7777777777777778,
              "#fb9f3a"
             ],
             [
              0.8888888888888888,
              "#fdca26"
             ],
             [
              1,
              "#f0f921"
             ]
            ],
            "type": "contour"
           }
          ],
          "contourcarpet": [
           {
            "colorbar": {
             "outlinewidth": 0,
             "ticks": ""
            },
            "type": "contourcarpet"
           }
          ],
          "heatmap": [
           {
            "colorbar": {
             "outlinewidth": 0,
             "ticks": ""
            },
            "colorscale": [
             [
              0,
              "#0d0887"
             ],
             [
              0.1111111111111111,
              "#46039f"
             ],
             [
              0.2222222222222222,
              "#7201a8"
             ],
             [
              0.3333333333333333,
              "#9c179e"
             ],
             [
              0.4444444444444444,
              "#bd3786"
             ],
             [
              0.5555555555555556,
              "#d8576b"
             ],
             [
              0.6666666666666666,
              "#ed7953"
             ],
             [
              0.7777777777777778,
              "#fb9f3a"
             ],
             [
              0.8888888888888888,
              "#fdca26"
             ],
             [
              1,
              "#f0f921"
             ]
            ],
            "type": "heatmap"
           }
          ],
          "heatmapgl": [
           {
            "colorbar": {
             "outlinewidth": 0,
             "ticks": ""
            },
            "colorscale": [
             [
              0,
              "#0d0887"
             ],
             [
              0.1111111111111111,
              "#46039f"
             ],
             [
              0.2222222222222222,
              "#7201a8"
             ],
             [
              0.3333333333333333,
              "#9c179e"
             ],
             [
              0.4444444444444444,
              "#bd3786"
             ],
             [
              0.5555555555555556,
              "#d8576b"
             ],
             [
              0.6666666666666666,
              "#ed7953"
             ],
             [
              0.7777777777777778,
              "#fb9f3a"
             ],
             [
              0.8888888888888888,
              "#fdca26"
             ],
             [
              1,
              "#f0f921"
             ]
            ],
            "type": "heatmapgl"
           }
          ],
          "histogram": [
           {
            "marker": {
             "pattern": {
              "fillmode": "overlay",
              "size": 10,
              "solidity": 0.2
             }
            },
            "type": "histogram"
           }
          ],
          "histogram2d": [
           {
            "colorbar": {
             "outlinewidth": 0,
             "ticks": ""
            },
            "colorscale": [
             [
              0,
              "#0d0887"
             ],
             [
              0.1111111111111111,
              "#46039f"
             ],
             [
              0.2222222222222222,
              "#7201a8"
             ],
             [
              0.3333333333333333,
              "#9c179e"
             ],
             [
              0.4444444444444444,
              "#bd3786"
             ],
             [
              0.5555555555555556,
              "#d8576b"
             ],
             [
              0.6666666666666666,
              "#ed7953"
             ],
             [
              0.7777777777777778,
              "#fb9f3a"
             ],
             [
              0.8888888888888888,
              "#fdca26"
             ],
             [
              1,
              "#f0f921"
             ]
            ],
            "type": "histogram2d"
           }
          ],
          "histogram2dcontour": [
           {
            "colorbar": {
             "outlinewidth": 0,
             "ticks": ""
            },
            "colorscale": [
             [
              0,
              "#0d0887"
             ],
             [
              0.1111111111111111,
              "#46039f"
             ],
             [
              0.2222222222222222,
              "#7201a8"
             ],
             [
              0.3333333333333333,
              "#9c179e"
             ],
             [
              0.4444444444444444,
              "#bd3786"
             ],
             [
              0.5555555555555556,
              "#d8576b"
             ],
             [
              0.6666666666666666,
              "#ed7953"
             ],
             [
              0.7777777777777778,
              "#fb9f3a"
             ],
             [
              0.8888888888888888,
              "#fdca26"
             ],
             [
              1,
              "#f0f921"
             ]
            ],
            "type": "histogram2dcontour"
           }
          ],
          "mesh3d": [
           {
            "colorbar": {
             "outlinewidth": 0,
             "ticks": ""
            },
            "type": "mesh3d"
           }
          ],
          "parcoords": [
           {
            "line": {
             "colorbar": {
              "outlinewidth": 0,
              "ticks": ""
             }
            },
            "type": "parcoords"
           }
          ],
          "pie": [
           {
            "automargin": true,
            "type": "pie"
           }
          ],
          "scatter": [
           {
            "fillpattern": {
             "fillmode": "overlay",
             "size": 10,
             "solidity": 0.2
            },
            "type": "scatter"
           }
          ],
          "scatter3d": [
           {
            "line": {
             "colorbar": {
              "outlinewidth": 0,
              "ticks": ""
             }
            },
            "marker": {
             "colorbar": {
              "outlinewidth": 0,
              "ticks": ""
             }
            },
            "type": "scatter3d"
           }
          ],
          "scattercarpet": [
           {
            "marker": {
             "colorbar": {
              "outlinewidth": 0,
              "ticks": ""
             }
            },
            "type": "scattercarpet"
           }
          ],
          "scattergeo": [
           {
            "marker": {
             "colorbar": {
              "outlinewidth": 0,
              "ticks": ""
             }
            },
            "type": "scattergeo"
           }
          ],
          "scattergl": [
           {
            "marker": {
             "colorbar": {
              "outlinewidth": 0,
              "ticks": ""
             }
            },
            "type": "scattergl"
           }
          ],
          "scattermapbox": [
           {
            "marker": {
             "colorbar": {
              "outlinewidth": 0,
              "ticks": ""
             }
            },
            "type": "scattermapbox"
           }
          ],
          "scatterpolar": [
           {
            "marker": {
             "colorbar": {
              "outlinewidth": 0,
              "ticks": ""
             }
            },
            "type": "scatterpolar"
           }
          ],
          "scatterpolargl": [
           {
            "marker": {
             "colorbar": {
              "outlinewidth": 0,
              "ticks": ""
             }
            },
            "type": "scatterpolargl"
           }
          ],
          "scatterternary": [
           {
            "marker": {
             "colorbar": {
              "outlinewidth": 0,
              "ticks": ""
             }
            },
            "type": "scatterternary"
           }
          ],
          "surface": [
           {
            "colorbar": {
             "outlinewidth": 0,
             "ticks": ""
            },
            "colorscale": [
             [
              0,
              "#0d0887"
             ],
             [
              0.1111111111111111,
              "#46039f"
             ],
             [
              0.2222222222222222,
              "#7201a8"
             ],
             [
              0.3333333333333333,
              "#9c179e"
             ],
             [
              0.4444444444444444,
              "#bd3786"
             ],
             [
              0.5555555555555556,
              "#d8576b"
             ],
             [
              0.6666666666666666,
              "#ed7953"
             ],
             [
              0.7777777777777778,
              "#fb9f3a"
             ],
             [
              0.8888888888888888,
              "#fdca26"
             ],
             [
              1,
              "#f0f921"
             ]
            ],
            "type": "surface"
           }
          ],
          "table": [
           {
            "cells": {
             "fill": {
              "color": "#EBF0F8"
             },
             "line": {
              "color": "white"
             }
            },
            "header": {
             "fill": {
              "color": "#C8D4E3"
             },
             "line": {
              "color": "white"
             }
            },
            "type": "table"
           }
          ]
         },
         "layout": {
          "annotationdefaults": {
           "arrowcolor": "#2a3f5f",
           "arrowhead": 0,
           "arrowwidth": 1
          },
          "autotypenumbers": "strict",
          "coloraxis": {
           "colorbar": {
            "outlinewidth": 0,
            "ticks": ""
           }
          },
          "colorscale": {
           "diverging": [
            [
             0,
             "#8e0152"
            ],
            [
             0.1,
             "#c51b7d"
            ],
            [
             0.2,
             "#de77ae"
            ],
            [
             0.3,
             "#f1b6da"
            ],
            [
             0.4,
             "#fde0ef"
            ],
            [
             0.5,
             "#f7f7f7"
            ],
            [
             0.6,
             "#e6f5d0"
            ],
            [
             0.7,
             "#b8e186"
            ],
            [
             0.8,
             "#7fbc41"
            ],
            [
             0.9,
             "#4d9221"
            ],
            [
             1,
             "#276419"
            ]
           ],
           "sequential": [
            [
             0,
             "#0d0887"
            ],
            [
             0.1111111111111111,
             "#46039f"
            ],
            [
             0.2222222222222222,
             "#7201a8"
            ],
            [
             0.3333333333333333,
             "#9c179e"
            ],
            [
             0.4444444444444444,
             "#bd3786"
            ],
            [
             0.5555555555555556,
             "#d8576b"
            ],
            [
             0.6666666666666666,
             "#ed7953"
            ],
            [
             0.7777777777777778,
             "#fb9f3a"
            ],
            [
             0.8888888888888888,
             "#fdca26"
            ],
            [
             1,
             "#f0f921"
            ]
           ],
           "sequentialminus": [
            [
             0,
             "#0d0887"
            ],
            [
             0.1111111111111111,
             "#46039f"
            ],
            [
             0.2222222222222222,
             "#7201a8"
            ],
            [
             0.3333333333333333,
             "#9c179e"
            ],
            [
             0.4444444444444444,
             "#bd3786"
            ],
            [
             0.5555555555555556,
             "#d8576b"
            ],
            [
             0.6666666666666666,
             "#ed7953"
            ],
            [
             0.7777777777777778,
             "#fb9f3a"
            ],
            [
             0.8888888888888888,
             "#fdca26"
            ],
            [
             1,
             "#f0f921"
            ]
           ]
          },
          "colorway": [
           "#636efa",
           "#EF553B",
           "#00cc96",
           "#ab63fa",
           "#FFA15A",
           "#19d3f3",
           "#FF6692",
           "#B6E880",
           "#FF97FF",
           "#FECB52"
          ],
          "font": {
           "color": "#2a3f5f"
          },
          "geo": {
           "bgcolor": "white",
           "lakecolor": "white",
           "landcolor": "#E5ECF6",
           "showlakes": true,
           "showland": true,
           "subunitcolor": "white"
          },
          "hoverlabel": {
           "align": "left"
          },
          "hovermode": "closest",
          "mapbox": {
           "style": "light"
          },
          "paper_bgcolor": "white",
          "plot_bgcolor": "#E5ECF6",
          "polar": {
           "angularaxis": {
            "gridcolor": "white",
            "linecolor": "white",
            "ticks": ""
           },
           "bgcolor": "#E5ECF6",
           "radialaxis": {
            "gridcolor": "white",
            "linecolor": "white",
            "ticks": ""
           }
          },
          "scene": {
           "xaxis": {
            "backgroundcolor": "#E5ECF6",
            "gridcolor": "white",
            "gridwidth": 2,
            "linecolor": "white",
            "showbackground": true,
            "ticks": "",
            "zerolinecolor": "white"
           },
           "yaxis": {
            "backgroundcolor": "#E5ECF6",
            "gridcolor": "white",
            "gridwidth": 2,
            "linecolor": "white",
            "showbackground": true,
            "ticks": "",
            "zerolinecolor": "white"
           },
           "zaxis": {
            "backgroundcolor": "#E5ECF6",
            "gridcolor": "white",
            "gridwidth": 2,
            "linecolor": "white",
            "showbackground": true,
            "ticks": "",
            "zerolinecolor": "white"
           }
          },
          "shapedefaults": {
           "line": {
            "color": "#2a3f5f"
           }
          },
          "ternary": {
           "aaxis": {
            "gridcolor": "white",
            "linecolor": "white",
            "ticks": ""
           },
           "baxis": {
            "gridcolor": "white",
            "linecolor": "white",
            "ticks": ""
           },
           "bgcolor": "#E5ECF6",
           "caxis": {
            "gridcolor": "white",
            "linecolor": "white",
            "ticks": ""
           }
          },
          "title": {
           "x": 0.05
          },
          "xaxis": {
           "automargin": true,
           "gridcolor": "white",
           "linecolor": "white",
           "ticks": "",
           "title": {
            "standoff": 15
           },
           "zerolinecolor": "white",
           "zerolinewidth": 2
          },
          "yaxis": {
           "automargin": true,
           "gridcolor": "white",
           "linecolor": "white",
           "ticks": "",
           "title": {
            "standoff": 15
           },
           "zerolinecolor": "white",
           "zerolinewidth": 2
          }
         }
        },
        "title": {
         "text": "Distrbution of Countries"
        },
        "xaxis": {
         "anchor": "y",
         "domain": [
          0,
          1
         ],
         "title": {
          "text": "country"
         }
        },
        "yaxis": {
         "anchor": "x",
         "domain": [
          0,
          1
         ],
         "title": {
          "text": "value"
         }
        }
       }
      }
     },
     "metadata": {},
     "output_type": "display_data"
    }
   ],
   "source": [
    "px.bar(data_frame=orders.country.value_counts(), title='Distrbution of Countries')"
   ]
  },
  {
   "cell_type": "markdown",
   "metadata": {},
   "source": [
    "## Extract the `Country` with the Best Sales Using Pie Chart"
   ]
  },
  {
   "cell_type": "code",
   "execution_count": 22,
   "metadata": {},
   "outputs": [
    {
     "data": {
      "application/vnd.plotly.v1+json": {
       "config": {
        "plotlyServerURL": "https://plot.ly"
       },
       "data": [
        {
         "domain": {
          "x": [
           0,
           1
          ],
          "y": [
           0,
           1
          ]
         },
         "hovertemplate": "country=%{label}<extra></extra>",
         "labels": [
          "France",
          "Germany",
          "Brazil",
          "France",
          "Belgium",
          "Brazil",
          "Switzerland",
          "Switzerland",
          "Brazil",
          "Venezuela",
          "Austria",
          "Mexico",
          "Germany",
          "Brazil",
          "USA",
          "Austria",
          "Sweden",
          "France",
          "Finland",
          "Germany",
          "Venezuela",
          "USA",
          "Finland",
          "USA",
          "USA",
          "Germany",
          "France",
          "Italy",
          "Mexico",
          "Germany",
          "Sweden",
          "Germany",
          "Sweden",
          "Spain",
          "Spain",
          "Venezuela",
          "Germany",
          "Germany",
          "Germany",
          "Brazil",
          "Italy",
          "UK",
          "Brazil",
          "Brazil",
          "Brazil",
          "Mexico",
          "USA",
          "France",
          "Venezuela",
          "France",
          "Ireland",
          "Brazil",
          "Italy",
          "Germany",
          "Belgium",
          "Spain",
          "Mexico",
          "USA",
          "Spain",
          "USA",
          "Mexico",
          "Ireland",
          "USA",
          "France",
          "Germany",
          "Germany",
          "USA",
          "UK",
          "USA",
          "USA",
          "UK",
          "Mexico",
          "Finland",
          "UK",
          "Mexico",
          "Germany",
          "USA",
          "Germany",
          "Spain",
          "Sweden",
          "Portugal",
          "USA",
          "Venezuela",
          "France",
          "Canada",
          "Finland",
          "France",
          "Ireland",
          "Portugal",
          "Germany",
          "USA",
          "Canada",
          "France",
          "Denmark",
          "Germany",
          "Germany",
          "USA",
          "Germany",
          "USA",
          "Brazil",
          "Germany",
          "USA",
          "France",
          "Austria",
          "Portugal",
          "Austria",
          "Mexico",
          "UK",
          "Germany",
          "Venezuela",
          "France",
          "UK",
          "France",
          "Germany",
          "France",
          "Germany",
          "UK",
          "Mexico",
          "Spain",
          "Denmark",
          "Austria",
          "USA",
          "Switzerland",
          "France",
          "Brazil",
          "Ireland",
          "Poland",
          "USA",
          "Canada",
          "UK",
          "Sweden",
          "Brazil",
          "Ireland",
          "Venezuela",
          "Austria",
          "UK",
          "Sweden",
          "USA",
          "Brazil",
          "Norway",
          "UK",
          "Canada",
          "Austria",
          "Germany",
          "Austria",
          "USA",
          "USA",
          "Venezuela",
          "Germany",
          "Portugal",
          "USA",
          "Denmark",
          "UK",
          "USA",
          "Austria",
          "Austria",
          "Italy",
          "Venezuela",
          "Brazil",
          "Germany",
          "France",
          "Argentina",
          "Canada",
          "Canada",
          "Finland",
          "France",
          "Brazil",
          "USA",
          "Finland",
          "Denmark",
          "Germany",
          "Switzerland",
          "Brazil",
          "Brazil",
          "Italy",
          "Brazil",
          "Canada",
          "France",
          "Spain",
          "Austria",
          "Italy",
          "Ireland",
          "Austria",
          "Canada",
          "USA",
          "Portugal",
          "Sweden",
          "UK",
          "France",
          "Finland",
          "Germany",
          "Canada",
          "USA",
          "USA",
          "Austria",
          "Italy",
          "Sweden",
          "Sweden",
          "Germany",
          "Brazil",
          "Argentina",
          "France",
          "France",
          "Germany",
          "USA",
          "UK",
          "France",
          "Finland",
          "Germany",
          "Germany",
          "Belgium",
          "France",
          "Sweden",
          "Venezuela",
          "UK",
          "Belgium",
          "Portugal",
          "Denmark",
          "Brazil",
          "Italy",
          "Germany",
          "USA",
          "France",
          "UK",
          "UK",
          "UK",
          "Mexico",
          "Belgium",
          "Venezuela",
          "Portugal",
          "France",
          "USA",
          "France",
          "Brazil",
          "USA",
          "USA",
          "UK",
          "Venezuela",
          "Venezuela",
          "Brazil",
          "Germany",
          "Austria",
          "Venezuela",
          "Portugal",
          "Canada",
          "France",
          "Brazil",
          "Canada",
          "Brazil",
          "Germany",
          "Venezuela",
          "Venezuela",
          "France",
          "Germany",
          "Mexico",
          "Ireland",
          "USA",
          "Canada",
          "Germany",
          "Mexico",
          "Germany",
          "Germany",
          "USA",
          "France",
          "Brazil",
          "Germany",
          "Austria",
          "Germany",
          "Ireland",
          "UK",
          "Mexico",
          "Switzerland",
          "Norway",
          "Argentina",
          "Germany",
          "UK",
          "Sweden",
          "France",
          "Finland",
          "Germany",
          "USA",
          "Belgium",
          "Austria",
          "Argentina",
          "UK",
          "Sweden",
          "Germany",
          "Mexico",
          "Germany",
          "Switzerland",
          "UK",
          "UK",
          "Germany",
          "Brazil",
          "Germany",
          "Venezuela",
          "USA",
          "USA",
          "France",
          "UK",
          "Germany",
          "Germany",
          "Spain",
          "Portugal",
          "Venezuela",
          "Finland",
          "Germany",
          "USA",
          "Denmark",
          "Germany",
          "UK",
          "France",
          "Germany",
          "Sweden",
          "Italy",
          "Brazil",
          "USA",
          "Canada",
          "France",
          "Ireland",
          "Spain",
          "USA",
          "Canada",
          "Austria",
          "Sweden",
          "Mexico",
          "USA",
          "Germany",
          "Mexico",
          "USA",
          "UK",
          "USA",
          "Germany",
          "Brazil",
          "Germany",
          "Finland",
          "France",
          "Brazil",
          "Italy",
          "Brazil",
          "Germany",
          "USA",
          "Canada",
          "Denmark",
          "Germany",
          "Germany",
          "USA",
          "Austria",
          "USA",
          "Austria",
          "USA",
          "UK",
          "USA",
          "Venezuela",
          "Denmark",
          "USA",
          "Portugal",
          "Canada",
          "Brazil",
          "USA",
          "Germany",
          "France",
          "France",
          "Poland",
          "USA",
          "Venezuela",
          "Germany",
          "Finland",
          "USA",
          "USA",
          "Canada",
          "Canada",
          "Canada",
          "UK",
          "Brazil",
          "Germany",
          "USA",
          "Mexico",
          "Sweden",
          "USA",
          "France",
          "Spain",
          "Germany",
          "France",
          "Germany",
          "Austria",
          "France",
          "Italy",
          "Finland",
          "Brazil",
          "Venezuela",
          "Norway",
          "Germany",
          "Venezuela",
          "Denmark",
          "Germany",
          "Brazil",
          "Brazil",
          "Ireland",
          "Brazil",
          "Brazil",
          "Belgium",
          "Brazil",
          "Germany",
          "Brazil",
          "Germany",
          "Sweden",
          "Italy",
          "USA",
          "USA",
          "Germany",
          "Brazil",
          "USA",
          "Ireland",
          "USA",
          "France",
          "Portugal",
          "USA",
          "Switzerland",
          "Austria",
          "Germany",
          "Denmark",
          "Germany",
          "France",
          "Sweden",
          "Finland",
          "UK",
          "Germany",
          "Mexico",
          "Mexico",
          "USA",
          "France",
          "USA",
          "USA",
          "Mexico",
          "France",
          "Germany",
          "Brazil",
          "Austria",
          "Ireland",
          "Denmark",
          "Sweden",
          "Brazil",
          "Germany",
          "Germany",
          "USA",
          "Germany",
          "Finland",
          "USA",
          "Venezuela",
          "Austria",
          "Germany",
          "USA",
          "Ireland",
          "Germany",
          "Sweden",
          "Brazil",
          "Venezuela",
          "USA",
          "UK",
          "USA",
          "Brazil",
          "Italy",
          "USA",
          "Ireland",
          "USA",
          "USA",
          "France",
          "Argentina",
          "Germany",
          "Germany",
          "USA",
          "Brazil",
          "Germany",
          "USA",
          "USA",
          "Canada",
          "Brazil",
          "UK",
          "Italy",
          "Brazil",
          "Venezuela",
          "France",
          "Switzerland",
          "France",
          "Sweden",
          "Brazil",
          "USA",
          "Ireland",
          "France",
          "France",
          "France",
          "USA",
          "UK",
          "Canada",
          "UK",
          "Denmark",
          "Germany",
          "Switzerland",
          "Austria",
          "USA",
          "UK",
          "Finland",
          "Switzerland",
          "UK",
          "Italy",
          "Italy",
          "France",
          "USA",
          "USA",
          "Switzerland",
          "Mexico",
          "Belgium",
          "USA",
          "Sweden",
          "France",
          "Austria",
          "Germany",
          "Germany",
          "Belgium",
          "UK",
          "Denmark",
          "Brazil",
          "Austria",
          "Germany",
          "Austria",
          "Sweden",
          "USA",
          "Austria",
          "Brazil",
          "Sweden",
          "Germany",
          "Venezuela",
          "Finland",
          "Argentina",
          "Brazil",
          "Italy",
          "Venezuela",
          "Brazil",
          "France",
          "Germany",
          "France",
          "Brazil",
          "Germany",
          "Poland",
          "UK",
          "Brazil",
          "Austria",
          "Venezuela",
          "Germany",
          "UK",
          "Germany",
          "UK",
          "Spain",
          "Denmark",
          "Brazil",
          "UK",
          "USA",
          "France",
          "Italy",
          "USA",
          "Brazil",
          "Canada",
          "Venezuela",
          "Italy",
          "Brazil",
          "France",
          "USA",
          "USA",
          "Germany",
          "Italy",
          "Argentina",
          "USA",
          "USA",
          "USA",
          "Venezuela",
          "Sweden",
          "Germany",
          "France",
          "France",
          "Argentina",
          "UK",
          "Brazil",
          "Norway",
          "France",
          "Germany",
          "Brazil",
          "Germany",
          "Austria",
          "Sweden",
          "Venezuela",
          "Brazil",
          "Venezuela",
          "Belgium",
          "Mexico",
          "France",
          "Austria",
          "Germany",
          "Belgium",
          "USA",
          "UK",
          "Germany",
          "France",
          "Brazil",
          "USA",
          "Germany",
          "Austria",
          "USA",
          "Mexico",
          "Sweden",
          "France",
          "Germany",
          "France",
          "USA",
          "Germany",
          "Venezuela",
          "UK",
          "Sweden",
          "USA",
          "Brazil",
          "UK",
          "Poland",
          "France",
          "Spain",
          "Finland",
          "Spain",
          "Sweden",
          "France",
          "Brazil",
          "Germany",
          "Finland",
          "Sweden",
          "Argentina",
          "USA",
          "USA",
          "USA",
          "Belgium",
          "Brazil",
          "Spain",
          "Spain",
          "USA",
          "France",
          "Germany",
          "Belgium",
          "Germany",
          "USA",
          "Austria",
          "Belgium",
          "Ireland",
          "Argentina",
          "Venezuela",
          "Brazil",
          "Venezuela",
          "Sweden",
          "Brazil",
          "USA",
          "Brazil",
          "Poland",
          "France",
          "Italy",
          "Norway",
          "Finland",
          "Spain",
          "Ireland",
          "Brazil",
          "Brazil",
          "Mexico",
          "Argentina",
          "Spain",
          "Canada",
          "Venezuela",
          "UK",
          "Denmark",
          "Brazil",
          "France",
          "Sweden",
          "Brazil",
          "Mexico",
          "France",
          "Spain",
          "Germany",
          "Belgium",
          "Switzerland",
          "France",
          "UK",
          "Germany",
          "Brazil",
          "USA",
          "Argentina",
          "Germany",
          "Italy",
          "France",
          "USA",
          "Italy",
          "UK",
          "Canada",
          "Germany",
          "Denmark",
          "UK",
          "Spain",
          "Canada",
          "Italy",
          "Switzerland",
          "Germany",
          "UK",
          "Venezuela",
          "Sweden",
          "Germany",
          "Venezuela",
          "Argentina",
          "Brazil",
          "Venezuela",
          "Brazil",
          "Germany",
          "Portugal",
          "France",
          "USA",
          "Switzerland",
          "Germany",
          "Austria",
          "Brazil",
          "Spain",
          "France",
          "France",
          "France",
          "USA",
          "Canada",
          "Venezuela",
          "Sweden",
          "Belgium",
          "Austria",
          "Sweden",
          "Canada",
          "USA",
          "USA",
          "Ireland",
          "Argentina",
          "UK",
          "USA",
          "Brazil",
          "Austria",
          "Germany",
          "USA",
          "Sweden",
          "Denmark",
          "Mexico",
          "Germany",
          "Venezuela",
          "Poland",
          "Germany",
          "USA",
          "Sweden",
          "USA",
          "USA",
          "Belgium",
          "Finland",
          "USA",
          "Portugal",
          "Austria",
          "Spain",
          "Italy",
          "Germany",
          "Germany",
          "Spain",
          "Venezuela",
          "Norway",
          "UK",
          "Austria",
          "USA",
          "Argentina",
          "Germany",
          "Germany",
          "Brazil",
          "UK",
          "UK",
          "Finland",
          "Italy",
          "Canada",
          "Germany",
          "Switzerland",
          "USA",
          "USA",
          "Switzerland",
          "USA",
          "Belgium",
          "Germany",
          "Spain",
          "Belgium",
          "Venezuela",
          "USA",
          "Switzerland",
          "Brazil",
          "France",
          "Poland",
          "Canada",
          "Germany",
          "UK",
          "Canada",
          "Brazil",
          "Sweden",
          "France",
          "Brazil",
          "Austria",
          "Argentina",
          "Venezuela",
          "UK",
          "UK",
          "Germany",
          "Brazil",
          "Italy",
          "USA",
          "Italy",
          "Ireland",
          "USA",
          "Venezuela",
          "USA",
          "Germany",
          "Brazil",
          "Mexico",
          "Germany",
          "Venezuela",
          "Austria",
          "Mexico",
          "Denmark",
          "Switzerland",
          "France",
          "USA"
         ],
         "legendgroup": "",
         "name": "",
         "showlegend": true,
         "type": "pie"
        }
       ],
       "layout": {
        "legend": {
         "tracegroupgap": 0
        },
        "template": {
         "data": {
          "bar": [
           {
            "error_x": {
             "color": "#2a3f5f"
            },
            "error_y": {
             "color": "#2a3f5f"
            },
            "marker": {
             "line": {
              "color": "#E5ECF6",
              "width": 0.5
             },
             "pattern": {
              "fillmode": "overlay",
              "size": 10,
              "solidity": 0.2
             }
            },
            "type": "bar"
           }
          ],
          "barpolar": [
           {
            "marker": {
             "line": {
              "color": "#E5ECF6",
              "width": 0.5
             },
             "pattern": {
              "fillmode": "overlay",
              "size": 10,
              "solidity": 0.2
             }
            },
            "type": "barpolar"
           }
          ],
          "carpet": [
           {
            "aaxis": {
             "endlinecolor": "#2a3f5f",
             "gridcolor": "white",
             "linecolor": "white",
             "minorgridcolor": "white",
             "startlinecolor": "#2a3f5f"
            },
            "baxis": {
             "endlinecolor": "#2a3f5f",
             "gridcolor": "white",
             "linecolor": "white",
             "minorgridcolor": "white",
             "startlinecolor": "#2a3f5f"
            },
            "type": "carpet"
           }
          ],
          "choropleth": [
           {
            "colorbar": {
             "outlinewidth": 0,
             "ticks": ""
            },
            "type": "choropleth"
           }
          ],
          "contour": [
           {
            "colorbar": {
             "outlinewidth": 0,
             "ticks": ""
            },
            "colorscale": [
             [
              0,
              "#0d0887"
             ],
             [
              0.1111111111111111,
              "#46039f"
             ],
             [
              0.2222222222222222,
              "#7201a8"
             ],
             [
              0.3333333333333333,
              "#9c179e"
             ],
             [
              0.4444444444444444,
              "#bd3786"
             ],
             [
              0.5555555555555556,
              "#d8576b"
             ],
             [
              0.6666666666666666,
              "#ed7953"
             ],
             [
              0.7777777777777778,
              "#fb9f3a"
             ],
             [
              0.8888888888888888,
              "#fdca26"
             ],
             [
              1,
              "#f0f921"
             ]
            ],
            "type": "contour"
           }
          ],
          "contourcarpet": [
           {
            "colorbar": {
             "outlinewidth": 0,
             "ticks": ""
            },
            "type": "contourcarpet"
           }
          ],
          "heatmap": [
           {
            "colorbar": {
             "outlinewidth": 0,
             "ticks": ""
            },
            "colorscale": [
             [
              0,
              "#0d0887"
             ],
             [
              0.1111111111111111,
              "#46039f"
             ],
             [
              0.2222222222222222,
              "#7201a8"
             ],
             [
              0.3333333333333333,
              "#9c179e"
             ],
             [
              0.4444444444444444,
              "#bd3786"
             ],
             [
              0.5555555555555556,
              "#d8576b"
             ],
             [
              0.6666666666666666,
              "#ed7953"
             ],
             [
              0.7777777777777778,
              "#fb9f3a"
             ],
             [
              0.8888888888888888,
              "#fdca26"
             ],
             [
              1,
              "#f0f921"
             ]
            ],
            "type": "heatmap"
           }
          ],
          "heatmapgl": [
           {
            "colorbar": {
             "outlinewidth": 0,
             "ticks": ""
            },
            "colorscale": [
             [
              0,
              "#0d0887"
             ],
             [
              0.1111111111111111,
              "#46039f"
             ],
             [
              0.2222222222222222,
              "#7201a8"
             ],
             [
              0.3333333333333333,
              "#9c179e"
             ],
             [
              0.4444444444444444,
              "#bd3786"
             ],
             [
              0.5555555555555556,
              "#d8576b"
             ],
             [
              0.6666666666666666,
              "#ed7953"
             ],
             [
              0.7777777777777778,
              "#fb9f3a"
             ],
             [
              0.8888888888888888,
              "#fdca26"
             ],
             [
              1,
              "#f0f921"
             ]
            ],
            "type": "heatmapgl"
           }
          ],
          "histogram": [
           {
            "marker": {
             "pattern": {
              "fillmode": "overlay",
              "size": 10,
              "solidity": 0.2
             }
            },
            "type": "histogram"
           }
          ],
          "histogram2d": [
           {
            "colorbar": {
             "outlinewidth": 0,
             "ticks": ""
            },
            "colorscale": [
             [
              0,
              "#0d0887"
             ],
             [
              0.1111111111111111,
              "#46039f"
             ],
             [
              0.2222222222222222,
              "#7201a8"
             ],
             [
              0.3333333333333333,
              "#9c179e"
             ],
             [
              0.4444444444444444,
              "#bd3786"
             ],
             [
              0.5555555555555556,
              "#d8576b"
             ],
             [
              0.6666666666666666,
              "#ed7953"
             ],
             [
              0.7777777777777778,
              "#fb9f3a"
             ],
             [
              0.8888888888888888,
              "#fdca26"
             ],
             [
              1,
              "#f0f921"
             ]
            ],
            "type": "histogram2d"
           }
          ],
          "histogram2dcontour": [
           {
            "colorbar": {
             "outlinewidth": 0,
             "ticks": ""
            },
            "colorscale": [
             [
              0,
              "#0d0887"
             ],
             [
              0.1111111111111111,
              "#46039f"
             ],
             [
              0.2222222222222222,
              "#7201a8"
             ],
             [
              0.3333333333333333,
              "#9c179e"
             ],
             [
              0.4444444444444444,
              "#bd3786"
             ],
             [
              0.5555555555555556,
              "#d8576b"
             ],
             [
              0.6666666666666666,
              "#ed7953"
             ],
             [
              0.7777777777777778,
              "#fb9f3a"
             ],
             [
              0.8888888888888888,
              "#fdca26"
             ],
             [
              1,
              "#f0f921"
             ]
            ],
            "type": "histogram2dcontour"
           }
          ],
          "mesh3d": [
           {
            "colorbar": {
             "outlinewidth": 0,
             "ticks": ""
            },
            "type": "mesh3d"
           }
          ],
          "parcoords": [
           {
            "line": {
             "colorbar": {
              "outlinewidth": 0,
              "ticks": ""
             }
            },
            "type": "parcoords"
           }
          ],
          "pie": [
           {
            "automargin": true,
            "type": "pie"
           }
          ],
          "scatter": [
           {
            "fillpattern": {
             "fillmode": "overlay",
             "size": 10,
             "solidity": 0.2
            },
            "type": "scatter"
           }
          ],
          "scatter3d": [
           {
            "line": {
             "colorbar": {
              "outlinewidth": 0,
              "ticks": ""
             }
            },
            "marker": {
             "colorbar": {
              "outlinewidth": 0,
              "ticks": ""
             }
            },
            "type": "scatter3d"
           }
          ],
          "scattercarpet": [
           {
            "marker": {
             "colorbar": {
              "outlinewidth": 0,
              "ticks": ""
             }
            },
            "type": "scattercarpet"
           }
          ],
          "scattergeo": [
           {
            "marker": {
             "colorbar": {
              "outlinewidth": 0,
              "ticks": ""
             }
            },
            "type": "scattergeo"
           }
          ],
          "scattergl": [
           {
            "marker": {
             "colorbar": {
              "outlinewidth": 0,
              "ticks": ""
             }
            },
            "type": "scattergl"
           }
          ],
          "scattermapbox": [
           {
            "marker": {
             "colorbar": {
              "outlinewidth": 0,
              "ticks": ""
             }
            },
            "type": "scattermapbox"
           }
          ],
          "scatterpolar": [
           {
            "marker": {
             "colorbar": {
              "outlinewidth": 0,
              "ticks": ""
             }
            },
            "type": "scatterpolar"
           }
          ],
          "scatterpolargl": [
           {
            "marker": {
             "colorbar": {
              "outlinewidth": 0,
              "ticks": ""
             }
            },
            "type": "scatterpolargl"
           }
          ],
          "scatterternary": [
           {
            "marker": {
             "colorbar": {
              "outlinewidth": 0,
              "ticks": ""
             }
            },
            "type": "scatterternary"
           }
          ],
          "surface": [
           {
            "colorbar": {
             "outlinewidth": 0,
             "ticks": ""
            },
            "colorscale": [
             [
              0,
              "#0d0887"
             ],
             [
              0.1111111111111111,
              "#46039f"
             ],
             [
              0.2222222222222222,
              "#7201a8"
             ],
             [
              0.3333333333333333,
              "#9c179e"
             ],
             [
              0.4444444444444444,
              "#bd3786"
             ],
             [
              0.5555555555555556,
              "#d8576b"
             ],
             [
              0.6666666666666666,
              "#ed7953"
             ],
             [
              0.7777777777777778,
              "#fb9f3a"
             ],
             [
              0.8888888888888888,
              "#fdca26"
             ],
             [
              1,
              "#f0f921"
             ]
            ],
            "type": "surface"
           }
          ],
          "table": [
           {
            "cells": {
             "fill": {
              "color": "#EBF0F8"
             },
             "line": {
              "color": "white"
             }
            },
            "header": {
             "fill": {
              "color": "#C8D4E3"
             },
             "line": {
              "color": "white"
             }
            },
            "type": "table"
           }
          ]
         },
         "layout": {
          "annotationdefaults": {
           "arrowcolor": "#2a3f5f",
           "arrowhead": 0,
           "arrowwidth": 1
          },
          "autotypenumbers": "strict",
          "coloraxis": {
           "colorbar": {
            "outlinewidth": 0,
            "ticks": ""
           }
          },
          "colorscale": {
           "diverging": [
            [
             0,
             "#8e0152"
            ],
            [
             0.1,
             "#c51b7d"
            ],
            [
             0.2,
             "#de77ae"
            ],
            [
             0.3,
             "#f1b6da"
            ],
            [
             0.4,
             "#fde0ef"
            ],
            [
             0.5,
             "#f7f7f7"
            ],
            [
             0.6,
             "#e6f5d0"
            ],
            [
             0.7,
             "#b8e186"
            ],
            [
             0.8,
             "#7fbc41"
            ],
            [
             0.9,
             "#4d9221"
            ],
            [
             1,
             "#276419"
            ]
           ],
           "sequential": [
            [
             0,
             "#0d0887"
            ],
            [
             0.1111111111111111,
             "#46039f"
            ],
            [
             0.2222222222222222,
             "#7201a8"
            ],
            [
             0.3333333333333333,
             "#9c179e"
            ],
            [
             0.4444444444444444,
             "#bd3786"
            ],
            [
             0.5555555555555556,
             "#d8576b"
            ],
            [
             0.6666666666666666,
             "#ed7953"
            ],
            [
             0.7777777777777778,
             "#fb9f3a"
            ],
            [
             0.8888888888888888,
             "#fdca26"
            ],
            [
             1,
             "#f0f921"
            ]
           ],
           "sequentialminus": [
            [
             0,
             "#0d0887"
            ],
            [
             0.1111111111111111,
             "#46039f"
            ],
            [
             0.2222222222222222,
             "#7201a8"
            ],
            [
             0.3333333333333333,
             "#9c179e"
            ],
            [
             0.4444444444444444,
             "#bd3786"
            ],
            [
             0.5555555555555556,
             "#d8576b"
            ],
            [
             0.6666666666666666,
             "#ed7953"
            ],
            [
             0.7777777777777778,
             "#fb9f3a"
            ],
            [
             0.8888888888888888,
             "#fdca26"
            ],
            [
             1,
             "#f0f921"
            ]
           ]
          },
          "colorway": [
           "#636efa",
           "#EF553B",
           "#00cc96",
           "#ab63fa",
           "#FFA15A",
           "#19d3f3",
           "#FF6692",
           "#B6E880",
           "#FF97FF",
           "#FECB52"
          ],
          "font": {
           "color": "#2a3f5f"
          },
          "geo": {
           "bgcolor": "white",
           "lakecolor": "white",
           "landcolor": "#E5ECF6",
           "showlakes": true,
           "showland": true,
           "subunitcolor": "white"
          },
          "hoverlabel": {
           "align": "left"
          },
          "hovermode": "closest",
          "mapbox": {
           "style": "light"
          },
          "paper_bgcolor": "white",
          "plot_bgcolor": "#E5ECF6",
          "polar": {
           "angularaxis": {
            "gridcolor": "white",
            "linecolor": "white",
            "ticks": ""
           },
           "bgcolor": "#E5ECF6",
           "radialaxis": {
            "gridcolor": "white",
            "linecolor": "white",
            "ticks": ""
           }
          },
          "scene": {
           "xaxis": {
            "backgroundcolor": "#E5ECF6",
            "gridcolor": "white",
            "gridwidth": 2,
            "linecolor": "white",
            "showbackground": true,
            "ticks": "",
            "zerolinecolor": "white"
           },
           "yaxis": {
            "backgroundcolor": "#E5ECF6",
            "gridcolor": "white",
            "gridwidth": 2,
            "linecolor": "white",
            "showbackground": true,
            "ticks": "",
            "zerolinecolor": "white"
           },
           "zaxis": {
            "backgroundcolor": "#E5ECF6",
            "gridcolor": "white",
            "gridwidth": 2,
            "linecolor": "white",
            "showbackground": true,
            "ticks": "",
            "zerolinecolor": "white"
           }
          },
          "shapedefaults": {
           "line": {
            "color": "#2a3f5f"
           }
          },
          "ternary": {
           "aaxis": {
            "gridcolor": "white",
            "linecolor": "white",
            "ticks": ""
           },
           "baxis": {
            "gridcolor": "white",
            "linecolor": "white",
            "ticks": ""
           },
           "bgcolor": "#E5ECF6",
           "caxis": {
            "gridcolor": "white",
            "linecolor": "white",
            "ticks": ""
           }
          },
          "title": {
           "x": 0.05
          },
          "xaxis": {
           "automargin": true,
           "gridcolor": "white",
           "linecolor": "white",
           "ticks": "",
           "title": {
            "standoff": 15
           },
           "zerolinecolor": "white",
           "zerolinewidth": 2
          },
          "yaxis": {
           "automargin": true,
           "gridcolor": "white",
           "linecolor": "white",
           "ticks": "",
           "title": {
            "standoff": 15
           },
           "zerolinecolor": "white",
           "zerolinewidth": 2
          }
         }
        },
        "title": {
         "text": "Relative Frequency of Countries Sales"
        }
       }
      }
     },
     "metadata": {},
     "output_type": "display_data"
    }
   ],
   "source": [
    "px.pie(data_frame=orders,names='country',title='Relative Frequency of Countries Sales')"
   ]
  },
  {
   "cell_type": "markdown",
   "metadata": {},
   "source": [
    "# *First Conclusion*"
   ]
  },
  {
   "cell_type": "markdown",
   "metadata": {},
   "source": [
    "### Through the preliminary analysis, we see that London is the City that has the largest share of purchasing our products our with 46 invoices, and that the United States(USA) and Germany are the most purchasing countries for our products with 121 invoices and 14.6% of our total sales.\n",
    "\n",
    "### من خلال التحليل الأولى نرى أن لندن هى المدينة التى تمتلك أكبر حصة من شراء منتجاتنا بواقع 46 فاتورة , وأن الولايات المتحدة وألمانيا هما أكثر الدول شراء لمنتجاتنا بواقع 121 فاتورة بنسبة 14.6% من إجمالى مبعاتنا"
   ]
  },
  {
   "cell_type": "markdown",
   "metadata": {},
   "source": [
    "## Bivariate Analysis\n",
    "### Country vs. Total Amount\n",
    "### Cities vs. Total Amount"
   ]
  },
  {
   "cell_type": "code",
   "execution_count": 23,
   "metadata": {},
   "outputs": [
    {
     "data": {
      "text/html": [
       "<div>\n",
       "<style scoped>\n",
       "    .dataframe tbody tr th:only-of-type {\n",
       "        vertical-align: middle;\n",
       "    }\n",
       "\n",
       "    .dataframe tbody tr th {\n",
       "        vertical-align: top;\n",
       "    }\n",
       "\n",
       "    .dataframe thead th {\n",
       "        text-align: right;\n",
       "    }\n",
       "</style>\n",
       "<table border=\"1\" class=\"dataframe\">\n",
       "  <thead>\n",
       "    <tr style=\"text-align: right;\">\n",
       "      <th></th>\n",
       "      <th>country</th>\n",
       "      <th>totalamount</th>\n",
       "    </tr>\n",
       "  </thead>\n",
       "  <tbody>\n",
       "    <tr>\n",
       "      <th>19</th>\n",
       "      <td>USA</td>\n",
       "      <td>247,245.08</td>\n",
       "    </tr>\n",
       "    <tr>\n",
       "      <th>8</th>\n",
       "      <td>Germany</td>\n",
       "      <td>227,390.63</td>\n",
       "    </tr>\n",
       "    <tr>\n",
       "      <th>1</th>\n",
       "      <td>Austria</td>\n",
       "      <td>139,496.63</td>\n",
       "    </tr>\n",
       "    <tr>\n",
       "      <th>3</th>\n",
       "      <td>Brazil</td>\n",
       "      <td>99,158.48</td>\n",
       "    </tr>\n",
       "    <tr>\n",
       "      <th>7</th>\n",
       "      <td>France</td>\n",
       "      <td>85,498.76</td>\n",
       "    </tr>\n",
       "    <tr>\n",
       "      <th>20</th>\n",
       "      <td>Venezuela</td>\n",
       "      <td>60,814.89</td>\n",
       "    </tr>\n",
       "    <tr>\n",
       "      <th>18</th>\n",
       "      <td>UK</td>\n",
       "      <td>60,616.51</td>\n",
       "    </tr>\n",
       "    <tr>\n",
       "      <th>16</th>\n",
       "      <td>Sweden</td>\n",
       "      <td>59,523.70</td>\n",
       "    </tr>\n",
       "    <tr>\n",
       "      <th>9</th>\n",
       "      <td>Ireland</td>\n",
       "      <td>57,317.39</td>\n",
       "    </tr>\n",
       "    <tr>\n",
       "      <th>4</th>\n",
       "      <td>Canada</td>\n",
       "      <td>55,334.10</td>\n",
       "    </tr>\n",
       "    <tr>\n",
       "      <th>2</th>\n",
       "      <td>Belgium</td>\n",
       "      <td>35,134.98</td>\n",
       "    </tr>\n",
       "    <tr>\n",
       "      <th>5</th>\n",
       "      <td>Denmark</td>\n",
       "      <td>34,782.25</td>\n",
       "    </tr>\n",
       "    <tr>\n",
       "      <th>17</th>\n",
       "      <td>Switzerland</td>\n",
       "      <td>32,919.50</td>\n",
       "    </tr>\n",
       "    <tr>\n",
       "      <th>11</th>\n",
       "      <td>Mexico</td>\n",
       "      <td>24,073.45</td>\n",
       "    </tr>\n",
       "    <tr>\n",
       "      <th>6</th>\n",
       "      <td>Finland</td>\n",
       "      <td>19,778.45</td>\n",
       "    </tr>\n",
       "    <tr>\n",
       "      <th>15</th>\n",
       "      <td>Spain</td>\n",
       "      <td>19,431.89</td>\n",
       "    </tr>\n",
       "    <tr>\n",
       "      <th>10</th>\n",
       "      <td>Italy</td>\n",
       "      <td>16,705.15</td>\n",
       "    </tr>\n",
       "    <tr>\n",
       "      <th>14</th>\n",
       "      <td>Portugal</td>\n",
       "      <td>12,468.65</td>\n",
       "    </tr>\n",
       "    <tr>\n",
       "      <th>0</th>\n",
       "      <td>Argentina</td>\n",
       "      <td>8,119.10</td>\n",
       "    </tr>\n",
       "    <tr>\n",
       "      <th>12</th>\n",
       "      <td>Norway</td>\n",
       "      <td>5,735.15</td>\n",
       "    </tr>\n",
       "    <tr>\n",
       "      <th>13</th>\n",
       "      <td>Poland</td>\n",
       "      <td>3,531.95</td>\n",
       "    </tr>\n",
       "  </tbody>\n",
       "</table>\n",
       "</div>"
      ],
      "text/plain": [
       "        country  totalamount\n",
       "19          USA   247,245.08\n",
       "8       Germany   227,390.63\n",
       "1       Austria   139,496.63\n",
       "3        Brazil    99,158.48\n",
       "7        France    85,498.76\n",
       "20    Venezuela    60,814.89\n",
       "18           UK    60,616.51\n",
       "16       Sweden    59,523.70\n",
       "9       Ireland    57,317.39\n",
       "4        Canada    55,334.10\n",
       "2       Belgium    35,134.98\n",
       "5       Denmark    34,782.25\n",
       "17  Switzerland    32,919.50\n",
       "11       Mexico    24,073.45\n",
       "6       Finland    19,778.45\n",
       "15        Spain    19,431.89\n",
       "10        Italy    16,705.15\n",
       "14     Portugal    12,468.65\n",
       "0     Argentina     8,119.10\n",
       "12       Norway     5,735.15\n",
       "13       Poland     3,531.95"
      ]
     },
     "execution_count": 23,
     "metadata": {},
     "output_type": "execute_result"
    }
   ],
   "source": [
    "country_group = orders.groupby('country',as_index=False)['totalamount'].sum().sort_values(by='totalamount',ascending=False)\n",
    "country_group"
   ]
  },
  {
   "cell_type": "code",
   "execution_count": 24,
   "metadata": {},
   "outputs": [
    {
     "data": {
      "text/html": [
       "<div>\n",
       "<style scoped>\n",
       "    .dataframe tbody tr th:only-of-type {\n",
       "        vertical-align: middle;\n",
       "    }\n",
       "\n",
       "    .dataframe tbody tr th {\n",
       "        vertical-align: top;\n",
       "    }\n",
       "\n",
       "    .dataframe thead th {\n",
       "        text-align: right;\n",
       "    }\n",
       "</style>\n",
       "<table border=\"1\" class=\"dataframe\">\n",
       "  <thead>\n",
       "    <tr style=\"text-align: right;\">\n",
       "      <th></th>\n",
       "      <th>city</th>\n",
       "      <th>totalamount</th>\n",
       "    </tr>\n",
       "  </thead>\n",
       "  <tbody>\n",
       "    <tr>\n",
       "      <th>25</th>\n",
       "      <td>Graz</td>\n",
       "      <td>113,236.68</td>\n",
       "    </tr>\n",
       "    <tr>\n",
       "      <th>20</th>\n",
       "      <td>Cunewalde</td>\n",
       "      <td>100,233.39</td>\n",
       "    </tr>\n",
       "    <tr>\n",
       "      <th>9</th>\n",
       "      <td>Boise</td>\n",
       "      <td>99,351.49</td>\n",
       "    </tr>\n",
       "    <tr>\n",
       "      <th>18</th>\n",
       "      <td>Cork</td>\n",
       "      <td>57,317.39</td>\n",
       "    </tr>\n",
       "    <tr>\n",
       "      <th>35</th>\n",
       "      <td>London</td>\n",
       "      <td>54,470.21</td>\n",
       "    </tr>\n",
       "    <tr>\n",
       "      <th>2</th>\n",
       "      <td>Albuquerque</td>\n",
       "      <td>52,245.90</td>\n",
       "    </tr>\n",
       "    <tr>\n",
       "      <th>56</th>\n",
       "      <td>Sao Paulo</td>\n",
       "      <td>45,786.37</td>\n",
       "    </tr>\n",
       "    <tr>\n",
       "      <th>52</th>\n",
       "      <td>Rio de Janeiro</td>\n",
       "      <td>38,189.18</td>\n",
       "    </tr>\n",
       "    <tr>\n",
       "      <th>10</th>\n",
       "      <td>Br?cke</td>\n",
       "      <td>32,555.55</td>\n",
       "    </tr>\n",
       "    <tr>\n",
       "      <th>41</th>\n",
       "      <td>Montréal</td>\n",
       "      <td>32,203.90</td>\n",
       "    </tr>\n",
       "    <tr>\n",
       "      <th>11</th>\n",
       "      <td>Brandenburg</td>\n",
       "      <td>31,745.75</td>\n",
       "    </tr>\n",
       "    <tr>\n",
       "      <th>57</th>\n",
       "      <td>Seattle</td>\n",
       "      <td>29,073.45</td>\n",
       "    </tr>\n",
       "    <tr>\n",
       "      <th>43</th>\n",
       "      <td>München</td>\n",
       "      <td>28,722.71</td>\n",
       "    </tr>\n",
       "    <tr>\n",
       "      <th>36</th>\n",
       "      <td>Lule?</td>\n",
       "      <td>26,968.15</td>\n",
       "    </tr>\n",
       "    <tr>\n",
       "      <th>53</th>\n",
       "      <td>Salzburg</td>\n",
       "      <td>26,259.95</td>\n",
       "    </tr>\n",
       "    <tr>\n",
       "      <th>17</th>\n",
       "      <td>Charleroi</td>\n",
       "      <td>24,704.40</td>\n",
       "    </tr>\n",
       "    <tr>\n",
       "      <th>42</th>\n",
       "      <td>México D.F.</td>\n",
       "      <td>24,073.45</td>\n",
       "    </tr>\n",
       "    <tr>\n",
       "      <th>40</th>\n",
       "      <td>Marseille</td>\n",
       "      <td>23,850.95</td>\n",
       "    </tr>\n",
       "    <tr>\n",
       "      <th>54</th>\n",
       "      <td>San Crist?bal</td>\n",
       "      <td>23,611.58</td>\n",
       "    </tr>\n",
       "    <tr>\n",
       "      <th>64</th>\n",
       "      <td>Tsawassen</td>\n",
       "      <td>22,607.70</td>\n",
       "    </tr>\n",
       "    <tr>\n",
       "      <th>23</th>\n",
       "      <td>Frankfurt a.M.</td>\n",
       "      <td>21,282.02</td>\n",
       "    </tr>\n",
       "    <tr>\n",
       "      <th>24</th>\n",
       "      <td>Genève</td>\n",
       "      <td>20,033.20</td>\n",
       "    </tr>\n",
       "    <tr>\n",
       "      <th>22</th>\n",
       "      <td>Eugene</td>\n",
       "      <td>19,711.13</td>\n",
       "    </tr>\n",
       "    <tr>\n",
       "      <th>60</th>\n",
       "      <td>Strasbourg</td>\n",
       "      <td>19,088.00</td>\n",
       "    </tr>\n",
       "    <tr>\n",
       "      <th>30</th>\n",
       "      <td>Kobenhavn</td>\n",
       "      <td>18,138.45</td>\n",
       "    </tr>\n",
       "    <tr>\n",
       "      <th>27</th>\n",
       "      <td>I. de Margarita</td>\n",
       "      <td>17,889.55</td>\n",
       "    </tr>\n",
       "    <tr>\n",
       "      <th>5</th>\n",
       "      <td>Barquisimeto</td>\n",
       "      <td>17,825.06</td>\n",
       "    </tr>\n",
       "    <tr>\n",
       "      <th>0</th>\n",
       "      <td>?rhus</td>\n",
       "      <td>16,643.80</td>\n",
       "    </tr>\n",
       "    <tr>\n",
       "      <th>46</th>\n",
       "      <td>Oulu</td>\n",
       "      <td>16,617.10</td>\n",
       "    </tr>\n",
       "    <tr>\n",
       "      <th>3</th>\n",
       "      <td>Anchorage</td>\n",
       "      <td>16,325.15</td>\n",
       "    </tr>\n",
       "    <tr>\n",
       "      <th>28</th>\n",
       "      <td>K?ln</td>\n",
       "      <td>13,157.50</td>\n",
       "    </tr>\n",
       "    <tr>\n",
       "      <th>8</th>\n",
       "      <td>Bern</td>\n",
       "      <td>12,886.30</td>\n",
       "    </tr>\n",
       "    <tr>\n",
       "      <th>31</th>\n",
       "      <td>Lander</td>\n",
       "      <td>12,489.70</td>\n",
       "    </tr>\n",
       "    <tr>\n",
       "      <th>34</th>\n",
       "      <td>Lisboa</td>\n",
       "      <td>12,468.65</td>\n",
       "    </tr>\n",
       "    <tr>\n",
       "      <th>58</th>\n",
       "      <td>Sevilla</td>\n",
       "      <td>11,830.10</td>\n",
       "    </tr>\n",
       "    <tr>\n",
       "      <th>33</th>\n",
       "      <td>Lille</td>\n",
       "      <td>11,666.90</td>\n",
       "    </tr>\n",
       "    <tr>\n",
       "      <th>61</th>\n",
       "      <td>Stuttgart</td>\n",
       "      <td>10,653.85</td>\n",
       "    </tr>\n",
       "    <tr>\n",
       "      <th>12</th>\n",
       "      <td>Bruxelles</td>\n",
       "      <td>10,430.58</td>\n",
       "    </tr>\n",
       "    <tr>\n",
       "      <th>63</th>\n",
       "      <td>Toulouse</td>\n",
       "      <td>10,272.35</td>\n",
       "    </tr>\n",
       "    <tr>\n",
       "      <th>37</th>\n",
       "      <td>Lyon</td>\n",
       "      <td>9,937.10</td>\n",
       "    </tr>\n",
       "    <tr>\n",
       "      <th>15</th>\n",
       "      <td>Campinas</td>\n",
       "      <td>8,702.23</td>\n",
       "    </tr>\n",
       "    <tr>\n",
       "      <th>13</th>\n",
       "      <td>Buenos Aires</td>\n",
       "      <td>8,119.10</td>\n",
       "    </tr>\n",
       "    <tr>\n",
       "      <th>48</th>\n",
       "      <td>Portland</td>\n",
       "      <td>7,619.60</td>\n",
       "    </tr>\n",
       "    <tr>\n",
       "      <th>6</th>\n",
       "      <td>Bergamo</td>\n",
       "      <td>7,603.85</td>\n",
       "    </tr>\n",
       "    <tr>\n",
       "      <th>49</th>\n",
       "      <td>Reggio Emilia</td>\n",
       "      <td>7,555.60</td>\n",
       "    </tr>\n",
       "    <tr>\n",
       "      <th>38</th>\n",
       "      <td>Madrid</td>\n",
       "      <td>6,765.09</td>\n",
       "    </tr>\n",
       "    <tr>\n",
       "      <th>51</th>\n",
       "      <td>Resende</td>\n",
       "      <td>6,480.70</td>\n",
       "    </tr>\n",
       "    <tr>\n",
       "      <th>19</th>\n",
       "      <td>Cowes</td>\n",
       "      <td>6,146.30</td>\n",
       "    </tr>\n",
       "    <tr>\n",
       "      <th>59</th>\n",
       "      <td>Stavern</td>\n",
       "      <td>5,735.15</td>\n",
       "    </tr>\n",
       "    <tr>\n",
       "      <th>32</th>\n",
       "      <td>Leipzig</td>\n",
       "      <td>5,042.20</td>\n",
       "    </tr>\n",
       "    <tr>\n",
       "      <th>44</th>\n",
       "      <td>Münster</td>\n",
       "      <td>4,954.00</td>\n",
       "    </tr>\n",
       "    <tr>\n",
       "      <th>45</th>\n",
       "      <td>Nantes</td>\n",
       "      <td>4,788.06</td>\n",
       "    </tr>\n",
       "    <tr>\n",
       "      <th>7</th>\n",
       "      <td>Berlin</td>\n",
       "      <td>4,596.20</td>\n",
       "    </tr>\n",
       "    <tr>\n",
       "      <th>1</th>\n",
       "      <td>Aachen</td>\n",
       "      <td>3,763.21</td>\n",
       "    </tr>\n",
       "    <tr>\n",
       "      <th>68</th>\n",
       "      <td>Warszawa</td>\n",
       "      <td>3,531.95</td>\n",
       "    </tr>\n",
       "    <tr>\n",
       "      <th>55</th>\n",
       "      <td>San Francisco</td>\n",
       "      <td>3,490.02</td>\n",
       "    </tr>\n",
       "    <tr>\n",
       "      <th>39</th>\n",
       "      <td>Mannheim</td>\n",
       "      <td>3,239.80</td>\n",
       "    </tr>\n",
       "    <tr>\n",
       "      <th>26</th>\n",
       "      <td>Helsinki</td>\n",
       "      <td>3,161.35</td>\n",
       "    </tr>\n",
       "    <tr>\n",
       "      <th>21</th>\n",
       "      <td>Elgin</td>\n",
       "      <td>3,063.20</td>\n",
       "    </tr>\n",
       "    <tr>\n",
       "      <th>47</th>\n",
       "      <td>Paris</td>\n",
       "      <td>2,423.35</td>\n",
       "    </tr>\n",
       "    <tr>\n",
       "      <th>66</th>\n",
       "      <td>Versailles</td>\n",
       "      <td>1,992.05</td>\n",
       "    </tr>\n",
       "    <tr>\n",
       "      <th>14</th>\n",
       "      <td>Butte</td>\n",
       "      <td>1,947.24</td>\n",
       "    </tr>\n",
       "    <tr>\n",
       "      <th>29</th>\n",
       "      <td>Kirkland</td>\n",
       "      <td>1,571.20</td>\n",
       "    </tr>\n",
       "    <tr>\n",
       "      <th>62</th>\n",
       "      <td>Torino</td>\n",
       "      <td>1,545.70</td>\n",
       "    </tr>\n",
       "    <tr>\n",
       "      <th>16</th>\n",
       "      <td>Caracas</td>\n",
       "      <td>1,488.70</td>\n",
       "    </tr>\n",
       "    <tr>\n",
       "      <th>50</th>\n",
       "      <td>Reims</td>\n",
       "      <td>1,480.00</td>\n",
       "    </tr>\n",
       "    <tr>\n",
       "      <th>4</th>\n",
       "      <td>Barcelona</td>\n",
       "      <td>836.70</td>\n",
       "    </tr>\n",
       "    <tr>\n",
       "      <th>65</th>\n",
       "      <td>Vancouver</td>\n",
       "      <td>522.50</td>\n",
       "    </tr>\n",
       "    <tr>\n",
       "      <th>67</th>\n",
       "      <td>Walla Walla</td>\n",
       "      <td>357.00</td>\n",
       "    </tr>\n",
       "  </tbody>\n",
       "</table>\n",
       "</div>"
      ],
      "text/plain": [
       "               city  totalamount\n",
       "25             Graz   113,236.68\n",
       "20        Cunewalde   100,233.39\n",
       "9             Boise    99,351.49\n",
       "18             Cork    57,317.39\n",
       "35           London    54,470.21\n",
       "2       Albuquerque    52,245.90\n",
       "56        Sao Paulo    45,786.37\n",
       "52   Rio de Janeiro    38,189.18\n",
       "10           Br?cke    32,555.55\n",
       "41         Montréal    32,203.90\n",
       "11      Brandenburg    31,745.75\n",
       "57          Seattle    29,073.45\n",
       "43          München    28,722.71\n",
       "36            Lule?    26,968.15\n",
       "53         Salzburg    26,259.95\n",
       "17        Charleroi    24,704.40\n",
       "42      México D.F.    24,073.45\n",
       "40        Marseille    23,850.95\n",
       "54    San Crist?bal    23,611.58\n",
       "64        Tsawassen    22,607.70\n",
       "23   Frankfurt a.M.    21,282.02\n",
       "24           Genève    20,033.20\n",
       "22           Eugene    19,711.13\n",
       "60       Strasbourg    19,088.00\n",
       "30        Kobenhavn    18,138.45\n",
       "27  I. de Margarita    17,889.55\n",
       "5      Barquisimeto    17,825.06\n",
       "0             ?rhus    16,643.80\n",
       "46             Oulu    16,617.10\n",
       "3         Anchorage    16,325.15\n",
       "28             K?ln    13,157.50\n",
       "8              Bern    12,886.30\n",
       "31           Lander    12,489.70\n",
       "34           Lisboa    12,468.65\n",
       "58          Sevilla    11,830.10\n",
       "33            Lille    11,666.90\n",
       "61        Stuttgart    10,653.85\n",
       "12        Bruxelles    10,430.58\n",
       "63         Toulouse    10,272.35\n",
       "37             Lyon     9,937.10\n",
       "15         Campinas     8,702.23\n",
       "13     Buenos Aires     8,119.10\n",
       "48         Portland     7,619.60\n",
       "6           Bergamo     7,603.85\n",
       "49    Reggio Emilia     7,555.60\n",
       "38           Madrid     6,765.09\n",
       "51          Resende     6,480.70\n",
       "19            Cowes     6,146.30\n",
       "59          Stavern     5,735.15\n",
       "32          Leipzig     5,042.20\n",
       "44          Münster     4,954.00\n",
       "45           Nantes     4,788.06\n",
       "7            Berlin     4,596.20\n",
       "1            Aachen     3,763.21\n",
       "68         Warszawa     3,531.95\n",
       "55    San Francisco     3,490.02\n",
       "39         Mannheim     3,239.80\n",
       "26         Helsinki     3,161.35\n",
       "21            Elgin     3,063.20\n",
       "47            Paris     2,423.35\n",
       "66       Versailles     1,992.05\n",
       "14            Butte     1,947.24\n",
       "29         Kirkland     1,571.20\n",
       "62           Torino     1,545.70\n",
       "16          Caracas     1,488.70\n",
       "50            Reims     1,480.00\n",
       "4         Barcelona       836.70\n",
       "65        Vancouver       522.50\n",
       "67      Walla Walla       357.00"
      ]
     },
     "execution_count": 24,
     "metadata": {},
     "output_type": "execute_result"
    }
   ],
   "source": [
    "city_group = orders.groupby('city',as_index=False)['totalamount'].sum().sort_values(by='totalamount',ascending=False)\n",
    "city_group"
   ]
  },
  {
   "cell_type": "markdown",
   "metadata": {},
   "source": [
    "### build function help to plot relation between any column name and `Total Amount` "
   ]
  },
  {
   "cell_type": "code",
   "execution_count": 25,
   "metadata": {},
   "outputs": [],
   "source": [
    "def plots(columname,Top10=False):\n",
    "    \n",
    "    # Proportion of each country's total amount = sum of total amount of each country / sum of all total amount\n",
    "    prop = orders.groupby(columname,as_index=False)['totalamount'].sum()\n",
    "    prop['proportion'] = (prop.totalamount / orders.totalamount.sum())*100\n",
    "    prop = prop.sort_values('proportion',ascending = False)\n",
    "    print('Describe of all Total Amount Values ', prop.totalamount.describe())\n",
    "    if Top10 == True:\n",
    "        prop = prop.head(10)\n",
    "\n",
    "    fig1 = px.bar(data_frame= prop, x=columname, y='totalamount')\n",
    "    fig2 = px.pie(data_frame= prop , names=columname,values='totalamount')\n",
    "\n",
    "    fig1.show()\n",
    "    fig2.show() "
   ]
  },
  {
   "cell_type": "code",
   "execution_count": 26,
   "metadata": {},
   "outputs": [
    {
     "name": "stdout",
     "output_type": "stream",
     "text": [
      "Describe of all Total Amount Values  count        21.00\n",
      "mean     62,146.51\n",
      "std      67,460.19\n",
      "min       3,531.95\n",
      "25%      19,431.89\n",
      "50%      35,134.98\n",
      "75%      60,814.89\n",
      "max     247,245.08\n",
      "Name: totalamount, dtype: float64\n"
     ]
    },
    {
     "data": {
      "application/vnd.plotly.v1+json": {
       "config": {
        "plotlyServerURL": "https://plot.ly"
       },
       "data": [
        {
         "alignmentgroup": "True",
         "hovertemplate": "country=%{x}<br>totalamount=%{y}<extra></extra>",
         "legendgroup": "",
         "marker": {
          "color": "#636efa",
          "pattern": {
           "shape": ""
          }
         },
         "name": "",
         "offsetgroup": "",
         "orientation": "v",
         "showlegend": false,
         "textposition": "auto",
         "type": "bar",
         "x": [
          "USA",
          "Germany",
          "Austria",
          "Brazil",
          "France",
          "Venezuela",
          "UK",
          "Sweden",
          "Ireland",
          "Canada",
          "Belgium",
          "Denmark",
          "Switzerland",
          "Mexico",
          "Finland",
          "Spain",
          "Italy",
          "Portugal",
          "Argentina",
          "Norway",
          "Poland"
         ],
         "xaxis": "x",
         "y": [
          247245.08,
          227390.63,
          139496.63,
          99158.48,
          85498.76,
          60814.89,
          60616.51,
          59523.7,
          57317.39,
          55334.1,
          35134.979999999996,
          34782.25,
          32919.5,
          24073.45,
          19778.45,
          19431.89,
          16705.15,
          12468.65,
          8119.1,
          5735.150000000001,
          3531.95
         ],
         "yaxis": "y"
        }
       ],
       "layout": {
        "barmode": "relative",
        "legend": {
         "tracegroupgap": 0
        },
        "margin": {
         "t": 60
        },
        "template": {
         "data": {
          "bar": [
           {
            "error_x": {
             "color": "#2a3f5f"
            },
            "error_y": {
             "color": "#2a3f5f"
            },
            "marker": {
             "line": {
              "color": "#E5ECF6",
              "width": 0.5
             },
             "pattern": {
              "fillmode": "overlay",
              "size": 10,
              "solidity": 0.2
             }
            },
            "type": "bar"
           }
          ],
          "barpolar": [
           {
            "marker": {
             "line": {
              "color": "#E5ECF6",
              "width": 0.5
             },
             "pattern": {
              "fillmode": "overlay",
              "size": 10,
              "solidity": 0.2
             }
            },
            "type": "barpolar"
           }
          ],
          "carpet": [
           {
            "aaxis": {
             "endlinecolor": "#2a3f5f",
             "gridcolor": "white",
             "linecolor": "white",
             "minorgridcolor": "white",
             "startlinecolor": "#2a3f5f"
            },
            "baxis": {
             "endlinecolor": "#2a3f5f",
             "gridcolor": "white",
             "linecolor": "white",
             "minorgridcolor": "white",
             "startlinecolor": "#2a3f5f"
            },
            "type": "carpet"
           }
          ],
          "choropleth": [
           {
            "colorbar": {
             "outlinewidth": 0,
             "ticks": ""
            },
            "type": "choropleth"
           }
          ],
          "contour": [
           {
            "colorbar": {
             "outlinewidth": 0,
             "ticks": ""
            },
            "colorscale": [
             [
              0,
              "#0d0887"
             ],
             [
              0.1111111111111111,
              "#46039f"
             ],
             [
              0.2222222222222222,
              "#7201a8"
             ],
             [
              0.3333333333333333,
              "#9c179e"
             ],
             [
              0.4444444444444444,
              "#bd3786"
             ],
             [
              0.5555555555555556,
              "#d8576b"
             ],
             [
              0.6666666666666666,
              "#ed7953"
             ],
             [
              0.7777777777777778,
              "#fb9f3a"
             ],
             [
              0.8888888888888888,
              "#fdca26"
             ],
             [
              1,
              "#f0f921"
             ]
            ],
            "type": "contour"
           }
          ],
          "contourcarpet": [
           {
            "colorbar": {
             "outlinewidth": 0,
             "ticks": ""
            },
            "type": "contourcarpet"
           }
          ],
          "heatmap": [
           {
            "colorbar": {
             "outlinewidth": 0,
             "ticks": ""
            },
            "colorscale": [
             [
              0,
              "#0d0887"
             ],
             [
              0.1111111111111111,
              "#46039f"
             ],
             [
              0.2222222222222222,
              "#7201a8"
             ],
             [
              0.3333333333333333,
              "#9c179e"
             ],
             [
              0.4444444444444444,
              "#bd3786"
             ],
             [
              0.5555555555555556,
              "#d8576b"
             ],
             [
              0.6666666666666666,
              "#ed7953"
             ],
             [
              0.7777777777777778,
              "#fb9f3a"
             ],
             [
              0.8888888888888888,
              "#fdca26"
             ],
             [
              1,
              "#f0f921"
             ]
            ],
            "type": "heatmap"
           }
          ],
          "heatmapgl": [
           {
            "colorbar": {
             "outlinewidth": 0,
             "ticks": ""
            },
            "colorscale": [
             [
              0,
              "#0d0887"
             ],
             [
              0.1111111111111111,
              "#46039f"
             ],
             [
              0.2222222222222222,
              "#7201a8"
             ],
             [
              0.3333333333333333,
              "#9c179e"
             ],
             [
              0.4444444444444444,
              "#bd3786"
             ],
             [
              0.5555555555555556,
              "#d8576b"
             ],
             [
              0.6666666666666666,
              "#ed7953"
             ],
             [
              0.7777777777777778,
              "#fb9f3a"
             ],
             [
              0.8888888888888888,
              "#fdca26"
             ],
             [
              1,
              "#f0f921"
             ]
            ],
            "type": "heatmapgl"
           }
          ],
          "histogram": [
           {
            "marker": {
             "pattern": {
              "fillmode": "overlay",
              "size": 10,
              "solidity": 0.2
             }
            },
            "type": "histogram"
           }
          ],
          "histogram2d": [
           {
            "colorbar": {
             "outlinewidth": 0,
             "ticks": ""
            },
            "colorscale": [
             [
              0,
              "#0d0887"
             ],
             [
              0.1111111111111111,
              "#46039f"
             ],
             [
              0.2222222222222222,
              "#7201a8"
             ],
             [
              0.3333333333333333,
              "#9c179e"
             ],
             [
              0.4444444444444444,
              "#bd3786"
             ],
             [
              0.5555555555555556,
              "#d8576b"
             ],
             [
              0.6666666666666666,
              "#ed7953"
             ],
             [
              0.7777777777777778,
              "#fb9f3a"
             ],
             [
              0.8888888888888888,
              "#fdca26"
             ],
             [
              1,
              "#f0f921"
             ]
            ],
            "type": "histogram2d"
           }
          ],
          "histogram2dcontour": [
           {
            "colorbar": {
             "outlinewidth": 0,
             "ticks": ""
            },
            "colorscale": [
             [
              0,
              "#0d0887"
             ],
             [
              0.1111111111111111,
              "#46039f"
             ],
             [
              0.2222222222222222,
              "#7201a8"
             ],
             [
              0.3333333333333333,
              "#9c179e"
             ],
             [
              0.4444444444444444,
              "#bd3786"
             ],
             [
              0.5555555555555556,
              "#d8576b"
             ],
             [
              0.6666666666666666,
              "#ed7953"
             ],
             [
              0.7777777777777778,
              "#fb9f3a"
             ],
             [
              0.8888888888888888,
              "#fdca26"
             ],
             [
              1,
              "#f0f921"
             ]
            ],
            "type": "histogram2dcontour"
           }
          ],
          "mesh3d": [
           {
            "colorbar": {
             "outlinewidth": 0,
             "ticks": ""
            },
            "type": "mesh3d"
           }
          ],
          "parcoords": [
           {
            "line": {
             "colorbar": {
              "outlinewidth": 0,
              "ticks": ""
             }
            },
            "type": "parcoords"
           }
          ],
          "pie": [
           {
            "automargin": true,
            "type": "pie"
           }
          ],
          "scatter": [
           {
            "fillpattern": {
             "fillmode": "overlay",
             "size": 10,
             "solidity": 0.2
            },
            "type": "scatter"
           }
          ],
          "scatter3d": [
           {
            "line": {
             "colorbar": {
              "outlinewidth": 0,
              "ticks": ""
             }
            },
            "marker": {
             "colorbar": {
              "outlinewidth": 0,
              "ticks": ""
             }
            },
            "type": "scatter3d"
           }
          ],
          "scattercarpet": [
           {
            "marker": {
             "colorbar": {
              "outlinewidth": 0,
              "ticks": ""
             }
            },
            "type": "scattercarpet"
           }
          ],
          "scattergeo": [
           {
            "marker": {
             "colorbar": {
              "outlinewidth": 0,
              "ticks": ""
             }
            },
            "type": "scattergeo"
           }
          ],
          "scattergl": [
           {
            "marker": {
             "colorbar": {
              "outlinewidth": 0,
              "ticks": ""
             }
            },
            "type": "scattergl"
           }
          ],
          "scattermapbox": [
           {
            "marker": {
             "colorbar": {
              "outlinewidth": 0,
              "ticks": ""
             }
            },
            "type": "scattermapbox"
           }
          ],
          "scatterpolar": [
           {
            "marker": {
             "colorbar": {
              "outlinewidth": 0,
              "ticks": ""
             }
            },
            "type": "scatterpolar"
           }
          ],
          "scatterpolargl": [
           {
            "marker": {
             "colorbar": {
              "outlinewidth": 0,
              "ticks": ""
             }
            },
            "type": "scatterpolargl"
           }
          ],
          "scatterternary": [
           {
            "marker": {
             "colorbar": {
              "outlinewidth": 0,
              "ticks": ""
             }
            },
            "type": "scatterternary"
           }
          ],
          "surface": [
           {
            "colorbar": {
             "outlinewidth": 0,
             "ticks": ""
            },
            "colorscale": [
             [
              0,
              "#0d0887"
             ],
             [
              0.1111111111111111,
              "#46039f"
             ],
             [
              0.2222222222222222,
              "#7201a8"
             ],
             [
              0.3333333333333333,
              "#9c179e"
             ],
             [
              0.4444444444444444,
              "#bd3786"
             ],
             [
              0.5555555555555556,
              "#d8576b"
             ],
             [
              0.6666666666666666,
              "#ed7953"
             ],
             [
              0.7777777777777778,
              "#fb9f3a"
             ],
             [
              0.8888888888888888,
              "#fdca26"
             ],
             [
              1,
              "#f0f921"
             ]
            ],
            "type": "surface"
           }
          ],
          "table": [
           {
            "cells": {
             "fill": {
              "color": "#EBF0F8"
             },
             "line": {
              "color": "white"
             }
            },
            "header": {
             "fill": {
              "color": "#C8D4E3"
             },
             "line": {
              "color": "white"
             }
            },
            "type": "table"
           }
          ]
         },
         "layout": {
          "annotationdefaults": {
           "arrowcolor": "#2a3f5f",
           "arrowhead": 0,
           "arrowwidth": 1
          },
          "autotypenumbers": "strict",
          "coloraxis": {
           "colorbar": {
            "outlinewidth": 0,
            "ticks": ""
           }
          },
          "colorscale": {
           "diverging": [
            [
             0,
             "#8e0152"
            ],
            [
             0.1,
             "#c51b7d"
            ],
            [
             0.2,
             "#de77ae"
            ],
            [
             0.3,
             "#f1b6da"
            ],
            [
             0.4,
             "#fde0ef"
            ],
            [
             0.5,
             "#f7f7f7"
            ],
            [
             0.6,
             "#e6f5d0"
            ],
            [
             0.7,
             "#b8e186"
            ],
            [
             0.8,
             "#7fbc41"
            ],
            [
             0.9,
             "#4d9221"
            ],
            [
             1,
             "#276419"
            ]
           ],
           "sequential": [
            [
             0,
             "#0d0887"
            ],
            [
             0.1111111111111111,
             "#46039f"
            ],
            [
             0.2222222222222222,
             "#7201a8"
            ],
            [
             0.3333333333333333,
             "#9c179e"
            ],
            [
             0.4444444444444444,
             "#bd3786"
            ],
            [
             0.5555555555555556,
             "#d8576b"
            ],
            [
             0.6666666666666666,
             "#ed7953"
            ],
            [
             0.7777777777777778,
             "#fb9f3a"
            ],
            [
             0.8888888888888888,
             "#fdca26"
            ],
            [
             1,
             "#f0f921"
            ]
           ],
           "sequentialminus": [
            [
             0,
             "#0d0887"
            ],
            [
             0.1111111111111111,
             "#46039f"
            ],
            [
             0.2222222222222222,
             "#7201a8"
            ],
            [
             0.3333333333333333,
             "#9c179e"
            ],
            [
             0.4444444444444444,
             "#bd3786"
            ],
            [
             0.5555555555555556,
             "#d8576b"
            ],
            [
             0.6666666666666666,
             "#ed7953"
            ],
            [
             0.7777777777777778,
             "#fb9f3a"
            ],
            [
             0.8888888888888888,
             "#fdca26"
            ],
            [
             1,
             "#f0f921"
            ]
           ]
          },
          "colorway": [
           "#636efa",
           "#EF553B",
           "#00cc96",
           "#ab63fa",
           "#FFA15A",
           "#19d3f3",
           "#FF6692",
           "#B6E880",
           "#FF97FF",
           "#FECB52"
          ],
          "font": {
           "color": "#2a3f5f"
          },
          "geo": {
           "bgcolor": "white",
           "lakecolor": "white",
           "landcolor": "#E5ECF6",
           "showlakes": true,
           "showland": true,
           "subunitcolor": "white"
          },
          "hoverlabel": {
           "align": "left"
          },
          "hovermode": "closest",
          "mapbox": {
           "style": "light"
          },
          "paper_bgcolor": "white",
          "plot_bgcolor": "#E5ECF6",
          "polar": {
           "angularaxis": {
            "gridcolor": "white",
            "linecolor": "white",
            "ticks": ""
           },
           "bgcolor": "#E5ECF6",
           "radialaxis": {
            "gridcolor": "white",
            "linecolor": "white",
            "ticks": ""
           }
          },
          "scene": {
           "xaxis": {
            "backgroundcolor": "#E5ECF6",
            "gridcolor": "white",
            "gridwidth": 2,
            "linecolor": "white",
            "showbackground": true,
            "ticks": "",
            "zerolinecolor": "white"
           },
           "yaxis": {
            "backgroundcolor": "#E5ECF6",
            "gridcolor": "white",
            "gridwidth": 2,
            "linecolor": "white",
            "showbackground": true,
            "ticks": "",
            "zerolinecolor": "white"
           },
           "zaxis": {
            "backgroundcolor": "#E5ECF6",
            "gridcolor": "white",
            "gridwidth": 2,
            "linecolor": "white",
            "showbackground": true,
            "ticks": "",
            "zerolinecolor": "white"
           }
          },
          "shapedefaults": {
           "line": {
            "color": "#2a3f5f"
           }
          },
          "ternary": {
           "aaxis": {
            "gridcolor": "white",
            "linecolor": "white",
            "ticks": ""
           },
           "baxis": {
            "gridcolor": "white",
            "linecolor": "white",
            "ticks": ""
           },
           "bgcolor": "#E5ECF6",
           "caxis": {
            "gridcolor": "white",
            "linecolor": "white",
            "ticks": ""
           }
          },
          "title": {
           "x": 0.05
          },
          "xaxis": {
           "automargin": true,
           "gridcolor": "white",
           "linecolor": "white",
           "ticks": "",
           "title": {
            "standoff": 15
           },
           "zerolinecolor": "white",
           "zerolinewidth": 2
          },
          "yaxis": {
           "automargin": true,
           "gridcolor": "white",
           "linecolor": "white",
           "ticks": "",
           "title": {
            "standoff": 15
           },
           "zerolinecolor": "white",
           "zerolinewidth": 2
          }
         }
        },
        "xaxis": {
         "anchor": "y",
         "domain": [
          0,
          1
         ],
         "title": {
          "text": "country"
         }
        },
        "yaxis": {
         "anchor": "x",
         "domain": [
          0,
          1
         ],
         "title": {
          "text": "totalamount"
         }
        }
       }
      }
     },
     "metadata": {},
     "output_type": "display_data"
    },
    {
     "data": {
      "application/vnd.plotly.v1+json": {
       "config": {
        "plotlyServerURL": "https://plot.ly"
       },
       "data": [
        {
         "domain": {
          "x": [
           0,
           1
          ],
          "y": [
           0,
           1
          ]
         },
         "hovertemplate": "country=%{label}<br>totalamount=%{value}<extra></extra>",
         "labels": [
          "USA",
          "Germany",
          "Austria",
          "Brazil",
          "France",
          "Venezuela",
          "UK",
          "Sweden",
          "Ireland",
          "Canada",
          "Belgium",
          "Denmark",
          "Switzerland",
          "Mexico",
          "Finland",
          "Spain",
          "Italy",
          "Portugal",
          "Argentina",
          "Norway",
          "Poland"
         ],
         "legendgroup": "",
         "name": "",
         "showlegend": true,
         "type": "pie",
         "values": [
          247245.08,
          227390.63,
          139496.63,
          99158.48,
          85498.76,
          60814.89,
          60616.51,
          59523.7,
          57317.39,
          55334.1,
          35134.979999999996,
          34782.25,
          32919.5,
          24073.45,
          19778.45,
          19431.89,
          16705.15,
          12468.65,
          8119.1,
          5735.150000000001,
          3531.95
         ]
        }
       ],
       "layout": {
        "legend": {
         "tracegroupgap": 0
        },
        "margin": {
         "t": 60
        },
        "template": {
         "data": {
          "bar": [
           {
            "error_x": {
             "color": "#2a3f5f"
            },
            "error_y": {
             "color": "#2a3f5f"
            },
            "marker": {
             "line": {
              "color": "#E5ECF6",
              "width": 0.5
             },
             "pattern": {
              "fillmode": "overlay",
              "size": 10,
              "solidity": 0.2
             }
            },
            "type": "bar"
           }
          ],
          "barpolar": [
           {
            "marker": {
             "line": {
              "color": "#E5ECF6",
              "width": 0.5
             },
             "pattern": {
              "fillmode": "overlay",
              "size": 10,
              "solidity": 0.2
             }
            },
            "type": "barpolar"
           }
          ],
          "carpet": [
           {
            "aaxis": {
             "endlinecolor": "#2a3f5f",
             "gridcolor": "white",
             "linecolor": "white",
             "minorgridcolor": "white",
             "startlinecolor": "#2a3f5f"
            },
            "baxis": {
             "endlinecolor": "#2a3f5f",
             "gridcolor": "white",
             "linecolor": "white",
             "minorgridcolor": "white",
             "startlinecolor": "#2a3f5f"
            },
            "type": "carpet"
           }
          ],
          "choropleth": [
           {
            "colorbar": {
             "outlinewidth": 0,
             "ticks": ""
            },
            "type": "choropleth"
           }
          ],
          "contour": [
           {
            "colorbar": {
             "outlinewidth": 0,
             "ticks": ""
            },
            "colorscale": [
             [
              0,
              "#0d0887"
             ],
             [
              0.1111111111111111,
              "#46039f"
             ],
             [
              0.2222222222222222,
              "#7201a8"
             ],
             [
              0.3333333333333333,
              "#9c179e"
             ],
             [
              0.4444444444444444,
              "#bd3786"
             ],
             [
              0.5555555555555556,
              "#d8576b"
             ],
             [
              0.6666666666666666,
              "#ed7953"
             ],
             [
              0.7777777777777778,
              "#fb9f3a"
             ],
             [
              0.8888888888888888,
              "#fdca26"
             ],
             [
              1,
              "#f0f921"
             ]
            ],
            "type": "contour"
           }
          ],
          "contourcarpet": [
           {
            "colorbar": {
             "outlinewidth": 0,
             "ticks": ""
            },
            "type": "contourcarpet"
           }
          ],
          "heatmap": [
           {
            "colorbar": {
             "outlinewidth": 0,
             "ticks": ""
            },
            "colorscale": [
             [
              0,
              "#0d0887"
             ],
             [
              0.1111111111111111,
              "#46039f"
             ],
             [
              0.2222222222222222,
              "#7201a8"
             ],
             [
              0.3333333333333333,
              "#9c179e"
             ],
             [
              0.4444444444444444,
              "#bd3786"
             ],
             [
              0.5555555555555556,
              "#d8576b"
             ],
             [
              0.6666666666666666,
              "#ed7953"
             ],
             [
              0.7777777777777778,
              "#fb9f3a"
             ],
             [
              0.8888888888888888,
              "#fdca26"
             ],
             [
              1,
              "#f0f921"
             ]
            ],
            "type": "heatmap"
           }
          ],
          "heatmapgl": [
           {
            "colorbar": {
             "outlinewidth": 0,
             "ticks": ""
            },
            "colorscale": [
             [
              0,
              "#0d0887"
             ],
             [
              0.1111111111111111,
              "#46039f"
             ],
             [
              0.2222222222222222,
              "#7201a8"
             ],
             [
              0.3333333333333333,
              "#9c179e"
             ],
             [
              0.4444444444444444,
              "#bd3786"
             ],
             [
              0.5555555555555556,
              "#d8576b"
             ],
             [
              0.6666666666666666,
              "#ed7953"
             ],
             [
              0.7777777777777778,
              "#fb9f3a"
             ],
             [
              0.8888888888888888,
              "#fdca26"
             ],
             [
              1,
              "#f0f921"
             ]
            ],
            "type": "heatmapgl"
           }
          ],
          "histogram": [
           {
            "marker": {
             "pattern": {
              "fillmode": "overlay",
              "size": 10,
              "solidity": 0.2
             }
            },
            "type": "histogram"
           }
          ],
          "histogram2d": [
           {
            "colorbar": {
             "outlinewidth": 0,
             "ticks": ""
            },
            "colorscale": [
             [
              0,
              "#0d0887"
             ],
             [
              0.1111111111111111,
              "#46039f"
             ],
             [
              0.2222222222222222,
              "#7201a8"
             ],
             [
              0.3333333333333333,
              "#9c179e"
             ],
             [
              0.4444444444444444,
              "#bd3786"
             ],
             [
              0.5555555555555556,
              "#d8576b"
             ],
             [
              0.6666666666666666,
              "#ed7953"
             ],
             [
              0.7777777777777778,
              "#fb9f3a"
             ],
             [
              0.8888888888888888,
              "#fdca26"
             ],
             [
              1,
              "#f0f921"
             ]
            ],
            "type": "histogram2d"
           }
          ],
          "histogram2dcontour": [
           {
            "colorbar": {
             "outlinewidth": 0,
             "ticks": ""
            },
            "colorscale": [
             [
              0,
              "#0d0887"
             ],
             [
              0.1111111111111111,
              "#46039f"
             ],
             [
              0.2222222222222222,
              "#7201a8"
             ],
             [
              0.3333333333333333,
              "#9c179e"
             ],
             [
              0.4444444444444444,
              "#bd3786"
             ],
             [
              0.5555555555555556,
              "#d8576b"
             ],
             [
              0.6666666666666666,
              "#ed7953"
             ],
             [
              0.7777777777777778,
              "#fb9f3a"
             ],
             [
              0.8888888888888888,
              "#fdca26"
             ],
             [
              1,
              "#f0f921"
             ]
            ],
            "type": "histogram2dcontour"
           }
          ],
          "mesh3d": [
           {
            "colorbar": {
             "outlinewidth": 0,
             "ticks": ""
            },
            "type": "mesh3d"
           }
          ],
          "parcoords": [
           {
            "line": {
             "colorbar": {
              "outlinewidth": 0,
              "ticks": ""
             }
            },
            "type": "parcoords"
           }
          ],
          "pie": [
           {
            "automargin": true,
            "type": "pie"
           }
          ],
          "scatter": [
           {
            "fillpattern": {
             "fillmode": "overlay",
             "size": 10,
             "solidity": 0.2
            },
            "type": "scatter"
           }
          ],
          "scatter3d": [
           {
            "line": {
             "colorbar": {
              "outlinewidth": 0,
              "ticks": ""
             }
            },
            "marker": {
             "colorbar": {
              "outlinewidth": 0,
              "ticks": ""
             }
            },
            "type": "scatter3d"
           }
          ],
          "scattercarpet": [
           {
            "marker": {
             "colorbar": {
              "outlinewidth": 0,
              "ticks": ""
             }
            },
            "type": "scattercarpet"
           }
          ],
          "scattergeo": [
           {
            "marker": {
             "colorbar": {
              "outlinewidth": 0,
              "ticks": ""
             }
            },
            "type": "scattergeo"
           }
          ],
          "scattergl": [
           {
            "marker": {
             "colorbar": {
              "outlinewidth": 0,
              "ticks": ""
             }
            },
            "type": "scattergl"
           }
          ],
          "scattermapbox": [
           {
            "marker": {
             "colorbar": {
              "outlinewidth": 0,
              "ticks": ""
             }
            },
            "type": "scattermapbox"
           }
          ],
          "scatterpolar": [
           {
            "marker": {
             "colorbar": {
              "outlinewidth": 0,
              "ticks": ""
             }
            },
            "type": "scatterpolar"
           }
          ],
          "scatterpolargl": [
           {
            "marker": {
             "colorbar": {
              "outlinewidth": 0,
              "ticks": ""
             }
            },
            "type": "scatterpolargl"
           }
          ],
          "scatterternary": [
           {
            "marker": {
             "colorbar": {
              "outlinewidth": 0,
              "ticks": ""
             }
            },
            "type": "scatterternary"
           }
          ],
          "surface": [
           {
            "colorbar": {
             "outlinewidth": 0,
             "ticks": ""
            },
            "colorscale": [
             [
              0,
              "#0d0887"
             ],
             [
              0.1111111111111111,
              "#46039f"
             ],
             [
              0.2222222222222222,
              "#7201a8"
             ],
             [
              0.3333333333333333,
              "#9c179e"
             ],
             [
              0.4444444444444444,
              "#bd3786"
             ],
             [
              0.5555555555555556,
              "#d8576b"
             ],
             [
              0.6666666666666666,
              "#ed7953"
             ],
             [
              0.7777777777777778,
              "#fb9f3a"
             ],
             [
              0.8888888888888888,
              "#fdca26"
             ],
             [
              1,
              "#f0f921"
             ]
            ],
            "type": "surface"
           }
          ],
          "table": [
           {
            "cells": {
             "fill": {
              "color": "#EBF0F8"
             },
             "line": {
              "color": "white"
             }
            },
            "header": {
             "fill": {
              "color": "#C8D4E3"
             },
             "line": {
              "color": "white"
             }
            },
            "type": "table"
           }
          ]
         },
         "layout": {
          "annotationdefaults": {
           "arrowcolor": "#2a3f5f",
           "arrowhead": 0,
           "arrowwidth": 1
          },
          "autotypenumbers": "strict",
          "coloraxis": {
           "colorbar": {
            "outlinewidth": 0,
            "ticks": ""
           }
          },
          "colorscale": {
           "diverging": [
            [
             0,
             "#8e0152"
            ],
            [
             0.1,
             "#c51b7d"
            ],
            [
             0.2,
             "#de77ae"
            ],
            [
             0.3,
             "#f1b6da"
            ],
            [
             0.4,
             "#fde0ef"
            ],
            [
             0.5,
             "#f7f7f7"
            ],
            [
             0.6,
             "#e6f5d0"
            ],
            [
             0.7,
             "#b8e186"
            ],
            [
             0.8,
             "#7fbc41"
            ],
            [
             0.9,
             "#4d9221"
            ],
            [
             1,
             "#276419"
            ]
           ],
           "sequential": [
            [
             0,
             "#0d0887"
            ],
            [
             0.1111111111111111,
             "#46039f"
            ],
            [
             0.2222222222222222,
             "#7201a8"
            ],
            [
             0.3333333333333333,
             "#9c179e"
            ],
            [
             0.4444444444444444,
             "#bd3786"
            ],
            [
             0.5555555555555556,
             "#d8576b"
            ],
            [
             0.6666666666666666,
             "#ed7953"
            ],
            [
             0.7777777777777778,
             "#fb9f3a"
            ],
            [
             0.8888888888888888,
             "#fdca26"
            ],
            [
             1,
             "#f0f921"
            ]
           ],
           "sequentialminus": [
            [
             0,
             "#0d0887"
            ],
            [
             0.1111111111111111,
             "#46039f"
            ],
            [
             0.2222222222222222,
             "#7201a8"
            ],
            [
             0.3333333333333333,
             "#9c179e"
            ],
            [
             0.4444444444444444,
             "#bd3786"
            ],
            [
             0.5555555555555556,
             "#d8576b"
            ],
            [
             0.6666666666666666,
             "#ed7953"
            ],
            [
             0.7777777777777778,
             "#fb9f3a"
            ],
            [
             0.8888888888888888,
             "#fdca26"
            ],
            [
             1,
             "#f0f921"
            ]
           ]
          },
          "colorway": [
           "#636efa",
           "#EF553B",
           "#00cc96",
           "#ab63fa",
           "#FFA15A",
           "#19d3f3",
           "#FF6692",
           "#B6E880",
           "#FF97FF",
           "#FECB52"
          ],
          "font": {
           "color": "#2a3f5f"
          },
          "geo": {
           "bgcolor": "white",
           "lakecolor": "white",
           "landcolor": "#E5ECF6",
           "showlakes": true,
           "showland": true,
           "subunitcolor": "white"
          },
          "hoverlabel": {
           "align": "left"
          },
          "hovermode": "closest",
          "mapbox": {
           "style": "light"
          },
          "paper_bgcolor": "white",
          "plot_bgcolor": "#E5ECF6",
          "polar": {
           "angularaxis": {
            "gridcolor": "white",
            "linecolor": "white",
            "ticks": ""
           },
           "bgcolor": "#E5ECF6",
           "radialaxis": {
            "gridcolor": "white",
            "linecolor": "white",
            "ticks": ""
           }
          },
          "scene": {
           "xaxis": {
            "backgroundcolor": "#E5ECF6",
            "gridcolor": "white",
            "gridwidth": 2,
            "linecolor": "white",
            "showbackground": true,
            "ticks": "",
            "zerolinecolor": "white"
           },
           "yaxis": {
            "backgroundcolor": "#E5ECF6",
            "gridcolor": "white",
            "gridwidth": 2,
            "linecolor": "white",
            "showbackground": true,
            "ticks": "",
            "zerolinecolor": "white"
           },
           "zaxis": {
            "backgroundcolor": "#E5ECF6",
            "gridcolor": "white",
            "gridwidth": 2,
            "linecolor": "white",
            "showbackground": true,
            "ticks": "",
            "zerolinecolor": "white"
           }
          },
          "shapedefaults": {
           "line": {
            "color": "#2a3f5f"
           }
          },
          "ternary": {
           "aaxis": {
            "gridcolor": "white",
            "linecolor": "white",
            "ticks": ""
           },
           "baxis": {
            "gridcolor": "white",
            "linecolor": "white",
            "ticks": ""
           },
           "bgcolor": "#E5ECF6",
           "caxis": {
            "gridcolor": "white",
            "linecolor": "white",
            "ticks": ""
           }
          },
          "title": {
           "x": 0.05
          },
          "xaxis": {
           "automargin": true,
           "gridcolor": "white",
           "linecolor": "white",
           "ticks": "",
           "title": {
            "standoff": 15
           },
           "zerolinecolor": "white",
           "zerolinewidth": 2
          },
          "yaxis": {
           "automargin": true,
           "gridcolor": "white",
           "linecolor": "white",
           "ticks": "",
           "title": {
            "standoff": 15
           },
           "zerolinecolor": "white",
           "zerolinewidth": 2
          }
         }
        }
       }
      }
     },
     "metadata": {},
     "output_type": "display_data"
    }
   ],
   "source": [
    "plots('country')"
   ]
  },
  {
   "cell_type": "code",
   "execution_count": 27,
   "metadata": {},
   "outputs": [
    {
     "name": "stdout",
     "output_type": "stream",
     "text": [
      "Describe of all Total Amount Values  count        69.00\n",
      "mean     18,914.15\n",
      "std      22,692.99\n",
      "min         357.00\n",
      "25%       4,788.06\n",
      "50%      11,830.10\n",
      "75%      23,850.95\n",
      "max     113,236.68\n",
      "Name: totalamount, dtype: float64\n"
     ]
    },
    {
     "data": {
      "application/vnd.plotly.v1+json": {
       "config": {
        "plotlyServerURL": "https://plot.ly"
       },
       "data": [
        {
         "alignmentgroup": "True",
         "hovertemplate": "city=%{x}<br>totalamount=%{y}<extra></extra>",
         "legendgroup": "",
         "marker": {
          "color": "#636efa",
          "pattern": {
           "shape": ""
          }
         },
         "name": "",
         "offsetgroup": "",
         "orientation": "v",
         "showlegend": false,
         "textposition": "auto",
         "type": "bar",
         "x": [
          "Graz",
          "Cunewalde",
          "Boise",
          "Cork",
          "London",
          "Albuquerque",
          "Sao Paulo",
          "Rio de Janeiro",
          "Br?cke",
          "Montréal"
         ],
         "xaxis": "x",
         "y": [
          113236.68,
          100233.39,
          99351.49,
          57317.39,
          54470.21,
          52245.9,
          45786.37,
          38189.18,
          32555.55,
          32203.9
         ],
         "yaxis": "y"
        }
       ],
       "layout": {
        "barmode": "relative",
        "legend": {
         "tracegroupgap": 0
        },
        "margin": {
         "t": 60
        },
        "template": {
         "data": {
          "bar": [
           {
            "error_x": {
             "color": "#2a3f5f"
            },
            "error_y": {
             "color": "#2a3f5f"
            },
            "marker": {
             "line": {
              "color": "#E5ECF6",
              "width": 0.5
             },
             "pattern": {
              "fillmode": "overlay",
              "size": 10,
              "solidity": 0.2
             }
            },
            "type": "bar"
           }
          ],
          "barpolar": [
           {
            "marker": {
             "line": {
              "color": "#E5ECF6",
              "width": 0.5
             },
             "pattern": {
              "fillmode": "overlay",
              "size": 10,
              "solidity": 0.2
             }
            },
            "type": "barpolar"
           }
          ],
          "carpet": [
           {
            "aaxis": {
             "endlinecolor": "#2a3f5f",
             "gridcolor": "white",
             "linecolor": "white",
             "minorgridcolor": "white",
             "startlinecolor": "#2a3f5f"
            },
            "baxis": {
             "endlinecolor": "#2a3f5f",
             "gridcolor": "white",
             "linecolor": "white",
             "minorgridcolor": "white",
             "startlinecolor": "#2a3f5f"
            },
            "type": "carpet"
           }
          ],
          "choropleth": [
           {
            "colorbar": {
             "outlinewidth": 0,
             "ticks": ""
            },
            "type": "choropleth"
           }
          ],
          "contour": [
           {
            "colorbar": {
             "outlinewidth": 0,
             "ticks": ""
            },
            "colorscale": [
             [
              0,
              "#0d0887"
             ],
             [
              0.1111111111111111,
              "#46039f"
             ],
             [
              0.2222222222222222,
              "#7201a8"
             ],
             [
              0.3333333333333333,
              "#9c179e"
             ],
             [
              0.4444444444444444,
              "#bd3786"
             ],
             [
              0.5555555555555556,
              "#d8576b"
             ],
             [
              0.6666666666666666,
              "#ed7953"
             ],
             [
              0.7777777777777778,
              "#fb9f3a"
             ],
             [
              0.8888888888888888,
              "#fdca26"
             ],
             [
              1,
              "#f0f921"
             ]
            ],
            "type": "contour"
           }
          ],
          "contourcarpet": [
           {
            "colorbar": {
             "outlinewidth": 0,
             "ticks": ""
            },
            "type": "contourcarpet"
           }
          ],
          "heatmap": [
           {
            "colorbar": {
             "outlinewidth": 0,
             "ticks": ""
            },
            "colorscale": [
             [
              0,
              "#0d0887"
             ],
             [
              0.1111111111111111,
              "#46039f"
             ],
             [
              0.2222222222222222,
              "#7201a8"
             ],
             [
              0.3333333333333333,
              "#9c179e"
             ],
             [
              0.4444444444444444,
              "#bd3786"
             ],
             [
              0.5555555555555556,
              "#d8576b"
             ],
             [
              0.6666666666666666,
              "#ed7953"
             ],
             [
              0.7777777777777778,
              "#fb9f3a"
             ],
             [
              0.8888888888888888,
              "#fdca26"
             ],
             [
              1,
              "#f0f921"
             ]
            ],
            "type": "heatmap"
           }
          ],
          "heatmapgl": [
           {
            "colorbar": {
             "outlinewidth": 0,
             "ticks": ""
            },
            "colorscale": [
             [
              0,
              "#0d0887"
             ],
             [
              0.1111111111111111,
              "#46039f"
             ],
             [
              0.2222222222222222,
              "#7201a8"
             ],
             [
              0.3333333333333333,
              "#9c179e"
             ],
             [
              0.4444444444444444,
              "#bd3786"
             ],
             [
              0.5555555555555556,
              "#d8576b"
             ],
             [
              0.6666666666666666,
              "#ed7953"
             ],
             [
              0.7777777777777778,
              "#fb9f3a"
             ],
             [
              0.8888888888888888,
              "#fdca26"
             ],
             [
              1,
              "#f0f921"
             ]
            ],
            "type": "heatmapgl"
           }
          ],
          "histogram": [
           {
            "marker": {
             "pattern": {
              "fillmode": "overlay",
              "size": 10,
              "solidity": 0.2
             }
            },
            "type": "histogram"
           }
          ],
          "histogram2d": [
           {
            "colorbar": {
             "outlinewidth": 0,
             "ticks": ""
            },
            "colorscale": [
             [
              0,
              "#0d0887"
             ],
             [
              0.1111111111111111,
              "#46039f"
             ],
             [
              0.2222222222222222,
              "#7201a8"
             ],
             [
              0.3333333333333333,
              "#9c179e"
             ],
             [
              0.4444444444444444,
              "#bd3786"
             ],
             [
              0.5555555555555556,
              "#d8576b"
             ],
             [
              0.6666666666666666,
              "#ed7953"
             ],
             [
              0.7777777777777778,
              "#fb9f3a"
             ],
             [
              0.8888888888888888,
              "#fdca26"
             ],
             [
              1,
              "#f0f921"
             ]
            ],
            "type": "histogram2d"
           }
          ],
          "histogram2dcontour": [
           {
            "colorbar": {
             "outlinewidth": 0,
             "ticks": ""
            },
            "colorscale": [
             [
              0,
              "#0d0887"
             ],
             [
              0.1111111111111111,
              "#46039f"
             ],
             [
              0.2222222222222222,
              "#7201a8"
             ],
             [
              0.3333333333333333,
              "#9c179e"
             ],
             [
              0.4444444444444444,
              "#bd3786"
             ],
             [
              0.5555555555555556,
              "#d8576b"
             ],
             [
              0.6666666666666666,
              "#ed7953"
             ],
             [
              0.7777777777777778,
              "#fb9f3a"
             ],
             [
              0.8888888888888888,
              "#fdca26"
             ],
             [
              1,
              "#f0f921"
             ]
            ],
            "type": "histogram2dcontour"
           }
          ],
          "mesh3d": [
           {
            "colorbar": {
             "outlinewidth": 0,
             "ticks": ""
            },
            "type": "mesh3d"
           }
          ],
          "parcoords": [
           {
            "line": {
             "colorbar": {
              "outlinewidth": 0,
              "ticks": ""
             }
            },
            "type": "parcoords"
           }
          ],
          "pie": [
           {
            "automargin": true,
            "type": "pie"
           }
          ],
          "scatter": [
           {
            "fillpattern": {
             "fillmode": "overlay",
             "size": 10,
             "solidity": 0.2
            },
            "type": "scatter"
           }
          ],
          "scatter3d": [
           {
            "line": {
             "colorbar": {
              "outlinewidth": 0,
              "ticks": ""
             }
            },
            "marker": {
             "colorbar": {
              "outlinewidth": 0,
              "ticks": ""
             }
            },
            "type": "scatter3d"
           }
          ],
          "scattercarpet": [
           {
            "marker": {
             "colorbar": {
              "outlinewidth": 0,
              "ticks": ""
             }
            },
            "type": "scattercarpet"
           }
          ],
          "scattergeo": [
           {
            "marker": {
             "colorbar": {
              "outlinewidth": 0,
              "ticks": ""
             }
            },
            "type": "scattergeo"
           }
          ],
          "scattergl": [
           {
            "marker": {
             "colorbar": {
              "outlinewidth": 0,
              "ticks": ""
             }
            },
            "type": "scattergl"
           }
          ],
          "scattermapbox": [
           {
            "marker": {
             "colorbar": {
              "outlinewidth": 0,
              "ticks": ""
             }
            },
            "type": "scattermapbox"
           }
          ],
          "scatterpolar": [
           {
            "marker": {
             "colorbar": {
              "outlinewidth": 0,
              "ticks": ""
             }
            },
            "type": "scatterpolar"
           }
          ],
          "scatterpolargl": [
           {
            "marker": {
             "colorbar": {
              "outlinewidth": 0,
              "ticks": ""
             }
            },
            "type": "scatterpolargl"
           }
          ],
          "scatterternary": [
           {
            "marker": {
             "colorbar": {
              "outlinewidth": 0,
              "ticks": ""
             }
            },
            "type": "scatterternary"
           }
          ],
          "surface": [
           {
            "colorbar": {
             "outlinewidth": 0,
             "ticks": ""
            },
            "colorscale": [
             [
              0,
              "#0d0887"
             ],
             [
              0.1111111111111111,
              "#46039f"
             ],
             [
              0.2222222222222222,
              "#7201a8"
             ],
             [
              0.3333333333333333,
              "#9c179e"
             ],
             [
              0.4444444444444444,
              "#bd3786"
             ],
             [
              0.5555555555555556,
              "#d8576b"
             ],
             [
              0.6666666666666666,
              "#ed7953"
             ],
             [
              0.7777777777777778,
              "#fb9f3a"
             ],
             [
              0.8888888888888888,
              "#fdca26"
             ],
             [
              1,
              "#f0f921"
             ]
            ],
            "type": "surface"
           }
          ],
          "table": [
           {
            "cells": {
             "fill": {
              "color": "#EBF0F8"
             },
             "line": {
              "color": "white"
             }
            },
            "header": {
             "fill": {
              "color": "#C8D4E3"
             },
             "line": {
              "color": "white"
             }
            },
            "type": "table"
           }
          ]
         },
         "layout": {
          "annotationdefaults": {
           "arrowcolor": "#2a3f5f",
           "arrowhead": 0,
           "arrowwidth": 1
          },
          "autotypenumbers": "strict",
          "coloraxis": {
           "colorbar": {
            "outlinewidth": 0,
            "ticks": ""
           }
          },
          "colorscale": {
           "diverging": [
            [
             0,
             "#8e0152"
            ],
            [
             0.1,
             "#c51b7d"
            ],
            [
             0.2,
             "#de77ae"
            ],
            [
             0.3,
             "#f1b6da"
            ],
            [
             0.4,
             "#fde0ef"
            ],
            [
             0.5,
             "#f7f7f7"
            ],
            [
             0.6,
             "#e6f5d0"
            ],
            [
             0.7,
             "#b8e186"
            ],
            [
             0.8,
             "#7fbc41"
            ],
            [
             0.9,
             "#4d9221"
            ],
            [
             1,
             "#276419"
            ]
           ],
           "sequential": [
            [
             0,
             "#0d0887"
            ],
            [
             0.1111111111111111,
             "#46039f"
            ],
            [
             0.2222222222222222,
             "#7201a8"
            ],
            [
             0.3333333333333333,
             "#9c179e"
            ],
            [
             0.4444444444444444,
             "#bd3786"
            ],
            [
             0.5555555555555556,
             "#d8576b"
            ],
            [
             0.6666666666666666,
             "#ed7953"
            ],
            [
             0.7777777777777778,
             "#fb9f3a"
            ],
            [
             0.8888888888888888,
             "#fdca26"
            ],
            [
             1,
             "#f0f921"
            ]
           ],
           "sequentialminus": [
            [
             0,
             "#0d0887"
            ],
            [
             0.1111111111111111,
             "#46039f"
            ],
            [
             0.2222222222222222,
             "#7201a8"
            ],
            [
             0.3333333333333333,
             "#9c179e"
            ],
            [
             0.4444444444444444,
             "#bd3786"
            ],
            [
             0.5555555555555556,
             "#d8576b"
            ],
            [
             0.6666666666666666,
             "#ed7953"
            ],
            [
             0.7777777777777778,
             "#fb9f3a"
            ],
            [
             0.8888888888888888,
             "#fdca26"
            ],
            [
             1,
             "#f0f921"
            ]
           ]
          },
          "colorway": [
           "#636efa",
           "#EF553B",
           "#00cc96",
           "#ab63fa",
           "#FFA15A",
           "#19d3f3",
           "#FF6692",
           "#B6E880",
           "#FF97FF",
           "#FECB52"
          ],
          "font": {
           "color": "#2a3f5f"
          },
          "geo": {
           "bgcolor": "white",
           "lakecolor": "white",
           "landcolor": "#E5ECF6",
           "showlakes": true,
           "showland": true,
           "subunitcolor": "white"
          },
          "hoverlabel": {
           "align": "left"
          },
          "hovermode": "closest",
          "mapbox": {
           "style": "light"
          },
          "paper_bgcolor": "white",
          "plot_bgcolor": "#E5ECF6",
          "polar": {
           "angularaxis": {
            "gridcolor": "white",
            "linecolor": "white",
            "ticks": ""
           },
           "bgcolor": "#E5ECF6",
           "radialaxis": {
            "gridcolor": "white",
            "linecolor": "white",
            "ticks": ""
           }
          },
          "scene": {
           "xaxis": {
            "backgroundcolor": "#E5ECF6",
            "gridcolor": "white",
            "gridwidth": 2,
            "linecolor": "white",
            "showbackground": true,
            "ticks": "",
            "zerolinecolor": "white"
           },
           "yaxis": {
            "backgroundcolor": "#E5ECF6",
            "gridcolor": "white",
            "gridwidth": 2,
            "linecolor": "white",
            "showbackground": true,
            "ticks": "",
            "zerolinecolor": "white"
           },
           "zaxis": {
            "backgroundcolor": "#E5ECF6",
            "gridcolor": "white",
            "gridwidth": 2,
            "linecolor": "white",
            "showbackground": true,
            "ticks": "",
            "zerolinecolor": "white"
           }
          },
          "shapedefaults": {
           "line": {
            "color": "#2a3f5f"
           }
          },
          "ternary": {
           "aaxis": {
            "gridcolor": "white",
            "linecolor": "white",
            "ticks": ""
           },
           "baxis": {
            "gridcolor": "white",
            "linecolor": "white",
            "ticks": ""
           },
           "bgcolor": "#E5ECF6",
           "caxis": {
            "gridcolor": "white",
            "linecolor": "white",
            "ticks": ""
           }
          },
          "title": {
           "x": 0.05
          },
          "xaxis": {
           "automargin": true,
           "gridcolor": "white",
           "linecolor": "white",
           "ticks": "",
           "title": {
            "standoff": 15
           },
           "zerolinecolor": "white",
           "zerolinewidth": 2
          },
          "yaxis": {
           "automargin": true,
           "gridcolor": "white",
           "linecolor": "white",
           "ticks": "",
           "title": {
            "standoff": 15
           },
           "zerolinecolor": "white",
           "zerolinewidth": 2
          }
         }
        },
        "xaxis": {
         "anchor": "y",
         "domain": [
          0,
          1
         ],
         "title": {
          "text": "city"
         }
        },
        "yaxis": {
         "anchor": "x",
         "domain": [
          0,
          1
         ],
         "title": {
          "text": "totalamount"
         }
        }
       }
      }
     },
     "metadata": {},
     "output_type": "display_data"
    },
    {
     "data": {
      "application/vnd.plotly.v1+json": {
       "config": {
        "plotlyServerURL": "https://plot.ly"
       },
       "data": [
        {
         "domain": {
          "x": [
           0,
           1
          ],
          "y": [
           0,
           1
          ]
         },
         "hovertemplate": "city=%{label}<br>totalamount=%{value}<extra></extra>",
         "labels": [
          "Graz",
          "Cunewalde",
          "Boise",
          "Cork",
          "London",
          "Albuquerque",
          "Sao Paulo",
          "Rio de Janeiro",
          "Br?cke",
          "Montréal"
         ],
         "legendgroup": "",
         "name": "",
         "showlegend": true,
         "type": "pie",
         "values": [
          113236.68,
          100233.39,
          99351.49,
          57317.39,
          54470.21,
          52245.9,
          45786.37,
          38189.18,
          32555.55,
          32203.9
         ]
        }
       ],
       "layout": {
        "legend": {
         "tracegroupgap": 0
        },
        "margin": {
         "t": 60
        },
        "template": {
         "data": {
          "bar": [
           {
            "error_x": {
             "color": "#2a3f5f"
            },
            "error_y": {
             "color": "#2a3f5f"
            },
            "marker": {
             "line": {
              "color": "#E5ECF6",
              "width": 0.5
             },
             "pattern": {
              "fillmode": "overlay",
              "size": 10,
              "solidity": 0.2
             }
            },
            "type": "bar"
           }
          ],
          "barpolar": [
           {
            "marker": {
             "line": {
              "color": "#E5ECF6",
              "width": 0.5
             },
             "pattern": {
              "fillmode": "overlay",
              "size": 10,
              "solidity": 0.2
             }
            },
            "type": "barpolar"
           }
          ],
          "carpet": [
           {
            "aaxis": {
             "endlinecolor": "#2a3f5f",
             "gridcolor": "white",
             "linecolor": "white",
             "minorgridcolor": "white",
             "startlinecolor": "#2a3f5f"
            },
            "baxis": {
             "endlinecolor": "#2a3f5f",
             "gridcolor": "white",
             "linecolor": "white",
             "minorgridcolor": "white",
             "startlinecolor": "#2a3f5f"
            },
            "type": "carpet"
           }
          ],
          "choropleth": [
           {
            "colorbar": {
             "outlinewidth": 0,
             "ticks": ""
            },
            "type": "choropleth"
           }
          ],
          "contour": [
           {
            "colorbar": {
             "outlinewidth": 0,
             "ticks": ""
            },
            "colorscale": [
             [
              0,
              "#0d0887"
             ],
             [
              0.1111111111111111,
              "#46039f"
             ],
             [
              0.2222222222222222,
              "#7201a8"
             ],
             [
              0.3333333333333333,
              "#9c179e"
             ],
             [
              0.4444444444444444,
              "#bd3786"
             ],
             [
              0.5555555555555556,
              "#d8576b"
             ],
             [
              0.6666666666666666,
              "#ed7953"
             ],
             [
              0.7777777777777778,
              "#fb9f3a"
             ],
             [
              0.8888888888888888,
              "#fdca26"
             ],
             [
              1,
              "#f0f921"
             ]
            ],
            "type": "contour"
           }
          ],
          "contourcarpet": [
           {
            "colorbar": {
             "outlinewidth": 0,
             "ticks": ""
            },
            "type": "contourcarpet"
           }
          ],
          "heatmap": [
           {
            "colorbar": {
             "outlinewidth": 0,
             "ticks": ""
            },
            "colorscale": [
             [
              0,
              "#0d0887"
             ],
             [
              0.1111111111111111,
              "#46039f"
             ],
             [
              0.2222222222222222,
              "#7201a8"
             ],
             [
              0.3333333333333333,
              "#9c179e"
             ],
             [
              0.4444444444444444,
              "#bd3786"
             ],
             [
              0.5555555555555556,
              "#d8576b"
             ],
             [
              0.6666666666666666,
              "#ed7953"
             ],
             [
              0.7777777777777778,
              "#fb9f3a"
             ],
             [
              0.8888888888888888,
              "#fdca26"
             ],
             [
              1,
              "#f0f921"
             ]
            ],
            "type": "heatmap"
           }
          ],
          "heatmapgl": [
           {
            "colorbar": {
             "outlinewidth": 0,
             "ticks": ""
            },
            "colorscale": [
             [
              0,
              "#0d0887"
             ],
             [
              0.1111111111111111,
              "#46039f"
             ],
             [
              0.2222222222222222,
              "#7201a8"
             ],
             [
              0.3333333333333333,
              "#9c179e"
             ],
             [
              0.4444444444444444,
              "#bd3786"
             ],
             [
              0.5555555555555556,
              "#d8576b"
             ],
             [
              0.6666666666666666,
              "#ed7953"
             ],
             [
              0.7777777777777778,
              "#fb9f3a"
             ],
             [
              0.8888888888888888,
              "#fdca26"
             ],
             [
              1,
              "#f0f921"
             ]
            ],
            "type": "heatmapgl"
           }
          ],
          "histogram": [
           {
            "marker": {
             "pattern": {
              "fillmode": "overlay",
              "size": 10,
              "solidity": 0.2
             }
            },
            "type": "histogram"
           }
          ],
          "histogram2d": [
           {
            "colorbar": {
             "outlinewidth": 0,
             "ticks": ""
            },
            "colorscale": [
             [
              0,
              "#0d0887"
             ],
             [
              0.1111111111111111,
              "#46039f"
             ],
             [
              0.2222222222222222,
              "#7201a8"
             ],
             [
              0.3333333333333333,
              "#9c179e"
             ],
             [
              0.4444444444444444,
              "#bd3786"
             ],
             [
              0.5555555555555556,
              "#d8576b"
             ],
             [
              0.6666666666666666,
              "#ed7953"
             ],
             [
              0.7777777777777778,
              "#fb9f3a"
             ],
             [
              0.8888888888888888,
              "#fdca26"
             ],
             [
              1,
              "#f0f921"
             ]
            ],
            "type": "histogram2d"
           }
          ],
          "histogram2dcontour": [
           {
            "colorbar": {
             "outlinewidth": 0,
             "ticks": ""
            },
            "colorscale": [
             [
              0,
              "#0d0887"
             ],
             [
              0.1111111111111111,
              "#46039f"
             ],
             [
              0.2222222222222222,
              "#7201a8"
             ],
             [
              0.3333333333333333,
              "#9c179e"
             ],
             [
              0.4444444444444444,
              "#bd3786"
             ],
             [
              0.5555555555555556,
              "#d8576b"
             ],
             [
              0.6666666666666666,
              "#ed7953"
             ],
             [
              0.7777777777777778,
              "#fb9f3a"
             ],
             [
              0.8888888888888888,
              "#fdca26"
             ],
             [
              1,
              "#f0f921"
             ]
            ],
            "type": "histogram2dcontour"
           }
          ],
          "mesh3d": [
           {
            "colorbar": {
             "outlinewidth": 0,
             "ticks": ""
            },
            "type": "mesh3d"
           }
          ],
          "parcoords": [
           {
            "line": {
             "colorbar": {
              "outlinewidth": 0,
              "ticks": ""
             }
            },
            "type": "parcoords"
           }
          ],
          "pie": [
           {
            "automargin": true,
            "type": "pie"
           }
          ],
          "scatter": [
           {
            "fillpattern": {
             "fillmode": "overlay",
             "size": 10,
             "solidity": 0.2
            },
            "type": "scatter"
           }
          ],
          "scatter3d": [
           {
            "line": {
             "colorbar": {
              "outlinewidth": 0,
              "ticks": ""
             }
            },
            "marker": {
             "colorbar": {
              "outlinewidth": 0,
              "ticks": ""
             }
            },
            "type": "scatter3d"
           }
          ],
          "scattercarpet": [
           {
            "marker": {
             "colorbar": {
              "outlinewidth": 0,
              "ticks": ""
             }
            },
            "type": "scattercarpet"
           }
          ],
          "scattergeo": [
           {
            "marker": {
             "colorbar": {
              "outlinewidth": 0,
              "ticks": ""
             }
            },
            "type": "scattergeo"
           }
          ],
          "scattergl": [
           {
            "marker": {
             "colorbar": {
              "outlinewidth": 0,
              "ticks": ""
             }
            },
            "type": "scattergl"
           }
          ],
          "scattermapbox": [
           {
            "marker": {
             "colorbar": {
              "outlinewidth": 0,
              "ticks": ""
             }
            },
            "type": "scattermapbox"
           }
          ],
          "scatterpolar": [
           {
            "marker": {
             "colorbar": {
              "outlinewidth": 0,
              "ticks": ""
             }
            },
            "type": "scatterpolar"
           }
          ],
          "scatterpolargl": [
           {
            "marker": {
             "colorbar": {
              "outlinewidth": 0,
              "ticks": ""
             }
            },
            "type": "scatterpolargl"
           }
          ],
          "scatterternary": [
           {
            "marker": {
             "colorbar": {
              "outlinewidth": 0,
              "ticks": ""
             }
            },
            "type": "scatterternary"
           }
          ],
          "surface": [
           {
            "colorbar": {
             "outlinewidth": 0,
             "ticks": ""
            },
            "colorscale": [
             [
              0,
              "#0d0887"
             ],
             [
              0.1111111111111111,
              "#46039f"
             ],
             [
              0.2222222222222222,
              "#7201a8"
             ],
             [
              0.3333333333333333,
              "#9c179e"
             ],
             [
              0.4444444444444444,
              "#bd3786"
             ],
             [
              0.5555555555555556,
              "#d8576b"
             ],
             [
              0.6666666666666666,
              "#ed7953"
             ],
             [
              0.7777777777777778,
              "#fb9f3a"
             ],
             [
              0.8888888888888888,
              "#fdca26"
             ],
             [
              1,
              "#f0f921"
             ]
            ],
            "type": "surface"
           }
          ],
          "table": [
           {
            "cells": {
             "fill": {
              "color": "#EBF0F8"
             },
             "line": {
              "color": "white"
             }
            },
            "header": {
             "fill": {
              "color": "#C8D4E3"
             },
             "line": {
              "color": "white"
             }
            },
            "type": "table"
           }
          ]
         },
         "layout": {
          "annotationdefaults": {
           "arrowcolor": "#2a3f5f",
           "arrowhead": 0,
           "arrowwidth": 1
          },
          "autotypenumbers": "strict",
          "coloraxis": {
           "colorbar": {
            "outlinewidth": 0,
            "ticks": ""
           }
          },
          "colorscale": {
           "diverging": [
            [
             0,
             "#8e0152"
            ],
            [
             0.1,
             "#c51b7d"
            ],
            [
             0.2,
             "#de77ae"
            ],
            [
             0.3,
             "#f1b6da"
            ],
            [
             0.4,
             "#fde0ef"
            ],
            [
             0.5,
             "#f7f7f7"
            ],
            [
             0.6,
             "#e6f5d0"
            ],
            [
             0.7,
             "#b8e186"
            ],
            [
             0.8,
             "#7fbc41"
            ],
            [
             0.9,
             "#4d9221"
            ],
            [
             1,
             "#276419"
            ]
           ],
           "sequential": [
            [
             0,
             "#0d0887"
            ],
            [
             0.1111111111111111,
             "#46039f"
            ],
            [
             0.2222222222222222,
             "#7201a8"
            ],
            [
             0.3333333333333333,
             "#9c179e"
            ],
            [
             0.4444444444444444,
             "#bd3786"
            ],
            [
             0.5555555555555556,
             "#d8576b"
            ],
            [
             0.6666666666666666,
             "#ed7953"
            ],
            [
             0.7777777777777778,
             "#fb9f3a"
            ],
            [
             0.8888888888888888,
             "#fdca26"
            ],
            [
             1,
             "#f0f921"
            ]
           ],
           "sequentialminus": [
            [
             0,
             "#0d0887"
            ],
            [
             0.1111111111111111,
             "#46039f"
            ],
            [
             0.2222222222222222,
             "#7201a8"
            ],
            [
             0.3333333333333333,
             "#9c179e"
            ],
            [
             0.4444444444444444,
             "#bd3786"
            ],
            [
             0.5555555555555556,
             "#d8576b"
            ],
            [
             0.6666666666666666,
             "#ed7953"
            ],
            [
             0.7777777777777778,
             "#fb9f3a"
            ],
            [
             0.8888888888888888,
             "#fdca26"
            ],
            [
             1,
             "#f0f921"
            ]
           ]
          },
          "colorway": [
           "#636efa",
           "#EF553B",
           "#00cc96",
           "#ab63fa",
           "#FFA15A",
           "#19d3f3",
           "#FF6692",
           "#B6E880",
           "#FF97FF",
           "#FECB52"
          ],
          "font": {
           "color": "#2a3f5f"
          },
          "geo": {
           "bgcolor": "white",
           "lakecolor": "white",
           "landcolor": "#E5ECF6",
           "showlakes": true,
           "showland": true,
           "subunitcolor": "white"
          },
          "hoverlabel": {
           "align": "left"
          },
          "hovermode": "closest",
          "mapbox": {
           "style": "light"
          },
          "paper_bgcolor": "white",
          "plot_bgcolor": "#E5ECF6",
          "polar": {
           "angularaxis": {
            "gridcolor": "white",
            "linecolor": "white",
            "ticks": ""
           },
           "bgcolor": "#E5ECF6",
           "radialaxis": {
            "gridcolor": "white",
            "linecolor": "white",
            "ticks": ""
           }
          },
          "scene": {
           "xaxis": {
            "backgroundcolor": "#E5ECF6",
            "gridcolor": "white",
            "gridwidth": 2,
            "linecolor": "white",
            "showbackground": true,
            "ticks": "",
            "zerolinecolor": "white"
           },
           "yaxis": {
            "backgroundcolor": "#E5ECF6",
            "gridcolor": "white",
            "gridwidth": 2,
            "linecolor": "white",
            "showbackground": true,
            "ticks": "",
            "zerolinecolor": "white"
           },
           "zaxis": {
            "backgroundcolor": "#E5ECF6",
            "gridcolor": "white",
            "gridwidth": 2,
            "linecolor": "white",
            "showbackground": true,
            "ticks": "",
            "zerolinecolor": "white"
           }
          },
          "shapedefaults": {
           "line": {
            "color": "#2a3f5f"
           }
          },
          "ternary": {
           "aaxis": {
            "gridcolor": "white",
            "linecolor": "white",
            "ticks": ""
           },
           "baxis": {
            "gridcolor": "white",
            "linecolor": "white",
            "ticks": ""
           },
           "bgcolor": "#E5ECF6",
           "caxis": {
            "gridcolor": "white",
            "linecolor": "white",
            "ticks": ""
           }
          },
          "title": {
           "x": 0.05
          },
          "xaxis": {
           "automargin": true,
           "gridcolor": "white",
           "linecolor": "white",
           "ticks": "",
           "title": {
            "standoff": 15
           },
           "zerolinecolor": "white",
           "zerolinewidth": 2
          },
          "yaxis": {
           "automargin": true,
           "gridcolor": "white",
           "linecolor": "white",
           "ticks": "",
           "title": {
            "standoff": 15
           },
           "zerolinecolor": "white",
           "zerolinewidth": 2
          }
         }
        }
       }
      }
     },
     "metadata": {},
     "output_type": "display_data"
    }
   ],
   "source": [
    "plots('city',Top10=True)"
   ]
  },
  {
   "cell_type": "markdown",
   "metadata": {},
   "source": [
    "# *Second Conclusion*\n",
    "### The second summary, after what we saw in the first summary, is that `London City` has the largest  share of the purchase of our products, with `46 invoices`, but after combining the prices of these invoices, we found that it occupies `fifth place` with a total invoice price of `54.4702k`, at a rate of `8.71%`, while the city of `Graz City` came in `first place` with total invoice prices. = `113.2367k`, `18.1%`. While the `USA Country` leads with a total of   `247.245k` invoices, or `18.9%`, after it was equal to `Germany Country` in the number of invoices with `121 invoices`.\n",
    "\n",
    "### الملخص الثانى بعد ما رأينا فى الملخص الاول ان لندن تمتلك أكبر حصة من شراء منتجاتنا بواقع 46 فاتورة لكن بعد دمج اسعار هذة الفواتير وجدنا انها تحتل المركز الخامس ب مجموع اسعار فواتير 54.4702 الف و بنسبة 8.71% بينا جاء المدينة غراتس فى المركز الأول بمجموع اسعار فواتير = 113.2367 الف بنسبة 18.1% . بينما تتصدر دولة الولايات المتحدة الامريكية بجموع فواتير 247.245 الف وبنسبة 18.9 % بعد ما كانت تتساوى مع المانيا فى عدد الفواتير بعدد 121 فاتورة "
   ]
  },
  {
   "cell_type": "markdown",
   "metadata": {},
   "source": [
    "# OrderDate vs. Total Amount\n",
    "* ### we will using Time seires"
   ]
  },
  {
   "cell_type": "code",
   "execution_count": 28,
   "metadata": {},
   "outputs": [],
   "source": [
    "date_total = orders[['orderdate','totalamount']]\n",
    "date_total= date_total.set_index('orderdate')"
   ]
  },
  {
   "cell_type": "code",
   "execution_count": 29,
   "metadata": {},
   "outputs": [
    {
     "data": {
      "application/vnd.plotly.v1+json": {
       "config": {
        "plotlyServerURL": "https://plot.ly"
       },
       "data": [
        {
         "hovertemplate": "variable=totalamount<br>orderdate=%{x}<br>value=%{y}<extra></extra>",
         "legendgroup": "totalamount",
         "line": {
          "color": "#636efa",
          "dash": "solid"
         },
         "marker": {
          "symbol": "circle"
         },
         "mode": "lines",
         "name": "totalamount",
         "orientation": "v",
         "showlegend": true,
         "type": "scatter",
         "x": [
          "2012-07-04T00:00:00",
          "2012-07-05T00:00:00",
          "2012-07-08T00:00:00",
          "2012-07-08T00:00:00",
          "2012-07-09T00:00:00",
          "2012-07-10T00:00:00",
          "2012-07-11T00:00:00",
          "2012-07-12T00:00:00",
          "2012-07-15T00:00:00",
          "2012-07-16T00:00:00",
          "2012-07-17T00:00:00",
          "2012-07-18T00:00:00",
          "2012-07-19T00:00:00",
          "2012-07-19T00:00:00",
          "2012-07-22T00:00:00",
          "2012-07-23T00:00:00",
          "2012-07-24T00:00:00",
          "2012-07-25T00:00:00",
          "2012-07-26T00:00:00",
          "2012-07-29T00:00:00",
          "2012-07-30T00:00:00",
          "2012-07-31T00:00:00",
          "2012-08-01T00:00:00",
          "2012-08-01T00:00:00",
          "2012-08-02T00:00:00",
          "2012-08-05T00:00:00",
          "2012-08-06T00:00:00",
          "2012-08-07T00:00:00",
          "2012-08-08T00:00:00",
          "2012-08-09T00:00:00",
          "2012-08-12T00:00:00",
          "2012-08-13T00:00:00",
          "2012-08-14T00:00:00",
          "2012-08-14T00:00:00",
          "2012-08-15T00:00:00",
          "2012-08-16T00:00:00",
          "2012-08-19T00:00:00",
          "2012-08-20T00:00:00",
          "2012-08-21T00:00:00",
          "2012-08-22T00:00:00",
          "2012-08-23T00:00:00",
          "2012-08-26T00:00:00",
          "2012-08-27T00:00:00",
          "2012-08-27T00:00:00",
          "2012-08-28T00:00:00",
          "2012-08-29T00:00:00",
          "2012-08-30T00:00:00",
          "2012-09-02T00:00:00",
          "2012-09-03T00:00:00",
          "2012-09-04T00:00:00",
          "2012-09-05T00:00:00",
          "2012-09-06T00:00:00",
          "2012-09-09T00:00:00",
          "2012-09-09T00:00:00",
          "2012-09-10T00:00:00",
          "2012-09-11T00:00:00",
          "2012-09-12T00:00:00",
          "2012-09-13T00:00:00",
          "2012-09-16T00:00:00",
          "2012-09-17T00:00:00",
          "2012-09-18T00:00:00",
          "2012-09-19T00:00:00",
          "2012-09-20T00:00:00",
          "2012-09-20T00:00:00",
          "2012-09-23T00:00:00",
          "2012-09-24T00:00:00",
          "2012-09-25T00:00:00",
          "2012-09-26T00:00:00",
          "2012-09-27T00:00:00",
          "2012-09-30T00:00:00",
          "2012-10-01T00:00:00",
          "2012-10-02T00:00:00",
          "2012-10-03T00:00:00",
          "2012-10-03T00:00:00",
          "2012-10-04T00:00:00",
          "2012-10-07T00:00:00",
          "2012-10-08T00:00:00",
          "2012-10-09T00:00:00",
          "2012-10-10T00:00:00",
          "2012-10-11T00:00:00",
          "2012-10-14T00:00:00",
          "2012-10-15T00:00:00",
          "2012-10-16T00:00:00",
          "2012-10-16T00:00:00",
          "2012-10-17T00:00:00",
          "2012-10-18T00:00:00",
          "2012-10-21T00:00:00",
          "2012-10-22T00:00:00",
          "2012-10-23T00:00:00",
          "2012-10-24T00:00:00",
          "2012-10-25T00:00:00",
          "2012-10-28T00:00:00",
          "2012-10-29T00:00:00",
          "2012-10-29T00:00:00",
          "2012-10-30T00:00:00",
          "2012-10-31T00:00:00",
          "2012-11-01T00:00:00",
          "2012-11-04T00:00:00",
          "2012-11-05T00:00:00",
          "2012-11-06T00:00:00",
          "2012-11-07T00:00:00",
          "2012-11-08T00:00:00",
          "2012-11-11T00:00:00",
          "2012-11-11T00:00:00",
          "2012-11-12T00:00:00",
          "2012-11-13T00:00:00",
          "2012-11-14T00:00:00",
          "2012-11-15T00:00:00",
          "2012-11-18T00:00:00",
          "2012-11-19T00:00:00",
          "2012-11-20T00:00:00",
          "2012-11-21T00:00:00",
          "2012-11-22T00:00:00",
          "2012-11-22T00:00:00",
          "2012-11-25T00:00:00",
          "2012-11-26T00:00:00",
          "2012-11-26T00:00:00",
          "2012-11-27T00:00:00",
          "2012-11-28T00:00:00",
          "2012-11-28T00:00:00",
          "2012-11-29T00:00:00",
          "2012-12-02T00:00:00",
          "2012-12-03T00:00:00",
          "2012-12-03T00:00:00",
          "2012-12-04T00:00:00",
          "2012-12-05T00:00:00",
          "2012-12-05T00:00:00",
          "2012-12-06T00:00:00",
          "2012-12-09T00:00:00",
          "2012-12-09T00:00:00",
          "2012-12-10T00:00:00",
          "2012-12-11T00:00:00",
          "2012-12-12T00:00:00",
          "2012-12-12T00:00:00",
          "2012-12-13T00:00:00",
          "2012-12-16T00:00:00",
          "2012-12-16T00:00:00",
          "2012-12-17T00:00:00",
          "2012-12-18T00:00:00",
          "2012-12-18T00:00:00",
          "2012-12-19T00:00:00",
          "2012-12-20T00:00:00",
          "2012-12-23T00:00:00",
          "2012-12-23T00:00:00",
          "2012-12-24T00:00:00",
          "2012-12-25T00:00:00",
          "2012-12-25T00:00:00",
          "2012-12-26T00:00:00",
          "2012-12-27T00:00:00",
          "2012-12-27T00:00:00",
          "2012-12-30T00:00:00",
          "2012-12-31T00:00:00",
          "2013-01-01T00:00:00",
          "2013-01-01T00:00:00",
          "2013-01-02T00:00:00",
          "2013-01-03T00:00:00",
          "2013-01-03T00:00:00",
          "2013-01-06T00:00:00",
          "2013-01-07T00:00:00",
          "2013-01-07T00:00:00",
          "2013-01-08T00:00:00",
          "2013-01-09T00:00:00",
          "2013-01-10T00:00:00",
          "2013-01-10T00:00:00",
          "2013-01-13T00:00:00",
          "2013-01-14T00:00:00",
          "2013-01-14T00:00:00",
          "2013-01-15T00:00:00",
          "2013-01-16T00:00:00",
          "2013-01-16T00:00:00",
          "2013-01-17T00:00:00",
          "2013-01-20T00:00:00",
          "2013-01-21T00:00:00",
          "2013-01-21T00:00:00",
          "2013-01-22T00:00:00",
          "2013-01-23T00:00:00",
          "2013-01-23T00:00:00",
          "2013-01-24T00:00:00",
          "2013-01-27T00:00:00",
          "2013-01-27T00:00:00",
          "2013-01-28T00:00:00",
          "2013-01-29T00:00:00",
          "2013-01-30T00:00:00",
          "2013-01-30T00:00:00",
          "2013-01-31T00:00:00",
          "2013-02-03T00:00:00",
          "2013-02-03T00:00:00",
          "2013-02-04T00:00:00",
          "2013-02-05T00:00:00",
          "2013-02-05T00:00:00",
          "2013-02-06T00:00:00",
          "2013-02-07T00:00:00",
          "2013-02-10T00:00:00",
          "2013-02-10T00:00:00",
          "2013-02-11T00:00:00",
          "2013-02-12T00:00:00",
          "2013-02-12T00:00:00",
          "2013-02-13T00:00:00",
          "2013-02-14T00:00:00",
          "2013-02-14T00:00:00",
          "2013-02-17T00:00:00",
          "2013-02-18T00:00:00",
          "2013-02-19T00:00:00",
          "2013-02-19T00:00:00",
          "2013-02-20T00:00:00",
          "2013-02-21T00:00:00",
          "2013-02-21T00:00:00",
          "2013-02-24T00:00:00",
          "2013-02-25T00:00:00",
          "2013-02-25T00:00:00",
          "2013-02-26T00:00:00",
          "2013-02-27T00:00:00",
          "2013-02-28T00:00:00",
          "2013-02-28T00:00:00",
          "2013-03-03T00:00:00",
          "2013-03-04T00:00:00",
          "2013-03-04T00:00:00",
          "2013-03-05T00:00:00",
          "2013-03-06T00:00:00",
          "2013-03-06T00:00:00",
          "2013-03-07T00:00:00",
          "2013-03-10T00:00:00",
          "2013-03-11T00:00:00",
          "2013-03-11T00:00:00",
          "2013-03-12T00:00:00",
          "2013-03-13T00:00:00",
          "2013-03-13T00:00:00",
          "2013-03-14T00:00:00",
          "2013-03-17T00:00:00",
          "2013-03-17T00:00:00",
          "2013-03-18T00:00:00",
          "2013-03-19T00:00:00",
          "2013-03-20T00:00:00",
          "2013-03-20T00:00:00",
          "2013-03-21T00:00:00",
          "2013-03-24T00:00:00",
          "2013-03-24T00:00:00",
          "2013-03-25T00:00:00",
          "2013-03-26T00:00:00",
          "2013-03-26T00:00:00",
          "2013-03-27T00:00:00",
          "2013-03-28T00:00:00",
          "2013-03-31T00:00:00",
          "2013-03-31T00:00:00",
          "2013-04-01T00:00:00",
          "2013-04-02T00:00:00",
          "2013-04-02T00:00:00",
          "2013-04-03T00:00:00",
          "2013-04-04T00:00:00",
          "2013-04-04T00:00:00",
          "2013-04-07T00:00:00",
          "2013-04-08T00:00:00",
          "2013-04-09T00:00:00",
          "2013-04-09T00:00:00",
          "2013-04-10T00:00:00",
          "2013-04-11T00:00:00",
          "2013-04-11T00:00:00",
          "2013-04-14T00:00:00",
          "2013-04-15T00:00:00",
          "2013-04-15T00:00:00",
          "2013-04-16T00:00:00",
          "2013-04-17T00:00:00",
          "2013-04-18T00:00:00",
          "2013-04-18T00:00:00",
          "2013-04-21T00:00:00",
          "2013-04-22T00:00:00",
          "2013-04-22T00:00:00",
          "2013-04-23T00:00:00",
          "2013-04-24T00:00:00",
          "2013-04-24T00:00:00",
          "2013-04-25T00:00:00",
          "2013-04-28T00:00:00",
          "2013-04-29T00:00:00",
          "2013-04-29T00:00:00",
          "2013-04-30T00:00:00",
          "2013-05-01T00:00:00",
          "2013-05-01T00:00:00",
          "2013-05-02T00:00:00",
          "2013-05-05T00:00:00",
          "2013-05-05T00:00:00",
          "2013-05-06T00:00:00",
          "2013-05-07T00:00:00",
          "2013-05-08T00:00:00",
          "2013-05-08T00:00:00",
          "2013-05-09T00:00:00",
          "2013-05-12T00:00:00",
          "2013-05-12T00:00:00",
          "2013-05-13T00:00:00",
          "2013-05-14T00:00:00",
          "2013-05-14T00:00:00",
          "2013-05-15T00:00:00",
          "2013-05-16T00:00:00",
          "2013-05-19T00:00:00",
          "2013-05-19T00:00:00",
          "2013-05-20T00:00:00",
          "2013-05-21T00:00:00",
          "2013-05-21T00:00:00",
          "2013-05-22T00:00:00",
          "2013-05-23T00:00:00",
          "2013-05-23T00:00:00",
          "2013-05-26T00:00:00",
          "2013-05-27T00:00:00",
          "2013-05-28T00:00:00",
          "2013-05-28T00:00:00",
          "2013-05-29T00:00:00",
          "2013-05-30T00:00:00",
          "2013-05-30T00:00:00",
          "2013-06-02T00:00:00",
          "2013-06-03T00:00:00",
          "2013-06-03T00:00:00",
          "2013-06-04T00:00:00",
          "2013-06-05T00:00:00",
          "2013-06-06T00:00:00",
          "2013-06-06T00:00:00",
          "2013-06-09T00:00:00",
          "2013-06-10T00:00:00",
          "2013-06-10T00:00:00",
          "2013-06-11T00:00:00",
          "2013-06-12T00:00:00",
          "2013-06-12T00:00:00",
          "2013-06-13T00:00:00",
          "2013-06-16T00:00:00",
          "2013-06-17T00:00:00",
          "2013-06-17T00:00:00",
          "2013-06-18T00:00:00",
          "2013-06-19T00:00:00",
          "2013-06-19T00:00:00",
          "2013-06-20T00:00:00",
          "2013-06-23T00:00:00",
          "2013-06-23T00:00:00",
          "2013-06-24T00:00:00",
          "2013-06-25T00:00:00",
          "2013-06-26T00:00:00",
          "2013-06-26T00:00:00",
          "2013-06-27T00:00:00",
          "2013-06-30T00:00:00",
          "2013-06-30T00:00:00",
          "2013-07-01T00:00:00",
          "2013-07-02T00:00:00",
          "2013-07-02T00:00:00",
          "2013-07-03T00:00:00",
          "2013-07-04T00:00:00",
          "2013-07-07T00:00:00",
          "2013-07-07T00:00:00",
          "2013-07-08T00:00:00",
          "2013-07-09T00:00:00",
          "2013-07-09T00:00:00",
          "2013-07-10T00:00:00",
          "2013-07-11T00:00:00",
          "2013-07-11T00:00:00",
          "2013-07-14T00:00:00",
          "2013-07-15T00:00:00",
          "2013-07-16T00:00:00",
          "2013-07-16T00:00:00",
          "2013-07-17T00:00:00",
          "2013-07-18T00:00:00",
          "2013-07-18T00:00:00",
          "2013-07-21T00:00:00",
          "2013-07-22T00:00:00",
          "2013-07-22T00:00:00",
          "2013-07-23T00:00:00",
          "2013-07-24T00:00:00",
          "2013-07-25T00:00:00",
          "2013-07-25T00:00:00",
          "2013-07-28T00:00:00",
          "2013-07-29T00:00:00",
          "2013-07-29T00:00:00",
          "2013-07-30T00:00:00",
          "2013-07-31T00:00:00",
          "2013-07-31T00:00:00",
          "2013-08-01T00:00:00",
          "2013-08-04T00:00:00",
          "2013-08-05T00:00:00",
          "2013-08-05T00:00:00",
          "2013-08-06T00:00:00",
          "2013-08-07T00:00:00",
          "2013-08-07T00:00:00",
          "2013-08-08T00:00:00",
          "2013-08-11T00:00:00",
          "2013-08-11T00:00:00",
          "2013-08-12T00:00:00",
          "2013-08-12T00:00:00",
          "2013-08-13T00:00:00",
          "2013-08-14T00:00:00",
          "2013-08-14T00:00:00",
          "2013-08-15T00:00:00",
          "2013-08-15T00:00:00",
          "2013-08-18T00:00:00",
          "2013-08-19T00:00:00",
          "2013-08-19T00:00:00",
          "2013-08-20T00:00:00",
          "2013-08-20T00:00:00",
          "2013-08-21T00:00:00",
          "2013-08-22T00:00:00",
          "2013-08-22T00:00:00",
          "2013-08-25T00:00:00",
          "2013-08-25T00:00:00",
          "2013-08-26T00:00:00",
          "2013-08-27T00:00:00",
          "2013-08-27T00:00:00",
          "2013-08-28T00:00:00",
          "2013-08-28T00:00:00",
          "2013-08-29T00:00:00",
          "2013-09-01T00:00:00",
          "2013-09-01T00:00:00",
          "2013-09-02T00:00:00",
          "2013-09-02T00:00:00",
          "2013-09-03T00:00:00",
          "2013-09-04T00:00:00",
          "2013-09-04T00:00:00",
          "2013-09-05T00:00:00",
          "2013-09-05T00:00:00",
          "2013-09-08T00:00:00",
          "2013-09-09T00:00:00",
          "2013-09-09T00:00:00",
          "2013-09-10T00:00:00",
          "2013-09-10T00:00:00",
          "2013-09-11T00:00:00",
          "2013-09-12T00:00:00",
          "2013-09-12T00:00:00",
          "2013-09-15T00:00:00",
          "2013-09-15T00:00:00",
          "2013-09-16T00:00:00",
          "2013-09-17T00:00:00",
          "2013-09-17T00:00:00",
          "2013-09-18T00:00:00",
          "2013-09-18T00:00:00",
          "2013-09-19T00:00:00",
          "2013-09-22T00:00:00",
          "2013-09-22T00:00:00",
          "2013-09-23T00:00:00",
          "2013-09-23T00:00:00",
          "2013-09-24T00:00:00",
          "2013-09-25T00:00:00",
          "2013-09-25T00:00:00",
          "2013-09-26T00:00:00",
          "2013-09-26T00:00:00",
          "2013-09-29T00:00:00",
          "2013-09-30T00:00:00",
          "2013-09-30T00:00:00",
          "2013-10-01T00:00:00",
          "2013-10-01T00:00:00",
          "2013-10-02T00:00:00",
          "2013-10-03T00:00:00",
          "2013-10-03T00:00:00",
          "2013-10-06T00:00:00",
          "2013-10-06T00:00:00",
          "2013-10-07T00:00:00",
          "2013-10-08T00:00:00",
          "2013-10-08T00:00:00",
          "2013-10-09T00:00:00",
          "2013-10-09T00:00:00",
          "2013-10-10T00:00:00",
          "2013-10-13T00:00:00",
          "2013-10-13T00:00:00",
          "2013-10-14T00:00:00",
          "2013-10-14T00:00:00",
          "2013-10-15T00:00:00",
          "2013-10-16T00:00:00",
          "2013-10-16T00:00:00",
          "2013-10-17T00:00:00",
          "2013-10-17T00:00:00",
          "2013-10-20T00:00:00",
          "2013-10-21T00:00:00",
          "2013-10-21T00:00:00",
          "2013-10-22T00:00:00",
          "2013-10-22T00:00:00",
          "2013-10-23T00:00:00",
          "2013-10-24T00:00:00",
          "2013-10-24T00:00:00",
          "2013-10-27T00:00:00",
          "2013-10-27T00:00:00",
          "2013-10-28T00:00:00",
          "2013-10-29T00:00:00",
          "2013-10-29T00:00:00",
          "2013-10-30T00:00:00",
          "2013-10-30T00:00:00",
          "2013-10-31T00:00:00",
          "2013-11-03T00:00:00",
          "2013-11-03T00:00:00",
          "2013-11-04T00:00:00",
          "2013-11-04T00:00:00",
          "2013-11-05T00:00:00",
          "2013-11-06T00:00:00",
          "2013-11-06T00:00:00",
          "2013-11-07T00:00:00",
          "2013-11-07T00:00:00",
          "2013-11-10T00:00:00",
          "2013-11-11T00:00:00",
          "2013-11-11T00:00:00",
          "2013-11-12T00:00:00",
          "2013-11-12T00:00:00",
          "2013-11-13T00:00:00",
          "2013-11-14T00:00:00",
          "2013-11-14T00:00:00",
          "2013-11-17T00:00:00",
          "2013-11-17T00:00:00",
          "2013-11-18T00:00:00",
          "2013-11-19T00:00:00",
          "2013-11-19T00:00:00",
          "2013-11-20T00:00:00",
          "2013-11-20T00:00:00",
          "2013-11-21T00:00:00",
          "2013-11-24T00:00:00",
          "2013-11-24T00:00:00",
          "2013-11-25T00:00:00",
          "2013-11-25T00:00:00",
          "2013-11-26T00:00:00",
          "2013-11-27T00:00:00",
          "2013-11-27T00:00:00",
          "2013-11-28T00:00:00",
          "2013-11-28T00:00:00",
          "2013-12-01T00:00:00",
          "2013-12-02T00:00:00",
          "2013-12-02T00:00:00",
          "2013-12-03T00:00:00",
          "2013-12-03T00:00:00",
          "2013-12-04T00:00:00",
          "2013-12-05T00:00:00",
          "2013-12-05T00:00:00",
          "2013-12-08T00:00:00",
          "2013-12-08T00:00:00",
          "2013-12-09T00:00:00",
          "2013-12-10T00:00:00",
          "2013-12-10T00:00:00",
          "2013-12-11T00:00:00",
          "2013-12-11T00:00:00",
          "2013-12-12T00:00:00",
          "2013-12-15T00:00:00",
          "2013-12-15T00:00:00",
          "2013-12-16T00:00:00",
          "2013-12-16T00:00:00",
          "2013-12-16T00:00:00",
          "2013-12-17T00:00:00",
          "2013-12-17T00:00:00",
          "2013-12-18T00:00:00",
          "2013-12-18T00:00:00",
          "2013-12-18T00:00:00",
          "2013-12-19T00:00:00",
          "2013-12-19T00:00:00",
          "2013-12-22T00:00:00",
          "2013-12-22T00:00:00",
          "2013-12-22T00:00:00",
          "2013-12-23T00:00:00",
          "2013-12-23T00:00:00",
          "2013-12-24T00:00:00",
          "2013-12-24T00:00:00",
          "2013-12-24T00:00:00",
          "2013-12-25T00:00:00",
          "2013-12-25T00:00:00",
          "2013-12-26T00:00:00",
          "2013-12-26T00:00:00",
          "2013-12-26T00:00:00",
          "2013-12-29T00:00:00",
          "2013-12-29T00:00:00",
          "2013-12-30T00:00:00",
          "2013-12-30T00:00:00",
          "2013-12-30T00:00:00",
          "2013-12-31T00:00:00",
          "2013-12-31T00:00:00",
          "2014-01-01T00:00:00",
          "2014-01-01T00:00:00",
          "2014-01-01T00:00:00",
          "2014-01-02T00:00:00",
          "2014-01-02T00:00:00",
          "2014-01-05T00:00:00",
          "2014-01-05T00:00:00",
          "2014-01-05T00:00:00",
          "2014-01-06T00:00:00",
          "2014-01-06T00:00:00",
          "2014-01-07T00:00:00",
          "2014-01-07T00:00:00",
          "2014-01-07T00:00:00",
          "2014-01-08T00:00:00",
          "2014-01-08T00:00:00",
          "2014-01-09T00:00:00",
          "2014-01-09T00:00:00",
          "2014-01-09T00:00:00",
          "2014-01-12T00:00:00",
          "2014-01-12T00:00:00",
          "2014-01-13T00:00:00",
          "2014-01-13T00:00:00",
          "2014-01-13T00:00:00",
          "2014-01-14T00:00:00",
          "2014-01-14T00:00:00",
          "2014-01-15T00:00:00",
          "2014-01-15T00:00:00",
          "2014-01-15T00:00:00",
          "2014-01-16T00:00:00",
          "2014-01-16T00:00:00",
          "2014-01-19T00:00:00",
          "2014-01-19T00:00:00",
          "2014-01-19T00:00:00",
          "2014-01-20T00:00:00",
          "2014-01-20T00:00:00",
          "2014-01-21T00:00:00",
          "2014-01-21T00:00:00",
          "2014-01-21T00:00:00",
          "2014-01-22T00:00:00",
          "2014-01-22T00:00:00",
          "2014-01-23T00:00:00",
          "2014-01-23T00:00:00",
          "2014-01-23T00:00:00",
          "2014-01-26T00:00:00",
          "2014-01-26T00:00:00",
          "2014-01-27T00:00:00",
          "2014-01-27T00:00:00",
          "2014-01-27T00:00:00",
          "2014-01-28T00:00:00",
          "2014-01-28T00:00:00",
          "2014-01-29T00:00:00",
          "2014-01-29T00:00:00",
          "2014-01-29T00:00:00",
          "2014-01-30T00:00:00",
          "2014-01-30T00:00:00",
          "2014-02-02T00:00:00",
          "2014-02-02T00:00:00",
          "2014-02-03T00:00:00",
          "2014-02-03T00:00:00",
          "2014-02-04T00:00:00",
          "2014-02-04T00:00:00",
          "2014-02-04T00:00:00",
          "2014-02-05T00:00:00",
          "2014-02-05T00:00:00",
          "2014-02-06T00:00:00",
          "2014-02-06T00:00:00",
          "2014-02-06T00:00:00",
          "2014-02-09T00:00:00",
          "2014-02-09T00:00:00",
          "2014-02-10T00:00:00",
          "2014-02-10T00:00:00",
          "2014-02-10T00:00:00",
          "2014-02-11T00:00:00",
          "2014-02-11T00:00:00",
          "2014-02-12T00:00:00",
          "2014-02-12T00:00:00",
          "2014-02-12T00:00:00",
          "2014-02-13T00:00:00",
          "2014-02-13T00:00:00",
          "2014-02-16T00:00:00",
          "2014-02-16T00:00:00",
          "2014-02-16T00:00:00",
          "2014-02-17T00:00:00",
          "2014-02-17T00:00:00",
          "2014-02-18T00:00:00",
          "2014-02-18T00:00:00",
          "2014-02-18T00:00:00",
          "2014-02-19T00:00:00",
          "2014-02-19T00:00:00",
          "2014-02-20T00:00:00",
          "2014-02-20T00:00:00",
          "2014-02-20T00:00:00",
          "2014-02-23T00:00:00",
          "2014-02-23T00:00:00",
          "2014-02-24T00:00:00",
          "2014-02-24T00:00:00",
          "2014-02-24T00:00:00",
          "2014-02-25T00:00:00",
          "2014-02-25T00:00:00",
          "2014-02-26T00:00:00",
          "2014-02-26T00:00:00",
          "2014-02-26T00:00:00",
          "2014-02-26T00:00:00",
          "2014-02-26T00:00:00",
          "2014-02-26T00:00:00",
          "2014-02-27T00:00:00",
          "2014-02-27T00:00:00",
          "2014-02-27T00:00:00",
          "2014-03-02T00:00:00",
          "2014-03-02T00:00:00",
          "2014-03-02T00:00:00",
          "2014-03-03T00:00:00",
          "2014-03-03T00:00:00",
          "2014-03-03T00:00:00",
          "2014-03-03T00:00:00",
          "2014-03-04T00:00:00",
          "2014-03-04T00:00:00",
          "2014-03-04T00:00:00",
          "2014-03-05T00:00:00",
          "2014-03-05T00:00:00",
          "2014-03-05T00:00:00",
          "2014-03-06T00:00:00",
          "2014-03-06T00:00:00",
          "2014-03-06T00:00:00",
          "2014-03-06T00:00:00",
          "2014-03-09T00:00:00",
          "2014-03-09T00:00:00",
          "2014-03-09T00:00:00",
          "2014-03-10T00:00:00",
          "2014-03-10T00:00:00",
          "2014-03-10T00:00:00",
          "2014-03-11T00:00:00",
          "2014-03-11T00:00:00",
          "2014-03-11T00:00:00",
          "2014-03-11T00:00:00",
          "2014-03-12T00:00:00",
          "2014-03-12T00:00:00",
          "2014-03-12T00:00:00",
          "2014-03-13T00:00:00",
          "2014-03-13T00:00:00",
          "2014-03-13T00:00:00",
          "2014-03-16T00:00:00",
          "2014-03-16T00:00:00",
          "2014-03-16T00:00:00",
          "2014-03-16T00:00:00",
          "2014-03-17T00:00:00",
          "2014-03-17T00:00:00",
          "2014-03-17T00:00:00",
          "2014-03-18T00:00:00",
          "2014-03-18T00:00:00",
          "2014-03-18T00:00:00",
          "2014-03-19T00:00:00",
          "2014-03-19T00:00:00",
          "2014-03-19T00:00:00",
          "2014-03-19T00:00:00",
          "2014-03-20T00:00:00",
          "2014-03-20T00:00:00",
          "2014-03-20T00:00:00",
          "2014-03-23T00:00:00",
          "2014-03-23T00:00:00",
          "2014-03-23T00:00:00",
          "2014-03-24T00:00:00",
          "2014-03-24T00:00:00",
          "2014-03-24T00:00:00",
          "2014-03-24T00:00:00",
          "2014-03-25T00:00:00",
          "2014-03-25T00:00:00",
          "2014-03-25T00:00:00",
          "2014-03-26T00:00:00",
          "2014-03-26T00:00:00",
          "2014-03-26T00:00:00",
          "2014-03-27T00:00:00",
          "2014-03-27T00:00:00",
          "2014-03-27T00:00:00",
          "2014-03-30T00:00:00",
          "2014-03-30T00:00:00",
          "2014-03-30T00:00:00",
          "2014-03-31T00:00:00",
          "2014-03-31T00:00:00",
          "2014-03-31T00:00:00",
          "2014-04-01T00:00:00",
          "2014-04-01T00:00:00",
          "2014-04-01T00:00:00",
          "2014-04-01T00:00:00",
          "2014-04-02T00:00:00",
          "2014-04-02T00:00:00",
          "2014-04-02T00:00:00",
          "2014-04-03T00:00:00",
          "2014-04-03T00:00:00",
          "2014-04-03T00:00:00",
          "2014-04-06T00:00:00",
          "2014-04-06T00:00:00",
          "2014-04-06T00:00:00",
          "2014-04-06T00:00:00",
          "2014-04-07T00:00:00",
          "2014-04-07T00:00:00",
          "2014-04-07T00:00:00",
          "2014-04-08T00:00:00",
          "2014-04-08T00:00:00",
          "2014-04-08T00:00:00",
          "2014-04-09T00:00:00",
          "2014-04-09T00:00:00",
          "2014-04-09T00:00:00",
          "2014-04-09T00:00:00",
          "2014-04-10T00:00:00",
          "2014-04-10T00:00:00",
          "2014-04-10T00:00:00",
          "2014-04-13T00:00:00",
          "2014-04-13T00:00:00",
          "2014-04-13T00:00:00",
          "2014-04-14T00:00:00",
          "2014-04-14T00:00:00",
          "2014-04-14T00:00:00",
          "2014-04-14T00:00:00",
          "2014-04-15T00:00:00",
          "2014-04-15T00:00:00",
          "2014-04-15T00:00:00",
          "2014-04-16T00:00:00",
          "2014-04-16T00:00:00",
          "2014-04-16T00:00:00",
          "2014-04-17T00:00:00",
          "2014-04-17T00:00:00",
          "2014-04-17T00:00:00",
          "2014-04-20T00:00:00",
          "2014-04-20T00:00:00",
          "2014-04-20T00:00:00",
          "2014-04-21T00:00:00",
          "2014-04-21T00:00:00",
          "2014-04-21T00:00:00",
          "2014-04-22T00:00:00",
          "2014-04-22T00:00:00",
          "2014-04-22T00:00:00",
          "2014-04-22T00:00:00",
          "2014-04-23T00:00:00",
          "2014-04-23T00:00:00",
          "2014-04-23T00:00:00",
          "2014-04-24T00:00:00",
          "2014-04-24T00:00:00",
          "2014-04-24T00:00:00",
          "2014-04-27T00:00:00",
          "2014-04-27T00:00:00",
          "2014-04-27T00:00:00",
          "2014-04-27T00:00:00",
          "2014-04-28T00:00:00",
          "2014-04-28T00:00:00",
          "2014-04-28T00:00:00",
          "2014-04-29T00:00:00",
          "2014-04-29T00:00:00",
          "2014-04-29T00:00:00",
          "2014-04-30T00:00:00",
          "2014-04-30T00:00:00",
          "2014-04-30T00:00:00",
          "2014-04-30T00:00:00",
          "2014-05-01T00:00:00",
          "2014-05-01T00:00:00",
          "2014-05-01T00:00:00",
          "2014-05-04T00:00:00",
          "2014-05-04T00:00:00",
          "2014-05-04T00:00:00",
          "2014-05-05T00:00:00",
          "2014-05-05T00:00:00",
          "2014-05-05T00:00:00",
          "2014-05-05T00:00:00",
          "2014-05-06T00:00:00",
          "2014-05-06T00:00:00",
          "2014-05-06T00:00:00",
          "2014-05-06T00:00:00"
         ],
         "xaxis": "x",
         "y": [
          440,
          1863.4,
          1813,
          670.8,
          3730,
          1444.8,
          625.2,
          2490.5,
          517.8,
          1119.9,
          2018.6,
          100.8,
          1746.2,
          448,
          624.8,
          2464.8,
          724.5,
          1176,
          364.8,
          4031,
          1101.2,
          676,
          1376,
          48,
          1456,
          2142.4,
          538.6,
          307.2,
          420,
          1200.8,
          1488.8,
          468,
          613.2,
          86.5,
          155.4,
          1414.8,
          1452,
          2179.2,
          3016,
          924,
          89,
          479.4,
          2169,
          552.8,
          1296,
          848.7,
          1887.6,
          121.6,
          1050.6,
          1420,
          3127,
          349.5,
          608,
          755,
          2708.8,
          1242,
          954.4,
          4157,
          498.5,
          424,
          88.8,
          1762,
          336,
          268.8,
          1614.8,
          182.4,
          2327,
          516.8,
          2835,
          288,
          240.4,
          1191.2,
          516,
          144,
          112,
          164.4,
          6155.9,
          1497,
          982,
          2262.5,
          1168,
          4819.4,
          1940,
          88.5,
          2233.6,
          954,
          144.8,
          2545.2,
          316.8,
          2467,
          934.5,
          3463.2,
          2564.4,
          412,
          2300.8,
          1586,
          2856,
          2924.8,
          1731.2,
          928,
          396,
          141.6,
          713.4,
          5677.6,
          154,
          10741.6,
          568.8,
          480,
          1106.4,
          1360,
          452,
          3654.4,
          7390.2,
          2273.6,
          1549.6,
          447.2,
          950,
          403.2,
          136,
          834.2,
          1834.2,
          2527.2,
          1174,
          91.2,
          12281.2,
          1708,
          459,
          338,
          420,
          1016,
          103.2,
          959.2,
          1419.8,
          112,
          2900,
          899,
          2222.4,
          864,
          166,
          1058.4,
          1274,
          1832.8,
          2275.2,
          86.4,
          1440,
          3302.6,
          442,
          2333.2,
          1903.8,
          843.2,
          2736,
          1765.6,
          3063,
          3868.6,
          2713.5,
          1005.9,
          1675,
          400,
          2018.2,
          1194,
          1622.4,
          319.2,
          802,
          1208.5,
          372,
          2123.2,
          231.4,
          102.4,
          720,
          11283.2,
          1814.8,
          2208,
          1897.6,
          1273.2,
          49.8,
          1020,
          11493.2,
          480,
          338.2,
          651,
          192,
          1748.5,
          5796,
          2523,
          485,
          851.2,
          360,
          631.6,
          2210.8,
          393,
          567.5,
          1078,
          5793.1,
          1755,
          1792,
          537.6,
          1031.7,
          174.9,
          273.6,
          914.4,
          443.4,
          1838.2,
          531.4,
          4277.4,
          2096,
          453,
          414,
          2684,
          656,
          1584,
          3891,
          1688,
          234.8,
          2051.6,
          156,
          713.3,
          1848,
          2719,
          216,
          235.2,
          717.6,
          1125.5,
          1820.8,
          1328,
          1051.2,
          230.4,
          1249.1,
          1770.8,
          182.4,
          672,
          496,
          10495.6,
          756,
          1472,
          147,
          704,
          386.2,
          1760,
          1272,
          925.1,
          1560,
          502.2,
          3163.2,
          305.3,
          896,
          676,
          912,
          278,
          200,
          1380.6,
          575,
          1412,
          550.8,
          149,
          816.3,
          2048.5,
          1388.5,
          147.9,
          462,
          881.25,
          240,
          136.8,
          4735.44,
          3000,
          618,
          2427.5,
          8623.45,
          10588.5,
          2614.5,
          352,
          4150.05,
          2356,
          200,
          225.5,
          2657.8,
          2715.9,
          3192.65,
          846,
          1344,
          1670,
          396.2,
          946,
          4180,
          110,
          796.35,
          2295.2,
          517.4,
          2156.5,
          2085,
          1823.8,
          139.8,
          355.5,
          10191.7,
          2162.8,
          493.8,
          1770,
          417.2,
          210,
          2812,
          1908,
          275.1,
          4181.5,
          749,
          1836,
          880.5,
          1546.3,
          1819.5,
          3680.5,
          835.2,
          1152.5,
          2142.9,
          547.8,
          1257.3,
          2844.5,
          543,
          965,
          1299,
          711,
          2040,
          3109,
          155,
          977.5,
          2595,
          647.75,
          1565.65,
          2082,
          764.3,
          2147.4,
          838.45,
          569,
          477,
          317.75,
          1067.1,
          387.5,
          330,
          2413.9,
          625,
          142.5,
          28,
          807.38,
          3900,
          72,
          1140,
          812.5,
          543.65,
          2493,
          565.5,
          6300,
          1476.1,
          800.1,
          2388.5,
          493,
          479.8,
          2285,
          65,
          1508,
          256.5,
          4326,
          1413,
          6475.4,
          1064,
          424,
          399,
          808,
          6375,
          358,
          464,
          120,
          5032,
          1650,
          2697.5,
          1260,
          57.5,
          758.5,
          605,
          1429.75,
          1393.24,
          479.75,
          1503.6,
          1264.5,
          450,
          2775.05,
          918,
          62,
          620,
          6483.05,
          4985.5,
          1380.25,
          629.5,
          2896.25,
          2720.05,
          500,
          945,
          2054,
          870,
          1086,
          1422,
          1535,
          1928,
          636,
          382.5,
          1434,
          1820.2,
          530.4,
          331.78,
          1203.5,
          668.7,
          193,
          671.35,
          4371.6,
          4668,
          1291.6,
          1701,
          703.25,
          125,
          2032,
          1515.75,
          1295,
          4666.94,
          1921,
          694.75,
          570,
          2301.75,
          920.1,
          4210.5,
          412.35,
          45,
          1423,
          534.85,
          956.9,
          5256.5,
          660,
          1682.5,
          1327,
          375.5,
          63,
          1768,
          801.1,
          1638.45,
          6201.9,
          3490,
          630,
          1150,
          10164.8,
          878,
          2334,
          4825,
          642,
          996,
          1073.9,
          3600.73,
          114,
          2048,
          3370,
          330,
          2545,
          595.5,
          378,
          1893,
          1704,
          180.4,
          3424,
          93.5,
          4451.7,
          1238.4,
          2827.9,
          2941,
          1296,
          706,
          1331.75,
          3463,
          1125.67,
          550,
          972.5,
          1570,
          468.45,
          638.5,
          287.8,
          655,
          1710,
          1296.75,
          1850,
          509.75,
          1990,
          360,
          1459,
          1498.35,
          596,
          997,
          139.8,
          52.35,
          240,
          1770,
          285,
          3118,
          336,
          920,
          4529.8,
          2311.7,
          1912.85,
          2196,
          1080,
          1871.25,
          1701.46,
          252,
          88,
          55.2,
          2598,
          2487.5,
          3082,
          1644.6,
          320,
          3304,
          629.5,
          4337,
          616,
          2540,
          1684,
          2310,
          28,
          1477,
          1704,
          315,
          344,
          3603.22,
          2216.25,
          875,
          228,
          6984.5,
          280,
          96.5,
          1335,
          720,
          1132.35,
          12.5,
          1442.5,
          1650,
          387.5,
          1913.85,
          2760.8,
          770,
          3687,
          850,
          1926.06,
          399.85,
          191.1,
          393.45,
          2499.25,
          2878.08,
          420,
          446.6,
          1585,
          1632.15,
          4035.8,
          3923.75,
          1255.8,
          2290.4,
          2775,
          572.1,
          18.4,
          1660,
          140,
          187,
          852,
          1852,
          648,
          2070,
          40,
          8891,
          11490.7,
          833,
          477,
          1140,
          678,
          237.9,
          3107.5,
          250.8,
          1030.76,
          730,
          843,
          932,
          1764,
          1974,
          2684.4,
          568.95,
          1007.7,
          1508.12,
          851,
          4705.5,
          1254,
          2584.5,
          919.5,
          264,
          4581,
          975,
          212,
          735,
          4059,
          1112,
          6164.9,
          931.5,
          1052.14,
          740,
          2740,
          2984,
          625,
          3490,
          2275.25,
          660,
          2630.95,
          649,
          1438.25,
          519,
          3523.4,
          581,
          519,
          282,
          1461.6,
          98.4,
          2004.6,
          1630,
          160,
          2083.4,
          2166.8,
          336.8,
          310,
          729.5,
          917,
          2086,
          1620,
          611.3,
          1875,
          150,
          988.4,
          36,
          1450.6,
          1209,
          3127.5,
          70,
          605,
          11380,
          860.1,
          388.35,
          2200,
          5502.11,
          2898,
          6379.4,
          750.5,
          10835.24,
          30,
          144,
          45,
          934.5,
          1015.8,
          932.05,
          1924.25,
          360,
          427.5,
          108.5,
          698,
          670,
          452.9,
          858,
          8267.4,
          958.75,
          537.5,
          539.5,
          686.7,
          365.89,
          1930,
          1122.8,
          390,
          1936,
          742.5,
          936,
          2034.5,
          559,
          514.4,
          800,
          137.5,
          1174.75,
          2455,
          837,
          1925.5,
          920.6,
          500,
          700,
          570,
          644.8,
          3642.5,
          750,
          360,
          4769,
          560,
          711,
          1139.1,
          245,
          1407.5,
          220,
          2362.25,
          4422,
          110,
          482.9,
          491.2,
          4675,
          1902.1,
          93,
          677,
          1762.7,
          781,
          155,
          276.6,
          1122,
          3584,
          68,
          2052.5,
          848,
          1255.6,
          910.4,
          1408,
          108,
          280,
          1733.06,
          251.5,
          291.55,
          439,
          717.5,
          912,
          2233,
          1500.7,
          4813.5,
          310,
          1014,
          796.5,
          1809.75,
          2248.2,
          2220,
          2772,
          3772,
          1353.6,
          4931,
          2870,
          69.6,
          6527.25,
          990,
          1196,
          560,
          1980,
          686,
          1261,
          1075,
          2769,
          1902,
          326,
          295.38,
          586,
          391.58,
          2633.9,
          4903.5,
          702,
          645,
          960,
          2974,
          361,
          270.2,
          622.35,
          491.5,
          6750,
          1575,
          76,
          744,
          6941.49,
          1402,
          1500,
          1966.81,
          300,
          1030,
          1170.3,
          2160,
          1286.8,
          2393.5,
          8902.5,
          3592,
          554.4,
          1754.5,
          1692,
          60,
          751,
          3090,
          200,
          1887,
          405.75,
          210,
          591.6,
          1309.5,
          1564,
          1090.5,
          525,
          342,
          900,
          45,
          1665,
          3658.75,
          305,
          1727.5,
          3740,
          45,
          858,
          1838,
          266,
          510,
          508,
          1445.5,
          4722.3,
          252.56,
          928.75,
          86.85,
          2384.8,
          360,
          1873.5,
          510,
          5218,
          300,
          244.3,
          586,
          1057,
          1374.6
         ],
         "yaxis": "y"
        }
       ],
       "layout": {
        "legend": {
         "title": {
          "text": "variable"
         },
         "tracegroupgap": 0
        },
        "margin": {
         "t": 60
        },
        "template": {
         "data": {
          "bar": [
           {
            "error_x": {
             "color": "#2a3f5f"
            },
            "error_y": {
             "color": "#2a3f5f"
            },
            "marker": {
             "line": {
              "color": "#E5ECF6",
              "width": 0.5
             },
             "pattern": {
              "fillmode": "overlay",
              "size": 10,
              "solidity": 0.2
             }
            },
            "type": "bar"
           }
          ],
          "barpolar": [
           {
            "marker": {
             "line": {
              "color": "#E5ECF6",
              "width": 0.5
             },
             "pattern": {
              "fillmode": "overlay",
              "size": 10,
              "solidity": 0.2
             }
            },
            "type": "barpolar"
           }
          ],
          "carpet": [
           {
            "aaxis": {
             "endlinecolor": "#2a3f5f",
             "gridcolor": "white",
             "linecolor": "white",
             "minorgridcolor": "white",
             "startlinecolor": "#2a3f5f"
            },
            "baxis": {
             "endlinecolor": "#2a3f5f",
             "gridcolor": "white",
             "linecolor": "white",
             "minorgridcolor": "white",
             "startlinecolor": "#2a3f5f"
            },
            "type": "carpet"
           }
          ],
          "choropleth": [
           {
            "colorbar": {
             "outlinewidth": 0,
             "ticks": ""
            },
            "type": "choropleth"
           }
          ],
          "contour": [
           {
            "colorbar": {
             "outlinewidth": 0,
             "ticks": ""
            },
            "colorscale": [
             [
              0,
              "#0d0887"
             ],
             [
              0.1111111111111111,
              "#46039f"
             ],
             [
              0.2222222222222222,
              "#7201a8"
             ],
             [
              0.3333333333333333,
              "#9c179e"
             ],
             [
              0.4444444444444444,
              "#bd3786"
             ],
             [
              0.5555555555555556,
              "#d8576b"
             ],
             [
              0.6666666666666666,
              "#ed7953"
             ],
             [
              0.7777777777777778,
              "#fb9f3a"
             ],
             [
              0.8888888888888888,
              "#fdca26"
             ],
             [
              1,
              "#f0f921"
             ]
            ],
            "type": "contour"
           }
          ],
          "contourcarpet": [
           {
            "colorbar": {
             "outlinewidth": 0,
             "ticks": ""
            },
            "type": "contourcarpet"
           }
          ],
          "heatmap": [
           {
            "colorbar": {
             "outlinewidth": 0,
             "ticks": ""
            },
            "colorscale": [
             [
              0,
              "#0d0887"
             ],
             [
              0.1111111111111111,
              "#46039f"
             ],
             [
              0.2222222222222222,
              "#7201a8"
             ],
             [
              0.3333333333333333,
              "#9c179e"
             ],
             [
              0.4444444444444444,
              "#bd3786"
             ],
             [
              0.5555555555555556,
              "#d8576b"
             ],
             [
              0.6666666666666666,
              "#ed7953"
             ],
             [
              0.7777777777777778,
              "#fb9f3a"
             ],
             [
              0.8888888888888888,
              "#fdca26"
             ],
             [
              1,
              "#f0f921"
             ]
            ],
            "type": "heatmap"
           }
          ],
          "heatmapgl": [
           {
            "colorbar": {
             "outlinewidth": 0,
             "ticks": ""
            },
            "colorscale": [
             [
              0,
              "#0d0887"
             ],
             [
              0.1111111111111111,
              "#46039f"
             ],
             [
              0.2222222222222222,
              "#7201a8"
             ],
             [
              0.3333333333333333,
              "#9c179e"
             ],
             [
              0.4444444444444444,
              "#bd3786"
             ],
             [
              0.5555555555555556,
              "#d8576b"
             ],
             [
              0.6666666666666666,
              "#ed7953"
             ],
             [
              0.7777777777777778,
              "#fb9f3a"
             ],
             [
              0.8888888888888888,
              "#fdca26"
             ],
             [
              1,
              "#f0f921"
             ]
            ],
            "type": "heatmapgl"
           }
          ],
          "histogram": [
           {
            "marker": {
             "pattern": {
              "fillmode": "overlay",
              "size": 10,
              "solidity": 0.2
             }
            },
            "type": "histogram"
           }
          ],
          "histogram2d": [
           {
            "colorbar": {
             "outlinewidth": 0,
             "ticks": ""
            },
            "colorscale": [
             [
              0,
              "#0d0887"
             ],
             [
              0.1111111111111111,
              "#46039f"
             ],
             [
              0.2222222222222222,
              "#7201a8"
             ],
             [
              0.3333333333333333,
              "#9c179e"
             ],
             [
              0.4444444444444444,
              "#bd3786"
             ],
             [
              0.5555555555555556,
              "#d8576b"
             ],
             [
              0.6666666666666666,
              "#ed7953"
             ],
             [
              0.7777777777777778,
              "#fb9f3a"
             ],
             [
              0.8888888888888888,
              "#fdca26"
             ],
             [
              1,
              "#f0f921"
             ]
            ],
            "type": "histogram2d"
           }
          ],
          "histogram2dcontour": [
           {
            "colorbar": {
             "outlinewidth": 0,
             "ticks": ""
            },
            "colorscale": [
             [
              0,
              "#0d0887"
             ],
             [
              0.1111111111111111,
              "#46039f"
             ],
             [
              0.2222222222222222,
              "#7201a8"
             ],
             [
              0.3333333333333333,
              "#9c179e"
             ],
             [
              0.4444444444444444,
              "#bd3786"
             ],
             [
              0.5555555555555556,
              "#d8576b"
             ],
             [
              0.6666666666666666,
              "#ed7953"
             ],
             [
              0.7777777777777778,
              "#fb9f3a"
             ],
             [
              0.8888888888888888,
              "#fdca26"
             ],
             [
              1,
              "#f0f921"
             ]
            ],
            "type": "histogram2dcontour"
           }
          ],
          "mesh3d": [
           {
            "colorbar": {
             "outlinewidth": 0,
             "ticks": ""
            },
            "type": "mesh3d"
           }
          ],
          "parcoords": [
           {
            "line": {
             "colorbar": {
              "outlinewidth": 0,
              "ticks": ""
             }
            },
            "type": "parcoords"
           }
          ],
          "pie": [
           {
            "automargin": true,
            "type": "pie"
           }
          ],
          "scatter": [
           {
            "fillpattern": {
             "fillmode": "overlay",
             "size": 10,
             "solidity": 0.2
            },
            "type": "scatter"
           }
          ],
          "scatter3d": [
           {
            "line": {
             "colorbar": {
              "outlinewidth": 0,
              "ticks": ""
             }
            },
            "marker": {
             "colorbar": {
              "outlinewidth": 0,
              "ticks": ""
             }
            },
            "type": "scatter3d"
           }
          ],
          "scattercarpet": [
           {
            "marker": {
             "colorbar": {
              "outlinewidth": 0,
              "ticks": ""
             }
            },
            "type": "scattercarpet"
           }
          ],
          "scattergeo": [
           {
            "marker": {
             "colorbar": {
              "outlinewidth": 0,
              "ticks": ""
             }
            },
            "type": "scattergeo"
           }
          ],
          "scattergl": [
           {
            "marker": {
             "colorbar": {
              "outlinewidth": 0,
              "ticks": ""
             }
            },
            "type": "scattergl"
           }
          ],
          "scattermapbox": [
           {
            "marker": {
             "colorbar": {
              "outlinewidth": 0,
              "ticks": ""
             }
            },
            "type": "scattermapbox"
           }
          ],
          "scatterpolar": [
           {
            "marker": {
             "colorbar": {
              "outlinewidth": 0,
              "ticks": ""
             }
            },
            "type": "scatterpolar"
           }
          ],
          "scatterpolargl": [
           {
            "marker": {
             "colorbar": {
              "outlinewidth": 0,
              "ticks": ""
             }
            },
            "type": "scatterpolargl"
           }
          ],
          "scatterternary": [
           {
            "marker": {
             "colorbar": {
              "outlinewidth": 0,
              "ticks": ""
             }
            },
            "type": "scatterternary"
           }
          ],
          "surface": [
           {
            "colorbar": {
             "outlinewidth": 0,
             "ticks": ""
            },
            "colorscale": [
             [
              0,
              "#0d0887"
             ],
             [
              0.1111111111111111,
              "#46039f"
             ],
             [
              0.2222222222222222,
              "#7201a8"
             ],
             [
              0.3333333333333333,
              "#9c179e"
             ],
             [
              0.4444444444444444,
              "#bd3786"
             ],
             [
              0.5555555555555556,
              "#d8576b"
             ],
             [
              0.6666666666666666,
              "#ed7953"
             ],
             [
              0.7777777777777778,
              "#fb9f3a"
             ],
             [
              0.8888888888888888,
              "#fdca26"
             ],
             [
              1,
              "#f0f921"
             ]
            ],
            "type": "surface"
           }
          ],
          "table": [
           {
            "cells": {
             "fill": {
              "color": "#EBF0F8"
             },
             "line": {
              "color": "white"
             }
            },
            "header": {
             "fill": {
              "color": "#C8D4E3"
             },
             "line": {
              "color": "white"
             }
            },
            "type": "table"
           }
          ]
         },
         "layout": {
          "annotationdefaults": {
           "arrowcolor": "#2a3f5f",
           "arrowhead": 0,
           "arrowwidth": 1
          },
          "autotypenumbers": "strict",
          "coloraxis": {
           "colorbar": {
            "outlinewidth": 0,
            "ticks": ""
           }
          },
          "colorscale": {
           "diverging": [
            [
             0,
             "#8e0152"
            ],
            [
             0.1,
             "#c51b7d"
            ],
            [
             0.2,
             "#de77ae"
            ],
            [
             0.3,
             "#f1b6da"
            ],
            [
             0.4,
             "#fde0ef"
            ],
            [
             0.5,
             "#f7f7f7"
            ],
            [
             0.6,
             "#e6f5d0"
            ],
            [
             0.7,
             "#b8e186"
            ],
            [
             0.8,
             "#7fbc41"
            ],
            [
             0.9,
             "#4d9221"
            ],
            [
             1,
             "#276419"
            ]
           ],
           "sequential": [
            [
             0,
             "#0d0887"
            ],
            [
             0.1111111111111111,
             "#46039f"
            ],
            [
             0.2222222222222222,
             "#7201a8"
            ],
            [
             0.3333333333333333,
             "#9c179e"
            ],
            [
             0.4444444444444444,
             "#bd3786"
            ],
            [
             0.5555555555555556,
             "#d8576b"
            ],
            [
             0.6666666666666666,
             "#ed7953"
            ],
            [
             0.7777777777777778,
             "#fb9f3a"
            ],
            [
             0.8888888888888888,
             "#fdca26"
            ],
            [
             1,
             "#f0f921"
            ]
           ],
           "sequentialminus": [
            [
             0,
             "#0d0887"
            ],
            [
             0.1111111111111111,
             "#46039f"
            ],
            [
             0.2222222222222222,
             "#7201a8"
            ],
            [
             0.3333333333333333,
             "#9c179e"
            ],
            [
             0.4444444444444444,
             "#bd3786"
            ],
            [
             0.5555555555555556,
             "#d8576b"
            ],
            [
             0.6666666666666666,
             "#ed7953"
            ],
            [
             0.7777777777777778,
             "#fb9f3a"
            ],
            [
             0.8888888888888888,
             "#fdca26"
            ],
            [
             1,
             "#f0f921"
            ]
           ]
          },
          "colorway": [
           "#636efa",
           "#EF553B",
           "#00cc96",
           "#ab63fa",
           "#FFA15A",
           "#19d3f3",
           "#FF6692",
           "#B6E880",
           "#FF97FF",
           "#FECB52"
          ],
          "font": {
           "color": "#2a3f5f"
          },
          "geo": {
           "bgcolor": "white",
           "lakecolor": "white",
           "landcolor": "#E5ECF6",
           "showlakes": true,
           "showland": true,
           "subunitcolor": "white"
          },
          "hoverlabel": {
           "align": "left"
          },
          "hovermode": "closest",
          "mapbox": {
           "style": "light"
          },
          "paper_bgcolor": "white",
          "plot_bgcolor": "#E5ECF6",
          "polar": {
           "angularaxis": {
            "gridcolor": "white",
            "linecolor": "white",
            "ticks": ""
           },
           "bgcolor": "#E5ECF6",
           "radialaxis": {
            "gridcolor": "white",
            "linecolor": "white",
            "ticks": ""
           }
          },
          "scene": {
           "xaxis": {
            "backgroundcolor": "#E5ECF6",
            "gridcolor": "white",
            "gridwidth": 2,
            "linecolor": "white",
            "showbackground": true,
            "ticks": "",
            "zerolinecolor": "white"
           },
           "yaxis": {
            "backgroundcolor": "#E5ECF6",
            "gridcolor": "white",
            "gridwidth": 2,
            "linecolor": "white",
            "showbackground": true,
            "ticks": "",
            "zerolinecolor": "white"
           },
           "zaxis": {
            "backgroundcolor": "#E5ECF6",
            "gridcolor": "white",
            "gridwidth": 2,
            "linecolor": "white",
            "showbackground": true,
            "ticks": "",
            "zerolinecolor": "white"
           }
          },
          "shapedefaults": {
           "line": {
            "color": "#2a3f5f"
           }
          },
          "ternary": {
           "aaxis": {
            "gridcolor": "white",
            "linecolor": "white",
            "ticks": ""
           },
           "baxis": {
            "gridcolor": "white",
            "linecolor": "white",
            "ticks": ""
           },
           "bgcolor": "#E5ECF6",
           "caxis": {
            "gridcolor": "white",
            "linecolor": "white",
            "ticks": ""
           }
          },
          "title": {
           "x": 0.05
          },
          "xaxis": {
           "automargin": true,
           "gridcolor": "white",
           "linecolor": "white",
           "ticks": "",
           "title": {
            "standoff": 15
           },
           "zerolinecolor": "white",
           "zerolinewidth": 2
          },
          "yaxis": {
           "automargin": true,
           "gridcolor": "white",
           "linecolor": "white",
           "ticks": "",
           "title": {
            "standoff": 15
           },
           "zerolinecolor": "white",
           "zerolinewidth": 2
          }
         }
        },
        "xaxis": {
         "anchor": "y",
         "domain": [
          0,
          1
         ],
         "title": {
          "text": "orderdate"
         }
        },
        "yaxis": {
         "anchor": "x",
         "domain": [
          0,
          1
         ],
         "title": {
          "text": "value"
         }
        }
       }
      }
     },
     "metadata": {},
     "output_type": "display_data"
    }
   ],
   "source": [
    "px.line(data_frame=date_total)"
   ]
  },
  {
   "cell_type": "code",
   "execution_count": 30,
   "metadata": {},
   "outputs": [
    {
     "name": "stderr",
     "output_type": "stream",
     "text": [
      "C:\\Users\\omar\\AppData\\Local\\Temp\\ipykernel_20660\\3315661275.py:2: FutureWarning:\n",
      "\n",
      "'M' is deprecated and will be removed in a future version, please use 'ME' instead.\n",
      "\n"
     ]
    },
    {
     "data": {
      "text/plain": [
       "orderdate\n",
       "2012-07-31   30,192.10\n",
       "2012-08-31   26,609.40\n",
       "2012-09-30   27,636.00\n",
       "2012-10-31   41,203.60\n",
       "2012-11-30   49,704.00\n",
       "Freq: ME, Name: totalamount, dtype: float64"
      ]
     },
     "execution_count": 30,
     "metadata": {},
     "output_type": "execute_result"
    }
   ],
   "source": [
    "# resample in pyhton = groupby in SQL in this case we want groupby month\n",
    "date_total = date_total.totalamount.resample(rule = '1M').sum()\n",
    "date_total.head()"
   ]
  },
  {
   "cell_type": "code",
   "execution_count": 31,
   "metadata": {},
   "outputs": [
    {
     "data": {
      "application/vnd.plotly.v1+json": {
       "config": {
        "plotlyServerURL": "https://plot.ly"
       },
       "data": [
        {
         "hovertemplate": "variable=totalamount<br>orderdate=%{x}<br>value=%{y}<extra></extra>",
         "legendgroup": "totalamount",
         "line": {
          "color": "#636efa",
          "dash": "solid"
         },
         "marker": {
          "symbol": "circle"
         },
         "mode": "lines",
         "name": "totalamount",
         "orientation": "v",
         "showlegend": true,
         "type": "scatter",
         "x": [
          "2012-07-31T00:00:00",
          "2012-08-31T00:00:00",
          "2012-09-30T00:00:00",
          "2012-10-31T00:00:00",
          "2012-11-30T00:00:00",
          "2012-12-31T00:00:00",
          "2013-01-31T00:00:00",
          "2013-02-28T00:00:00",
          "2013-03-31T00:00:00",
          "2013-04-30T00:00:00",
          "2013-05-31T00:00:00",
          "2013-06-30T00:00:00",
          "2013-07-31T00:00:00",
          "2013-08-31T00:00:00",
          "2013-09-30T00:00:00",
          "2013-10-31T00:00:00",
          "2013-11-30T00:00:00",
          "2013-12-31T00:00:00",
          "2014-01-31T00:00:00",
          "2014-02-28T00:00:00",
          "2014-03-31T00:00:00",
          "2014-04-30T00:00:00",
          "2014-05-31T00:00:00"
         ],
         "xaxis": "x",
         "y": [
          30192.1,
          26609.4,
          27636,
          41203.6,
          49704,
          50953.4,
          66692.8,
          41207.2,
          39979.9,
          55699.39,
          56823.7,
          39088,
          55464.93,
          49981.69,
          59733.02,
          70328.5,
          45913.36,
          77476.26,
          100854.72,
          87311.95,
          94015.45,
          118308.66,
          19898.66
         ],
         "yaxis": "y"
        }
       ],
       "layout": {
        "legend": {
         "title": {
          "text": "variable"
         },
         "tracegroupgap": 0
        },
        "margin": {
         "t": 60
        },
        "template": {
         "data": {
          "bar": [
           {
            "error_x": {
             "color": "#2a3f5f"
            },
            "error_y": {
             "color": "#2a3f5f"
            },
            "marker": {
             "line": {
              "color": "#E5ECF6",
              "width": 0.5
             },
             "pattern": {
              "fillmode": "overlay",
              "size": 10,
              "solidity": 0.2
             }
            },
            "type": "bar"
           }
          ],
          "barpolar": [
           {
            "marker": {
             "line": {
              "color": "#E5ECF6",
              "width": 0.5
             },
             "pattern": {
              "fillmode": "overlay",
              "size": 10,
              "solidity": 0.2
             }
            },
            "type": "barpolar"
           }
          ],
          "carpet": [
           {
            "aaxis": {
             "endlinecolor": "#2a3f5f",
             "gridcolor": "white",
             "linecolor": "white",
             "minorgridcolor": "white",
             "startlinecolor": "#2a3f5f"
            },
            "baxis": {
             "endlinecolor": "#2a3f5f",
             "gridcolor": "white",
             "linecolor": "white",
             "minorgridcolor": "white",
             "startlinecolor": "#2a3f5f"
            },
            "type": "carpet"
           }
          ],
          "choropleth": [
           {
            "colorbar": {
             "outlinewidth": 0,
             "ticks": ""
            },
            "type": "choropleth"
           }
          ],
          "contour": [
           {
            "colorbar": {
             "outlinewidth": 0,
             "ticks": ""
            },
            "colorscale": [
             [
              0,
              "#0d0887"
             ],
             [
              0.1111111111111111,
              "#46039f"
             ],
             [
              0.2222222222222222,
              "#7201a8"
             ],
             [
              0.3333333333333333,
              "#9c179e"
             ],
             [
              0.4444444444444444,
              "#bd3786"
             ],
             [
              0.5555555555555556,
              "#d8576b"
             ],
             [
              0.6666666666666666,
              "#ed7953"
             ],
             [
              0.7777777777777778,
              "#fb9f3a"
             ],
             [
              0.8888888888888888,
              "#fdca26"
             ],
             [
              1,
              "#f0f921"
             ]
            ],
            "type": "contour"
           }
          ],
          "contourcarpet": [
           {
            "colorbar": {
             "outlinewidth": 0,
             "ticks": ""
            },
            "type": "contourcarpet"
           }
          ],
          "heatmap": [
           {
            "colorbar": {
             "outlinewidth": 0,
             "ticks": ""
            },
            "colorscale": [
             [
              0,
              "#0d0887"
             ],
             [
              0.1111111111111111,
              "#46039f"
             ],
             [
              0.2222222222222222,
              "#7201a8"
             ],
             [
              0.3333333333333333,
              "#9c179e"
             ],
             [
              0.4444444444444444,
              "#bd3786"
             ],
             [
              0.5555555555555556,
              "#d8576b"
             ],
             [
              0.6666666666666666,
              "#ed7953"
             ],
             [
              0.7777777777777778,
              "#fb9f3a"
             ],
             [
              0.8888888888888888,
              "#fdca26"
             ],
             [
              1,
              "#f0f921"
             ]
            ],
            "type": "heatmap"
           }
          ],
          "heatmapgl": [
           {
            "colorbar": {
             "outlinewidth": 0,
             "ticks": ""
            },
            "colorscale": [
             [
              0,
              "#0d0887"
             ],
             [
              0.1111111111111111,
              "#46039f"
             ],
             [
              0.2222222222222222,
              "#7201a8"
             ],
             [
              0.3333333333333333,
              "#9c179e"
             ],
             [
              0.4444444444444444,
              "#bd3786"
             ],
             [
              0.5555555555555556,
              "#d8576b"
             ],
             [
              0.6666666666666666,
              "#ed7953"
             ],
             [
              0.7777777777777778,
              "#fb9f3a"
             ],
             [
              0.8888888888888888,
              "#fdca26"
             ],
             [
              1,
              "#f0f921"
             ]
            ],
            "type": "heatmapgl"
           }
          ],
          "histogram": [
           {
            "marker": {
             "pattern": {
              "fillmode": "overlay",
              "size": 10,
              "solidity": 0.2
             }
            },
            "type": "histogram"
           }
          ],
          "histogram2d": [
           {
            "colorbar": {
             "outlinewidth": 0,
             "ticks": ""
            },
            "colorscale": [
             [
              0,
              "#0d0887"
             ],
             [
              0.1111111111111111,
              "#46039f"
             ],
             [
              0.2222222222222222,
              "#7201a8"
             ],
             [
              0.3333333333333333,
              "#9c179e"
             ],
             [
              0.4444444444444444,
              "#bd3786"
             ],
             [
              0.5555555555555556,
              "#d8576b"
             ],
             [
              0.6666666666666666,
              "#ed7953"
             ],
             [
              0.7777777777777778,
              "#fb9f3a"
             ],
             [
              0.8888888888888888,
              "#fdca26"
             ],
             [
              1,
              "#f0f921"
             ]
            ],
            "type": "histogram2d"
           }
          ],
          "histogram2dcontour": [
           {
            "colorbar": {
             "outlinewidth": 0,
             "ticks": ""
            },
            "colorscale": [
             [
              0,
              "#0d0887"
             ],
             [
              0.1111111111111111,
              "#46039f"
             ],
             [
              0.2222222222222222,
              "#7201a8"
             ],
             [
              0.3333333333333333,
              "#9c179e"
             ],
             [
              0.4444444444444444,
              "#bd3786"
             ],
             [
              0.5555555555555556,
              "#d8576b"
             ],
             [
              0.6666666666666666,
              "#ed7953"
             ],
             [
              0.7777777777777778,
              "#fb9f3a"
             ],
             [
              0.8888888888888888,
              "#fdca26"
             ],
             [
              1,
              "#f0f921"
             ]
            ],
            "type": "histogram2dcontour"
           }
          ],
          "mesh3d": [
           {
            "colorbar": {
             "outlinewidth": 0,
             "ticks": ""
            },
            "type": "mesh3d"
           }
          ],
          "parcoords": [
           {
            "line": {
             "colorbar": {
              "outlinewidth": 0,
              "ticks": ""
             }
            },
            "type": "parcoords"
           }
          ],
          "pie": [
           {
            "automargin": true,
            "type": "pie"
           }
          ],
          "scatter": [
           {
            "fillpattern": {
             "fillmode": "overlay",
             "size": 10,
             "solidity": 0.2
            },
            "type": "scatter"
           }
          ],
          "scatter3d": [
           {
            "line": {
             "colorbar": {
              "outlinewidth": 0,
              "ticks": ""
             }
            },
            "marker": {
             "colorbar": {
              "outlinewidth": 0,
              "ticks": ""
             }
            },
            "type": "scatter3d"
           }
          ],
          "scattercarpet": [
           {
            "marker": {
             "colorbar": {
              "outlinewidth": 0,
              "ticks": ""
             }
            },
            "type": "scattercarpet"
           }
          ],
          "scattergeo": [
           {
            "marker": {
             "colorbar": {
              "outlinewidth": 0,
              "ticks": ""
             }
            },
            "type": "scattergeo"
           }
          ],
          "scattergl": [
           {
            "marker": {
             "colorbar": {
              "outlinewidth": 0,
              "ticks": ""
             }
            },
            "type": "scattergl"
           }
          ],
          "scattermapbox": [
           {
            "marker": {
             "colorbar": {
              "outlinewidth": 0,
              "ticks": ""
             }
            },
            "type": "scattermapbox"
           }
          ],
          "scatterpolar": [
           {
            "marker": {
             "colorbar": {
              "outlinewidth": 0,
              "ticks": ""
             }
            },
            "type": "scatterpolar"
           }
          ],
          "scatterpolargl": [
           {
            "marker": {
             "colorbar": {
              "outlinewidth": 0,
              "ticks": ""
             }
            },
            "type": "scatterpolargl"
           }
          ],
          "scatterternary": [
           {
            "marker": {
             "colorbar": {
              "outlinewidth": 0,
              "ticks": ""
             }
            },
            "type": "scatterternary"
           }
          ],
          "surface": [
           {
            "colorbar": {
             "outlinewidth": 0,
             "ticks": ""
            },
            "colorscale": [
             [
              0,
              "#0d0887"
             ],
             [
              0.1111111111111111,
              "#46039f"
             ],
             [
              0.2222222222222222,
              "#7201a8"
             ],
             [
              0.3333333333333333,
              "#9c179e"
             ],
             [
              0.4444444444444444,
              "#bd3786"
             ],
             [
              0.5555555555555556,
              "#d8576b"
             ],
             [
              0.6666666666666666,
              "#ed7953"
             ],
             [
              0.7777777777777778,
              "#fb9f3a"
             ],
             [
              0.8888888888888888,
              "#fdca26"
             ],
             [
              1,
              "#f0f921"
             ]
            ],
            "type": "surface"
           }
          ],
          "table": [
           {
            "cells": {
             "fill": {
              "color": "#EBF0F8"
             },
             "line": {
              "color": "white"
             }
            },
            "header": {
             "fill": {
              "color": "#C8D4E3"
             },
             "line": {
              "color": "white"
             }
            },
            "type": "table"
           }
          ]
         },
         "layout": {
          "annotationdefaults": {
           "arrowcolor": "#2a3f5f",
           "arrowhead": 0,
           "arrowwidth": 1
          },
          "autotypenumbers": "strict",
          "coloraxis": {
           "colorbar": {
            "outlinewidth": 0,
            "ticks": ""
           }
          },
          "colorscale": {
           "diverging": [
            [
             0,
             "#8e0152"
            ],
            [
             0.1,
             "#c51b7d"
            ],
            [
             0.2,
             "#de77ae"
            ],
            [
             0.3,
             "#f1b6da"
            ],
            [
             0.4,
             "#fde0ef"
            ],
            [
             0.5,
             "#f7f7f7"
            ],
            [
             0.6,
             "#e6f5d0"
            ],
            [
             0.7,
             "#b8e186"
            ],
            [
             0.8,
             "#7fbc41"
            ],
            [
             0.9,
             "#4d9221"
            ],
            [
             1,
             "#276419"
            ]
           ],
           "sequential": [
            [
             0,
             "#0d0887"
            ],
            [
             0.1111111111111111,
             "#46039f"
            ],
            [
             0.2222222222222222,
             "#7201a8"
            ],
            [
             0.3333333333333333,
             "#9c179e"
            ],
            [
             0.4444444444444444,
             "#bd3786"
            ],
            [
             0.5555555555555556,
             "#d8576b"
            ],
            [
             0.6666666666666666,
             "#ed7953"
            ],
            [
             0.7777777777777778,
             "#fb9f3a"
            ],
            [
             0.8888888888888888,
             "#fdca26"
            ],
            [
             1,
             "#f0f921"
            ]
           ],
           "sequentialminus": [
            [
             0,
             "#0d0887"
            ],
            [
             0.1111111111111111,
             "#46039f"
            ],
            [
             0.2222222222222222,
             "#7201a8"
            ],
            [
             0.3333333333333333,
             "#9c179e"
            ],
            [
             0.4444444444444444,
             "#bd3786"
            ],
            [
             0.5555555555555556,
             "#d8576b"
            ],
            [
             0.6666666666666666,
             "#ed7953"
            ],
            [
             0.7777777777777778,
             "#fb9f3a"
            ],
            [
             0.8888888888888888,
             "#fdca26"
            ],
            [
             1,
             "#f0f921"
            ]
           ]
          },
          "colorway": [
           "#636efa",
           "#EF553B",
           "#00cc96",
           "#ab63fa",
           "#FFA15A",
           "#19d3f3",
           "#FF6692",
           "#B6E880",
           "#FF97FF",
           "#FECB52"
          ],
          "font": {
           "color": "#2a3f5f"
          },
          "geo": {
           "bgcolor": "white",
           "lakecolor": "white",
           "landcolor": "#E5ECF6",
           "showlakes": true,
           "showland": true,
           "subunitcolor": "white"
          },
          "hoverlabel": {
           "align": "left"
          },
          "hovermode": "closest",
          "mapbox": {
           "style": "light"
          },
          "paper_bgcolor": "white",
          "plot_bgcolor": "#E5ECF6",
          "polar": {
           "angularaxis": {
            "gridcolor": "white",
            "linecolor": "white",
            "ticks": ""
           },
           "bgcolor": "#E5ECF6",
           "radialaxis": {
            "gridcolor": "white",
            "linecolor": "white",
            "ticks": ""
           }
          },
          "scene": {
           "xaxis": {
            "backgroundcolor": "#E5ECF6",
            "gridcolor": "white",
            "gridwidth": 2,
            "linecolor": "white",
            "showbackground": true,
            "ticks": "",
            "zerolinecolor": "white"
           },
           "yaxis": {
            "backgroundcolor": "#E5ECF6",
            "gridcolor": "white",
            "gridwidth": 2,
            "linecolor": "white",
            "showbackground": true,
            "ticks": "",
            "zerolinecolor": "white"
           },
           "zaxis": {
            "backgroundcolor": "#E5ECF6",
            "gridcolor": "white",
            "gridwidth": 2,
            "linecolor": "white",
            "showbackground": true,
            "ticks": "",
            "zerolinecolor": "white"
           }
          },
          "shapedefaults": {
           "line": {
            "color": "#2a3f5f"
           }
          },
          "ternary": {
           "aaxis": {
            "gridcolor": "white",
            "linecolor": "white",
            "ticks": ""
           },
           "baxis": {
            "gridcolor": "white",
            "linecolor": "white",
            "ticks": ""
           },
           "bgcolor": "#E5ECF6",
           "caxis": {
            "gridcolor": "white",
            "linecolor": "white",
            "ticks": ""
           }
          },
          "title": {
           "x": 0.05
          },
          "xaxis": {
           "automargin": true,
           "gridcolor": "white",
           "linecolor": "white",
           "ticks": "",
           "title": {
            "standoff": 15
           },
           "zerolinecolor": "white",
           "zerolinewidth": 2
          },
          "yaxis": {
           "automargin": true,
           "gridcolor": "white",
           "linecolor": "white",
           "ticks": "",
           "title": {
            "standoff": 15
           },
           "zerolinecolor": "white",
           "zerolinewidth": 2
          }
         }
        },
        "xaxis": {
         "anchor": "y",
         "domain": [
          0,
          1
         ],
         "title": {
          "text": "orderdate"
         }
        },
        "yaxis": {
         "anchor": "x",
         "domain": [
          0,
          1
         ],
         "title": {
          "text": "value"
         }
        }
       }
      }
     },
     "metadata": {},
     "output_type": "display_data"
    }
   ],
   "source": [
    "px.line(data_frame=date_total)"
   ]
  },
  {
   "cell_type": "markdown",
   "metadata": {},
   "source": [
    "## OrderDate and Country"
   ]
  },
  {
   "cell_type": "code",
   "execution_count": 30,
   "metadata": {},
   "outputs": [
    {
     "name": "stderr",
     "output_type": "stream",
     "text": [
      "C:\\Users\\omar\\AppData\\Local\\Temp\\ipykernel_21936\\1229927432.py:4: FutureWarning:\n",
      "\n",
      "'M' is deprecated and will be removed in a future version, please use 'ME' instead.\n",
      "\n"
     ]
    },
    {
     "data": {
      "text/plain": [
       "orderdate\n",
       "2012-07-31    11\n",
       "2012-08-31    11\n",
       "2012-09-30    11\n",
       "2012-10-31    13\n",
       "2012-11-30    11\n",
       "Freq: ME, Name: country, dtype: int64"
      ]
     },
     "execution_count": 30,
     "metadata": {},
     "output_type": "execute_result"
    }
   ],
   "source": [
    "date_country = orders[['orderdate', 'country']]\n",
    "date_country = date_country.set_index('orderdate')\n",
    "# resample in pyhton = groupby in SQL in this case we want groupby month\n",
    "date_country = date_country.country.resample(rule = '1M').nunique()\n",
    "date_country.head()"
   ]
  },
  {
   "cell_type": "code",
   "execution_count": 31,
   "metadata": {},
   "outputs": [
    {
     "data": {
      "application/vnd.plotly.v1+json": {
       "config": {
        "plotlyServerURL": "https://plot.ly"
       },
       "data": [
        {
         "hovertemplate": "orderdate=%{x}<br>country=%{y}<extra></extra>",
         "legendgroup": "",
         "line": {
          "color": "#636efa",
          "dash": "solid"
         },
         "marker": {
          "symbol": "circle"
         },
         "mode": "lines",
         "name": "",
         "orientation": "v",
         "showlegend": false,
         "type": "scatter",
         "x": [
          "2012-07-31T00:00:00",
          "2012-08-31T00:00:00",
          "2012-09-30T00:00:00",
          "2012-10-31T00:00:00",
          "2012-11-30T00:00:00",
          "2012-12-31T00:00:00",
          "2013-01-31T00:00:00",
          "2013-02-28T00:00:00",
          "2013-03-31T00:00:00",
          "2013-04-30T00:00:00",
          "2013-05-31T00:00:00",
          "2013-06-30T00:00:00",
          "2013-07-31T00:00:00",
          "2013-08-31T00:00:00",
          "2013-09-30T00:00:00",
          "2013-10-31T00:00:00",
          "2013-11-30T00:00:00",
          "2013-12-31T00:00:00",
          "2014-01-31T00:00:00",
          "2014-02-28T00:00:00",
          "2014-03-31T00:00:00",
          "2014-04-30T00:00:00",
          "2014-05-31T00:00:00"
         ],
         "xaxis": "x",
         "y": [
          11,
          11,
          11,
          13,
          11,
          15,
          15,
          14,
          12,
          13,
          15,
          14,
          13,
          17,
          14,
          14,
          15,
          15,
          14,
          17,
          18,
          21,
          9
         ],
         "yaxis": "y"
        }
       ],
       "layout": {
        "legend": {
         "tracegroupgap": 0
        },
        "margin": {
         "t": 60
        },
        "template": {
         "data": {
          "bar": [
           {
            "error_x": {
             "color": "#2a3f5f"
            },
            "error_y": {
             "color": "#2a3f5f"
            },
            "marker": {
             "line": {
              "color": "#E5ECF6",
              "width": 0.5
             },
             "pattern": {
              "fillmode": "overlay",
              "size": 10,
              "solidity": 0.2
             }
            },
            "type": "bar"
           }
          ],
          "barpolar": [
           {
            "marker": {
             "line": {
              "color": "#E5ECF6",
              "width": 0.5
             },
             "pattern": {
              "fillmode": "overlay",
              "size": 10,
              "solidity": 0.2
             }
            },
            "type": "barpolar"
           }
          ],
          "carpet": [
           {
            "aaxis": {
             "endlinecolor": "#2a3f5f",
             "gridcolor": "white",
             "linecolor": "white",
             "minorgridcolor": "white",
             "startlinecolor": "#2a3f5f"
            },
            "baxis": {
             "endlinecolor": "#2a3f5f",
             "gridcolor": "white",
             "linecolor": "white",
             "minorgridcolor": "white",
             "startlinecolor": "#2a3f5f"
            },
            "type": "carpet"
           }
          ],
          "choropleth": [
           {
            "colorbar": {
             "outlinewidth": 0,
             "ticks": ""
            },
            "type": "choropleth"
           }
          ],
          "contour": [
           {
            "colorbar": {
             "outlinewidth": 0,
             "ticks": ""
            },
            "colorscale": [
             [
              0,
              "#0d0887"
             ],
             [
              0.1111111111111111,
              "#46039f"
             ],
             [
              0.2222222222222222,
              "#7201a8"
             ],
             [
              0.3333333333333333,
              "#9c179e"
             ],
             [
              0.4444444444444444,
              "#bd3786"
             ],
             [
              0.5555555555555556,
              "#d8576b"
             ],
             [
              0.6666666666666666,
              "#ed7953"
             ],
             [
              0.7777777777777778,
              "#fb9f3a"
             ],
             [
              0.8888888888888888,
              "#fdca26"
             ],
             [
              1,
              "#f0f921"
             ]
            ],
            "type": "contour"
           }
          ],
          "contourcarpet": [
           {
            "colorbar": {
             "outlinewidth": 0,
             "ticks": ""
            },
            "type": "contourcarpet"
           }
          ],
          "heatmap": [
           {
            "colorbar": {
             "outlinewidth": 0,
             "ticks": ""
            },
            "colorscale": [
             [
              0,
              "#0d0887"
             ],
             [
              0.1111111111111111,
              "#46039f"
             ],
             [
              0.2222222222222222,
              "#7201a8"
             ],
             [
              0.3333333333333333,
              "#9c179e"
             ],
             [
              0.4444444444444444,
              "#bd3786"
             ],
             [
              0.5555555555555556,
              "#d8576b"
             ],
             [
              0.6666666666666666,
              "#ed7953"
             ],
             [
              0.7777777777777778,
              "#fb9f3a"
             ],
             [
              0.8888888888888888,
              "#fdca26"
             ],
             [
              1,
              "#f0f921"
             ]
            ],
            "type": "heatmap"
           }
          ],
          "heatmapgl": [
           {
            "colorbar": {
             "outlinewidth": 0,
             "ticks": ""
            },
            "colorscale": [
             [
              0,
              "#0d0887"
             ],
             [
              0.1111111111111111,
              "#46039f"
             ],
             [
              0.2222222222222222,
              "#7201a8"
             ],
             [
              0.3333333333333333,
              "#9c179e"
             ],
             [
              0.4444444444444444,
              "#bd3786"
             ],
             [
              0.5555555555555556,
              "#d8576b"
             ],
             [
              0.6666666666666666,
              "#ed7953"
             ],
             [
              0.7777777777777778,
              "#fb9f3a"
             ],
             [
              0.8888888888888888,
              "#fdca26"
             ],
             [
              1,
              "#f0f921"
             ]
            ],
            "type": "heatmapgl"
           }
          ],
          "histogram": [
           {
            "marker": {
             "pattern": {
              "fillmode": "overlay",
              "size": 10,
              "solidity": 0.2
             }
            },
            "type": "histogram"
           }
          ],
          "histogram2d": [
           {
            "colorbar": {
             "outlinewidth": 0,
             "ticks": ""
            },
            "colorscale": [
             [
              0,
              "#0d0887"
             ],
             [
              0.1111111111111111,
              "#46039f"
             ],
             [
              0.2222222222222222,
              "#7201a8"
             ],
             [
              0.3333333333333333,
              "#9c179e"
             ],
             [
              0.4444444444444444,
              "#bd3786"
             ],
             [
              0.5555555555555556,
              "#d8576b"
             ],
             [
              0.6666666666666666,
              "#ed7953"
             ],
             [
              0.7777777777777778,
              "#fb9f3a"
             ],
             [
              0.8888888888888888,
              "#fdca26"
             ],
             [
              1,
              "#f0f921"
             ]
            ],
            "type": "histogram2d"
           }
          ],
          "histogram2dcontour": [
           {
            "colorbar": {
             "outlinewidth": 0,
             "ticks": ""
            },
            "colorscale": [
             [
              0,
              "#0d0887"
             ],
             [
              0.1111111111111111,
              "#46039f"
             ],
             [
              0.2222222222222222,
              "#7201a8"
             ],
             [
              0.3333333333333333,
              "#9c179e"
             ],
             [
              0.4444444444444444,
              "#bd3786"
             ],
             [
              0.5555555555555556,
              "#d8576b"
             ],
             [
              0.6666666666666666,
              "#ed7953"
             ],
             [
              0.7777777777777778,
              "#fb9f3a"
             ],
             [
              0.8888888888888888,
              "#fdca26"
             ],
             [
              1,
              "#f0f921"
             ]
            ],
            "type": "histogram2dcontour"
           }
          ],
          "mesh3d": [
           {
            "colorbar": {
             "outlinewidth": 0,
             "ticks": ""
            },
            "type": "mesh3d"
           }
          ],
          "parcoords": [
           {
            "line": {
             "colorbar": {
              "outlinewidth": 0,
              "ticks": ""
             }
            },
            "type": "parcoords"
           }
          ],
          "pie": [
           {
            "automargin": true,
            "type": "pie"
           }
          ],
          "scatter": [
           {
            "fillpattern": {
             "fillmode": "overlay",
             "size": 10,
             "solidity": 0.2
            },
            "type": "scatter"
           }
          ],
          "scatter3d": [
           {
            "line": {
             "colorbar": {
              "outlinewidth": 0,
              "ticks": ""
             }
            },
            "marker": {
             "colorbar": {
              "outlinewidth": 0,
              "ticks": ""
             }
            },
            "type": "scatter3d"
           }
          ],
          "scattercarpet": [
           {
            "marker": {
             "colorbar": {
              "outlinewidth": 0,
              "ticks": ""
             }
            },
            "type": "scattercarpet"
           }
          ],
          "scattergeo": [
           {
            "marker": {
             "colorbar": {
              "outlinewidth": 0,
              "ticks": ""
             }
            },
            "type": "scattergeo"
           }
          ],
          "scattergl": [
           {
            "marker": {
             "colorbar": {
              "outlinewidth": 0,
              "ticks": ""
             }
            },
            "type": "scattergl"
           }
          ],
          "scattermapbox": [
           {
            "marker": {
             "colorbar": {
              "outlinewidth": 0,
              "ticks": ""
             }
            },
            "type": "scattermapbox"
           }
          ],
          "scatterpolar": [
           {
            "marker": {
             "colorbar": {
              "outlinewidth": 0,
              "ticks": ""
             }
            },
            "type": "scatterpolar"
           }
          ],
          "scatterpolargl": [
           {
            "marker": {
             "colorbar": {
              "outlinewidth": 0,
              "ticks": ""
             }
            },
            "type": "scatterpolargl"
           }
          ],
          "scatterternary": [
           {
            "marker": {
             "colorbar": {
              "outlinewidth": 0,
              "ticks": ""
             }
            },
            "type": "scatterternary"
           }
          ],
          "surface": [
           {
            "colorbar": {
             "outlinewidth": 0,
             "ticks": ""
            },
            "colorscale": [
             [
              0,
              "#0d0887"
             ],
             [
              0.1111111111111111,
              "#46039f"
             ],
             [
              0.2222222222222222,
              "#7201a8"
             ],
             [
              0.3333333333333333,
              "#9c179e"
             ],
             [
              0.4444444444444444,
              "#bd3786"
             ],
             [
              0.5555555555555556,
              "#d8576b"
             ],
             [
              0.6666666666666666,
              "#ed7953"
             ],
             [
              0.7777777777777778,
              "#fb9f3a"
             ],
             [
              0.8888888888888888,
              "#fdca26"
             ],
             [
              1,
              "#f0f921"
             ]
            ],
            "type": "surface"
           }
          ],
          "table": [
           {
            "cells": {
             "fill": {
              "color": "#EBF0F8"
             },
             "line": {
              "color": "white"
             }
            },
            "header": {
             "fill": {
              "color": "#C8D4E3"
             },
             "line": {
              "color": "white"
             }
            },
            "type": "table"
           }
          ]
         },
         "layout": {
          "annotationdefaults": {
           "arrowcolor": "#2a3f5f",
           "arrowhead": 0,
           "arrowwidth": 1
          },
          "autotypenumbers": "strict",
          "coloraxis": {
           "colorbar": {
            "outlinewidth": 0,
            "ticks": ""
           }
          },
          "colorscale": {
           "diverging": [
            [
             0,
             "#8e0152"
            ],
            [
             0.1,
             "#c51b7d"
            ],
            [
             0.2,
             "#de77ae"
            ],
            [
             0.3,
             "#f1b6da"
            ],
            [
             0.4,
             "#fde0ef"
            ],
            [
             0.5,
             "#f7f7f7"
            ],
            [
             0.6,
             "#e6f5d0"
            ],
            [
             0.7,
             "#b8e186"
            ],
            [
             0.8,
             "#7fbc41"
            ],
            [
             0.9,
             "#4d9221"
            ],
            [
             1,
             "#276419"
            ]
           ],
           "sequential": [
            [
             0,
             "#0d0887"
            ],
            [
             0.1111111111111111,
             "#46039f"
            ],
            [
             0.2222222222222222,
             "#7201a8"
            ],
            [
             0.3333333333333333,
             "#9c179e"
            ],
            [
             0.4444444444444444,
             "#bd3786"
            ],
            [
             0.5555555555555556,
             "#d8576b"
            ],
            [
             0.6666666666666666,
             "#ed7953"
            ],
            [
             0.7777777777777778,
             "#fb9f3a"
            ],
            [
             0.8888888888888888,
             "#fdca26"
            ],
            [
             1,
             "#f0f921"
            ]
           ],
           "sequentialminus": [
            [
             0,
             "#0d0887"
            ],
            [
             0.1111111111111111,
             "#46039f"
            ],
            [
             0.2222222222222222,
             "#7201a8"
            ],
            [
             0.3333333333333333,
             "#9c179e"
            ],
            [
             0.4444444444444444,
             "#bd3786"
            ],
            [
             0.5555555555555556,
             "#d8576b"
            ],
            [
             0.6666666666666666,
             "#ed7953"
            ],
            [
             0.7777777777777778,
             "#fb9f3a"
            ],
            [
             0.8888888888888888,
             "#fdca26"
            ],
            [
             1,
             "#f0f921"
            ]
           ]
          },
          "colorway": [
           "#636efa",
           "#EF553B",
           "#00cc96",
           "#ab63fa",
           "#FFA15A",
           "#19d3f3",
           "#FF6692",
           "#B6E880",
           "#FF97FF",
           "#FECB52"
          ],
          "font": {
           "color": "#2a3f5f"
          },
          "geo": {
           "bgcolor": "white",
           "lakecolor": "white",
           "landcolor": "#E5ECF6",
           "showlakes": true,
           "showland": true,
           "subunitcolor": "white"
          },
          "hoverlabel": {
           "align": "left"
          },
          "hovermode": "closest",
          "mapbox": {
           "style": "light"
          },
          "paper_bgcolor": "white",
          "plot_bgcolor": "#E5ECF6",
          "polar": {
           "angularaxis": {
            "gridcolor": "white",
            "linecolor": "white",
            "ticks": ""
           },
           "bgcolor": "#E5ECF6",
           "radialaxis": {
            "gridcolor": "white",
            "linecolor": "white",
            "ticks": ""
           }
          },
          "scene": {
           "xaxis": {
            "backgroundcolor": "#E5ECF6",
            "gridcolor": "white",
            "gridwidth": 2,
            "linecolor": "white",
            "showbackground": true,
            "ticks": "",
            "zerolinecolor": "white"
           },
           "yaxis": {
            "backgroundcolor": "#E5ECF6",
            "gridcolor": "white",
            "gridwidth": 2,
            "linecolor": "white",
            "showbackground": true,
            "ticks": "",
            "zerolinecolor": "white"
           },
           "zaxis": {
            "backgroundcolor": "#E5ECF6",
            "gridcolor": "white",
            "gridwidth": 2,
            "linecolor": "white",
            "showbackground": true,
            "ticks": "",
            "zerolinecolor": "white"
           }
          },
          "shapedefaults": {
           "line": {
            "color": "#2a3f5f"
           }
          },
          "ternary": {
           "aaxis": {
            "gridcolor": "white",
            "linecolor": "white",
            "ticks": ""
           },
           "baxis": {
            "gridcolor": "white",
            "linecolor": "white",
            "ticks": ""
           },
           "bgcolor": "#E5ECF6",
           "caxis": {
            "gridcolor": "white",
            "linecolor": "white",
            "ticks": ""
           }
          },
          "title": {
           "x": 0.05
          },
          "xaxis": {
           "automargin": true,
           "gridcolor": "white",
           "linecolor": "white",
           "ticks": "",
           "title": {
            "standoff": 15
           },
           "zerolinecolor": "white",
           "zerolinewidth": 2
          },
          "yaxis": {
           "automargin": true,
           "gridcolor": "white",
           "linecolor": "white",
           "ticks": "",
           "title": {
            "standoff": 15
           },
           "zerolinecolor": "white",
           "zerolinewidth": 2
          }
         }
        },
        "xaxis": {
         "anchor": "y",
         "domain": [
          0,
          1
         ],
         "title": {
          "text": "orderdate"
         }
        },
        "yaxis": {
         "anchor": "x",
         "domain": [
          0,
          1
         ],
         "title": {
          "text": "country"
         }
        }
       }
      }
     },
     "metadata": {},
     "output_type": "display_data"
    }
   ],
   "source": [
    "px.line(data_frame=date_country,y= 'country')"
   ]
  },
  {
   "cell_type": "markdown",
   "metadata": {},
   "source": [
    "# *Third Conclusion*\n",
    "### peak sales day in 4/12/2012 by = 12.2812k per day.\n",
    "### Most No.of countries purchasing our Products in April,2014 by 21 countries per month.\n",
    "### Alse see in Apr,2014 have peak sales by = 118.3087k. So in Apr,2014 has peak total amount sales and most No.of countries purchasing our product per Month.\n",
    "\n",
    " ### ذروة المبيعات في يوم 12/4/2012 بمقدار = 12.2812 ألفًا لكل يوم.\n",
    " ### معظم الدول التي اشترت منتجاتنا في أبريل 2014 بواقع 21 دولة لكل شهر. \n",
    " ### انظر أيضًا في أبريل 2014 أن ذروة المبيعات بلغت = 118.3087 ألفًا. لذلك، في أبريل 2014، بلغت المبيعات ذروة إجمالي المبيعات ومعظم الدول التي تشتري منتجاتنا لكل شهر."
   ]
  },
  {
   "cell_type": "markdown",
   "metadata": {},
   "source": [
    "## Customer and Total Amount"
   ]
  },
  {
   "cell_type": "code",
   "execution_count": 32,
   "metadata": {},
   "outputs": [
    {
     "data": {
      "text/html": [
       "<div>\n",
       "<style scoped>\n",
       "    .dataframe tbody tr th:only-of-type {\n",
       "        vertical-align: middle;\n",
       "    }\n",
       "\n",
       "    .dataframe tbody tr th {\n",
       "        vertical-align: top;\n",
       "    }\n",
       "\n",
       "    .dataframe thead th {\n",
       "        text-align: right;\n",
       "    }\n",
       "</style>\n",
       "<table border=\"1\" class=\"dataframe\">\n",
       "  <thead>\n",
       "    <tr style=\"text-align: right;\">\n",
       "      <th></th>\n",
       "      <th>fullname</th>\n",
       "      <th>totalamount</th>\n",
       "    </tr>\n",
       "  </thead>\n",
       "  <tbody>\n",
       "    <tr>\n",
       "      <th>0</th>\n",
       "      <td>Paul Henriot</td>\n",
       "      <td>440.00</td>\n",
       "    </tr>\n",
       "    <tr>\n",
       "      <th>3</th>\n",
       "      <td>Karin Josephs</td>\n",
       "      <td>1,863.40</td>\n",
       "    </tr>\n",
       "    <tr>\n",
       "      <th>5</th>\n",
       "      <td>Mario Pontes</td>\n",
       "      <td>1,813.00</td>\n",
       "    </tr>\n",
       "    <tr>\n",
       "      <th>8</th>\n",
       "      <td>Mary Saveley</td>\n",
       "      <td>670.80</td>\n",
       "    </tr>\n",
       "    <tr>\n",
       "      <th>11</th>\n",
       "      <td>Pascale Cartrain</td>\n",
       "      <td>3,730.00</td>\n",
       "    </tr>\n",
       "  </tbody>\n",
       "</table>\n",
       "</div>"
      ],
      "text/plain": [
       "            fullname  totalamount\n",
       "0       Paul Henriot       440.00\n",
       "3      Karin Josephs     1,863.40\n",
       "5       Mario Pontes     1,813.00\n",
       "8       Mary Saveley       670.80\n",
       "11  Pascale Cartrain     3,730.00"
      ]
     },
     "execution_count": 32,
     "metadata": {},
     "output_type": "execute_result"
    }
   ],
   "source": [
    "cust_orders = {\n",
    "    'fullname': orders.firstname + ' ' + orders.lastname,\n",
    "    'totalamount' : orders.totalamount\n",
    "}\n",
    "cust_orders = pd.DataFrame(cust_orders)\n",
    "cust_orders.head()"
   ]
  },
  {
   "cell_type": "markdown",
   "metadata": {},
   "source": [
    "### Count Order Per Each Customer"
   ]
  },
  {
   "cell_type": "code",
   "execution_count": 33,
   "metadata": {},
   "outputs": [
    {
     "data": {
      "application/vnd.plotly.v1+json": {
       "config": {
        "plotlyServerURL": "https://plot.ly"
       },
       "data": [
        {
         "alignmentgroup": "True",
         "hovertemplate": "variable=totalamount<br>Full Name=%{x}<br>Frequency=%{y}<extra></extra>",
         "legendgroup": "totalamount",
         "marker": {
          "color": "rgb(2,113,151)",
          "line": {
           "color": "rgb(231,123,15)",
           "width": 1.5
          },
          "pattern": {
           "shape": ""
          }
         },
         "name": "totalamount",
         "offsetgroup": "totalamount",
         "opacity": 0.6,
         "orientation": "v",
         "showlegend": true,
         "textposition": "inside",
         "texttemplate": "%{y}",
         "type": "bar",
         "x": [
          "Jose Pavarotti",
          "Roland Mendel",
          "Horst Kloss",
          "Patricia McKenna",
          "Maria Larsson",
          "Christina Berglund",
          "Paula Wilson",
          "Carlos Hern?ndez",
          "Laurence Lebihan",
          "Renate Messner"
         ],
         "xaxis": "x",
         "y": [
          30,
          30,
          27,
          19,
          19,
          18,
          18,
          18,
          17,
          15
         ],
         "yaxis": "y"
        }
       ],
       "layout": {
        "barmode": "relative",
        "legend": {
         "title": {
          "text": "variable"
         },
         "tracegroupgap": 0
        },
        "template": {
         "data": {
          "bar": [
           {
            "error_x": {
             "color": "#2a3f5f"
            },
            "error_y": {
             "color": "#2a3f5f"
            },
            "marker": {
             "line": {
              "color": "#E5ECF6",
              "width": 0.5
             },
             "pattern": {
              "fillmode": "overlay",
              "size": 10,
              "solidity": 0.2
             }
            },
            "type": "bar"
           }
          ],
          "barpolar": [
           {
            "marker": {
             "line": {
              "color": "#E5ECF6",
              "width": 0.5
             },
             "pattern": {
              "fillmode": "overlay",
              "size": 10,
              "solidity": 0.2
             }
            },
            "type": "barpolar"
           }
          ],
          "carpet": [
           {
            "aaxis": {
             "endlinecolor": "#2a3f5f",
             "gridcolor": "white",
             "linecolor": "white",
             "minorgridcolor": "white",
             "startlinecolor": "#2a3f5f"
            },
            "baxis": {
             "endlinecolor": "#2a3f5f",
             "gridcolor": "white",
             "linecolor": "white",
             "minorgridcolor": "white",
             "startlinecolor": "#2a3f5f"
            },
            "type": "carpet"
           }
          ],
          "choropleth": [
           {
            "colorbar": {
             "outlinewidth": 0,
             "ticks": ""
            },
            "type": "choropleth"
           }
          ],
          "contour": [
           {
            "colorbar": {
             "outlinewidth": 0,
             "ticks": ""
            },
            "colorscale": [
             [
              0,
              "#0d0887"
             ],
             [
              0.1111111111111111,
              "#46039f"
             ],
             [
              0.2222222222222222,
              "#7201a8"
             ],
             [
              0.3333333333333333,
              "#9c179e"
             ],
             [
              0.4444444444444444,
              "#bd3786"
             ],
             [
              0.5555555555555556,
              "#d8576b"
             ],
             [
              0.6666666666666666,
              "#ed7953"
             ],
             [
              0.7777777777777778,
              "#fb9f3a"
             ],
             [
              0.8888888888888888,
              "#fdca26"
             ],
             [
              1,
              "#f0f921"
             ]
            ],
            "type": "contour"
           }
          ],
          "contourcarpet": [
           {
            "colorbar": {
             "outlinewidth": 0,
             "ticks": ""
            },
            "type": "contourcarpet"
           }
          ],
          "heatmap": [
           {
            "colorbar": {
             "outlinewidth": 0,
             "ticks": ""
            },
            "colorscale": [
             [
              0,
              "#0d0887"
             ],
             [
              0.1111111111111111,
              "#46039f"
             ],
             [
              0.2222222222222222,
              "#7201a8"
             ],
             [
              0.3333333333333333,
              "#9c179e"
             ],
             [
              0.4444444444444444,
              "#bd3786"
             ],
             [
              0.5555555555555556,
              "#d8576b"
             ],
             [
              0.6666666666666666,
              "#ed7953"
             ],
             [
              0.7777777777777778,
              "#fb9f3a"
             ],
             [
              0.8888888888888888,
              "#fdca26"
             ],
             [
              1,
              "#f0f921"
             ]
            ],
            "type": "heatmap"
           }
          ],
          "heatmapgl": [
           {
            "colorbar": {
             "outlinewidth": 0,
             "ticks": ""
            },
            "colorscale": [
             [
              0,
              "#0d0887"
             ],
             [
              0.1111111111111111,
              "#46039f"
             ],
             [
              0.2222222222222222,
              "#7201a8"
             ],
             [
              0.3333333333333333,
              "#9c179e"
             ],
             [
              0.4444444444444444,
              "#bd3786"
             ],
             [
              0.5555555555555556,
              "#d8576b"
             ],
             [
              0.6666666666666666,
              "#ed7953"
             ],
             [
              0.7777777777777778,
              "#fb9f3a"
             ],
             [
              0.8888888888888888,
              "#fdca26"
             ],
             [
              1,
              "#f0f921"
             ]
            ],
            "type": "heatmapgl"
           }
          ],
          "histogram": [
           {
            "marker": {
             "pattern": {
              "fillmode": "overlay",
              "size": 10,
              "solidity": 0.2
             }
            },
            "type": "histogram"
           }
          ],
          "histogram2d": [
           {
            "colorbar": {
             "outlinewidth": 0,
             "ticks": ""
            },
            "colorscale": [
             [
              0,
              "#0d0887"
             ],
             [
              0.1111111111111111,
              "#46039f"
             ],
             [
              0.2222222222222222,
              "#7201a8"
             ],
             [
              0.3333333333333333,
              "#9c179e"
             ],
             [
              0.4444444444444444,
              "#bd3786"
             ],
             [
              0.5555555555555556,
              "#d8576b"
             ],
             [
              0.6666666666666666,
              "#ed7953"
             ],
             [
              0.7777777777777778,
              "#fb9f3a"
             ],
             [
              0.8888888888888888,
              "#fdca26"
             ],
             [
              1,
              "#f0f921"
             ]
            ],
            "type": "histogram2d"
           }
          ],
          "histogram2dcontour": [
           {
            "colorbar": {
             "outlinewidth": 0,
             "ticks": ""
            },
            "colorscale": [
             [
              0,
              "#0d0887"
             ],
             [
              0.1111111111111111,
              "#46039f"
             ],
             [
              0.2222222222222222,
              "#7201a8"
             ],
             [
              0.3333333333333333,
              "#9c179e"
             ],
             [
              0.4444444444444444,
              "#bd3786"
             ],
             [
              0.5555555555555556,
              "#d8576b"
             ],
             [
              0.6666666666666666,
              "#ed7953"
             ],
             [
              0.7777777777777778,
              "#fb9f3a"
             ],
             [
              0.8888888888888888,
              "#fdca26"
             ],
             [
              1,
              "#f0f921"
             ]
            ],
            "type": "histogram2dcontour"
           }
          ],
          "mesh3d": [
           {
            "colorbar": {
             "outlinewidth": 0,
             "ticks": ""
            },
            "type": "mesh3d"
           }
          ],
          "parcoords": [
           {
            "line": {
             "colorbar": {
              "outlinewidth": 0,
              "ticks": ""
             }
            },
            "type": "parcoords"
           }
          ],
          "pie": [
           {
            "automargin": true,
            "type": "pie"
           }
          ],
          "scatter": [
           {
            "fillpattern": {
             "fillmode": "overlay",
             "size": 10,
             "solidity": 0.2
            },
            "type": "scatter"
           }
          ],
          "scatter3d": [
           {
            "line": {
             "colorbar": {
              "outlinewidth": 0,
              "ticks": ""
             }
            },
            "marker": {
             "colorbar": {
              "outlinewidth": 0,
              "ticks": ""
             }
            },
            "type": "scatter3d"
           }
          ],
          "scattercarpet": [
           {
            "marker": {
             "colorbar": {
              "outlinewidth": 0,
              "ticks": ""
             }
            },
            "type": "scattercarpet"
           }
          ],
          "scattergeo": [
           {
            "marker": {
             "colorbar": {
              "outlinewidth": 0,
              "ticks": ""
             }
            },
            "type": "scattergeo"
           }
          ],
          "scattergl": [
           {
            "marker": {
             "colorbar": {
              "outlinewidth": 0,
              "ticks": ""
             }
            },
            "type": "scattergl"
           }
          ],
          "scattermapbox": [
           {
            "marker": {
             "colorbar": {
              "outlinewidth": 0,
              "ticks": ""
             }
            },
            "type": "scattermapbox"
           }
          ],
          "scatterpolar": [
           {
            "marker": {
             "colorbar": {
              "outlinewidth": 0,
              "ticks": ""
             }
            },
            "type": "scatterpolar"
           }
          ],
          "scatterpolargl": [
           {
            "marker": {
             "colorbar": {
              "outlinewidth": 0,
              "ticks": ""
             }
            },
            "type": "scatterpolargl"
           }
          ],
          "scatterternary": [
           {
            "marker": {
             "colorbar": {
              "outlinewidth": 0,
              "ticks": ""
             }
            },
            "type": "scatterternary"
           }
          ],
          "surface": [
           {
            "colorbar": {
             "outlinewidth": 0,
             "ticks": ""
            },
            "colorscale": [
             [
              0,
              "#0d0887"
             ],
             [
              0.1111111111111111,
              "#46039f"
             ],
             [
              0.2222222222222222,
              "#7201a8"
             ],
             [
              0.3333333333333333,
              "#9c179e"
             ],
             [
              0.4444444444444444,
              "#bd3786"
             ],
             [
              0.5555555555555556,
              "#d8576b"
             ],
             [
              0.6666666666666666,
              "#ed7953"
             ],
             [
              0.7777777777777778,
              "#fb9f3a"
             ],
             [
              0.8888888888888888,
              "#fdca26"
             ],
             [
              1,
              "#f0f921"
             ]
            ],
            "type": "surface"
           }
          ],
          "table": [
           {
            "cells": {
             "fill": {
              "color": "#EBF0F8"
             },
             "line": {
              "color": "white"
             }
            },
            "header": {
             "fill": {
              "color": "#C8D4E3"
             },
             "line": {
              "color": "white"
             }
            },
            "type": "table"
           }
          ]
         },
         "layout": {
          "annotationdefaults": {
           "arrowcolor": "#2a3f5f",
           "arrowhead": 0,
           "arrowwidth": 1
          },
          "autotypenumbers": "strict",
          "coloraxis": {
           "colorbar": {
            "outlinewidth": 0,
            "ticks": ""
           }
          },
          "colorscale": {
           "diverging": [
            [
             0,
             "#8e0152"
            ],
            [
             0.1,
             "#c51b7d"
            ],
            [
             0.2,
             "#de77ae"
            ],
            [
             0.3,
             "#f1b6da"
            ],
            [
             0.4,
             "#fde0ef"
            ],
            [
             0.5,
             "#f7f7f7"
            ],
            [
             0.6,
             "#e6f5d0"
            ],
            [
             0.7,
             "#b8e186"
            ],
            [
             0.8,
             "#7fbc41"
            ],
            [
             0.9,
             "#4d9221"
            ],
            [
             1,
             "#276419"
            ]
           ],
           "sequential": [
            [
             0,
             "#0d0887"
            ],
            [
             0.1111111111111111,
             "#46039f"
            ],
            [
             0.2222222222222222,
             "#7201a8"
            ],
            [
             0.3333333333333333,
             "#9c179e"
            ],
            [
             0.4444444444444444,
             "#bd3786"
            ],
            [
             0.5555555555555556,
             "#d8576b"
            ],
            [
             0.6666666666666666,
             "#ed7953"
            ],
            [
             0.7777777777777778,
             "#fb9f3a"
            ],
            [
             0.8888888888888888,
             "#fdca26"
            ],
            [
             1,
             "#f0f921"
            ]
           ],
           "sequentialminus": [
            [
             0,
             "#0d0887"
            ],
            [
             0.1111111111111111,
             "#46039f"
            ],
            [
             0.2222222222222222,
             "#7201a8"
            ],
            [
             0.3333333333333333,
             "#9c179e"
            ],
            [
             0.4444444444444444,
             "#bd3786"
            ],
            [
             0.5555555555555556,
             "#d8576b"
            ],
            [
             0.6666666666666666,
             "#ed7953"
            ],
            [
             0.7777777777777778,
             "#fb9f3a"
            ],
            [
             0.8888888888888888,
             "#fdca26"
            ],
            [
             1,
             "#f0f921"
            ]
           ]
          },
          "colorway": [
           "#636efa",
           "#EF553B",
           "#00cc96",
           "#ab63fa",
           "#FFA15A",
           "#19d3f3",
           "#FF6692",
           "#B6E880",
           "#FF97FF",
           "#FECB52"
          ],
          "font": {
           "color": "#2a3f5f"
          },
          "geo": {
           "bgcolor": "white",
           "lakecolor": "white",
           "landcolor": "#E5ECF6",
           "showlakes": true,
           "showland": true,
           "subunitcolor": "white"
          },
          "hoverlabel": {
           "align": "left"
          },
          "hovermode": "closest",
          "mapbox": {
           "style": "light"
          },
          "paper_bgcolor": "white",
          "plot_bgcolor": "#E5ECF6",
          "polar": {
           "angularaxis": {
            "gridcolor": "white",
            "linecolor": "white",
            "ticks": ""
           },
           "bgcolor": "#E5ECF6",
           "radialaxis": {
            "gridcolor": "white",
            "linecolor": "white",
            "ticks": ""
           }
          },
          "scene": {
           "xaxis": {
            "backgroundcolor": "#E5ECF6",
            "gridcolor": "white",
            "gridwidth": 2,
            "linecolor": "white",
            "showbackground": true,
            "ticks": "",
            "zerolinecolor": "white"
           },
           "yaxis": {
            "backgroundcolor": "#E5ECF6",
            "gridcolor": "white",
            "gridwidth": 2,
            "linecolor": "white",
            "showbackground": true,
            "ticks": "",
            "zerolinecolor": "white"
           },
           "zaxis": {
            "backgroundcolor": "#E5ECF6",
            "gridcolor": "white",
            "gridwidth": 2,
            "linecolor": "white",
            "showbackground": true,
            "ticks": "",
            "zerolinecolor": "white"
           }
          },
          "shapedefaults": {
           "line": {
            "color": "#2a3f5f"
           }
          },
          "ternary": {
           "aaxis": {
            "gridcolor": "white",
            "linecolor": "white",
            "ticks": ""
           },
           "baxis": {
            "gridcolor": "white",
            "linecolor": "white",
            "ticks": ""
           },
           "bgcolor": "#E5ECF6",
           "caxis": {
            "gridcolor": "white",
            "linecolor": "white",
            "ticks": ""
           }
          },
          "title": {
           "x": 0.05
          },
          "xaxis": {
           "automargin": true,
           "gridcolor": "white",
           "linecolor": "white",
           "ticks": "",
           "title": {
            "standoff": 15
           },
           "zerolinecolor": "white",
           "zerolinewidth": 2
          },
          "yaxis": {
           "automargin": true,
           "gridcolor": "white",
           "linecolor": "white",
           "ticks": "",
           "title": {
            "standoff": 15
           },
           "zerolinecolor": "white",
           "zerolinewidth": 2
          }
         }
        },
        "title": {
         "text": "No. of orders per customer"
        },
        "xaxis": {
         "anchor": "y",
         "domain": [
          0,
          1
         ],
         "title": {
          "text": "Full Name"
         }
        },
        "yaxis": {
         "anchor": "x",
         "domain": [
          0,
          1
         ],
         "title": {
          "text": "Frequency"
         }
        }
       }
      }
     },
     "metadata": {},
     "output_type": "display_data"
    }
   ],
   "source": [
    "fig = px.bar(data_frame=cust_orders.groupby('fullname')['totalamount'].count().sort_values(ascending=False).head(10),\n",
    "             text_auto=True,title='No. of orders per customer',labels={'fullname': 'Full Name','value': 'Frequency'})\n",
    "\n",
    "# customize aspect\n",
    "fig.update_traces(marker_color='rgb(2,113,151)',marker_line_color='rgb(231,123,15)',\n",
    "                  marker_line_width=1.5,opacity=0.6,textposition='inside')\n"
   ]
  },
  {
   "cell_type": "markdown",
   "metadata": {},
   "source": [
    "### Sum Total Amount For each Customer"
   ]
  },
  {
   "cell_type": "code",
   "execution_count": 34,
   "metadata": {},
   "outputs": [
    {
     "data": {
      "application/vnd.plotly.v1+json": {
       "config": {
        "plotlyServerURL": "https://plot.ly"
       },
       "data": [
        {
         "alignmentgroup": "True",
         "hovertemplate": "variable=totalamount<br>Full Name=%{x}<br>Total Amount=%{y}<extra></extra>",
         "legendgroup": "totalamount",
         "marker": {
          "color": "rgb(2,113,151)",
          "line": {
           "color": "rgb(231,123,15)",
           "width": 1.5
          },
          "pattern": {
           "shape": ""
          }
         },
         "name": "totalamount",
         "offsetgroup": "totalamount",
         "opacity": 0.6,
         "orientation": "v",
         "showlegend": true,
         "textposition": "inside",
         "texttemplate": "%{y}",
         "type": "bar",
         "x": [
          "Roland Mendel",
          "Horst Kloss",
          "Jose Pavarotti",
          "Patricia McKenna",
          "Paula Wilson",
          "Maria Larsson",
          "Jean Fresnière",
          "Philip Cramer",
          "L?cia Carvalho",
          "Karl Jablonski"
         ],
         "xaxis": "x",
         "y": [
          113236.68,
          100233.39,
          99351.49,
          57317.39,
          52245.9,
          32555.55,
          32203.9,
          31745.75,
          30226.100000000002,
          29073.45
         ],
         "yaxis": "y"
        }
       ],
       "layout": {
        "barmode": "relative",
        "legend": {
         "title": {
          "text": "variable"
         },
         "tracegroupgap": 0
        },
        "template": {
         "data": {
          "bar": [
           {
            "error_x": {
             "color": "#2a3f5f"
            },
            "error_y": {
             "color": "#2a3f5f"
            },
            "marker": {
             "line": {
              "color": "#E5ECF6",
              "width": 0.5
             },
             "pattern": {
              "fillmode": "overlay",
              "size": 10,
              "solidity": 0.2
             }
            },
            "type": "bar"
           }
          ],
          "barpolar": [
           {
            "marker": {
             "line": {
              "color": "#E5ECF6",
              "width": 0.5
             },
             "pattern": {
              "fillmode": "overlay",
              "size": 10,
              "solidity": 0.2
             }
            },
            "type": "barpolar"
           }
          ],
          "carpet": [
           {
            "aaxis": {
             "endlinecolor": "#2a3f5f",
             "gridcolor": "white",
             "linecolor": "white",
             "minorgridcolor": "white",
             "startlinecolor": "#2a3f5f"
            },
            "baxis": {
             "endlinecolor": "#2a3f5f",
             "gridcolor": "white",
             "linecolor": "white",
             "minorgridcolor": "white",
             "startlinecolor": "#2a3f5f"
            },
            "type": "carpet"
           }
          ],
          "choropleth": [
           {
            "colorbar": {
             "outlinewidth": 0,
             "ticks": ""
            },
            "type": "choropleth"
           }
          ],
          "contour": [
           {
            "colorbar": {
             "outlinewidth": 0,
             "ticks": ""
            },
            "colorscale": [
             [
              0,
              "#0d0887"
             ],
             [
              0.1111111111111111,
              "#46039f"
             ],
             [
              0.2222222222222222,
              "#7201a8"
             ],
             [
              0.3333333333333333,
              "#9c179e"
             ],
             [
              0.4444444444444444,
              "#bd3786"
             ],
             [
              0.5555555555555556,
              "#d8576b"
             ],
             [
              0.6666666666666666,
              "#ed7953"
             ],
             [
              0.7777777777777778,
              "#fb9f3a"
             ],
             [
              0.8888888888888888,
              "#fdca26"
             ],
             [
              1,
              "#f0f921"
             ]
            ],
            "type": "contour"
           }
          ],
          "contourcarpet": [
           {
            "colorbar": {
             "outlinewidth": 0,
             "ticks": ""
            },
            "type": "contourcarpet"
           }
          ],
          "heatmap": [
           {
            "colorbar": {
             "outlinewidth": 0,
             "ticks": ""
            },
            "colorscale": [
             [
              0,
              "#0d0887"
             ],
             [
              0.1111111111111111,
              "#46039f"
             ],
             [
              0.2222222222222222,
              "#7201a8"
             ],
             [
              0.3333333333333333,
              "#9c179e"
             ],
             [
              0.4444444444444444,
              "#bd3786"
             ],
             [
              0.5555555555555556,
              "#d8576b"
             ],
             [
              0.6666666666666666,
              "#ed7953"
             ],
             [
              0.7777777777777778,
              "#fb9f3a"
             ],
             [
              0.8888888888888888,
              "#fdca26"
             ],
             [
              1,
              "#f0f921"
             ]
            ],
            "type": "heatmap"
           }
          ],
          "heatmapgl": [
           {
            "colorbar": {
             "outlinewidth": 0,
             "ticks": ""
            },
            "colorscale": [
             [
              0,
              "#0d0887"
             ],
             [
              0.1111111111111111,
              "#46039f"
             ],
             [
              0.2222222222222222,
              "#7201a8"
             ],
             [
              0.3333333333333333,
              "#9c179e"
             ],
             [
              0.4444444444444444,
              "#bd3786"
             ],
             [
              0.5555555555555556,
              "#d8576b"
             ],
             [
              0.6666666666666666,
              "#ed7953"
             ],
             [
              0.7777777777777778,
              "#fb9f3a"
             ],
             [
              0.8888888888888888,
              "#fdca26"
             ],
             [
              1,
              "#f0f921"
             ]
            ],
            "type": "heatmapgl"
           }
          ],
          "histogram": [
           {
            "marker": {
             "pattern": {
              "fillmode": "overlay",
              "size": 10,
              "solidity": 0.2
             }
            },
            "type": "histogram"
           }
          ],
          "histogram2d": [
           {
            "colorbar": {
             "outlinewidth": 0,
             "ticks": ""
            },
            "colorscale": [
             [
              0,
              "#0d0887"
             ],
             [
              0.1111111111111111,
              "#46039f"
             ],
             [
              0.2222222222222222,
              "#7201a8"
             ],
             [
              0.3333333333333333,
              "#9c179e"
             ],
             [
              0.4444444444444444,
              "#bd3786"
             ],
             [
              0.5555555555555556,
              "#d8576b"
             ],
             [
              0.6666666666666666,
              "#ed7953"
             ],
             [
              0.7777777777777778,
              "#fb9f3a"
             ],
             [
              0.8888888888888888,
              "#fdca26"
             ],
             [
              1,
              "#f0f921"
             ]
            ],
            "type": "histogram2d"
           }
          ],
          "histogram2dcontour": [
           {
            "colorbar": {
             "outlinewidth": 0,
             "ticks": ""
            },
            "colorscale": [
             [
              0,
              "#0d0887"
             ],
             [
              0.1111111111111111,
              "#46039f"
             ],
             [
              0.2222222222222222,
              "#7201a8"
             ],
             [
              0.3333333333333333,
              "#9c179e"
             ],
             [
              0.4444444444444444,
              "#bd3786"
             ],
             [
              0.5555555555555556,
              "#d8576b"
             ],
             [
              0.6666666666666666,
              "#ed7953"
             ],
             [
              0.7777777777777778,
              "#fb9f3a"
             ],
             [
              0.8888888888888888,
              "#fdca26"
             ],
             [
              1,
              "#f0f921"
             ]
            ],
            "type": "histogram2dcontour"
           }
          ],
          "mesh3d": [
           {
            "colorbar": {
             "outlinewidth": 0,
             "ticks": ""
            },
            "type": "mesh3d"
           }
          ],
          "parcoords": [
           {
            "line": {
             "colorbar": {
              "outlinewidth": 0,
              "ticks": ""
             }
            },
            "type": "parcoords"
           }
          ],
          "pie": [
           {
            "automargin": true,
            "type": "pie"
           }
          ],
          "scatter": [
           {
            "fillpattern": {
             "fillmode": "overlay",
             "size": 10,
             "solidity": 0.2
            },
            "type": "scatter"
           }
          ],
          "scatter3d": [
           {
            "line": {
             "colorbar": {
              "outlinewidth": 0,
              "ticks": ""
             }
            },
            "marker": {
             "colorbar": {
              "outlinewidth": 0,
              "ticks": ""
             }
            },
            "type": "scatter3d"
           }
          ],
          "scattercarpet": [
           {
            "marker": {
             "colorbar": {
              "outlinewidth": 0,
              "ticks": ""
             }
            },
            "type": "scattercarpet"
           }
          ],
          "scattergeo": [
           {
            "marker": {
             "colorbar": {
              "outlinewidth": 0,
              "ticks": ""
             }
            },
            "type": "scattergeo"
           }
          ],
          "scattergl": [
           {
            "marker": {
             "colorbar": {
              "outlinewidth": 0,
              "ticks": ""
             }
            },
            "type": "scattergl"
           }
          ],
          "scattermapbox": [
           {
            "marker": {
             "colorbar": {
              "outlinewidth": 0,
              "ticks": ""
             }
            },
            "type": "scattermapbox"
           }
          ],
          "scatterpolar": [
           {
            "marker": {
             "colorbar": {
              "outlinewidth": 0,
              "ticks": ""
             }
            },
            "type": "scatterpolar"
           }
          ],
          "scatterpolargl": [
           {
            "marker": {
             "colorbar": {
              "outlinewidth": 0,
              "ticks": ""
             }
            },
            "type": "scatterpolargl"
           }
          ],
          "scatterternary": [
           {
            "marker": {
             "colorbar": {
              "outlinewidth": 0,
              "ticks": ""
             }
            },
            "type": "scatterternary"
           }
          ],
          "surface": [
           {
            "colorbar": {
             "outlinewidth": 0,
             "ticks": ""
            },
            "colorscale": [
             [
              0,
              "#0d0887"
             ],
             [
              0.1111111111111111,
              "#46039f"
             ],
             [
              0.2222222222222222,
              "#7201a8"
             ],
             [
              0.3333333333333333,
              "#9c179e"
             ],
             [
              0.4444444444444444,
              "#bd3786"
             ],
             [
              0.5555555555555556,
              "#d8576b"
             ],
             [
              0.6666666666666666,
              "#ed7953"
             ],
             [
              0.7777777777777778,
              "#fb9f3a"
             ],
             [
              0.8888888888888888,
              "#fdca26"
             ],
             [
              1,
              "#f0f921"
             ]
            ],
            "type": "surface"
           }
          ],
          "table": [
           {
            "cells": {
             "fill": {
              "color": "#EBF0F8"
             },
             "line": {
              "color": "white"
             }
            },
            "header": {
             "fill": {
              "color": "#C8D4E3"
             },
             "line": {
              "color": "white"
             }
            },
            "type": "table"
           }
          ]
         },
         "layout": {
          "annotationdefaults": {
           "arrowcolor": "#2a3f5f",
           "arrowhead": 0,
           "arrowwidth": 1
          },
          "autotypenumbers": "strict",
          "coloraxis": {
           "colorbar": {
            "outlinewidth": 0,
            "ticks": ""
           }
          },
          "colorscale": {
           "diverging": [
            [
             0,
             "#8e0152"
            ],
            [
             0.1,
             "#c51b7d"
            ],
            [
             0.2,
             "#de77ae"
            ],
            [
             0.3,
             "#f1b6da"
            ],
            [
             0.4,
             "#fde0ef"
            ],
            [
             0.5,
             "#f7f7f7"
            ],
            [
             0.6,
             "#e6f5d0"
            ],
            [
             0.7,
             "#b8e186"
            ],
            [
             0.8,
             "#7fbc41"
            ],
            [
             0.9,
             "#4d9221"
            ],
            [
             1,
             "#276419"
            ]
           ],
           "sequential": [
            [
             0,
             "#0d0887"
            ],
            [
             0.1111111111111111,
             "#46039f"
            ],
            [
             0.2222222222222222,
             "#7201a8"
            ],
            [
             0.3333333333333333,
             "#9c179e"
            ],
            [
             0.4444444444444444,
             "#bd3786"
            ],
            [
             0.5555555555555556,
             "#d8576b"
            ],
            [
             0.6666666666666666,
             "#ed7953"
            ],
            [
             0.7777777777777778,
             "#fb9f3a"
            ],
            [
             0.8888888888888888,
             "#fdca26"
            ],
            [
             1,
             "#f0f921"
            ]
           ],
           "sequentialminus": [
            [
             0,
             "#0d0887"
            ],
            [
             0.1111111111111111,
             "#46039f"
            ],
            [
             0.2222222222222222,
             "#7201a8"
            ],
            [
             0.3333333333333333,
             "#9c179e"
            ],
            [
             0.4444444444444444,
             "#bd3786"
            ],
            [
             0.5555555555555556,
             "#d8576b"
            ],
            [
             0.6666666666666666,
             "#ed7953"
            ],
            [
             0.7777777777777778,
             "#fb9f3a"
            ],
            [
             0.8888888888888888,
             "#fdca26"
            ],
            [
             1,
             "#f0f921"
            ]
           ]
          },
          "colorway": [
           "#636efa",
           "#EF553B",
           "#00cc96",
           "#ab63fa",
           "#FFA15A",
           "#19d3f3",
           "#FF6692",
           "#B6E880",
           "#FF97FF",
           "#FECB52"
          ],
          "font": {
           "color": "#2a3f5f"
          },
          "geo": {
           "bgcolor": "white",
           "lakecolor": "white",
           "landcolor": "#E5ECF6",
           "showlakes": true,
           "showland": true,
           "subunitcolor": "white"
          },
          "hoverlabel": {
           "align": "left"
          },
          "hovermode": "closest",
          "mapbox": {
           "style": "light"
          },
          "paper_bgcolor": "white",
          "plot_bgcolor": "#E5ECF6",
          "polar": {
           "angularaxis": {
            "gridcolor": "white",
            "linecolor": "white",
            "ticks": ""
           },
           "bgcolor": "#E5ECF6",
           "radialaxis": {
            "gridcolor": "white",
            "linecolor": "white",
            "ticks": ""
           }
          },
          "scene": {
           "xaxis": {
            "backgroundcolor": "#E5ECF6",
            "gridcolor": "white",
            "gridwidth": 2,
            "linecolor": "white",
            "showbackground": true,
            "ticks": "",
            "zerolinecolor": "white"
           },
           "yaxis": {
            "backgroundcolor": "#E5ECF6",
            "gridcolor": "white",
            "gridwidth": 2,
            "linecolor": "white",
            "showbackground": true,
            "ticks": "",
            "zerolinecolor": "white"
           },
           "zaxis": {
            "backgroundcolor": "#E5ECF6",
            "gridcolor": "white",
            "gridwidth": 2,
            "linecolor": "white",
            "showbackground": true,
            "ticks": "",
            "zerolinecolor": "white"
           }
          },
          "shapedefaults": {
           "line": {
            "color": "#2a3f5f"
           }
          },
          "ternary": {
           "aaxis": {
            "gridcolor": "white",
            "linecolor": "white",
            "ticks": ""
           },
           "baxis": {
            "gridcolor": "white",
            "linecolor": "white",
            "ticks": ""
           },
           "bgcolor": "#E5ECF6",
           "caxis": {
            "gridcolor": "white",
            "linecolor": "white",
            "ticks": ""
           }
          },
          "title": {
           "x": 0.05
          },
          "xaxis": {
           "automargin": true,
           "gridcolor": "white",
           "linecolor": "white",
           "ticks": "",
           "title": {
            "standoff": 15
           },
           "zerolinecolor": "white",
           "zerolinewidth": 2
          },
          "yaxis": {
           "automargin": true,
           "gridcolor": "white",
           "linecolor": "white",
           "ticks": "",
           "title": {
            "standoff": 15
           },
           "zerolinecolor": "white",
           "zerolinewidth": 2
          }
         }
        },
        "title": {
         "text": "Total Sum orders per customer"
        },
        "xaxis": {
         "anchor": "y",
         "domain": [
          0,
          1
         ],
         "title": {
          "text": "Full Name"
         }
        },
        "yaxis": {
         "anchor": "x",
         "domain": [
          0,
          1
         ],
         "title": {
          "text": "Total Amount"
         }
        }
       }
      }
     },
     "metadata": {},
     "output_type": "display_data"
    }
   ],
   "source": [
    "fig = px.bar(data_frame=cust_orders.groupby('fullname')['totalamount'].sum().sort_values(ascending=False).head(10),\n",
    "             text_auto=True,title='Total Sum orders per customer',labels={'fullname': 'Full Name','value': 'Total Amount'})\n",
    "\n",
    "# customize aspect\n",
    "fig.update_traces(marker_color='rgb(2,113,151)',marker_line_color='rgb(231,123,15)',\n",
    "                  marker_line_width=1.5,opacity=0.6,textposition='inside')"
   ]
  },
  {
   "cell_type": "markdown",
   "metadata": {},
   "source": [
    "# *Forth Conclusion* \n",
    "### In this case we show relation between No.of order and Total amount Per Customer.\n",
    "### and we see Most Customer purchase orders is to `Jose pavarotti` and `Roland Mendel` by `30` order .\n",
    "### but when we see Total Amount for this orders we found Most Customer purchase orders by sum = `113.2367k` is to `Roland Mendel` but `Jose Pavarotti` he is located in third place by `99.3515k`.\n",
    "## So The most customer Purchasing is `Roland Mendel` by `30 orders` In Total is `113.2367k`.\n",
    "\n",
    "في هذه الحالة نظهر العلاقة بين رقم الطلب والمبلغ الإجمالي لكل عميل.\n",
    "ونرى أن معظم طلبات الشراء للعملاء كانت لـ `Jose pavarotti` و`Roland Mendel` بواقع`30`\" طلبًا.\n",
    "ولكن عندما نرى المبلغ الإجمالي لهذه الطلبات وجدنا أن معظم طلبات شراء العملاء حسب المبلغ = `113.2367` `تعود إلولاند مند` ولكن `خوسيه بافاروتي` يقع في المركز الثالث بمبلغ `99.3515 لفًا`.\n",
    "لذا فإن أكثر العملاء شراءً هو `Roland Mendel` بـ \"`30` طلبًا بإجمالي `113.2367` ألفًا\". "
   ]
  },
  {
   "cell_type": "markdown",
   "metadata": {},
   "source": [
    "# Multivariate Analysis"
   ]
  },
  {
   "cell_type": "markdown",
   "metadata": {},
   "source": [
    "* ### Country With OrderDate and TotalAmount\n",
    "### We interested in knowing the number of countries and the grand total amount of them per month"
   ]
  },
  {
   "cell_type": "code",
   "execution_count": 35,
   "metadata": {},
   "outputs": [
    {
     "data": {
      "text/html": [
       "<div>\n",
       "<style scoped>\n",
       "    .dataframe tbody tr th:only-of-type {\n",
       "        vertical-align: middle;\n",
       "    }\n",
       "\n",
       "    .dataframe tbody tr th {\n",
       "        vertical-align: top;\n",
       "    }\n",
       "\n",
       "    .dataframe thead th {\n",
       "        text-align: right;\n",
       "    }\n",
       "</style>\n",
       "<table border=\"1\" class=\"dataframe\">\n",
       "  <thead>\n",
       "    <tr style=\"text-align: right;\">\n",
       "      <th></th>\n",
       "      <th>country</th>\n",
       "      <th>totalamount</th>\n",
       "    </tr>\n",
       "    <tr>\n",
       "      <th>orderdate</th>\n",
       "      <th></th>\n",
       "      <th></th>\n",
       "    </tr>\n",
       "  </thead>\n",
       "  <tbody>\n",
       "    <tr>\n",
       "      <th>2012-07-04</th>\n",
       "      <td>France</td>\n",
       "      <td>440.00</td>\n",
       "    </tr>\n",
       "    <tr>\n",
       "      <th>2012-07-05</th>\n",
       "      <td>Germany</td>\n",
       "      <td>1,863.40</td>\n",
       "    </tr>\n",
       "    <tr>\n",
       "      <th>2012-07-08</th>\n",
       "      <td>Brazil</td>\n",
       "      <td>1,813.00</td>\n",
       "    </tr>\n",
       "    <tr>\n",
       "      <th>2012-07-08</th>\n",
       "      <td>France</td>\n",
       "      <td>670.80</td>\n",
       "    </tr>\n",
       "    <tr>\n",
       "      <th>2012-07-09</th>\n",
       "      <td>Belgium</td>\n",
       "      <td>3,730.00</td>\n",
       "    </tr>\n",
       "  </tbody>\n",
       "</table>\n",
       "</div>"
      ],
      "text/plain": [
       "            country  totalamount\n",
       "orderdate                       \n",
       "2012-07-04   France       440.00\n",
       "2012-07-05  Germany     1,863.40\n",
       "2012-07-08   Brazil     1,813.00\n",
       "2012-07-08   France       670.80\n",
       "2012-07-09  Belgium     3,730.00"
      ]
     },
     "execution_count": 35,
     "metadata": {},
     "output_type": "execute_result"
    }
   ],
   "source": [
    "multivar = orders[['orderdate','country','totalamount']]\n",
    "# set orderdate to index to convirt to Time Series\n",
    "multivar = multivar.set_index('orderdate')\n",
    "multivar.head()"
   ]
  },
  {
   "cell_type": "code",
   "execution_count": 36,
   "metadata": {},
   "outputs": [
    {
     "data": {
      "text/html": [
       "<div>\n",
       "<style scoped>\n",
       "    .dataframe tbody tr th:only-of-type {\n",
       "        vertical-align: middle;\n",
       "    }\n",
       "\n",
       "    .dataframe tbody tr th {\n",
       "        vertical-align: top;\n",
       "    }\n",
       "\n",
       "    .dataframe thead th {\n",
       "        text-align: right;\n",
       "    }\n",
       "</style>\n",
       "<table border=\"1\" class=\"dataframe\">\n",
       "  <thead>\n",
       "    <tr style=\"text-align: right;\">\n",
       "      <th></th>\n",
       "      <th>country</th>\n",
       "      <th>totalamount</th>\n",
       "    </tr>\n",
       "    <tr>\n",
       "      <th>orderdate</th>\n",
       "      <th></th>\n",
       "      <th></th>\n",
       "    </tr>\n",
       "  </thead>\n",
       "  <tbody>\n",
       "    <tr>\n",
       "      <th>2012-07-31</th>\n",
       "      <td>11</td>\n",
       "      <td>30,192.10</td>\n",
       "    </tr>\n",
       "    <tr>\n",
       "      <th>2012-08-31</th>\n",
       "      <td>11</td>\n",
       "      <td>26,609.40</td>\n",
       "    </tr>\n",
       "    <tr>\n",
       "      <th>2012-09-30</th>\n",
       "      <td>11</td>\n",
       "      <td>27,636.00</td>\n",
       "    </tr>\n",
       "    <tr>\n",
       "      <th>2012-10-31</th>\n",
       "      <td>13</td>\n",
       "      <td>41,203.60</td>\n",
       "    </tr>\n",
       "    <tr>\n",
       "      <th>2012-11-30</th>\n",
       "      <td>11</td>\n",
       "      <td>49,704.00</td>\n",
       "    </tr>\n",
       "  </tbody>\n",
       "</table>\n",
       "</div>"
      ],
      "text/plain": [
       "            country  totalamount\n",
       "orderdate                       \n",
       "2012-07-31       11    30,192.10\n",
       "2012-08-31       11    26,609.40\n",
       "2012-09-30       11    27,636.00\n",
       "2012-10-31       13    41,203.60\n",
       "2012-11-30       11    49,704.00"
      ]
     },
     "execution_count": 36,
     "metadata": {},
     "output_type": "execute_result"
    }
   ],
   "source": [
    "# agg = aggregate function this count number of countries in this month and sum total amount in this month\n",
    "multivar = multivar.resample('1ME').agg({'country':'nunique','totalamount':'sum'})\n",
    "multivar.head()"
   ]
  },
  {
   "cell_type": "code",
   "execution_count": 37,
   "metadata": {},
   "outputs": [
    {
     "data": {
      "application/vnd.plotly.v1+json": {
       "config": {
        "plotlyServerURL": "https://plot.ly"
       },
       "data": [
        {
         "alignmentgroup": "True",
         "hovertemplate": "Order Date=%{x}<br>Total Amount=%{y}<br>country=%{marker.color}<extra></extra>",
         "legendgroup": "",
         "marker": {
          "color": [
           11,
           11,
           11,
           13,
           11,
           15,
           15,
           14,
           12,
           13,
           15,
           14,
           13,
           17,
           14,
           14,
           15,
           15,
           14,
           17,
           18,
           21,
           9
          ],
          "coloraxis": "coloraxis",
          "pattern": {
           "shape": ""
          }
         },
         "name": "",
         "offsetgroup": "",
         "orientation": "v",
         "showlegend": false,
         "textposition": "outside",
         "texttemplate": "%{y}",
         "type": "bar",
         "x": [
          "2012-07-31T00:00:00",
          "2012-08-31T00:00:00",
          "2012-09-30T00:00:00",
          "2012-10-31T00:00:00",
          "2012-11-30T00:00:00",
          "2012-12-31T00:00:00",
          "2013-01-31T00:00:00",
          "2013-02-28T00:00:00",
          "2013-03-31T00:00:00",
          "2013-04-30T00:00:00",
          "2013-05-31T00:00:00",
          "2013-06-30T00:00:00",
          "2013-07-31T00:00:00",
          "2013-08-31T00:00:00",
          "2013-09-30T00:00:00",
          "2013-10-31T00:00:00",
          "2013-11-30T00:00:00",
          "2013-12-31T00:00:00",
          "2014-01-31T00:00:00",
          "2014-02-28T00:00:00",
          "2014-03-31T00:00:00",
          "2014-04-30T00:00:00",
          "2014-05-31T00:00:00"
         ],
         "xaxis": "x",
         "y": [
          30192,
          26609,
          27636,
          41204,
          49704,
          50953,
          66693,
          41207,
          39980,
          55699,
          56824,
          39088,
          55465,
          49982,
          59733,
          70328,
          45913,
          77476,
          100855,
          87312,
          94015,
          118309,
          19899
         ],
         "yaxis": "y"
        }
       ],
       "layout": {
        "barmode": "relative",
        "coloraxis": {
         "colorbar": {
          "title": {
           "text": "country"
          }
         },
         "colorscale": [
          [
           0,
           "#0d0887"
          ],
          [
           0.1111111111111111,
           "#46039f"
          ],
          [
           0.2222222222222222,
           "#7201a8"
          ],
          [
           0.3333333333333333,
           "#9c179e"
          ],
          [
           0.4444444444444444,
           "#bd3786"
          ],
          [
           0.5555555555555556,
           "#d8576b"
          ],
          [
           0.6666666666666666,
           "#ed7953"
          ],
          [
           0.7777777777777778,
           "#fb9f3a"
          ],
          [
           0.8888888888888888,
           "#fdca26"
          ],
          [
           1,
           "#f0f921"
          ]
         ]
        },
        "legend": {
         "tracegroupgap": 0
        },
        "template": {
         "data": {
          "bar": [
           {
            "error_x": {
             "color": "#2a3f5f"
            },
            "error_y": {
             "color": "#2a3f5f"
            },
            "marker": {
             "line": {
              "color": "#E5ECF6",
              "width": 0.5
             },
             "pattern": {
              "fillmode": "overlay",
              "size": 10,
              "solidity": 0.2
             }
            },
            "type": "bar"
           }
          ],
          "barpolar": [
           {
            "marker": {
             "line": {
              "color": "#E5ECF6",
              "width": 0.5
             },
             "pattern": {
              "fillmode": "overlay",
              "size": 10,
              "solidity": 0.2
             }
            },
            "type": "barpolar"
           }
          ],
          "carpet": [
           {
            "aaxis": {
             "endlinecolor": "#2a3f5f",
             "gridcolor": "white",
             "linecolor": "white",
             "minorgridcolor": "white",
             "startlinecolor": "#2a3f5f"
            },
            "baxis": {
             "endlinecolor": "#2a3f5f",
             "gridcolor": "white",
             "linecolor": "white",
             "minorgridcolor": "white",
             "startlinecolor": "#2a3f5f"
            },
            "type": "carpet"
           }
          ],
          "choropleth": [
           {
            "colorbar": {
             "outlinewidth": 0,
             "ticks": ""
            },
            "type": "choropleth"
           }
          ],
          "contour": [
           {
            "colorbar": {
             "outlinewidth": 0,
             "ticks": ""
            },
            "colorscale": [
             [
              0,
              "#0d0887"
             ],
             [
              0.1111111111111111,
              "#46039f"
             ],
             [
              0.2222222222222222,
              "#7201a8"
             ],
             [
              0.3333333333333333,
              "#9c179e"
             ],
             [
              0.4444444444444444,
              "#bd3786"
             ],
             [
              0.5555555555555556,
              "#d8576b"
             ],
             [
              0.6666666666666666,
              "#ed7953"
             ],
             [
              0.7777777777777778,
              "#fb9f3a"
             ],
             [
              0.8888888888888888,
              "#fdca26"
             ],
             [
              1,
              "#f0f921"
             ]
            ],
            "type": "contour"
           }
          ],
          "contourcarpet": [
           {
            "colorbar": {
             "outlinewidth": 0,
             "ticks": ""
            },
            "type": "contourcarpet"
           }
          ],
          "heatmap": [
           {
            "colorbar": {
             "outlinewidth": 0,
             "ticks": ""
            },
            "colorscale": [
             [
              0,
              "#0d0887"
             ],
             [
              0.1111111111111111,
              "#46039f"
             ],
             [
              0.2222222222222222,
              "#7201a8"
             ],
             [
              0.3333333333333333,
              "#9c179e"
             ],
             [
              0.4444444444444444,
              "#bd3786"
             ],
             [
              0.5555555555555556,
              "#d8576b"
             ],
             [
              0.6666666666666666,
              "#ed7953"
             ],
             [
              0.7777777777777778,
              "#fb9f3a"
             ],
             [
              0.8888888888888888,
              "#fdca26"
             ],
             [
              1,
              "#f0f921"
             ]
            ],
            "type": "heatmap"
           }
          ],
          "heatmapgl": [
           {
            "colorbar": {
             "outlinewidth": 0,
             "ticks": ""
            },
            "colorscale": [
             [
              0,
              "#0d0887"
             ],
             [
              0.1111111111111111,
              "#46039f"
             ],
             [
              0.2222222222222222,
              "#7201a8"
             ],
             [
              0.3333333333333333,
              "#9c179e"
             ],
             [
              0.4444444444444444,
              "#bd3786"
             ],
             [
              0.5555555555555556,
              "#d8576b"
             ],
             [
              0.6666666666666666,
              "#ed7953"
             ],
             [
              0.7777777777777778,
              "#fb9f3a"
             ],
             [
              0.8888888888888888,
              "#fdca26"
             ],
             [
              1,
              "#f0f921"
             ]
            ],
            "type": "heatmapgl"
           }
          ],
          "histogram": [
           {
            "marker": {
             "pattern": {
              "fillmode": "overlay",
              "size": 10,
              "solidity": 0.2
             }
            },
            "type": "histogram"
           }
          ],
          "histogram2d": [
           {
            "colorbar": {
             "outlinewidth": 0,
             "ticks": ""
            },
            "colorscale": [
             [
              0,
              "#0d0887"
             ],
             [
              0.1111111111111111,
              "#46039f"
             ],
             [
              0.2222222222222222,
              "#7201a8"
             ],
             [
              0.3333333333333333,
              "#9c179e"
             ],
             [
              0.4444444444444444,
              "#bd3786"
             ],
             [
              0.5555555555555556,
              "#d8576b"
             ],
             [
              0.6666666666666666,
              "#ed7953"
             ],
             [
              0.7777777777777778,
              "#fb9f3a"
             ],
             [
              0.8888888888888888,
              "#fdca26"
             ],
             [
              1,
              "#f0f921"
             ]
            ],
            "type": "histogram2d"
           }
          ],
          "histogram2dcontour": [
           {
            "colorbar": {
             "outlinewidth": 0,
             "ticks": ""
            },
            "colorscale": [
             [
              0,
              "#0d0887"
             ],
             [
              0.1111111111111111,
              "#46039f"
             ],
             [
              0.2222222222222222,
              "#7201a8"
             ],
             [
              0.3333333333333333,
              "#9c179e"
             ],
             [
              0.4444444444444444,
              "#bd3786"
             ],
             [
              0.5555555555555556,
              "#d8576b"
             ],
             [
              0.6666666666666666,
              "#ed7953"
             ],
             [
              0.7777777777777778,
              "#fb9f3a"
             ],
             [
              0.8888888888888888,
              "#fdca26"
             ],
             [
              1,
              "#f0f921"
             ]
            ],
            "type": "histogram2dcontour"
           }
          ],
          "mesh3d": [
           {
            "colorbar": {
             "outlinewidth": 0,
             "ticks": ""
            },
            "type": "mesh3d"
           }
          ],
          "parcoords": [
           {
            "line": {
             "colorbar": {
              "outlinewidth": 0,
              "ticks": ""
             }
            },
            "type": "parcoords"
           }
          ],
          "pie": [
           {
            "automargin": true,
            "type": "pie"
           }
          ],
          "scatter": [
           {
            "fillpattern": {
             "fillmode": "overlay",
             "size": 10,
             "solidity": 0.2
            },
            "type": "scatter"
           }
          ],
          "scatter3d": [
           {
            "line": {
             "colorbar": {
              "outlinewidth": 0,
              "ticks": ""
             }
            },
            "marker": {
             "colorbar": {
              "outlinewidth": 0,
              "ticks": ""
             }
            },
            "type": "scatter3d"
           }
          ],
          "scattercarpet": [
           {
            "marker": {
             "colorbar": {
              "outlinewidth": 0,
              "ticks": ""
             }
            },
            "type": "scattercarpet"
           }
          ],
          "scattergeo": [
           {
            "marker": {
             "colorbar": {
              "outlinewidth": 0,
              "ticks": ""
             }
            },
            "type": "scattergeo"
           }
          ],
          "scattergl": [
           {
            "marker": {
             "colorbar": {
              "outlinewidth": 0,
              "ticks": ""
             }
            },
            "type": "scattergl"
           }
          ],
          "scattermapbox": [
           {
            "marker": {
             "colorbar": {
              "outlinewidth": 0,
              "ticks": ""
             }
            },
            "type": "scattermapbox"
           }
          ],
          "scatterpolar": [
           {
            "marker": {
             "colorbar": {
              "outlinewidth": 0,
              "ticks": ""
             }
            },
            "type": "scatterpolar"
           }
          ],
          "scatterpolargl": [
           {
            "marker": {
             "colorbar": {
              "outlinewidth": 0,
              "ticks": ""
             }
            },
            "type": "scatterpolargl"
           }
          ],
          "scatterternary": [
           {
            "marker": {
             "colorbar": {
              "outlinewidth": 0,
              "ticks": ""
             }
            },
            "type": "scatterternary"
           }
          ],
          "surface": [
           {
            "colorbar": {
             "outlinewidth": 0,
             "ticks": ""
            },
            "colorscale": [
             [
              0,
              "#0d0887"
             ],
             [
              0.1111111111111111,
              "#46039f"
             ],
             [
              0.2222222222222222,
              "#7201a8"
             ],
             [
              0.3333333333333333,
              "#9c179e"
             ],
             [
              0.4444444444444444,
              "#bd3786"
             ],
             [
              0.5555555555555556,
              "#d8576b"
             ],
             [
              0.6666666666666666,
              "#ed7953"
             ],
             [
              0.7777777777777778,
              "#fb9f3a"
             ],
             [
              0.8888888888888888,
              "#fdca26"
             ],
             [
              1,
              "#f0f921"
             ]
            ],
            "type": "surface"
           }
          ],
          "table": [
           {
            "cells": {
             "fill": {
              "color": "#EBF0F8"
             },
             "line": {
              "color": "white"
             }
            },
            "header": {
             "fill": {
              "color": "#C8D4E3"
             },
             "line": {
              "color": "white"
             }
            },
            "type": "table"
           }
          ]
         },
         "layout": {
          "annotationdefaults": {
           "arrowcolor": "#2a3f5f",
           "arrowhead": 0,
           "arrowwidth": 1
          },
          "autotypenumbers": "strict",
          "coloraxis": {
           "colorbar": {
            "outlinewidth": 0,
            "ticks": ""
           }
          },
          "colorscale": {
           "diverging": [
            [
             0,
             "#8e0152"
            ],
            [
             0.1,
             "#c51b7d"
            ],
            [
             0.2,
             "#de77ae"
            ],
            [
             0.3,
             "#f1b6da"
            ],
            [
             0.4,
             "#fde0ef"
            ],
            [
             0.5,
             "#f7f7f7"
            ],
            [
             0.6,
             "#e6f5d0"
            ],
            [
             0.7,
             "#b8e186"
            ],
            [
             0.8,
             "#7fbc41"
            ],
            [
             0.9,
             "#4d9221"
            ],
            [
             1,
             "#276419"
            ]
           ],
           "sequential": [
            [
             0,
             "#0d0887"
            ],
            [
             0.1111111111111111,
             "#46039f"
            ],
            [
             0.2222222222222222,
             "#7201a8"
            ],
            [
             0.3333333333333333,
             "#9c179e"
            ],
            [
             0.4444444444444444,
             "#bd3786"
            ],
            [
             0.5555555555555556,
             "#d8576b"
            ],
            [
             0.6666666666666666,
             "#ed7953"
            ],
            [
             0.7777777777777778,
             "#fb9f3a"
            ],
            [
             0.8888888888888888,
             "#fdca26"
            ],
            [
             1,
             "#f0f921"
            ]
           ],
           "sequentialminus": [
            [
             0,
             "#0d0887"
            ],
            [
             0.1111111111111111,
             "#46039f"
            ],
            [
             0.2222222222222222,
             "#7201a8"
            ],
            [
             0.3333333333333333,
             "#9c179e"
            ],
            [
             0.4444444444444444,
             "#bd3786"
            ],
            [
             0.5555555555555556,
             "#d8576b"
            ],
            [
             0.6666666666666666,
             "#ed7953"
            ],
            [
             0.7777777777777778,
             "#fb9f3a"
            ],
            [
             0.8888888888888888,
             "#fdca26"
            ],
            [
             1,
             "#f0f921"
            ]
           ]
          },
          "colorway": [
           "#636efa",
           "#EF553B",
           "#00cc96",
           "#ab63fa",
           "#FFA15A",
           "#19d3f3",
           "#FF6692",
           "#B6E880",
           "#FF97FF",
           "#FECB52"
          ],
          "font": {
           "color": "#2a3f5f"
          },
          "geo": {
           "bgcolor": "white",
           "lakecolor": "white",
           "landcolor": "#E5ECF6",
           "showlakes": true,
           "showland": true,
           "subunitcolor": "white"
          },
          "hoverlabel": {
           "align": "left"
          },
          "hovermode": "closest",
          "mapbox": {
           "style": "light"
          },
          "paper_bgcolor": "white",
          "plot_bgcolor": "#E5ECF6",
          "polar": {
           "angularaxis": {
            "gridcolor": "white",
            "linecolor": "white",
            "ticks": ""
           },
           "bgcolor": "#E5ECF6",
           "radialaxis": {
            "gridcolor": "white",
            "linecolor": "white",
            "ticks": ""
           }
          },
          "scene": {
           "xaxis": {
            "backgroundcolor": "#E5ECF6",
            "gridcolor": "white",
            "gridwidth": 2,
            "linecolor": "white",
            "showbackground": true,
            "ticks": "",
            "zerolinecolor": "white"
           },
           "yaxis": {
            "backgroundcolor": "#E5ECF6",
            "gridcolor": "white",
            "gridwidth": 2,
            "linecolor": "white",
            "showbackground": true,
            "ticks": "",
            "zerolinecolor": "white"
           },
           "zaxis": {
            "backgroundcolor": "#E5ECF6",
            "gridcolor": "white",
            "gridwidth": 2,
            "linecolor": "white",
            "showbackground": true,
            "ticks": "",
            "zerolinecolor": "white"
           }
          },
          "shapedefaults": {
           "line": {
            "color": "#2a3f5f"
           }
          },
          "ternary": {
           "aaxis": {
            "gridcolor": "white",
            "linecolor": "white",
            "ticks": ""
           },
           "baxis": {
            "gridcolor": "white",
            "linecolor": "white",
            "ticks": ""
           },
           "bgcolor": "#E5ECF6",
           "caxis": {
            "gridcolor": "white",
            "linecolor": "white",
            "ticks": ""
           }
          },
          "title": {
           "x": 0.05
          },
          "xaxis": {
           "automargin": true,
           "gridcolor": "white",
           "linecolor": "white",
           "ticks": "",
           "title": {
            "standoff": 15
           },
           "zerolinecolor": "white",
           "zerolinewidth": 2
          },
          "yaxis": {
           "automargin": true,
           "gridcolor": "white",
           "linecolor": "white",
           "ticks": "",
           "title": {
            "standoff": 15
           },
           "zerolinecolor": "white",
           "zerolinewidth": 2
          }
         }
        },
        "title": {
         "text": "Grand total amount of all countries per Month",
         "x": 0.5
        },
        "xaxis": {
         "anchor": "y",
         "domain": [
          0,
          1
         ],
         "title": {
          "text": "Order Date"
         }
        },
        "yaxis": {
         "anchor": "x",
         "domain": [
          0,
          1
         ],
         "title": {
          "text": "Total Amount"
         }
        }
       }
      }
     },
     "metadata": {},
     "output_type": "display_data"
    }
   ],
   "source": [
    "fig = px.bar(data_frame=multivar, x=multivar.index,y=round(multivar.totalamount,0),color=multivar.country,text_auto=True,\n",
    "             title='Grand total amount of all countries per Month', labels={\"orderdate\":\"Order Date\",'y':'Total Amount'})\n",
    "fig.update_traces(textposition = 'outside')\n",
    "fig.update_layout(title_x= 0.5)\n",
    "fig.show()"
   ]
  },
  {
   "cell_type": "markdown",
   "metadata": {},
   "source": [
    "### Another view from Grand Total Amount of each Country per Month"
   ]
  },
  {
   "cell_type": "code",
   "execution_count": 38,
   "metadata": {},
   "outputs": [],
   "source": [
    "multivar = orders[['orderdate','country','totalamount']]"
   ]
  },
  {
   "cell_type": "code",
   "execution_count": 39,
   "metadata": {},
   "outputs": [
    {
     "data": {
      "text/html": [
       "<div>\n",
       "<style scoped>\n",
       "    .dataframe tbody tr th:only-of-type {\n",
       "        vertical-align: middle;\n",
       "    }\n",
       "\n",
       "    .dataframe tbody tr th {\n",
       "        vertical-align: top;\n",
       "    }\n",
       "\n",
       "    .dataframe thead th {\n",
       "        text-align: right;\n",
       "    }\n",
       "</style>\n",
       "<table border=\"1\" class=\"dataframe\">\n",
       "  <thead>\n",
       "    <tr style=\"text-align: right;\">\n",
       "      <th></th>\n",
       "      <th>orderdate</th>\n",
       "      <th>country</th>\n",
       "      <th>totalamount</th>\n",
       "    </tr>\n",
       "  </thead>\n",
       "  <tbody>\n",
       "    <tr>\n",
       "      <th>0</th>\n",
       "      <td>2012-07-04</td>\n",
       "      <td>France</td>\n",
       "      <td>440.00</td>\n",
       "    </tr>\n",
       "    <tr>\n",
       "      <th>3</th>\n",
       "      <td>2012-07-05</td>\n",
       "      <td>Germany</td>\n",
       "      <td>1,863.40</td>\n",
       "    </tr>\n",
       "    <tr>\n",
       "      <th>5</th>\n",
       "      <td>2012-07-08</td>\n",
       "      <td>Brazil</td>\n",
       "      <td>1,813.00</td>\n",
       "    </tr>\n",
       "    <tr>\n",
       "      <th>8</th>\n",
       "      <td>2012-07-08</td>\n",
       "      <td>France</td>\n",
       "      <td>670.80</td>\n",
       "    </tr>\n",
       "    <tr>\n",
       "      <th>11</th>\n",
       "      <td>2012-07-09</td>\n",
       "      <td>Belgium</td>\n",
       "      <td>3,730.00</td>\n",
       "    </tr>\n",
       "  </tbody>\n",
       "</table>\n",
       "</div>"
      ],
      "text/plain": [
       "    orderdate  country  totalamount\n",
       "0  2012-07-04   France       440.00\n",
       "3  2012-07-05  Germany     1,863.40\n",
       "5  2012-07-08   Brazil     1,813.00\n",
       "8  2012-07-08   France       670.80\n",
       "11 2012-07-09  Belgium     3,730.00"
      ]
     },
     "execution_count": 39,
     "metadata": {},
     "output_type": "execute_result"
    }
   ],
   "source": [
    "multivar.head()"
   ]
  },
  {
   "cell_type": "code",
   "execution_count": 40,
   "metadata": {},
   "outputs": [
    {
     "name": "stderr",
     "output_type": "stream",
     "text": [
      "C:\\Users\\omar\\AppData\\Local\\Temp\\ipykernel_21936\\1183903935.py:1: SettingWithCopyWarning:\n",
      "\n",
      "\n",
      "A value is trying to be set on a copy of a slice from a DataFrame.\n",
      "Try using .loc[row_indexer,col_indexer] = value instead\n",
      "\n",
      "See the caveats in the documentation: https://pandas.pydata.org/pandas-docs/stable/user_guide/indexing.html#returning-a-view-versus-a-copy\n",
      "\n"
     ]
    }
   ],
   "source": [
    "multivar.orderdate = multivar.orderdate.dt.to_period('M')"
   ]
  },
  {
   "cell_type": "code",
   "execution_count": 41,
   "metadata": {},
   "outputs": [
    {
     "data": {
      "text/html": [
       "<div>\n",
       "<style scoped>\n",
       "    .dataframe tbody tr th:only-of-type {\n",
       "        vertical-align: middle;\n",
       "    }\n",
       "\n",
       "    .dataframe tbody tr th {\n",
       "        vertical-align: top;\n",
       "    }\n",
       "\n",
       "    .dataframe thead th {\n",
       "        text-align: right;\n",
       "    }\n",
       "</style>\n",
       "<table border=\"1\" class=\"dataframe\">\n",
       "  <thead>\n",
       "    <tr style=\"text-align: right;\">\n",
       "      <th></th>\n",
       "      <th>orderdate</th>\n",
       "      <th>country</th>\n",
       "      <th>totalamount</th>\n",
       "    </tr>\n",
       "  </thead>\n",
       "  <tbody>\n",
       "    <tr>\n",
       "      <th>0</th>\n",
       "      <td>2012-07</td>\n",
       "      <td>France</td>\n",
       "      <td>440.00</td>\n",
       "    </tr>\n",
       "    <tr>\n",
       "      <th>3</th>\n",
       "      <td>2012-07</td>\n",
       "      <td>Germany</td>\n",
       "      <td>1,863.40</td>\n",
       "    </tr>\n",
       "    <tr>\n",
       "      <th>5</th>\n",
       "      <td>2012-07</td>\n",
       "      <td>Brazil</td>\n",
       "      <td>1,813.00</td>\n",
       "    </tr>\n",
       "    <tr>\n",
       "      <th>8</th>\n",
       "      <td>2012-07</td>\n",
       "      <td>France</td>\n",
       "      <td>670.80</td>\n",
       "    </tr>\n",
       "    <tr>\n",
       "      <th>11</th>\n",
       "      <td>2012-07</td>\n",
       "      <td>Belgium</td>\n",
       "      <td>3,730.00</td>\n",
       "    </tr>\n",
       "  </tbody>\n",
       "</table>\n",
       "</div>"
      ],
      "text/plain": [
       "   orderdate  country  totalamount\n",
       "0    2012-07   France       440.00\n",
       "3    2012-07  Germany     1,863.40\n",
       "5    2012-07   Brazil     1,813.00\n",
       "8    2012-07   France       670.80\n",
       "11   2012-07  Belgium     3,730.00"
      ]
     },
     "execution_count": 41,
     "metadata": {},
     "output_type": "execute_result"
    }
   ],
   "source": [
    "multivar.head()"
   ]
  },
  {
   "cell_type": "code",
   "execution_count": 42,
   "metadata": {},
   "outputs": [
    {
     "data": {
      "text/html": [
       "<div>\n",
       "<style scoped>\n",
       "    .dataframe tbody tr th:only-of-type {\n",
       "        vertical-align: middle;\n",
       "    }\n",
       "\n",
       "    .dataframe tbody tr th {\n",
       "        vertical-align: top;\n",
       "    }\n",
       "\n",
       "    .dataframe thead th {\n",
       "        text-align: right;\n",
       "    }\n",
       "</style>\n",
       "<table border=\"1\" class=\"dataframe\">\n",
       "  <thead>\n",
       "    <tr style=\"text-align: right;\">\n",
       "      <th></th>\n",
       "      <th>orderdate</th>\n",
       "      <th>country</th>\n",
       "      <th>totalamount</th>\n",
       "    </tr>\n",
       "  </thead>\n",
       "  <tbody>\n",
       "    <tr>\n",
       "      <th>255</th>\n",
       "      <td>2014-01</td>\n",
       "      <td>USA</td>\n",
       "      <td>27,594.45</td>\n",
       "    </tr>\n",
       "    <tr>\n",
       "      <th>166</th>\n",
       "      <td>2013-07</td>\n",
       "      <td>USA</td>\n",
       "      <td>26,022.30</td>\n",
       "    </tr>\n",
       "    <tr>\n",
       "      <th>300</th>\n",
       "      <td>2014-04</td>\n",
       "      <td>Germany</td>\n",
       "      <td>22,584.49</td>\n",
       "    </tr>\n",
       "    <tr>\n",
       "      <th>249</th>\n",
       "      <td>2014-01</td>\n",
       "      <td>Germany</td>\n",
       "      <td>22,135.55</td>\n",
       "    </tr>\n",
       "    <tr>\n",
       "      <th>206</th>\n",
       "      <td>2013-10</td>\n",
       "      <td>Germany</td>\n",
       "      <td>22,079.05</td>\n",
       "    </tr>\n",
       "  </tbody>\n",
       "</table>\n",
       "</div>"
      ],
      "text/plain": [
       "    orderdate  country  totalamount\n",
       "255   2014-01      USA    27,594.45\n",
       "166   2013-07      USA    26,022.30\n",
       "300   2014-04  Germany    22,584.49\n",
       "249   2014-01  Germany    22,135.55\n",
       "206   2013-10  Germany    22,079.05"
      ]
     },
     "execution_count": 42,
     "metadata": {},
     "output_type": "execute_result"
    }
   ],
   "source": [
    "multivar = multivar.groupby(['orderdate','country'],as_index=False)['totalamount'].sum().sort_values(by='totalamount',ascending=False)\n",
    "multivar.head()"
   ]
  },
  {
   "cell_type": "code",
   "execution_count": 43,
   "metadata": {},
   "outputs": [
    {
     "name": "stdout",
     "output_type": "stream",
     "text": [
      "<class 'pandas.core.frame.DataFrame'>\n",
      "Index: 322 entries, 255 to 228\n",
      "Data columns (total 3 columns):\n",
      " #   Column       Non-Null Count  Dtype    \n",
      "---  ------       --------------  -----    \n",
      " 0   orderdate    322 non-null    period[M]\n",
      " 1   country      322 non-null    object   \n",
      " 2   totalamount  322 non-null    float64  \n",
      "dtypes: float64(1), object(1), period[M](1)\n",
      "memory usage: 10.1+ KB\n"
     ]
    }
   ],
   "source": [
    "multivar.info()"
   ]
  },
  {
   "cell_type": "code",
   "execution_count": 44,
   "metadata": {},
   "outputs": [],
   "source": [
    "# convert data type (orderdate ) from period[M] to datetime64[ns]\n",
    "multivar.orderdate =multivar.orderdate.astype('datetime64[ns]')"
   ]
  },
  {
   "cell_type": "code",
   "execution_count": 45,
   "metadata": {},
   "outputs": [
    {
     "data": {
      "application/vnd.plotly.v1+json": {
       "config": {
        "plotlyServerURL": "https://plot.ly"
       },
       "data": [
        {
         "hovertemplate": "country=USA<br>orderdate=%{x}<br>totalamount=%{marker.size}<extra></extra>",
         "legendgroup": "USA",
         "marker": {
          "color": "#636efa",
          "size": [
           27594.45,
           26022.3,
           20836.12,
           18775.65,
           17899.58,
           16429.95,
           13004.25,
           12472.1,
           11909.8,
           10367,
           10209.8,
           10131.5,
           9644.1,
           7608.05,
           7025.65,
           6123.94,
           4728.8,
           4456,
           3632.5,
           3391.6,
           2657.74,
           1300.8,
           1023.4
          ],
          "sizemode": "area",
          "sizeref": 68.986125,
          "symbol": "circle"
         },
         "mode": "markers",
         "name": "USA",
         "orientation": "v",
         "showlegend": true,
         "type": "scatter",
         "x": [
          "2014-01-01T00:00:00",
          "2013-07-01T00:00:00",
          "2013-10-01T00:00:00",
          "2014-02-01T00:00:00",
          "2014-04-01T00:00:00",
          "2013-09-01T00:00:00",
          "2014-03-01T00:00:00",
          "2013-03-01T00:00:00",
          "2012-10-01T00:00:00",
          "2012-09-01T00:00:00",
          "2012-12-01T00:00:00",
          "2013-11-01T00:00:00",
          "2013-02-01T00:00:00",
          "2013-06-01T00:00:00",
          "2014-05-01T00:00:00",
          "2013-04-01T00:00:00",
          "2012-11-01T00:00:00",
          "2013-01-01T00:00:00",
          "2013-12-01T00:00:00",
          "2012-08-01T00:00:00",
          "2013-08-01T00:00:00",
          "2012-07-01T00:00:00",
          "2013-05-01T00:00:00"
         ],
         "xaxis": "x",
         "y": [
          27594.45,
          26022.3,
          20836.12,
          18775.65,
          17899.58,
          16429.95,
          13004.25,
          12472.1,
          11909.8,
          10367,
          10209.8,
          10131.5,
          9644.1,
          7608.05,
          7025.65,
          6123.94,
          4728.8,
          4456,
          3632.5,
          3391.6,
          2657.74,
          1300.8,
          1023.4
         ],
         "yaxis": "y"
        },
        {
         "hovertemplate": "country=Germany<br>orderdate=%{x}<br>totalamount=%{marker.size}<extra></extra>",
         "legendgroup": "Germany",
         "marker": {
          "color": "#EF553B",
          "size": [
           22584.489999999998,
           22135.55,
           22079.05,
           21234,
           18042.2,
           13633.279999999999,
           12589.4,
           11224.85,
           10458.4,
           8464.65,
           8015.200000000001,
           7640.6,
           7510.459999999999,
           7358.5,
           7148,
           5954.299999999999,
           4998.75,
           4529.8,
           3008.8,
           2552.2,
           2277.6,
           1990.2,
           1960.35
          ],
          "sizemode": "area",
          "sizeref": 68.986125,
          "symbol": "circle"
         },
         "mode": "markers",
         "name": "Germany",
         "orientation": "v",
         "showlegend": true,
         "type": "scatter",
         "x": [
          "2014-04-01T00:00:00",
          "2014-01-01T00:00:00",
          "2013-10-01T00:00:00",
          "2013-05-01T00:00:00",
          "2013-04-01T00:00:00",
          "2013-12-01T00:00:00",
          "2013-09-01T00:00:00",
          "2014-03-01T00:00:00",
          "2012-08-01T00:00:00",
          "2013-07-01T00:00:00",
          "2012-10-01T00:00:00",
          "2012-07-01T00:00:00",
          "2014-02-01T00:00:00",
          "2013-02-01T00:00:00",
          "2012-11-01T00:00:00",
          "2013-06-01T00:00:00",
          "2013-08-01T00:00:00",
          "2013-11-01T00:00:00",
          "2013-01-01T00:00:00",
          "2012-09-01T00:00:00",
          "2013-03-01T00:00:00",
          "2012-12-01T00:00:00",
          "2014-05-01T00:00:00"
         ],
         "xaxis": "x",
         "y": [
          22584.489999999998,
          22135.55,
          22079.05,
          21234,
          18042.2,
          13633.279999999999,
          12589.4,
          11224.85,
          10458.4,
          8464.65,
          8015.200000000001,
          7640.6,
          7510.459999999999,
          7358.5,
          7148,
          5954.299999999999,
          4998.75,
          4529.8,
          3008.8,
          2552.2,
          2277.6,
          1990.2,
          1960.35
         ],
         "yaxis": "y"
        },
        {
         "hovertemplate": "country=Austria<br>orderdate=%{x}<br>totalamount=%{marker.size}<extra></extra>",
         "legendgroup": "Austria",
         "marker": {
          "color": "#00cc96",
          "size": [
           20243.25,
           18253.4,
           14584,
           10166.4,
           8930.5,
           8623.45,
           7100.1,
           6615.2,
           6483.05,
           6379.4,
           6221.5,
           5218,
           4483.4,
           4180,
           3600.73,
           3559.45,
           1912.85,
           1792,
           647.75,
           502.2
          ],
          "sizemode": "area",
          "sizeref": 68.986125,
          "symbol": "circle"
         },
         "mode": "markers",
         "name": "Austria",
         "orientation": "v",
         "showlegend": true,
         "type": "scatter",
         "x": [
          "2014-04-01T00:00:00",
          "2012-11-01T00:00:00",
          "2013-12-01T00:00:00",
          "2013-01-01T00:00:00",
          "2014-01-01T00:00:00",
          "2013-04-01T00:00:00",
          "2013-07-01T00:00:00",
          "2012-12-01T00:00:00",
          "2013-08-01T00:00:00",
          "2014-02-01T00:00:00",
          "2014-03-01T00:00:00",
          "2014-05-01T00:00:00",
          "2012-07-01T00:00:00",
          "2013-05-01T00:00:00",
          "2013-10-01T00:00:00",
          "2013-09-01T00:00:00",
          "2013-11-01T00:00:00",
          "2013-02-01T00:00:00",
          "2013-06-01T00:00:00",
          "2013-03-01T00:00:00"
         ],
         "xaxis": "x",
         "y": [
          20243.25,
          18253.4,
          14584,
          10166.4,
          8930.5,
          8623.45,
          7100.1,
          6615.2,
          6483.05,
          6379.4,
          6221.5,
          5218,
          4483.4,
          4180,
          3600.73,
          3559.45,
          1912.85,
          1792,
          647.75,
          502.2
         ],
         "yaxis": "y"
        },
        {
         "hovertemplate": "country=Ireland<br>orderdate=%{x}<br>totalamount=%{marker.size}<extra></extra>",
         "legendgroup": "Ireland",
         "marker": {
          "color": "#ab63fa",
          "size": [
           19102.64,
           6905.15,
           4889,
           4663,
           4608.4,
           3127.8,
           3109,
           2545.2,
           2248.2,
           1928,
           1748.5,
           1445.5,
           997
          ],
          "sizemode": "area",
          "sizeref": 68.986125,
          "symbol": "circle"
         },
         "mode": "markers",
         "name": "Ireland",
         "orientation": "v",
         "showlegend": true,
         "type": "scatter",
         "x": [
          "2014-02-01T00:00:00",
          "2013-09-01T00:00:00",
          "2012-09-01T00:00:00",
          "2013-04-01T00:00:00",
          "2013-10-01T00:00:00",
          "2012-12-01T00:00:00",
          "2013-06-01T00:00:00",
          "2012-10-01T00:00:00",
          "2014-03-01T00:00:00",
          "2013-08-01T00:00:00",
          "2013-01-01T00:00:00",
          "2014-04-01T00:00:00",
          "2013-11-01T00:00:00"
         ],
         "xaxis": "x",
         "y": [
          19102.64,
          6905.15,
          4889,
          4663,
          4608.4,
          3127.8,
          3109,
          2545.2,
          2248.2,
          1928,
          1748.5,
          1445.5,
          997
         ],
         "yaxis": "y"
        },
        {
         "hovertemplate": "country=Canada<br>orderdate=%{x}<br>totalamount=%{marker.size}<extra></extra>",
         "legendgroup": "Canada",
         "marker": {
          "color": "#FFA15A",
          "size": [
           16026.7,
           9222.6,
           5696.799999999999,
           5466,
           4015,
           3306,
           3118,
           3004.8,
           2252.8,
           1321.9,
           1078,
           638.5,
           187
          ],
          "sizemode": "area",
          "sizeref": 68.986125,
          "symbol": "circle"
         },
         "mode": "markers",
         "name": "Canada",
         "orientation": "v",
         "showlegend": true,
         "type": "scatter",
         "x": [
          "2013-01-01T00:00:00",
          "2014-03-01T00:00:00",
          "2012-10-01T00:00:00",
          "2013-07-01T00:00:00",
          "2013-08-01T00:00:00",
          "2013-06-01T00:00:00",
          "2013-11-01T00:00:00",
          "2014-04-01T00:00:00",
          "2012-12-01T00:00:00",
          "2013-04-01T00:00:00",
          "2013-02-01T00:00:00",
          "2013-10-01T00:00:00",
          "2014-01-01T00:00:00"
         ],
         "xaxis": "x",
         "y": [
          16026.7,
          9222.6,
          5696.799999999999,
          5466,
          4015,
          3306,
          3118,
          3004.8,
          2252.8,
          1321.9,
          1078,
          638.5,
          187
         ],
         "yaxis": "y"
        },
        {
         "hovertemplate": "country=Brazil<br>orderdate=%{x}<br>totalamount=%{marker.size}<extra></extra>",
         "legendgroup": "Brazil",
         "marker": {
          "color": "#19d3f3",
          "size": [
           13406.400000000001,
           10051.4,
           9296.95,
           7929.62,
           6450.6,
           6440.4,
           6007.3,
           5652.75,
           4941.8,
           4740.1,
           4223.6,
           2795.1,
           2613.1,
           2424.48,
           2384.8,
           2362.88,
           2162.8,
           1730,
           1352.5,
           928,
           914.4,
           349.5
          ],
          "sizemode": "area",
          "sizeref": 68.986125,
          "symbol": "circle"
         },
         "mode": "markers",
         "name": "Brazil",
         "orientation": "v",
         "showlegend": true,
         "type": "scatter",
         "x": [
          "2012-12-01T00:00:00",
          "2014-02-01T00:00:00",
          "2013-08-01T00:00:00",
          "2014-01-01T00:00:00",
          "2013-12-01T00:00:00",
          "2013-01-01T00:00:00",
          "2013-10-01T00:00:00",
          "2014-04-01T00:00:00",
          "2012-08-01T00:00:00",
          "2014-03-01T00:00:00",
          "2012-07-01T00:00:00",
          "2013-11-01T00:00:00",
          "2013-03-01T00:00:00",
          "2013-09-01T00:00:00",
          "2014-05-01T00:00:00",
          "2013-07-01T00:00:00",
          "2013-05-01T00:00:00",
          "2013-04-01T00:00:00",
          "2013-06-01T00:00:00",
          "2012-11-01T00:00:00",
          "2013-02-01T00:00:00",
          "2012-09-01T00:00:00"
         ],
         "xaxis": "x",
         "y": [
          13406.400000000001,
          10051.4,
          9296.95,
          7929.62,
          6450.6,
          6440.4,
          6007.3,
          5652.75,
          4941.8,
          4740.1,
          4223.6,
          2795.1,
          2613.1,
          2424.48,
          2384.8,
          2362.88,
          2162.8,
          1730,
          1352.5,
          928,
          914.4,
          349.5
         ],
         "yaxis": "y"
        },
        {
         "hovertemplate": "country=Denmark<br>orderdate=%{x}<br>totalamount=%{marker.size}<extra></extra>",
         "legendgroup": "Denmark",
         "marker": {
          "color": "#FF6692",
          "size": [
           11283.2,
           5627.75,
           3490,
           3343.5,
           2719,
           1765.6,
           990,
           920,
           877.5,
           870,
           835.2,
           834.2,
           570,
           412,
           244.3
          ],
          "sizemode": "area",
          "sizeref": 68.986125,
          "symbol": "circle"
         },
         "mode": "markers",
         "name": "Denmark",
         "orientation": "v",
         "showlegend": true,
         "type": "scatter",
         "x": [
          "2013-01-01T00:00:00",
          "2013-12-01T00:00:00",
          "2013-10-01T00:00:00",
          "2014-03-01T00:00:00",
          "2013-03-01T00:00:00",
          "2012-12-01T00:00:00",
          "2014-04-01T00:00:00",
          "2013-11-01T00:00:00",
          "2013-07-01T00:00:00",
          "2013-08-01T00:00:00",
          "2013-06-01T00:00:00",
          "2012-11-01T00:00:00",
          "2013-09-01T00:00:00",
          "2012-10-01T00:00:00",
          "2014-05-01T00:00:00"
         ],
         "xaxis": "x",
         "y": [
          11283.2,
          5627.75,
          3490,
          3343.5,
          2719,
          1765.6,
          990,
          920,
          877.5,
          870,
          835.2,
          834.2,
          570,
          412,
          244.3
         ],
         "yaxis": "y"
        },
        {
         "hovertemplate": "country=Sweden<br>orderdate=%{x}<br>totalamount=%{marker.size}<extra></extra>",
         "legendgroup": "Sweden",
         "marker": {
          "color": "#B6E880",
          "size": [
           10196.25,
           5487.85,
           5308.5,
           5081.9,
           4879.2,
           4670.5,
           4410.15,
           4135.75,
           3175,
           2325.6,
           2262.5,
           2102,
           1801.4,
           1503.6,
           1459,
           724.5
          ],
          "sizemode": "area",
          "sizeref": 68.986125,
          "symbol": "circle"
         },
         "mode": "markers",
         "name": "Sweden",
         "orientation": "v",
         "showlegend": true,
         "type": "scatter",
         "x": [
          "2014-04-01T00:00:00",
          "2013-05-01T00:00:00",
          "2013-12-01T00:00:00",
          "2014-02-01T00:00:00",
          "2013-09-01T00:00:00",
          "2014-03-01T00:00:00",
          "2013-06-01T00:00:00",
          "2014-01-01T00:00:00",
          "2013-10-01T00:00:00",
          "2012-12-01T00:00:00",
          "2012-10-01T00:00:00",
          "2012-08-01T00:00:00",
          "2013-02-01T00:00:00",
          "2013-08-01T00:00:00",
          "2013-11-01T00:00:00",
          "2012-07-01T00:00:00"
         ],
         "xaxis": "x",
         "y": [
          10196.25,
          5487.85,
          5308.5,
          5081.9,
          4879.2,
          4670.5,
          4410.15,
          4135.75,
          3175,
          2325.6,
          2262.5,
          2102,
          1801.4,
          1503.6,
          1459,
          724.5
         ],
         "yaxis": "y"
        },
        {
         "hovertemplate": "country=France<br>orderdate=%{x}<br>totalamount=%{marker.size}<extra></extra>",
         "legendgroup": "France",
         "marker": {
          "color": "#FF97FF",
          "size": [
           10105.199999999999,
           8350.11,
           7635.900000000001,
           6682.4,
           6331.95,
           5497.5,
           4226.8,
           4225.6,
           3969,
           3899.9,
           3675.1,
           3658,
           3212.8,
           3072.8,
           2797.7000000000003,
           2286.8,
           1810.3999999999999,
           1296,
           1057,
           823,
           538.6,
           255,
           91.2
          ],
          "sizemode": "area",
          "sizeref": 68.986125,
          "symbol": "circle"
         },
         "mode": "markers",
         "name": "France",
         "orientation": "v",
         "showlegend": true,
         "type": "scatter",
         "x": [
          "2012-11-01T00:00:00",
          "2014-03-01T00:00:00",
          "2013-12-01T00:00:00",
          "2013-02-01T00:00:00",
          "2014-01-01T00:00:00",
          "2013-08-01T00:00:00",
          "2013-04-01T00:00:00",
          "2013-01-01T00:00:00",
          "2014-02-01T00:00:00",
          "2013-11-01T00:00:00",
          "2013-09-01T00:00:00",
          "2013-05-01T00:00:00",
          "2013-06-01T00:00:00",
          "2013-03-01T00:00:00",
          "2012-10-01T00:00:00",
          "2012-07-01T00:00:00",
          "2012-09-01T00:00:00",
          "2013-10-01T00:00:00",
          "2014-05-01T00:00:00",
          "2013-07-01T00:00:00",
          "2012-08-01T00:00:00",
          "2014-04-01T00:00:00",
          "2012-12-01T00:00:00"
         ],
         "xaxis": "x",
         "y": [
          10105.199999999999,
          8350.11,
          7635.900000000001,
          6682.4,
          6331.95,
          5497.5,
          4226.8,
          4225.6,
          3969,
          3899.9,
          3675.1,
          3658,
          3212.8,
          3072.8,
          2797.7000000000003,
          2286.8,
          1810.3999999999999,
          1296,
          1057,
          823,
          538.6,
          255,
          91.2
         ],
         "yaxis": "y"
        },
        {
         "hovertemplate": "country=UK<br>orderdate=%{x}<br>totalamount=%{marker.size}<extra></extra>",
         "legendgroup": "UK",
         "marker": {
          "color": "#FECB52",
          "size": [
           9688.6,
           8833.81,
           6037.25,
           5915.55,
           5084.4,
           3189,
           3151.8,
           3063,
           2695.5,
           2619.9,
           2608,
           1912,
           1704,
           1084.6,
           758.5,
           516.8,
           493,
           479.4,
           384.4,
           352,
           45
          ],
          "sizemode": "area",
          "sizeref": 68.986125,
          "symbol": "circle"
         },
         "mode": "markers",
         "name": "UK",
         "orientation": "v",
         "showlegend": true,
         "type": "scatter",
         "x": [
          "2014-03-01T00:00:00",
          "2014-04-01T00:00:00",
          "2013-12-01T00:00:00",
          "2013-05-01T00:00:00",
          "2012-11-01T00:00:00",
          "2012-12-01T00:00:00",
          "2013-03-01T00:00:00",
          "2013-01-01T00:00:00",
          "2014-01-01T00:00:00",
          "2013-06-01T00:00:00",
          "2013-11-01T00:00:00",
          "2014-02-01T00:00:00",
          "2013-10-01T00:00:00",
          "2013-02-01T00:00:00",
          "2013-08-01T00:00:00",
          "2012-09-01T00:00:00",
          "2013-07-01T00:00:00",
          "2012-08-01T00:00:00",
          "2012-10-01T00:00:00",
          "2013-04-01T00:00:00",
          "2013-09-01T00:00:00"
         ],
         "xaxis": "x",
         "y": [
          9688.6,
          8833.81,
          6037.25,
          5915.55,
          5084.4,
          3189,
          3151.8,
          3063,
          2695.5,
          2619.9,
          2608,
          1912,
          1704,
          1084.6,
          758.5,
          516.8,
          493,
          479.4,
          384.4,
          352,
          45
         ],
         "yaxis": "y"
        },
        {
         "hovertemplate": "country=Switzerland<br>orderdate=%{x}<br>totalamount=%{marker.size}<extra></extra>",
         "legendgroup": "Switzerland",
         "marker": {
          "color": "#636efa",
          "size": [
           7647.76,
           6765.8,
           4666.94,
           3115.7,
           2575.5,
           2356,
           2208,
           1823.8,
           1174,
           586
          ],
          "sizemode": "area",
          "sizeref": 68.986125,
          "symbol": "circle"
         },
         "mode": "markers",
         "name": "Switzerland",
         "orientation": "v",
         "showlegend": true,
         "type": "scatter",
         "x": [
          "2013-11-01T00:00:00",
          "2014-04-01T00:00:00",
          "2013-09-01T00:00:00",
          "2012-07-01T00:00:00",
          "2014-03-01T00:00:00",
          "2013-04-01T00:00:00",
          "2013-01-01T00:00:00",
          "2013-05-01T00:00:00",
          "2012-12-01T00:00:00",
          "2014-05-01T00:00:00"
         ],
         "xaxis": "x",
         "y": [
          7647.76,
          6765.8,
          4666.94,
          3115.7,
          2575.5,
          2356,
          2208,
          1823.8,
          1174,
          586
         ],
         "yaxis": "y"
        },
        {
         "hovertemplate": "country=Venezuela<br>orderdate=%{x}<br>totalamount=%{marker.size}<extra></extra>",
         "legendgroup": "Venezuela",
         "marker": {
          "color": "#EF553B",
          "size": [
           7067.7,
           6808,
           6377.6,
           5976.2,
           4774.05,
           3985.58,
           2650.5,
           2643,
           2445.2,
           2221.1000000000004,
           2051.6,
           1987,
           1940,
           1850,
           1597.5,
           1451.9,
           1414.8,
           1360,
           1050.6,
           762.56,
           400
          ],
          "sizemode": "area",
          "sizeref": 68.986125,
          "symbol": "circle"
         },
         "mode": "markers",
         "name": "Venezuela",
         "orientation": "v",
         "showlegend": true,
         "type": "scatter",
         "x": [
          "2014-04-01T00:00:00",
          "2014-01-01T00:00:00",
          "2013-03-01T00:00:00",
          "2014-03-01T00:00:00",
          "2013-08-01T00:00:00",
          "2013-12-01T00:00:00",
          "2013-05-01T00:00:00",
          "2013-07-01T00:00:00",
          "2012-12-01T00:00:00",
          "2012-07-01T00:00:00",
          "2013-02-01T00:00:00",
          "2013-04-01T00:00:00",
          "2012-10-01T00:00:00",
          "2013-11-01T00:00:00",
          "2014-02-01T00:00:00",
          "2013-10-01T00:00:00",
          "2012-08-01T00:00:00",
          "2012-11-01T00:00:00",
          "2012-09-01T00:00:00",
          "2014-05-01T00:00:00",
          "2013-01-01T00:00:00"
         ],
         "xaxis": "x",
         "y": [
          7067.7,
          6808,
          6377.6,
          5976.2,
          4774.05,
          3985.58,
          2650.5,
          2643,
          2445.2,
          2221.1000000000004,
          2051.6,
          1987,
          1940,
          1850,
          1597.5,
          1451.9,
          1414.8,
          1360,
          1050.6,
          762.56,
          400
         ],
         "yaxis": "y"
        },
        {
         "hovertemplate": "country=Mexico<br>orderdate=%{x}<br>totalamount=%{marker.size}<extra></extra>",
         "legendgroup": "Mexico",
         "marker": {
          "color": "#00cc96",
          "size": [
           5847.6,
           2920.45,
           2156.5,
           1867.25,
           1635,
           1303.2,
           1268.7,
           1249.1,
           1196,
           1043.2,
           972,
           660,
           539.5,
           514.4,
           479.75,
           320,
           100.8
          ],
          "sizemode": "area",
          "sizeref": 68.986125,
          "symbol": "circle"
         },
         "mode": "markers",
         "name": "Mexico",
         "orientation": "v",
         "showlegend": true,
         "type": "scatter",
         "x": [
          "2013-04-01T00:00:00",
          "2013-06-01T00:00:00",
          "2013-05-01T00:00:00",
          "2013-09-01T00:00:00",
          "2014-01-01T00:00:00",
          "2012-10-01T00:00:00",
          "2012-08-01T00:00:00",
          "2013-03-01T00:00:00",
          "2014-04-01T00:00:00",
          "2012-09-01T00:00:00",
          "2012-11-01T00:00:00",
          "2014-05-01T00:00:00",
          "2014-02-01T00:00:00",
          "2014-03-01T00:00:00",
          "2013-08-01T00:00:00",
          "2013-11-01T00:00:00",
          "2012-07-01T00:00:00"
         ],
         "xaxis": "x",
         "y": [
          5847.6,
          2920.45,
          2156.5,
          1867.25,
          1635,
          1303.2,
          1268.7,
          1249.1,
          1196,
          1043.2,
          972,
          660,
          539.5,
          514.4,
          479.75,
          320,
          100.8
         ],
         "yaxis": "y"
        },
        {
         "hovertemplate": "country=Belgium<br>orderdate=%{x}<br>totalamount=%{marker.size}<extra></extra>",
         "legendgroup": "Belgium",
         "marker": {
          "color": "#ab63fa",
          "size": [
           5693,
           4159.5,
           3955.7,
           3891,
           3730,
           3332,
           2800.88,
           2708.8,
           2484.1,
           1434,
           946
          ],
          "sizemode": "area",
          "sizeref": 68.986125,
          "symbol": "circle"
         },
         "mode": "markers",
         "name": "Belgium",
         "orientation": "v",
         "showlegend": true,
         "type": "scatter",
         "x": [
          "2014-01-01T00:00:00",
          "2014-02-01T00:00:00",
          "2014-03-01T00:00:00",
          "2013-02-01T00:00:00",
          "2012-07-01T00:00:00",
          "2013-12-01T00:00:00",
          "2014-04-01T00:00:00",
          "2012-09-01T00:00:00",
          "2013-03-01T00:00:00",
          "2013-08-01T00:00:00",
          "2013-05-01T00:00:00"
         ],
         "xaxis": "x",
         "y": [
          5693,
          4159.5,
          3955.7,
          3891,
          3730,
          3332,
          2800.88,
          2708.8,
          2484.1,
          1434,
          946
         ],
         "yaxis": "y"
        },
        {
         "hovertemplate": "country=Spain<br>orderdate=%{x}<br>totalamount=%{marker.size}<extra></extra>",
         "legendgroup": "Spain",
         "marker": {
          "color": "#FFA15A",
          "size": [
           4035.8,
           4009.8,
           3145.64,
           2775.05,
           1740.5,
           1123,
           982,
           749,
           338.2,
           241.9,
           155,
           136
          ],
          "sizemode": "area",
          "sizeref": 68.986125,
          "symbol": "circle"
         },
         "mode": "markers",
         "name": "Spain",
         "orientation": "v",
         "showlegend": true,
         "type": "scatter",
         "x": [
          "2013-12-01T00:00:00",
          "2014-02-01T00:00:00",
          "2014-03-01T00:00:00",
          "2013-08-01T00:00:00",
          "2012-09-01T00:00:00",
          "2014-04-01T00:00:00",
          "2012-10-01T00:00:00",
          "2013-05-01T00:00:00",
          "2013-01-01T00:00:00",
          "2012-08-01T00:00:00",
          "2013-06-01T00:00:00",
          "2012-11-01T00:00:00"
         ],
         "xaxis": "x",
         "y": [
          4035.8,
          4009.8,
          3145.64,
          2775.05,
          1740.5,
          1123,
          982,
          749,
          338.2,
          241.9,
          155,
          136
         ],
         "yaxis": "y"
        },
        {
         "hovertemplate": "country=Argentina<br>orderdate=%{x}<br>totalamount=%{marker.size}<extra></extra>",
         "legendgroup": "Argentina",
         "marker": {
          "color": "#19d3f3",
          "size": [
           3645.8,
           1409,
           866.7,
           706,
           443.4,
           381,
           319.2,
           225.5,
           110,
           12.5
          ],
          "sizemode": "area",
          "sizeref": 68.986125,
          "symbol": "circle"
         },
         "mode": "markers",
         "name": "Argentina",
         "orientation": "v",
         "showlegend": true,
         "type": "scatter",
         "x": [
          "2014-03-01T00:00:00",
          "2014-01-01T00:00:00",
          "2014-02-01T00:00:00",
          "2013-10-01T00:00:00",
          "2013-02-01T00:00:00",
          "2014-04-01T00:00:00",
          "2013-01-01T00:00:00",
          "2013-04-01T00:00:00",
          "2013-05-01T00:00:00",
          "2013-12-01T00:00:00"
         ],
         "xaxis": "x",
         "y": [
          3645.8,
          1409,
          866.7,
          706,
          443.4,
          381,
          319.2,
          225.5,
          110,
          12.5
         ],
         "yaxis": "y"
        },
        {
         "hovertemplate": "country=Finland<br>orderdate=%{x}<br>totalamount=%{marker.size}<extra></extra>",
         "legendgroup": "Finland",
         "marker": {
          "color": "#FF6692",
          "size": [
           3077,
           2890.3,
           2413.9,
           1871.25,
           1470,
           1401,
           1376,
           1132.35,
           1092,
           886,
           642,
           629.5,
           412.35,
           364.8,
           120
          ],
          "sizemode": "area",
          "sizeref": 68.986125,
          "symbol": "circle"
         },
         "mode": "markers",
         "name": "Finland",
         "orientation": "v",
         "showlegend": true,
         "type": "scatter",
         "x": [
          "2013-02-01T00:00:00",
          "2013-05-01T00:00:00",
          "2013-06-01T00:00:00",
          "2013-11-01T00:00:00",
          "2012-10-01T00:00:00",
          "2014-02-01T00:00:00",
          "2012-08-01T00:00:00",
          "2013-12-01T00:00:00",
          "2013-01-01T00:00:00",
          "2014-04-01T00:00:00",
          "2013-10-01T00:00:00",
          "2013-08-01T00:00:00",
          "2013-09-01T00:00:00",
          "2012-07-01T00:00:00",
          "2013-07-01T00:00:00"
         ],
         "xaxis": "x",
         "y": [
          3077,
          2890.3,
          2413.9,
          1871.25,
          1470,
          1401,
          1376,
          1132.35,
          1092,
          886,
          642,
          629.5,
          412.35,
          364.8,
          120
         ],
         "yaxis": "y"
        },
        {
         "hovertemplate": "country=Portugal<br>orderdate=%{x}<br>totalamount=%{marker.size}<extra></extra>",
         "legendgroup": "Portugal",
         "marker": {
          "color": "#B6E880",
          "size": [
           2825.3,
           2633.9,
           1836,
           1515.75,
           1484.8,
           851.2,
           843.2,
           256.5,
           154,
           68
          ],
          "sizemode": "area",
          "sizeref": 68.986125,
          "symbol": "circle"
         },
         "mode": "markers",
         "name": "Portugal",
         "orientation": "v",
         "showlegend": true,
         "type": "scatter",
         "x": [
          "2013-03-01T00:00:00",
          "2014-04-01T00:00:00",
          "2013-05-01T00:00:00",
          "2013-09-01T00:00:00",
          "2012-10-01T00:00:00",
          "2013-02-01T00:00:00",
          "2012-12-01T00:00:00",
          "2013-07-01T00:00:00",
          "2012-11-01T00:00:00",
          "2014-03-01T00:00:00"
         ],
         "xaxis": "x",
         "y": [
          2825.3,
          2633.9,
          1836,
          1515.75,
          1484.8,
          851.2,
          843.2,
          256.5,
          154,
          68
         ],
         "yaxis": "y"
        },
        {
         "hovertemplate": "country=Italy<br>orderdate=%{x}<br>totalamount=%{marker.size}<extra></extra>",
         "legendgroup": "Italy",
         "marker": {
          "color": "#FF97FF",
          "size": [
           2685,
           2449,
           1916.8,
           1853.2,
           1668.4,
           1420,
           1380.25,
           698,
           608,
           543,
           537.6,
           396.2,
           235.2,
           193,
           93.5,
           28
          ],
          "sizemode": "area",
          "sizeref": 68.986125,
          "symbol": "circle"
         },
         "mode": "markers",
         "name": "Italy",
         "orientation": "v",
         "showlegend": true,
         "type": "scatter",
         "x": [
          "2014-01-01T00:00:00",
          "2014-04-01T00:00:00",
          "2013-01-01T00:00:00",
          "2013-11-01T00:00:00",
          "2013-12-01T00:00:00",
          "2014-03-01T00:00:00",
          "2013-08-01T00:00:00",
          "2014-02-01T00:00:00",
          "2012-09-01T00:00:00",
          "2013-06-01T00:00:00",
          "2013-02-01T00:00:00",
          "2012-08-01T00:00:00",
          "2013-03-01T00:00:00",
          "2013-09-01T00:00:00",
          "2013-10-01T00:00:00",
          "2013-07-01T00:00:00"
         ],
         "xaxis": "x",
         "y": [
          2685,
          2449,
          1916.8,
          1853.2,
          1668.4,
          1420,
          1380.25,
          698,
          608,
          543,
          537.6,
          396.2,
          235.2,
          193,
          93.5,
          28
         ],
         "yaxis": "y"
        },
        {
         "hovertemplate": "country=Norway<br>orderdate=%{x}<br>totalamount=%{marker.size}<extra></extra>",
         "legendgroup": "Norway",
         "marker": {
          "color": "#FECB52",
          "size": [
           2684.4,
           1058.4,
           670,
           622.35,
           500,
           200
          ],
          "sizemode": "area",
          "sizeref": 68.986125,
          "symbol": "circle"
         },
         "mode": "markers",
         "name": "Norway",
         "orientation": "v",
         "showlegend": true,
         "type": "scatter",
         "x": [
          "2014-01-01T00:00:00",
          "2012-12-01T00:00:00",
          "2014-02-01T00:00:00",
          "2014-04-01T00:00:00",
          "2013-08-01T00:00:00",
          "2013-04-01T00:00:00"
         ],
         "xaxis": "x",
         "y": [
          2684.4,
          1058.4,
          670,
          622.35,
          500,
          200
         ],
         "yaxis": "y"
        },
        {
         "hovertemplate": "country=Poland<br>orderdate=%{x}<br>totalamount=%{marker.size}<extra></extra>",
         "legendgroup": "Poland",
         "marker": {
          "color": "#636efa",
          "size": [
           1277.6,
           808,
           587.5,
           459,
           399.85
          ],
          "sizemode": "area",
          "sizeref": 68.986125,
          "symbol": "circle"
         },
         "mode": "markers",
         "name": "Poland",
         "orientation": "v",
         "showlegend": true,
         "type": "scatter",
         "x": [
          "2014-04-01T00:00:00",
          "2013-07-01T00:00:00",
          "2014-02-01T00:00:00",
          "2012-12-01T00:00:00",
          "2013-12-01T00:00:00"
         ],
         "xaxis": "x",
         "y": [
          1277.6,
          808,
          587.5,
          459,
          399.85
         ],
         "yaxis": "y"
        }
       ],
       "layout": {
        "legend": {
         "itemsizing": "constant",
         "title": {
          "text": "country"
         },
         "tracegroupgap": 0
        },
        "margin": {
         "t": 60
        },
        "template": {
         "data": {
          "bar": [
           {
            "error_x": {
             "color": "#2a3f5f"
            },
            "error_y": {
             "color": "#2a3f5f"
            },
            "marker": {
             "line": {
              "color": "#E5ECF6",
              "width": 0.5
             },
             "pattern": {
              "fillmode": "overlay",
              "size": 10,
              "solidity": 0.2
             }
            },
            "type": "bar"
           }
          ],
          "barpolar": [
           {
            "marker": {
             "line": {
              "color": "#E5ECF6",
              "width": 0.5
             },
             "pattern": {
              "fillmode": "overlay",
              "size": 10,
              "solidity": 0.2
             }
            },
            "type": "barpolar"
           }
          ],
          "carpet": [
           {
            "aaxis": {
             "endlinecolor": "#2a3f5f",
             "gridcolor": "white",
             "linecolor": "white",
             "minorgridcolor": "white",
             "startlinecolor": "#2a3f5f"
            },
            "baxis": {
             "endlinecolor": "#2a3f5f",
             "gridcolor": "white",
             "linecolor": "white",
             "minorgridcolor": "white",
             "startlinecolor": "#2a3f5f"
            },
            "type": "carpet"
           }
          ],
          "choropleth": [
           {
            "colorbar": {
             "outlinewidth": 0,
             "ticks": ""
            },
            "type": "choropleth"
           }
          ],
          "contour": [
           {
            "colorbar": {
             "outlinewidth": 0,
             "ticks": ""
            },
            "colorscale": [
             [
              0,
              "#0d0887"
             ],
             [
              0.1111111111111111,
              "#46039f"
             ],
             [
              0.2222222222222222,
              "#7201a8"
             ],
             [
              0.3333333333333333,
              "#9c179e"
             ],
             [
              0.4444444444444444,
              "#bd3786"
             ],
             [
              0.5555555555555556,
              "#d8576b"
             ],
             [
              0.6666666666666666,
              "#ed7953"
             ],
             [
              0.7777777777777778,
              "#fb9f3a"
             ],
             [
              0.8888888888888888,
              "#fdca26"
             ],
             [
              1,
              "#f0f921"
             ]
            ],
            "type": "contour"
           }
          ],
          "contourcarpet": [
           {
            "colorbar": {
             "outlinewidth": 0,
             "ticks": ""
            },
            "type": "contourcarpet"
           }
          ],
          "heatmap": [
           {
            "colorbar": {
             "outlinewidth": 0,
             "ticks": ""
            },
            "colorscale": [
             [
              0,
              "#0d0887"
             ],
             [
              0.1111111111111111,
              "#46039f"
             ],
             [
              0.2222222222222222,
              "#7201a8"
             ],
             [
              0.3333333333333333,
              "#9c179e"
             ],
             [
              0.4444444444444444,
              "#bd3786"
             ],
             [
              0.5555555555555556,
              "#d8576b"
             ],
             [
              0.6666666666666666,
              "#ed7953"
             ],
             [
              0.7777777777777778,
              "#fb9f3a"
             ],
             [
              0.8888888888888888,
              "#fdca26"
             ],
             [
              1,
              "#f0f921"
             ]
            ],
            "type": "heatmap"
           }
          ],
          "heatmapgl": [
           {
            "colorbar": {
             "outlinewidth": 0,
             "ticks": ""
            },
            "colorscale": [
             [
              0,
              "#0d0887"
             ],
             [
              0.1111111111111111,
              "#46039f"
             ],
             [
              0.2222222222222222,
              "#7201a8"
             ],
             [
              0.3333333333333333,
              "#9c179e"
             ],
             [
              0.4444444444444444,
              "#bd3786"
             ],
             [
              0.5555555555555556,
              "#d8576b"
             ],
             [
              0.6666666666666666,
              "#ed7953"
             ],
             [
              0.7777777777777778,
              "#fb9f3a"
             ],
             [
              0.8888888888888888,
              "#fdca26"
             ],
             [
              1,
              "#f0f921"
             ]
            ],
            "type": "heatmapgl"
           }
          ],
          "histogram": [
           {
            "marker": {
             "pattern": {
              "fillmode": "overlay",
              "size": 10,
              "solidity": 0.2
             }
            },
            "type": "histogram"
           }
          ],
          "histogram2d": [
           {
            "colorbar": {
             "outlinewidth": 0,
             "ticks": ""
            },
            "colorscale": [
             [
              0,
              "#0d0887"
             ],
             [
              0.1111111111111111,
              "#46039f"
             ],
             [
              0.2222222222222222,
              "#7201a8"
             ],
             [
              0.3333333333333333,
              "#9c179e"
             ],
             [
              0.4444444444444444,
              "#bd3786"
             ],
             [
              0.5555555555555556,
              "#d8576b"
             ],
             [
              0.6666666666666666,
              "#ed7953"
             ],
             [
              0.7777777777777778,
              "#fb9f3a"
             ],
             [
              0.8888888888888888,
              "#fdca26"
             ],
             [
              1,
              "#f0f921"
             ]
            ],
            "type": "histogram2d"
           }
          ],
          "histogram2dcontour": [
           {
            "colorbar": {
             "outlinewidth": 0,
             "ticks": ""
            },
            "colorscale": [
             [
              0,
              "#0d0887"
             ],
             [
              0.1111111111111111,
              "#46039f"
             ],
             [
              0.2222222222222222,
              "#7201a8"
             ],
             [
              0.3333333333333333,
              "#9c179e"
             ],
             [
              0.4444444444444444,
              "#bd3786"
             ],
             [
              0.5555555555555556,
              "#d8576b"
             ],
             [
              0.6666666666666666,
              "#ed7953"
             ],
             [
              0.7777777777777778,
              "#fb9f3a"
             ],
             [
              0.8888888888888888,
              "#fdca26"
             ],
             [
              1,
              "#f0f921"
             ]
            ],
            "type": "histogram2dcontour"
           }
          ],
          "mesh3d": [
           {
            "colorbar": {
             "outlinewidth": 0,
             "ticks": ""
            },
            "type": "mesh3d"
           }
          ],
          "parcoords": [
           {
            "line": {
             "colorbar": {
              "outlinewidth": 0,
              "ticks": ""
             }
            },
            "type": "parcoords"
           }
          ],
          "pie": [
           {
            "automargin": true,
            "type": "pie"
           }
          ],
          "scatter": [
           {
            "fillpattern": {
             "fillmode": "overlay",
             "size": 10,
             "solidity": 0.2
            },
            "type": "scatter"
           }
          ],
          "scatter3d": [
           {
            "line": {
             "colorbar": {
              "outlinewidth": 0,
              "ticks": ""
             }
            },
            "marker": {
             "colorbar": {
              "outlinewidth": 0,
              "ticks": ""
             }
            },
            "type": "scatter3d"
           }
          ],
          "scattercarpet": [
           {
            "marker": {
             "colorbar": {
              "outlinewidth": 0,
              "ticks": ""
             }
            },
            "type": "scattercarpet"
           }
          ],
          "scattergeo": [
           {
            "marker": {
             "colorbar": {
              "outlinewidth": 0,
              "ticks": ""
             }
            },
            "type": "scattergeo"
           }
          ],
          "scattergl": [
           {
            "marker": {
             "colorbar": {
              "outlinewidth": 0,
              "ticks": ""
             }
            },
            "type": "scattergl"
           }
          ],
          "scattermapbox": [
           {
            "marker": {
             "colorbar": {
              "outlinewidth": 0,
              "ticks": ""
             }
            },
            "type": "scattermapbox"
           }
          ],
          "scatterpolar": [
           {
            "marker": {
             "colorbar": {
              "outlinewidth": 0,
              "ticks": ""
             }
            },
            "type": "scatterpolar"
           }
          ],
          "scatterpolargl": [
           {
            "marker": {
             "colorbar": {
              "outlinewidth": 0,
              "ticks": ""
             }
            },
            "type": "scatterpolargl"
           }
          ],
          "scatterternary": [
           {
            "marker": {
             "colorbar": {
              "outlinewidth": 0,
              "ticks": ""
             }
            },
            "type": "scatterternary"
           }
          ],
          "surface": [
           {
            "colorbar": {
             "outlinewidth": 0,
             "ticks": ""
            },
            "colorscale": [
             [
              0,
              "#0d0887"
             ],
             [
              0.1111111111111111,
              "#46039f"
             ],
             [
              0.2222222222222222,
              "#7201a8"
             ],
             [
              0.3333333333333333,
              "#9c179e"
             ],
             [
              0.4444444444444444,
              "#bd3786"
             ],
             [
              0.5555555555555556,
              "#d8576b"
             ],
             [
              0.6666666666666666,
              "#ed7953"
             ],
             [
              0.7777777777777778,
              "#fb9f3a"
             ],
             [
              0.8888888888888888,
              "#fdca26"
             ],
             [
              1,
              "#f0f921"
             ]
            ],
            "type": "surface"
           }
          ],
          "table": [
           {
            "cells": {
             "fill": {
              "color": "#EBF0F8"
             },
             "line": {
              "color": "white"
             }
            },
            "header": {
             "fill": {
              "color": "#C8D4E3"
             },
             "line": {
              "color": "white"
             }
            },
            "type": "table"
           }
          ]
         },
         "layout": {
          "annotationdefaults": {
           "arrowcolor": "#2a3f5f",
           "arrowhead": 0,
           "arrowwidth": 1
          },
          "autotypenumbers": "strict",
          "coloraxis": {
           "colorbar": {
            "outlinewidth": 0,
            "ticks": ""
           }
          },
          "colorscale": {
           "diverging": [
            [
             0,
             "#8e0152"
            ],
            [
             0.1,
             "#c51b7d"
            ],
            [
             0.2,
             "#de77ae"
            ],
            [
             0.3,
             "#f1b6da"
            ],
            [
             0.4,
             "#fde0ef"
            ],
            [
             0.5,
             "#f7f7f7"
            ],
            [
             0.6,
             "#e6f5d0"
            ],
            [
             0.7,
             "#b8e186"
            ],
            [
             0.8,
             "#7fbc41"
            ],
            [
             0.9,
             "#4d9221"
            ],
            [
             1,
             "#276419"
            ]
           ],
           "sequential": [
            [
             0,
             "#0d0887"
            ],
            [
             0.1111111111111111,
             "#46039f"
            ],
            [
             0.2222222222222222,
             "#7201a8"
            ],
            [
             0.3333333333333333,
             "#9c179e"
            ],
            [
             0.4444444444444444,
             "#bd3786"
            ],
            [
             0.5555555555555556,
             "#d8576b"
            ],
            [
             0.6666666666666666,
             "#ed7953"
            ],
            [
             0.7777777777777778,
             "#fb9f3a"
            ],
            [
             0.8888888888888888,
             "#fdca26"
            ],
            [
             1,
             "#f0f921"
            ]
           ],
           "sequentialminus": [
            [
             0,
             "#0d0887"
            ],
            [
             0.1111111111111111,
             "#46039f"
            ],
            [
             0.2222222222222222,
             "#7201a8"
            ],
            [
             0.3333333333333333,
             "#9c179e"
            ],
            [
             0.4444444444444444,
             "#bd3786"
            ],
            [
             0.5555555555555556,
             "#d8576b"
            ],
            [
             0.6666666666666666,
             "#ed7953"
            ],
            [
             0.7777777777777778,
             "#fb9f3a"
            ],
            [
             0.8888888888888888,
             "#fdca26"
            ],
            [
             1,
             "#f0f921"
            ]
           ]
          },
          "colorway": [
           "#636efa",
           "#EF553B",
           "#00cc96",
           "#ab63fa",
           "#FFA15A",
           "#19d3f3",
           "#FF6692",
           "#B6E880",
           "#FF97FF",
           "#FECB52"
          ],
          "font": {
           "color": "#2a3f5f"
          },
          "geo": {
           "bgcolor": "white",
           "lakecolor": "white",
           "landcolor": "#E5ECF6",
           "showlakes": true,
           "showland": true,
           "subunitcolor": "white"
          },
          "hoverlabel": {
           "align": "left"
          },
          "hovermode": "closest",
          "mapbox": {
           "style": "light"
          },
          "paper_bgcolor": "white",
          "plot_bgcolor": "#E5ECF6",
          "polar": {
           "angularaxis": {
            "gridcolor": "white",
            "linecolor": "white",
            "ticks": ""
           },
           "bgcolor": "#E5ECF6",
           "radialaxis": {
            "gridcolor": "white",
            "linecolor": "white",
            "ticks": ""
           }
          },
          "scene": {
           "xaxis": {
            "backgroundcolor": "#E5ECF6",
            "gridcolor": "white",
            "gridwidth": 2,
            "linecolor": "white",
            "showbackground": true,
            "ticks": "",
            "zerolinecolor": "white"
           },
           "yaxis": {
            "backgroundcolor": "#E5ECF6",
            "gridcolor": "white",
            "gridwidth": 2,
            "linecolor": "white",
            "showbackground": true,
            "ticks": "",
            "zerolinecolor": "white"
           },
           "zaxis": {
            "backgroundcolor": "#E5ECF6",
            "gridcolor": "white",
            "gridwidth": 2,
            "linecolor": "white",
            "showbackground": true,
            "ticks": "",
            "zerolinecolor": "white"
           }
          },
          "shapedefaults": {
           "line": {
            "color": "#2a3f5f"
           }
          },
          "ternary": {
           "aaxis": {
            "gridcolor": "white",
            "linecolor": "white",
            "ticks": ""
           },
           "baxis": {
            "gridcolor": "white",
            "linecolor": "white",
            "ticks": ""
           },
           "bgcolor": "#E5ECF6",
           "caxis": {
            "gridcolor": "white",
            "linecolor": "white",
            "ticks": ""
           }
          },
          "title": {
           "x": 0.05
          },
          "xaxis": {
           "automargin": true,
           "gridcolor": "white",
           "linecolor": "white",
           "ticks": "",
           "title": {
            "standoff": 15
           },
           "zerolinecolor": "white",
           "zerolinewidth": 2
          },
          "yaxis": {
           "automargin": true,
           "gridcolor": "white",
           "linecolor": "white",
           "ticks": "",
           "title": {
            "standoff": 15
           },
           "zerolinecolor": "white",
           "zerolinewidth": 2
          }
         }
        },
        "xaxis": {
         "anchor": "y",
         "domain": [
          0,
          1
         ],
         "title": {
          "text": "orderdate"
         }
        },
        "yaxis": {
         "anchor": "x",
         "domain": [
          0,
          1
         ],
         "title": {
          "text": "totalamount"
         }
        }
       }
      }
     },
     "metadata": {},
     "output_type": "display_data"
    }
   ],
   "source": [
    "px.scatter(data_frame=multivar,x=multivar.orderdate,y='totalamount',color='country',size='totalamount')"
   ]
  },
  {
   "cell_type": "code",
   "execution_count": 48,
   "metadata": {},
   "outputs": [
    {
     "data": {
      "application/vnd.plotly.v1+json": {
       "config": {
        "plotlyServerURL": "https://plot.ly"
       },
       "data": [
        {
         "alignmentgroup": "True",
         "hovertemplate": "country=USA<br>orderdate=%{x}<br>totalamount=%{y}<extra></extra>",
         "legendgroup": "USA",
         "marker": {
          "color": "#636efa",
          "pattern": {
           "shape": ""
          }
         },
         "name": "USA",
         "offsetgroup": "USA",
         "orientation": "v",
         "showlegend": true,
         "textposition": "auto",
         "type": "bar",
         "x": [
          "2014-01-01T00:00:00",
          "2013-07-01T00:00:00",
          "2013-10-01T00:00:00",
          "2014-02-01T00:00:00",
          "2014-04-01T00:00:00",
          "2013-09-01T00:00:00",
          "2014-03-01T00:00:00",
          "2013-03-01T00:00:00",
          "2012-10-01T00:00:00",
          "2012-09-01T00:00:00",
          "2012-12-01T00:00:00",
          "2013-11-01T00:00:00",
          "2013-02-01T00:00:00",
          "2013-06-01T00:00:00",
          "2014-05-01T00:00:00",
          "2013-04-01T00:00:00",
          "2012-11-01T00:00:00",
          "2013-01-01T00:00:00",
          "2013-12-01T00:00:00",
          "2012-08-01T00:00:00",
          "2013-08-01T00:00:00",
          "2012-07-01T00:00:00",
          "2013-05-01T00:00:00"
         ],
         "xaxis": "x",
         "y": [
          27594.45,
          26022.3,
          20836.12,
          18775.65,
          17899.58,
          16429.95,
          13004.25,
          12472.1,
          11909.8,
          10367,
          10209.8,
          10131.5,
          9644.1,
          7608.05,
          7025.65,
          6123.94,
          4728.8,
          4456,
          3632.5,
          3391.6,
          2657.74,
          1300.8,
          1023.4
         ],
         "yaxis": "y"
        },
        {
         "alignmentgroup": "True",
         "hovertemplate": "country=Germany<br>orderdate=%{x}<br>totalamount=%{y}<extra></extra>",
         "legendgroup": "Germany",
         "marker": {
          "color": "#EF553B",
          "pattern": {
           "shape": ""
          }
         },
         "name": "Germany",
         "offsetgroup": "Germany",
         "orientation": "v",
         "showlegend": true,
         "textposition": "auto",
         "type": "bar",
         "x": [
          "2014-04-01T00:00:00",
          "2014-01-01T00:00:00",
          "2013-10-01T00:00:00",
          "2013-05-01T00:00:00",
          "2013-04-01T00:00:00",
          "2013-12-01T00:00:00",
          "2013-09-01T00:00:00",
          "2014-03-01T00:00:00",
          "2012-08-01T00:00:00",
          "2013-07-01T00:00:00",
          "2012-10-01T00:00:00",
          "2012-07-01T00:00:00",
          "2014-02-01T00:00:00",
          "2013-02-01T00:00:00",
          "2012-11-01T00:00:00",
          "2013-06-01T00:00:00",
          "2013-08-01T00:00:00",
          "2013-11-01T00:00:00",
          "2013-01-01T00:00:00",
          "2012-09-01T00:00:00",
          "2013-03-01T00:00:00",
          "2012-12-01T00:00:00",
          "2014-05-01T00:00:00"
         ],
         "xaxis": "x",
         "y": [
          22584.489999999998,
          22135.55,
          22079.05,
          21234,
          18042.2,
          13633.279999999999,
          12589.4,
          11224.85,
          10458.4,
          8464.65,
          8015.200000000001,
          7640.6,
          7510.459999999999,
          7358.5,
          7148,
          5954.299999999999,
          4998.75,
          4529.8,
          3008.8,
          2552.2,
          2277.6,
          1990.2,
          1960.35
         ],
         "yaxis": "y"
        },
        {
         "alignmentgroup": "True",
         "hovertemplate": "country=Austria<br>orderdate=%{x}<br>totalamount=%{y}<extra></extra>",
         "legendgroup": "Austria",
         "marker": {
          "color": "#00cc96",
          "pattern": {
           "shape": ""
          }
         },
         "name": "Austria",
         "offsetgroup": "Austria",
         "orientation": "v",
         "showlegend": true,
         "textposition": "auto",
         "type": "bar",
         "x": [
          "2014-04-01T00:00:00",
          "2012-11-01T00:00:00",
          "2013-12-01T00:00:00",
          "2013-01-01T00:00:00",
          "2014-01-01T00:00:00",
          "2013-04-01T00:00:00",
          "2013-07-01T00:00:00",
          "2012-12-01T00:00:00",
          "2013-08-01T00:00:00",
          "2014-02-01T00:00:00",
          "2014-03-01T00:00:00",
          "2014-05-01T00:00:00",
          "2012-07-01T00:00:00",
          "2013-05-01T00:00:00",
          "2013-10-01T00:00:00",
          "2013-09-01T00:00:00",
          "2013-11-01T00:00:00",
          "2013-02-01T00:00:00",
          "2013-06-01T00:00:00",
          "2013-03-01T00:00:00"
         ],
         "xaxis": "x",
         "y": [
          20243.25,
          18253.4,
          14584,
          10166.4,
          8930.5,
          8623.45,
          7100.1,
          6615.2,
          6483.05,
          6379.4,
          6221.5,
          5218,
          4483.4,
          4180,
          3600.73,
          3559.45,
          1912.85,
          1792,
          647.75,
          502.2
         ],
         "yaxis": "y"
        },
        {
         "alignmentgroup": "True",
         "hovertemplate": "country=Ireland<br>orderdate=%{x}<br>totalamount=%{y}<extra></extra>",
         "legendgroup": "Ireland",
         "marker": {
          "color": "#ab63fa",
          "pattern": {
           "shape": ""
          }
         },
         "name": "Ireland",
         "offsetgroup": "Ireland",
         "orientation": "v",
         "showlegend": true,
         "textposition": "auto",
         "type": "bar",
         "x": [
          "2014-02-01T00:00:00",
          "2013-09-01T00:00:00",
          "2012-09-01T00:00:00",
          "2013-04-01T00:00:00",
          "2013-10-01T00:00:00",
          "2012-12-01T00:00:00",
          "2013-06-01T00:00:00",
          "2012-10-01T00:00:00",
          "2014-03-01T00:00:00",
          "2013-08-01T00:00:00",
          "2013-01-01T00:00:00",
          "2014-04-01T00:00:00",
          "2013-11-01T00:00:00"
         ],
         "xaxis": "x",
         "y": [
          19102.64,
          6905.15,
          4889,
          4663,
          4608.4,
          3127.8,
          3109,
          2545.2,
          2248.2,
          1928,
          1748.5,
          1445.5,
          997
         ],
         "yaxis": "y"
        },
        {
         "alignmentgroup": "True",
         "hovertemplate": "country=Canada<br>orderdate=%{x}<br>totalamount=%{y}<extra></extra>",
         "legendgroup": "Canada",
         "marker": {
          "color": "#FFA15A",
          "pattern": {
           "shape": ""
          }
         },
         "name": "Canada",
         "offsetgroup": "Canada",
         "orientation": "v",
         "showlegend": true,
         "textposition": "auto",
         "type": "bar",
         "x": [
          "2013-01-01T00:00:00",
          "2014-03-01T00:00:00",
          "2012-10-01T00:00:00",
          "2013-07-01T00:00:00",
          "2013-08-01T00:00:00",
          "2013-06-01T00:00:00",
          "2013-11-01T00:00:00",
          "2014-04-01T00:00:00",
          "2012-12-01T00:00:00",
          "2013-04-01T00:00:00",
          "2013-02-01T00:00:00",
          "2013-10-01T00:00:00",
          "2014-01-01T00:00:00"
         ],
         "xaxis": "x",
         "y": [
          16026.7,
          9222.6,
          5696.799999999999,
          5466,
          4015,
          3306,
          3118,
          3004.8,
          2252.8,
          1321.9,
          1078,
          638.5,
          187
         ],
         "yaxis": "y"
        },
        {
         "alignmentgroup": "True",
         "hovertemplate": "country=Brazil<br>orderdate=%{x}<br>totalamount=%{y}<extra></extra>",
         "legendgroup": "Brazil",
         "marker": {
          "color": "#19d3f3",
          "pattern": {
           "shape": ""
          }
         },
         "name": "Brazil",
         "offsetgroup": "Brazil",
         "orientation": "v",
         "showlegend": true,
         "textposition": "auto",
         "type": "bar",
         "x": [
          "2012-12-01T00:00:00",
          "2014-02-01T00:00:00",
          "2013-08-01T00:00:00",
          "2014-01-01T00:00:00",
          "2013-12-01T00:00:00",
          "2013-01-01T00:00:00",
          "2013-10-01T00:00:00",
          "2014-04-01T00:00:00",
          "2012-08-01T00:00:00",
          "2014-03-01T00:00:00",
          "2012-07-01T00:00:00",
          "2013-11-01T00:00:00",
          "2013-03-01T00:00:00",
          "2013-09-01T00:00:00",
          "2014-05-01T00:00:00",
          "2013-07-01T00:00:00",
          "2013-05-01T00:00:00",
          "2013-04-01T00:00:00",
          "2013-06-01T00:00:00",
          "2012-11-01T00:00:00",
          "2013-02-01T00:00:00",
          "2012-09-01T00:00:00"
         ],
         "xaxis": "x",
         "y": [
          13406.400000000001,
          10051.4,
          9296.95,
          7929.62,
          6450.6,
          6440.4,
          6007.3,
          5652.75,
          4941.8,
          4740.1,
          4223.6,
          2795.1,
          2613.1,
          2424.48,
          2384.8,
          2362.88,
          2162.8,
          1730,
          1352.5,
          928,
          914.4,
          349.5
         ],
         "yaxis": "y"
        },
        {
         "alignmentgroup": "True",
         "hovertemplate": "country=Denmark<br>orderdate=%{x}<br>totalamount=%{y}<extra></extra>",
         "legendgroup": "Denmark",
         "marker": {
          "color": "#FF6692",
          "pattern": {
           "shape": ""
          }
         },
         "name": "Denmark",
         "offsetgroup": "Denmark",
         "orientation": "v",
         "showlegend": true,
         "textposition": "auto",
         "type": "bar",
         "x": [
          "2013-01-01T00:00:00",
          "2013-12-01T00:00:00",
          "2013-10-01T00:00:00",
          "2014-03-01T00:00:00",
          "2013-03-01T00:00:00",
          "2012-12-01T00:00:00",
          "2014-04-01T00:00:00",
          "2013-11-01T00:00:00",
          "2013-07-01T00:00:00",
          "2013-08-01T00:00:00",
          "2013-06-01T00:00:00",
          "2012-11-01T00:00:00",
          "2013-09-01T00:00:00",
          "2012-10-01T00:00:00",
          "2014-05-01T00:00:00"
         ],
         "xaxis": "x",
         "y": [
          11283.2,
          5627.75,
          3490,
          3343.5,
          2719,
          1765.6,
          990,
          920,
          877.5,
          870,
          835.2,
          834.2,
          570,
          412,
          244.3
         ],
         "yaxis": "y"
        },
        {
         "alignmentgroup": "True",
         "hovertemplate": "country=Sweden<br>orderdate=%{x}<br>totalamount=%{y}<extra></extra>",
         "legendgroup": "Sweden",
         "marker": {
          "color": "#B6E880",
          "pattern": {
           "shape": ""
          }
         },
         "name": "Sweden",
         "offsetgroup": "Sweden",
         "orientation": "v",
         "showlegend": true,
         "textposition": "auto",
         "type": "bar",
         "x": [
          "2014-04-01T00:00:00",
          "2013-05-01T00:00:00",
          "2013-12-01T00:00:00",
          "2014-02-01T00:00:00",
          "2013-09-01T00:00:00",
          "2014-03-01T00:00:00",
          "2013-06-01T00:00:00",
          "2014-01-01T00:00:00",
          "2013-10-01T00:00:00",
          "2012-12-01T00:00:00",
          "2012-10-01T00:00:00",
          "2012-08-01T00:00:00",
          "2013-02-01T00:00:00",
          "2013-08-01T00:00:00",
          "2013-11-01T00:00:00",
          "2012-07-01T00:00:00"
         ],
         "xaxis": "x",
         "y": [
          10196.25,
          5487.85,
          5308.5,
          5081.9,
          4879.2,
          4670.5,
          4410.15,
          4135.75,
          3175,
          2325.6,
          2262.5,
          2102,
          1801.4,
          1503.6,
          1459,
          724.5
         ],
         "yaxis": "y"
        },
        {
         "alignmentgroup": "True",
         "hovertemplate": "country=France<br>orderdate=%{x}<br>totalamount=%{y}<extra></extra>",
         "legendgroup": "France",
         "marker": {
          "color": "#FF97FF",
          "pattern": {
           "shape": ""
          }
         },
         "name": "France",
         "offsetgroup": "France",
         "orientation": "v",
         "showlegend": true,
         "textposition": "auto",
         "type": "bar",
         "x": [
          "2012-11-01T00:00:00",
          "2014-03-01T00:00:00",
          "2013-12-01T00:00:00",
          "2013-02-01T00:00:00",
          "2014-01-01T00:00:00",
          "2013-08-01T00:00:00",
          "2013-04-01T00:00:00",
          "2013-01-01T00:00:00",
          "2014-02-01T00:00:00",
          "2013-11-01T00:00:00",
          "2013-09-01T00:00:00",
          "2013-05-01T00:00:00",
          "2013-06-01T00:00:00",
          "2013-03-01T00:00:00",
          "2012-10-01T00:00:00",
          "2012-07-01T00:00:00",
          "2012-09-01T00:00:00",
          "2013-10-01T00:00:00",
          "2014-05-01T00:00:00",
          "2013-07-01T00:00:00",
          "2012-08-01T00:00:00",
          "2014-04-01T00:00:00",
          "2012-12-01T00:00:00"
         ],
         "xaxis": "x",
         "y": [
          10105.199999999999,
          8350.11,
          7635.900000000001,
          6682.4,
          6331.95,
          5497.5,
          4226.8,
          4225.6,
          3969,
          3899.9,
          3675.1,
          3658,
          3212.8,
          3072.8,
          2797.7000000000003,
          2286.8,
          1810.3999999999999,
          1296,
          1057,
          823,
          538.6,
          255,
          91.2
         ],
         "yaxis": "y"
        },
        {
         "alignmentgroup": "True",
         "hovertemplate": "country=UK<br>orderdate=%{x}<br>totalamount=%{y}<extra></extra>",
         "legendgroup": "UK",
         "marker": {
          "color": "#FECB52",
          "pattern": {
           "shape": ""
          }
         },
         "name": "UK",
         "offsetgroup": "UK",
         "orientation": "v",
         "showlegend": true,
         "textposition": "auto",
         "type": "bar",
         "x": [
          "2014-03-01T00:00:00",
          "2014-04-01T00:00:00",
          "2013-12-01T00:00:00",
          "2013-05-01T00:00:00",
          "2012-11-01T00:00:00",
          "2012-12-01T00:00:00",
          "2013-03-01T00:00:00",
          "2013-01-01T00:00:00",
          "2014-01-01T00:00:00",
          "2013-06-01T00:00:00",
          "2013-11-01T00:00:00",
          "2014-02-01T00:00:00",
          "2013-10-01T00:00:00",
          "2013-02-01T00:00:00",
          "2013-08-01T00:00:00",
          "2012-09-01T00:00:00",
          "2013-07-01T00:00:00",
          "2012-08-01T00:00:00",
          "2012-10-01T00:00:00",
          "2013-04-01T00:00:00",
          "2013-09-01T00:00:00"
         ],
         "xaxis": "x",
         "y": [
          9688.6,
          8833.81,
          6037.25,
          5915.55,
          5084.4,
          3189,
          3151.8,
          3063,
          2695.5,
          2619.9,
          2608,
          1912,
          1704,
          1084.6,
          758.5,
          516.8,
          493,
          479.4,
          384.4,
          352,
          45
         ],
         "yaxis": "y"
        },
        {
         "alignmentgroup": "True",
         "hovertemplate": "country=Switzerland<br>orderdate=%{x}<br>totalamount=%{y}<extra></extra>",
         "legendgroup": "Switzerland",
         "marker": {
          "color": "#636efa",
          "pattern": {
           "shape": ""
          }
         },
         "name": "Switzerland",
         "offsetgroup": "Switzerland",
         "orientation": "v",
         "showlegend": true,
         "textposition": "auto",
         "type": "bar",
         "x": [
          "2013-11-01T00:00:00",
          "2014-04-01T00:00:00",
          "2013-09-01T00:00:00",
          "2012-07-01T00:00:00",
          "2014-03-01T00:00:00",
          "2013-04-01T00:00:00",
          "2013-01-01T00:00:00",
          "2013-05-01T00:00:00",
          "2012-12-01T00:00:00",
          "2014-05-01T00:00:00"
         ],
         "xaxis": "x",
         "y": [
          7647.76,
          6765.8,
          4666.94,
          3115.7,
          2575.5,
          2356,
          2208,
          1823.8,
          1174,
          586
         ],
         "yaxis": "y"
        },
        {
         "alignmentgroup": "True",
         "hovertemplate": "country=Venezuela<br>orderdate=%{x}<br>totalamount=%{y}<extra></extra>",
         "legendgroup": "Venezuela",
         "marker": {
          "color": "#EF553B",
          "pattern": {
           "shape": ""
          }
         },
         "name": "Venezuela",
         "offsetgroup": "Venezuela",
         "orientation": "v",
         "showlegend": true,
         "textposition": "auto",
         "type": "bar",
         "x": [
          "2014-04-01T00:00:00",
          "2014-01-01T00:00:00",
          "2013-03-01T00:00:00",
          "2014-03-01T00:00:00",
          "2013-08-01T00:00:00",
          "2013-12-01T00:00:00",
          "2013-05-01T00:00:00",
          "2013-07-01T00:00:00",
          "2012-12-01T00:00:00",
          "2012-07-01T00:00:00",
          "2013-02-01T00:00:00",
          "2013-04-01T00:00:00",
          "2012-10-01T00:00:00",
          "2013-11-01T00:00:00",
          "2014-02-01T00:00:00",
          "2013-10-01T00:00:00",
          "2012-08-01T00:00:00",
          "2012-11-01T00:00:00",
          "2012-09-01T00:00:00",
          "2014-05-01T00:00:00",
          "2013-01-01T00:00:00"
         ],
         "xaxis": "x",
         "y": [
          7067.7,
          6808,
          6377.6,
          5976.2,
          4774.05,
          3985.58,
          2650.5,
          2643,
          2445.2,
          2221.1000000000004,
          2051.6,
          1987,
          1940,
          1850,
          1597.5,
          1451.9,
          1414.8,
          1360,
          1050.6,
          762.56,
          400
         ],
         "yaxis": "y"
        },
        {
         "alignmentgroup": "True",
         "hovertemplate": "country=Mexico<br>orderdate=%{x}<br>totalamount=%{y}<extra></extra>",
         "legendgroup": "Mexico",
         "marker": {
          "color": "#00cc96",
          "pattern": {
           "shape": ""
          }
         },
         "name": "Mexico",
         "offsetgroup": "Mexico",
         "orientation": "v",
         "showlegend": true,
         "textposition": "auto",
         "type": "bar",
         "x": [
          "2013-04-01T00:00:00",
          "2013-06-01T00:00:00",
          "2013-05-01T00:00:00",
          "2013-09-01T00:00:00",
          "2014-01-01T00:00:00",
          "2012-10-01T00:00:00",
          "2012-08-01T00:00:00",
          "2013-03-01T00:00:00",
          "2014-04-01T00:00:00",
          "2012-09-01T00:00:00",
          "2012-11-01T00:00:00",
          "2014-05-01T00:00:00",
          "2014-02-01T00:00:00",
          "2014-03-01T00:00:00",
          "2013-08-01T00:00:00",
          "2013-11-01T00:00:00",
          "2012-07-01T00:00:00"
         ],
         "xaxis": "x",
         "y": [
          5847.6,
          2920.45,
          2156.5,
          1867.25,
          1635,
          1303.2,
          1268.7,
          1249.1,
          1196,
          1043.2,
          972,
          660,
          539.5,
          514.4,
          479.75,
          320,
          100.8
         ],
         "yaxis": "y"
        },
        {
         "alignmentgroup": "True",
         "hovertemplate": "country=Belgium<br>orderdate=%{x}<br>totalamount=%{y}<extra></extra>",
         "legendgroup": "Belgium",
         "marker": {
          "color": "#ab63fa",
          "pattern": {
           "shape": ""
          }
         },
         "name": "Belgium",
         "offsetgroup": "Belgium",
         "orientation": "v",
         "showlegend": true,
         "textposition": "auto",
         "type": "bar",
         "x": [
          "2014-01-01T00:00:00",
          "2014-02-01T00:00:00",
          "2014-03-01T00:00:00",
          "2013-02-01T00:00:00",
          "2012-07-01T00:00:00",
          "2013-12-01T00:00:00",
          "2014-04-01T00:00:00",
          "2012-09-01T00:00:00",
          "2013-03-01T00:00:00",
          "2013-08-01T00:00:00",
          "2013-05-01T00:00:00"
         ],
         "xaxis": "x",
         "y": [
          5693,
          4159.5,
          3955.7,
          3891,
          3730,
          3332,
          2800.88,
          2708.8,
          2484.1,
          1434,
          946
         ],
         "yaxis": "y"
        },
        {
         "alignmentgroup": "True",
         "hovertemplate": "country=Spain<br>orderdate=%{x}<br>totalamount=%{y}<extra></extra>",
         "legendgroup": "Spain",
         "marker": {
          "color": "#FFA15A",
          "pattern": {
           "shape": ""
          }
         },
         "name": "Spain",
         "offsetgroup": "Spain",
         "orientation": "v",
         "showlegend": true,
         "textposition": "auto",
         "type": "bar",
         "x": [
          "2013-12-01T00:00:00",
          "2014-02-01T00:00:00",
          "2014-03-01T00:00:00",
          "2013-08-01T00:00:00",
          "2012-09-01T00:00:00",
          "2014-04-01T00:00:00",
          "2012-10-01T00:00:00",
          "2013-05-01T00:00:00",
          "2013-01-01T00:00:00",
          "2012-08-01T00:00:00",
          "2013-06-01T00:00:00",
          "2012-11-01T00:00:00"
         ],
         "xaxis": "x",
         "y": [
          4035.8,
          4009.8,
          3145.64,
          2775.05,
          1740.5,
          1123,
          982,
          749,
          338.2,
          241.9,
          155,
          136
         ],
         "yaxis": "y"
        },
        {
         "alignmentgroup": "True",
         "hovertemplate": "country=Argentina<br>orderdate=%{x}<br>totalamount=%{y}<extra></extra>",
         "legendgroup": "Argentina",
         "marker": {
          "color": "#19d3f3",
          "pattern": {
           "shape": ""
          }
         },
         "name": "Argentina",
         "offsetgroup": "Argentina",
         "orientation": "v",
         "showlegend": true,
         "textposition": "auto",
         "type": "bar",
         "x": [
          "2014-03-01T00:00:00",
          "2014-01-01T00:00:00",
          "2014-02-01T00:00:00",
          "2013-10-01T00:00:00",
          "2013-02-01T00:00:00",
          "2014-04-01T00:00:00",
          "2013-01-01T00:00:00",
          "2013-04-01T00:00:00",
          "2013-05-01T00:00:00",
          "2013-12-01T00:00:00"
         ],
         "xaxis": "x",
         "y": [
          3645.8,
          1409,
          866.7,
          706,
          443.4,
          381,
          319.2,
          225.5,
          110,
          12.5
         ],
         "yaxis": "y"
        },
        {
         "alignmentgroup": "True",
         "hovertemplate": "country=Finland<br>orderdate=%{x}<br>totalamount=%{y}<extra></extra>",
         "legendgroup": "Finland",
         "marker": {
          "color": "#FF6692",
          "pattern": {
           "shape": ""
          }
         },
         "name": "Finland",
         "offsetgroup": "Finland",
         "orientation": "v",
         "showlegend": true,
         "textposition": "auto",
         "type": "bar",
         "x": [
          "2013-02-01T00:00:00",
          "2013-05-01T00:00:00",
          "2013-06-01T00:00:00",
          "2013-11-01T00:00:00",
          "2012-10-01T00:00:00",
          "2014-02-01T00:00:00",
          "2012-08-01T00:00:00",
          "2013-12-01T00:00:00",
          "2013-01-01T00:00:00",
          "2014-04-01T00:00:00",
          "2013-10-01T00:00:00",
          "2013-08-01T00:00:00",
          "2013-09-01T00:00:00",
          "2012-07-01T00:00:00",
          "2013-07-01T00:00:00"
         ],
         "xaxis": "x",
         "y": [
          3077,
          2890.3,
          2413.9,
          1871.25,
          1470,
          1401,
          1376,
          1132.35,
          1092,
          886,
          642,
          629.5,
          412.35,
          364.8,
          120
         ],
         "yaxis": "y"
        },
        {
         "alignmentgroup": "True",
         "hovertemplate": "country=Portugal<br>orderdate=%{x}<br>totalamount=%{y}<extra></extra>",
         "legendgroup": "Portugal",
         "marker": {
          "color": "#B6E880",
          "pattern": {
           "shape": ""
          }
         },
         "name": "Portugal",
         "offsetgroup": "Portugal",
         "orientation": "v",
         "showlegend": true,
         "textposition": "auto",
         "type": "bar",
         "x": [
          "2013-03-01T00:00:00",
          "2014-04-01T00:00:00",
          "2013-05-01T00:00:00",
          "2013-09-01T00:00:00",
          "2012-10-01T00:00:00",
          "2013-02-01T00:00:00",
          "2012-12-01T00:00:00",
          "2013-07-01T00:00:00",
          "2012-11-01T00:00:00",
          "2014-03-01T00:00:00"
         ],
         "xaxis": "x",
         "y": [
          2825.3,
          2633.9,
          1836,
          1515.75,
          1484.8,
          851.2,
          843.2,
          256.5,
          154,
          68
         ],
         "yaxis": "y"
        },
        {
         "alignmentgroup": "True",
         "hovertemplate": "country=Italy<br>orderdate=%{x}<br>totalamount=%{y}<extra></extra>",
         "legendgroup": "Italy",
         "marker": {
          "color": "#FF97FF",
          "pattern": {
           "shape": ""
          }
         },
         "name": "Italy",
         "offsetgroup": "Italy",
         "orientation": "v",
         "showlegend": true,
         "textposition": "auto",
         "type": "bar",
         "x": [
          "2014-01-01T00:00:00",
          "2014-04-01T00:00:00",
          "2013-01-01T00:00:00",
          "2013-11-01T00:00:00",
          "2013-12-01T00:00:00",
          "2014-03-01T00:00:00",
          "2013-08-01T00:00:00",
          "2014-02-01T00:00:00",
          "2012-09-01T00:00:00",
          "2013-06-01T00:00:00",
          "2013-02-01T00:00:00",
          "2012-08-01T00:00:00",
          "2013-03-01T00:00:00",
          "2013-09-01T00:00:00",
          "2013-10-01T00:00:00",
          "2013-07-01T00:00:00"
         ],
         "xaxis": "x",
         "y": [
          2685,
          2449,
          1916.8,
          1853.2,
          1668.4,
          1420,
          1380.25,
          698,
          608,
          543,
          537.6,
          396.2,
          235.2,
          193,
          93.5,
          28
         ],
         "yaxis": "y"
        },
        {
         "alignmentgroup": "True",
         "hovertemplate": "country=Norway<br>orderdate=%{x}<br>totalamount=%{y}<extra></extra>",
         "legendgroup": "Norway",
         "marker": {
          "color": "#FECB52",
          "pattern": {
           "shape": ""
          }
         },
         "name": "Norway",
         "offsetgroup": "Norway",
         "orientation": "v",
         "showlegend": true,
         "textposition": "auto",
         "type": "bar",
         "x": [
          "2014-01-01T00:00:00",
          "2012-12-01T00:00:00",
          "2014-02-01T00:00:00",
          "2014-04-01T00:00:00",
          "2013-08-01T00:00:00",
          "2013-04-01T00:00:00"
         ],
         "xaxis": "x",
         "y": [
          2684.4,
          1058.4,
          670,
          622.35,
          500,
          200
         ],
         "yaxis": "y"
        },
        {
         "alignmentgroup": "True",
         "hovertemplate": "country=Poland<br>orderdate=%{x}<br>totalamount=%{y}<extra></extra>",
         "legendgroup": "Poland",
         "marker": {
          "color": "#636efa",
          "pattern": {
           "shape": ""
          }
         },
         "name": "Poland",
         "offsetgroup": "Poland",
         "orientation": "v",
         "showlegend": true,
         "textposition": "auto",
         "type": "bar",
         "x": [
          "2014-04-01T00:00:00",
          "2013-07-01T00:00:00",
          "2014-02-01T00:00:00",
          "2012-12-01T00:00:00",
          "2013-12-01T00:00:00"
         ],
         "xaxis": "x",
         "y": [
          1277.6,
          808,
          587.5,
          459,
          399.85
         ],
         "yaxis": "y"
        }
       ],
       "layout": {
        "barmode": "relative",
        "legend": {
         "title": {
          "text": "country"
         },
         "tracegroupgap": 0
        },
        "margin": {
         "t": 60
        },
        "template": {
         "data": {
          "bar": [
           {
            "error_x": {
             "color": "#2a3f5f"
            },
            "error_y": {
             "color": "#2a3f5f"
            },
            "marker": {
             "line": {
              "color": "#E5ECF6",
              "width": 0.5
             },
             "pattern": {
              "fillmode": "overlay",
              "size": 10,
              "solidity": 0.2
             }
            },
            "type": "bar"
           }
          ],
          "barpolar": [
           {
            "marker": {
             "line": {
              "color": "#E5ECF6",
              "width": 0.5
             },
             "pattern": {
              "fillmode": "overlay",
              "size": 10,
              "solidity": 0.2
             }
            },
            "type": "barpolar"
           }
          ],
          "carpet": [
           {
            "aaxis": {
             "endlinecolor": "#2a3f5f",
             "gridcolor": "white",
             "linecolor": "white",
             "minorgridcolor": "white",
             "startlinecolor": "#2a3f5f"
            },
            "baxis": {
             "endlinecolor": "#2a3f5f",
             "gridcolor": "white",
             "linecolor": "white",
             "minorgridcolor": "white",
             "startlinecolor": "#2a3f5f"
            },
            "type": "carpet"
           }
          ],
          "choropleth": [
           {
            "colorbar": {
             "outlinewidth": 0,
             "ticks": ""
            },
            "type": "choropleth"
           }
          ],
          "contour": [
           {
            "colorbar": {
             "outlinewidth": 0,
             "ticks": ""
            },
            "colorscale": [
             [
              0,
              "#0d0887"
             ],
             [
              0.1111111111111111,
              "#46039f"
             ],
             [
              0.2222222222222222,
              "#7201a8"
             ],
             [
              0.3333333333333333,
              "#9c179e"
             ],
             [
              0.4444444444444444,
              "#bd3786"
             ],
             [
              0.5555555555555556,
              "#d8576b"
             ],
             [
              0.6666666666666666,
              "#ed7953"
             ],
             [
              0.7777777777777778,
              "#fb9f3a"
             ],
             [
              0.8888888888888888,
              "#fdca26"
             ],
             [
              1,
              "#f0f921"
             ]
            ],
            "type": "contour"
           }
          ],
          "contourcarpet": [
           {
            "colorbar": {
             "outlinewidth": 0,
             "ticks": ""
            },
            "type": "contourcarpet"
           }
          ],
          "heatmap": [
           {
            "colorbar": {
             "outlinewidth": 0,
             "ticks": ""
            },
            "colorscale": [
             [
              0,
              "#0d0887"
             ],
             [
              0.1111111111111111,
              "#46039f"
             ],
             [
              0.2222222222222222,
              "#7201a8"
             ],
             [
              0.3333333333333333,
              "#9c179e"
             ],
             [
              0.4444444444444444,
              "#bd3786"
             ],
             [
              0.5555555555555556,
              "#d8576b"
             ],
             [
              0.6666666666666666,
              "#ed7953"
             ],
             [
              0.7777777777777778,
              "#fb9f3a"
             ],
             [
              0.8888888888888888,
              "#fdca26"
             ],
             [
              1,
              "#f0f921"
             ]
            ],
            "type": "heatmap"
           }
          ],
          "heatmapgl": [
           {
            "colorbar": {
             "outlinewidth": 0,
             "ticks": ""
            },
            "colorscale": [
             [
              0,
              "#0d0887"
             ],
             [
              0.1111111111111111,
              "#46039f"
             ],
             [
              0.2222222222222222,
              "#7201a8"
             ],
             [
              0.3333333333333333,
              "#9c179e"
             ],
             [
              0.4444444444444444,
              "#bd3786"
             ],
             [
              0.5555555555555556,
              "#d8576b"
             ],
             [
              0.6666666666666666,
              "#ed7953"
             ],
             [
              0.7777777777777778,
              "#fb9f3a"
             ],
             [
              0.8888888888888888,
              "#fdca26"
             ],
             [
              1,
              "#f0f921"
             ]
            ],
            "type": "heatmapgl"
           }
          ],
          "histogram": [
           {
            "marker": {
             "pattern": {
              "fillmode": "overlay",
              "size": 10,
              "solidity": 0.2
             }
            },
            "type": "histogram"
           }
          ],
          "histogram2d": [
           {
            "colorbar": {
             "outlinewidth": 0,
             "ticks": ""
            },
            "colorscale": [
             [
              0,
              "#0d0887"
             ],
             [
              0.1111111111111111,
              "#46039f"
             ],
             [
              0.2222222222222222,
              "#7201a8"
             ],
             [
              0.3333333333333333,
              "#9c179e"
             ],
             [
              0.4444444444444444,
              "#bd3786"
             ],
             [
              0.5555555555555556,
              "#d8576b"
             ],
             [
              0.6666666666666666,
              "#ed7953"
             ],
             [
              0.7777777777777778,
              "#fb9f3a"
             ],
             [
              0.8888888888888888,
              "#fdca26"
             ],
             [
              1,
              "#f0f921"
             ]
            ],
            "type": "histogram2d"
           }
          ],
          "histogram2dcontour": [
           {
            "colorbar": {
             "outlinewidth": 0,
             "ticks": ""
            },
            "colorscale": [
             [
              0,
              "#0d0887"
             ],
             [
              0.1111111111111111,
              "#46039f"
             ],
             [
              0.2222222222222222,
              "#7201a8"
             ],
             [
              0.3333333333333333,
              "#9c179e"
             ],
             [
              0.4444444444444444,
              "#bd3786"
             ],
             [
              0.5555555555555556,
              "#d8576b"
             ],
             [
              0.6666666666666666,
              "#ed7953"
             ],
             [
              0.7777777777777778,
              "#fb9f3a"
             ],
             [
              0.8888888888888888,
              "#fdca26"
             ],
             [
              1,
              "#f0f921"
             ]
            ],
            "type": "histogram2dcontour"
           }
          ],
          "mesh3d": [
           {
            "colorbar": {
             "outlinewidth": 0,
             "ticks": ""
            },
            "type": "mesh3d"
           }
          ],
          "parcoords": [
           {
            "line": {
             "colorbar": {
              "outlinewidth": 0,
              "ticks": ""
             }
            },
            "type": "parcoords"
           }
          ],
          "pie": [
           {
            "automargin": true,
            "type": "pie"
           }
          ],
          "scatter": [
           {
            "fillpattern": {
             "fillmode": "overlay",
             "size": 10,
             "solidity": 0.2
            },
            "type": "scatter"
           }
          ],
          "scatter3d": [
           {
            "line": {
             "colorbar": {
              "outlinewidth": 0,
              "ticks": ""
             }
            },
            "marker": {
             "colorbar": {
              "outlinewidth": 0,
              "ticks": ""
             }
            },
            "type": "scatter3d"
           }
          ],
          "scattercarpet": [
           {
            "marker": {
             "colorbar": {
              "outlinewidth": 0,
              "ticks": ""
             }
            },
            "type": "scattercarpet"
           }
          ],
          "scattergeo": [
           {
            "marker": {
             "colorbar": {
              "outlinewidth": 0,
              "ticks": ""
             }
            },
            "type": "scattergeo"
           }
          ],
          "scattergl": [
           {
            "marker": {
             "colorbar": {
              "outlinewidth": 0,
              "ticks": ""
             }
            },
            "type": "scattergl"
           }
          ],
          "scattermapbox": [
           {
            "marker": {
             "colorbar": {
              "outlinewidth": 0,
              "ticks": ""
             }
            },
            "type": "scattermapbox"
           }
          ],
          "scatterpolar": [
           {
            "marker": {
             "colorbar": {
              "outlinewidth": 0,
              "ticks": ""
             }
            },
            "type": "scatterpolar"
           }
          ],
          "scatterpolargl": [
           {
            "marker": {
             "colorbar": {
              "outlinewidth": 0,
              "ticks": ""
             }
            },
            "type": "scatterpolargl"
           }
          ],
          "scatterternary": [
           {
            "marker": {
             "colorbar": {
              "outlinewidth": 0,
              "ticks": ""
             }
            },
            "type": "scatterternary"
           }
          ],
          "surface": [
           {
            "colorbar": {
             "outlinewidth": 0,
             "ticks": ""
            },
            "colorscale": [
             [
              0,
              "#0d0887"
             ],
             [
              0.1111111111111111,
              "#46039f"
             ],
             [
              0.2222222222222222,
              "#7201a8"
             ],
             [
              0.3333333333333333,
              "#9c179e"
             ],
             [
              0.4444444444444444,
              "#bd3786"
             ],
             [
              0.5555555555555556,
              "#d8576b"
             ],
             [
              0.6666666666666666,
              "#ed7953"
             ],
             [
              0.7777777777777778,
              "#fb9f3a"
             ],
             [
              0.8888888888888888,
              "#fdca26"
             ],
             [
              1,
              "#f0f921"
             ]
            ],
            "type": "surface"
           }
          ],
          "table": [
           {
            "cells": {
             "fill": {
              "color": "#EBF0F8"
             },
             "line": {
              "color": "white"
             }
            },
            "header": {
             "fill": {
              "color": "#C8D4E3"
             },
             "line": {
              "color": "white"
             }
            },
            "type": "table"
           }
          ]
         },
         "layout": {
          "annotationdefaults": {
           "arrowcolor": "#2a3f5f",
           "arrowhead": 0,
           "arrowwidth": 1
          },
          "autotypenumbers": "strict",
          "coloraxis": {
           "colorbar": {
            "outlinewidth": 0,
            "ticks": ""
           }
          },
          "colorscale": {
           "diverging": [
            [
             0,
             "#8e0152"
            ],
            [
             0.1,
             "#c51b7d"
            ],
            [
             0.2,
             "#de77ae"
            ],
            [
             0.3,
             "#f1b6da"
            ],
            [
             0.4,
             "#fde0ef"
            ],
            [
             0.5,
             "#f7f7f7"
            ],
            [
             0.6,
             "#e6f5d0"
            ],
            [
             0.7,
             "#b8e186"
            ],
            [
             0.8,
             "#7fbc41"
            ],
            [
             0.9,
             "#4d9221"
            ],
            [
             1,
             "#276419"
            ]
           ],
           "sequential": [
            [
             0,
             "#0d0887"
            ],
            [
             0.1111111111111111,
             "#46039f"
            ],
            [
             0.2222222222222222,
             "#7201a8"
            ],
            [
             0.3333333333333333,
             "#9c179e"
            ],
            [
             0.4444444444444444,
             "#bd3786"
            ],
            [
             0.5555555555555556,
             "#d8576b"
            ],
            [
             0.6666666666666666,
             "#ed7953"
            ],
            [
             0.7777777777777778,
             "#fb9f3a"
            ],
            [
             0.8888888888888888,
             "#fdca26"
            ],
            [
             1,
             "#f0f921"
            ]
           ],
           "sequentialminus": [
            [
             0,
             "#0d0887"
            ],
            [
             0.1111111111111111,
             "#46039f"
            ],
            [
             0.2222222222222222,
             "#7201a8"
            ],
            [
             0.3333333333333333,
             "#9c179e"
            ],
            [
             0.4444444444444444,
             "#bd3786"
            ],
            [
             0.5555555555555556,
             "#d8576b"
            ],
            [
             0.6666666666666666,
             "#ed7953"
            ],
            [
             0.7777777777777778,
             "#fb9f3a"
            ],
            [
             0.8888888888888888,
             "#fdca26"
            ],
            [
             1,
             "#f0f921"
            ]
           ]
          },
          "colorway": [
           "#636efa",
           "#EF553B",
           "#00cc96",
           "#ab63fa",
           "#FFA15A",
           "#19d3f3",
           "#FF6692",
           "#B6E880",
           "#FF97FF",
           "#FECB52"
          ],
          "font": {
           "color": "#2a3f5f"
          },
          "geo": {
           "bgcolor": "white",
           "lakecolor": "white",
           "landcolor": "#E5ECF6",
           "showlakes": true,
           "showland": true,
           "subunitcolor": "white"
          },
          "hoverlabel": {
           "align": "left"
          },
          "hovermode": "closest",
          "mapbox": {
           "style": "light"
          },
          "paper_bgcolor": "white",
          "plot_bgcolor": "#E5ECF6",
          "polar": {
           "angularaxis": {
            "gridcolor": "white",
            "linecolor": "white",
            "ticks": ""
           },
           "bgcolor": "#E5ECF6",
           "radialaxis": {
            "gridcolor": "white",
            "linecolor": "white",
            "ticks": ""
           }
          },
          "scene": {
           "xaxis": {
            "backgroundcolor": "#E5ECF6",
            "gridcolor": "white",
            "gridwidth": 2,
            "linecolor": "white",
            "showbackground": true,
            "ticks": "",
            "zerolinecolor": "white"
           },
           "yaxis": {
            "backgroundcolor": "#E5ECF6",
            "gridcolor": "white",
            "gridwidth": 2,
            "linecolor": "white",
            "showbackground": true,
            "ticks": "",
            "zerolinecolor": "white"
           },
           "zaxis": {
            "backgroundcolor": "#E5ECF6",
            "gridcolor": "white",
            "gridwidth": 2,
            "linecolor": "white",
            "showbackground": true,
            "ticks": "",
            "zerolinecolor": "white"
           }
          },
          "shapedefaults": {
           "line": {
            "color": "#2a3f5f"
           }
          },
          "ternary": {
           "aaxis": {
            "gridcolor": "white",
            "linecolor": "white",
            "ticks": ""
           },
           "baxis": {
            "gridcolor": "white",
            "linecolor": "white",
            "ticks": ""
           },
           "bgcolor": "#E5ECF6",
           "caxis": {
            "gridcolor": "white",
            "linecolor": "white",
            "ticks": ""
           }
          },
          "title": {
           "x": 0.05
          },
          "xaxis": {
           "automargin": true,
           "gridcolor": "white",
           "linecolor": "white",
           "ticks": "",
           "title": {
            "standoff": 15
           },
           "zerolinecolor": "white",
           "zerolinewidth": 2
          },
          "yaxis": {
           "automargin": true,
           "gridcolor": "white",
           "linecolor": "white",
           "ticks": "",
           "title": {
            "standoff": 15
           },
           "zerolinecolor": "white",
           "zerolinewidth": 2
          }
         }
        },
        "xaxis": {
         "anchor": "y",
         "domain": [
          0,
          1
         ],
         "title": {
          "text": "orderdate"
         }
        },
        "yaxis": {
         "anchor": "x",
         "domain": [
          0,
          1
         ],
         "title": {
          "text": "totalamount"
         }
        }
       }
      }
     },
     "metadata": {},
     "output_type": "display_data"
    }
   ],
   "source": [
    "px.bar(data_frame=multivar,x=multivar.orderdate,y='totalamount',color='country')"
   ]
  },
  {
   "cell_type": "markdown",
   "metadata": {},
   "source": [
    "# *Fifth Conclution* \n",
    "### we apply relation between Date and Country and Total Amount.\n",
    "### first we show most Date have most number of country purchasing order in this month  `Apr , 2014` by `21 countries` by Total `118.309k`.\n",
    "### Then we need see most Country Purchasing in all Month and we found the `USA` is the most country by `27594.45k` in `Jan, 2014` and also this country top in most months.\n",
    "### and we found the `Germany` top ranking also in most Months.\n",
    "\n",
    "نحن نطبق العلاقة بين التاريخ والبلد والمبلغ الإجمالي\n",
    "نعرض أولاً التاريخ الذي يحتوي على أكبر عدد من طلبات الشراء في هذا الشهر `أبريل 2014` بواسطة `21 دولة` بإجمالي `118.309 ألف`.\n",
    "ثم نحتاج إلى رؤية معظم مشتريات الدولة في كل شهر ووجدنا أن `الولايات المتحدة الأمريكية` هي أكثر دولة بمقدار `27594.45 ألفًا` في `يناير 2014`، كما أن هذا البلد يتصدر القائمة في معظم الأشهر.\n",
    "ووجدنا أن `ألمانيا` تتصدر الترتيب أيضًا في معظم الأشهر.\n"
   ]
  },
  {
   "cell_type": "markdown",
   "metadata": {},
   "source": [
    "# ***Final Conclusion***\n",
    "\n",
    "1. **City and Country Insights**:\n",
    "   - `London` City has the largest share of purchasing our products with `46` invoices.\n",
    "   - The United States `(USA)` and `Germany` are the most purchasing countries for our products, with `121` invoices and `14.6%` of our total sales.\n",
    "\n",
    "2. **Invoice Price and City Ranking**:\n",
    "   - Although `London` City has the largest number of invoices `(46)`, when we combine the prices of these invoices, it occupies `fifth place` with a total invoice price of `54.4702k (8.71%)`.\n",
    "   - `Graz City` ranks first in total invoice prices with `113.2367k (18.1%)`.\n",
    "   - The `USA` leads with a total of `247.245k invoices (18.9%)`, equal to `Germany's` `121` invoices.\n",
    "\n",
    "3. **Sales Trends**:\n",
    "   - The peak sales day occurred on `4/12/2012`, with a total of `12.2812k` per day.\n",
    "   - In `April 2014`, `21 countries` made purchases, resulting in a peak total amount of `118.3087k`. `April 2014` had the highest total sales and the most countries purchasing our product per month.\n",
    "\n",
    "4. **Customer Insights**:\n",
    "   - Most customer purchase orders are from `Jose Pavarotti` and `Roland Mendel` `(both with 30 orders)`.\n",
    "   - However, when considering the total amount spent, `Roland Mendel` leads with `113.2367k`, while `Jose Pavarotti` is in third place with `99.3515k`.\n",
    "\n",
    "5. **Country Analysis**:\n",
    "   - In `April 2014`, `21 countries` made purchases, totaling `118.309k`.\n",
    "   - The `USA` consistently ranks as the top country, with `27,594.45k` in `January 2014` and leading in most other months.\n",
    "   - `Germany` also ranks highly in most months.\n",
    "\n",
    "**Suggestion**:\n",
    "Considering the insights above, I recommend focusing on strategies to further engage customers in `London` and `Graz`, optimizing pricing for high-value customers like `Roland Mendel`, and exploring growth opportunities in the `USA` and `Germany` markets.\n",
    "\n"
   ]
  }
 ],
 "metadata": {
  "kernelspec": {
   "display_name": "Python 3",
   "language": "python",
   "name": "python3"
  },
  "language_info": {
   "codemirror_mode": {
    "name": "ipython",
    "version": 3
   },
   "file_extension": ".py",
   "mimetype": "text/x-python",
   "name": "python",
   "nbconvert_exporter": "python",
   "pygments_lexer": "ipython3",
   "version": "3.11.9"
  }
 },
 "nbformat": 4,
 "nbformat_minor": 2
}
